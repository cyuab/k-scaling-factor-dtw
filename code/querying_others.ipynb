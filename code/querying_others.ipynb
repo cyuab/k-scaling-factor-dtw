{
 "cells": [
  {
   "cell_type": "code",
   "execution_count": 1,
   "id": "520f031f",
   "metadata": {},
   "outputs": [],
   "source": [
    "import numpy as np\n",
    "import pandas as pd\n",
    "import matplotlib.pyplot as plt\n",
    "import math\n",
    "from numba import njit\n",
    "import os\n",
    "\n",
    "from aeon.utils.numba.general import z_normalise_series_2d\n",
    "\n",
    "# from aeon.distances import euclidean_distance\n",
    "# from aeon.distances import dtw_distance\n",
    "from aeon.distances import get_distance_function"
   ]
  },
  {
   "cell_type": "code",
   "execution_count": null,
   "id": "62dc9466",
   "metadata": {},
   "outputs": [],
   "source": [
    "%load_ext autoreload\n",
    "%autoreload 2\n",
    "\n",
    "from ksfdtw.distance_measures import (\n",
    "    usdtw_prime as ksfdtw_usdtw_prime, \n",
    "    psdtw_prime_vanilla as psdtw_prime_vanilla, \n",
    "    psedd_prime as psedd_prime, \n",
    "    psedd_prime_test as psedd_prime_test,\n",
    "    cut_based_distance as cut_based_distance)\n",
    "from ksfdtw.utils import precision_at_k"
   ]
  },
  {
   "cell_type": "markdown",
   "id": "69198061",
   "metadata": {},
   "source": [
    "# Import Dataset"
   ]
  },
  {
   "cell_type": "code",
   "execution_count": 3,
   "id": "fb74f5d0",
   "metadata": {},
   "outputs": [],
   "source": [
    "# A neat way to load the dataset, but more complicated to use\n",
    "# data = np.load(\"../data_intermediate/GunPoint_preprocessed_P_3_l_2.0_len_150.npz\")\n",
    "# data_dict = {key: data[key] for key in data.files}\n",
    "\n",
    "# A old way to load the dataset\n",
    "data = np.load(\n",
    "    \"../data_intermediate/GunPoint_ps_P_3_l_2.0_len_150.npz\",\n",
    "    allow_pickle=True,\n",
    ")\n",
    "X_train_scaled = data[\"X_train_scaled\"]\n",
    "X_train_ps = data[\"X_train_ps\"]\n",
    "X_train_ps_noise = data[\"X_train_ps_noise\"]\n",
    "y_train = data[\"y_train\"]\n",
    "X_test_scaled = data[\"X_test_scaled\"]\n",
    "X_test_ps = data[\"X_test_ps\"]\n",
    "X_test_ps_noise = data[\"X_test_ps_noise\"]\n",
    "y_test = data[\"y_test\"]\n",
    "X_train_cuts = data[\"X_train_cuts\"].tolist()\n",
    "X_train_ps_cuts = data[\"X_train_ps_cuts\"].tolist()\n",
    "X_test_cuts = data[\"X_test_cuts\"].tolist()\n",
    "X_test_ps_cuts = data[\"X_test_ps_cuts\"].tolist()"
   ]
  },
  {
   "cell_type": "code",
   "execution_count": 4,
   "id": "256de855",
   "metadata": {},
   "outputs": [],
   "source": [
    "# X_train_scaled.shape, X_train_ps.shape, X_train_ps_noise.shape"
   ]
  },
  {
   "cell_type": "code",
   "execution_count": 5,
   "id": "d3769e96",
   "metadata": {},
   "outputs": [],
   "source": [
    "X_train_scaled_norm = z_normalise_series_2d(X_train_scaled)\n",
    "X_train_ps_norm = z_normalise_series_2d(X_train_ps)\n",
    "X_train_ps_noise_norm = z_normalise_series_2d(X_train_ps_noise)"
   ]
  },
  {
   "cell_type": "markdown",
   "id": "11ca2c52",
   "metadata": {},
   "source": [
    "# Querying"
   ]
  },
  {
   "cell_type": "code",
   "execution_count": 22,
   "id": "7e70c16e",
   "metadata": {},
   "outputs": [],
   "source": [
    "# *** Change here 1 ***\n",
    "# Query set\n",
    "# query_set = X_train_ps\n",
    "query_set = X_train_ps_norm\n",
    "# query_set = X_train_ps_noise\n",
    "# query_set = X_train_ps_noise_norm\n",
    "\n",
    "\n",
    "# Target set\n",
    "# target_set = X_train_scaled\n",
    "target_set = X_train_scaled_norm\n",
    "if len(query_set) != len(target_set):\n",
    "    raise ValueError(\"query_set and target_set have different sizes!\")"
   ]
  },
  {
   "cell_type": "markdown",
   "id": "de567fa9",
   "metadata": {},
   "source": [
    "# Pruning (Only for PSED, and PSDW)\n",
    "Since PSEDD uses the cut of PSED as input, their \"total_count_dist_calls\" are the same."
   ]
  },
  {
   "cell_type": "code",
   "execution_count": 7,
   "id": "13432e1a",
   "metadata": {},
   "outputs": [
    {
     "name": "stdout",
     "output_type": "stream",
     "text": [
      "precision@1 = 0.42\n",
      "precision@3 = 0.48\n",
      "precision@5 = 0.64\n",
      "precision@7 = 0.72\n",
      "elapsed time = 39486.585753917694\n"
     ]
    }
   ],
   "source": [
    "data = np.load(\n",
    "    \"../results_temp/X_train_ps_noise_norm_psdtw.npz\",\n",
    "    allow_pickle=True,\n",
    ")\n",
    "\n",
    "all_distances = np.ascontiguousarray(data[\"all_distances\"], dtype=np.float64)\n",
    "all_count_dist_calls = np.ascontiguousarray(\n",
    "    data[\"all_count_dist_calls\"], dtype=np.float64\n",
    ")\n",
    "all_cuts = np.ascontiguousarray(data[\"all_cuts\"], dtype=np.float64)\n",
    "\n",
    "print(\"precision@1 =\", data[\"precision_at_1\"])\n",
    "print(\"precision@3 =\", data[\"precision_at_3\"])\n",
    "print(\"precision@5 =\", data[\"precision_at_5\"])\n",
    "print(\"precision@7 =\", data[\"precision_at_7\"])\n",
    "print(\"elapsed time =\", data[\"elapsed_time\"])"
   ]
  },
  {
   "cell_type": "code",
   "execution_count": 8,
   "id": "33a2c682",
   "metadata": {},
   "outputs": [
    {
     "name": "stdout",
     "output_type": "stream",
     "text": [
      "4141475524.0\n"
     ]
    }
   ],
   "source": [
    "# Check total count_dist_calls\n",
    "total_count_dist_calls = 0\n",
    "for r in all_count_dist_calls:\n",
    "    total_count_dist_calls += np.sum(r)\n",
    "print(total_count_dist_calls)"
   ]
  },
  {
   "cell_type": "code",
   "execution_count": 9,
   "id": "ddddb23f",
   "metadata": {},
   "outputs": [
    {
     "name": "stdout",
     "output_type": "stream",
     "text": [
      "0.40, 0.50, 0.64, 0.74\n"
     ]
    }
   ],
   "source": [
    "precision_at_1, precision_at_3, precision_at_5, precision_at_7 = 0, 0, 0, 0\n",
    "for i in range(0, len(query_set)):\n",
    "    distances = np.array(\n",
    "        [\n",
    "            cut_based_distance(\n",
    "                query_set[i],\n",
    "                target_set[j],\n",
    "                2,\n",
    "                3,\n",
    "                0.1,\n",
    "                dist_method=15,\n",
    "                cuts=all_cuts[i][j],\n",
    "            )\n",
    "            for j in range(0, len(target_set))\n",
    "        ]\n",
    "    )\n",
    "    precision_at_1 += precision_at_k(distances, i, 1)\n",
    "    precision_at_3 += precision_at_k(distances, i, 3)\n",
    "    precision_at_5 += precision_at_k(distances, i, 5)\n",
    "    precision_at_7 += precision_at_k(distances, i, 7)\n",
    "print(\n",
    "    f\"{precision_at_1 / len(query_set):.2f},\",\n",
    "    f\"{precision_at_3 / len(query_set):.2f},\",\n",
    "    f\"{precision_at_5 / len(query_set):.2f},\",\n",
    "    f\"{precision_at_7 / len(query_set):.2f}\",\n",
    ")"
   ]
  },
  {
   "cell_type": "markdown",
   "id": "6ca06428",
   "metadata": {},
   "source": [
    "# Testing"
   ]
  },
  {
   "cell_type": "code",
   "execution_count": 10,
   "id": "d7275976",
   "metadata": {},
   "outputs": [],
   "source": [
    "# Q = query_set[0]\n",
    "# C = target_set[0]\n",
    "# psdtw_prime(Q, C, l=2, P=3, r=0.1)"
   ]
  },
  {
   "cell_type": "code",
   "execution_count": 11,
   "id": "f21aaab2",
   "metadata": {},
   "outputs": [],
   "source": [
    "# all_cuts[0][0]"
   ]
  },
  {
   "cell_type": "code",
   "execution_count": 12,
   "id": "e44e4274",
   "metadata": {},
   "outputs": [],
   "source": [
    "# X_train_ps_norm.shape, X_train_ps_noise_norm.shape"
   ]
  },
  {
   "cell_type": "code",
   "execution_count": 32,
   "id": "1a767d00",
   "metadata": {},
   "outputs": [
    {
     "name": "stdout",
     "output_type": "stream",
     "text": [
      "[[  0  52   0  37]\n",
      " [ 52 112  37 103]\n",
      " [112 150 103 150]]\n"
     ]
    },
    {
     "data": {
      "text/plain": [
       "1.729257404108439"
      ]
     },
     "execution_count": 32,
     "metadata": {},
     "output_type": "execute_result"
    }
   ],
   "source": [
    "# %%time\n",
    "psedd_prime_test(X_train_ps_norm[2], X_train_scaled_norm[3], 2, 3, 0.1)"
   ]
  },
  {
   "cell_type": "code",
   "execution_count": 88,
   "id": "ae8df386",
   "metadata": {},
   "outputs": [
    {
     "name": "stdout",
     "output_type": "stream",
     "text": [
      "(3.3884497705100824, 1799848, array([[  0,  40,   0,  48],\n",
      "       [ 40, 109,  48, 107],\n",
      "       [109, 150, 107, 150]]))\n",
      "CPU times: user 1.17 s, sys: 9.12 ms, total: 1.18 s\n",
      "Wall time: 1.19 s\n"
     ]
    }
   ],
   "source": [
    "%%time\n",
    "print(psdtw_prime_vanilla(query_set[0], target_set[0], 2, 3, 0, 0))"
   ]
  },
  {
   "cell_type": "code",
   "execution_count": 92,
   "id": "f3c54d5c",
   "metadata": {},
   "outputs": [
    {
     "name": "stdout",
     "output_type": "stream",
     "text": [
      "psdtw_prime_vanilla_test 8\n",
      "(3.3884497705100824, 1679732, array([[  0,  40,   0,  48],\n",
      "       [ 40, 109,  48, 107],\n",
      "       [109, 150, 107, 150]]))\n",
      "CPU times: user 1.3 s, sys: 8.06 ms, total: 1.31 s\n",
      "Wall time: 1.31 s\n"
     ]
    }
   ],
   "source": [
    "%%time\n",
    "print(psdtw_prime_vanilla_test(query_set[0], target_set[0], 2, 3, 0, 0))"
   ]
  },
  {
   "cell_type": "code",
   "execution_count": 177,
   "id": "9899def9",
   "metadata": {},
   "outputs": [
    {
     "name": "stdout",
     "output_type": "stream",
     "text": [
      "(2.616443648118869, 1790932, array([[  0,  44,   0,  44],\n",
      "       [ 44, 114,  44, 112],\n",
      "       [114, 150, 112, 150]]))\n",
      "CPU times: user 11.7 s, sys: 65.9 ms, total: 11.8 s\n",
      "Wall time: 12.1 s\n"
     ]
    }
   ],
   "source": [
    "%%time\n",
    "print(psdtw_prime_vanilla(query_set[0], target_set[0], 2, 3, 0.1, 1))\n",
    "# print(psdtw_prime_vanilla(query_set[0], target_set[0], 2, 3, 0, 0))\n"
   ]
  },
  {
   "cell_type": "code",
   "execution_count": 180,
   "id": "efcb9a56",
   "metadata": {},
   "outputs": [
    {
     "name": "stdout",
     "output_type": "stream",
     "text": [
      "The autoreload extension is already loaded. To reload it, use:\n",
      "  %reload_ext autoreload\n",
      "psdtw_prime_vanilla_test\n",
      "(2.616443648118869, 823404, array([[  0,  44,   0,  44],\n",
      "       [ 44, 114,  44, 112],\n",
      "       [114, 150, 112, 150]]))\n",
      "CPU times: user 6.07 s, sys: 40.6 ms, total: 6.11 s\n",
      "Wall time: 6.12 s\n"
     ]
    }
   ],
   "source": [
    "%%time\n",
    "%load_ext autoreload\n",
    "%autoreload 2\n",
    "from ksfdtw.distance_measures import psdtw_prime_vanilla_test as psdtw_prime_vanilla_test\n",
    "print(psdtw_prime_vanilla_test(query_set[0], target_set[0], 2, 3, 0.1, 1))\n",
    "# print(psdtw_prime_vanilla_test(query_set[0], target_set[0], 2, 3, 0, 0))\n",
    "# 1175051\n",
    "# 957706"
   ]
  },
  {
   "cell_type": "code",
   "execution_count": 15,
   "id": "b0dcc395",
   "metadata": {},
   "outputs": [
    {
     "name": "stdout",
     "output_type": "stream",
     "text": [
      "This notebook was last run end-to-end on: 2025-09-23 16:01:56.726246\n",
      "\n"
     ]
    }
   ],
   "source": [
    "import datetime\n",
    "\n",
    "print(f\"This notebook was last run end-to-end on: {datetime.datetime.now()}\\n\")\n",
    "###\n",
    "###\n",
    "###"
   ]
  }
 ],
 "metadata": {
  "kernelspec": {
   "display_name": "ksfdtw",
   "language": "python",
   "name": "python3"
  },
  "language_info": {
   "codemirror_mode": {
    "name": "ipython",
    "version": 3
   },
   "file_extension": ".py",
   "mimetype": "text/x-python",
   "name": "python",
   "nbconvert_exporter": "python",
   "pygments_lexer": "ipython3",
   "version": "3.12.10"
  }
 },
 "nbformat": 4,
 "nbformat_minor": 5
}
