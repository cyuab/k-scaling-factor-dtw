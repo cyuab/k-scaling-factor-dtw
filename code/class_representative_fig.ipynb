{
 "cells": [
  {
   "cell_type": "code",
   "execution_count": null,
   "id": "a366e434",
   "metadata": {},
   "outputs": [
    {
     "ename": "",
     "evalue": "",
     "output_type": "error",
     "traceback": [
      "\u001b[1;31mRunning cells with 'ksfdtw (Python 3.12.3)' requires the ipykernel package.\n",
      "\u001b[1;31m<a href='command:jupyter.createPythonEnvAndSelectController'>Create a Python Environment</a> with the required packages."
     ]
    }
   ],
   "source": [
    "import numpy as np\n",
    "import matplotlib.pyplot as plt\n",
    "from tslearn.datasets import UCR_UEA_datasets\n",
    "from scipy.spatial.distance import cdist\n",
    "from tslearn.metrics import cdist_dtw"
   ]
  },
  {
   "cell_type": "code",
   "execution_count": null,
   "id": "1d884d89",
   "metadata": {},
   "outputs": [],
   "source": [
    "def z_normalize(series):\n",
    "    mu = np.mean(series)\n",
    "    sigma = np.std(series)\n",
    "    if sigma == 0:  # avoid divide by zero\n",
    "        return np.zeros_like(series)\n",
    "    return (series - mu) / sigma"
   ]
  },
  {
   "cell_type": "code",
   "execution_count": null,
   "id": "003fc692",
   "metadata": {},
   "outputs": [],
   "source": [
    "def min_max_scale(series):\n",
    "    return (series - np.min(series)) / (np.max(series) - np.min(series) + 1e-8)"
   ]
  },
  {
   "cell_type": "code",
   "execution_count": null,
   "id": "9e3dca73",
   "metadata": {},
   "outputs": [],
   "source": [
    "ucr = UCR_UEA_datasets()\n",
    "X_train, y_train, X_test, y_test = ucr.load_dataset(\"GunPoint\")"
   ]
  },
  {
   "cell_type": "markdown",
   "id": "9e5b899b",
   "metadata": {},
   "source": [
    "# Single Time Series instance"
   ]
  },
  {
   "cell_type": "markdown",
   "id": "6a64c13f",
   "metadata": {},
   "source": [
    "A gun aiming time series"
   ]
  },
  {
   "cell_type": "code",
   "execution_count": null,
   "id": "3c56fb44",
   "metadata": {},
   "outputs": [],
   "source": [
    "# gun\n",
    "plt.plot(X_test[y_test == 1][0], color=\"red\")\n",
    "plt.axis(\"off\")\n",
    "plt.tight_layout()\n",
    "plt.show()"
   ]
  },
  {
   "cell_type": "markdown",
   "id": "89ff7c15",
   "metadata": {},
   "source": [
    "An index figure pointing time series"
   ]
  },
  {
   "cell_type": "code",
   "execution_count": null,
   "id": "f63e1ab1",
   "metadata": {},
   "outputs": [],
   "source": [
    "# pointing\n",
    "plt.plot(X_test[y_test == 2][0], color=\"red\")\n",
    "plt.axis(\"off\")\n",
    "plt.tight_layout()\n",
    "plt.show()"
   ]
  },
  {
   "cell_type": "markdown",
   "id": "3cd0fcb1",
   "metadata": {},
   "source": [
    "# Mean (Median) time series"
   ]
  },
  {
   "cell_type": "markdown",
   "id": "eec117e8",
   "metadata": {},
   "source": [
    "Summary of the gun aiming time series by plotting the mean time series and median time series."
   ]
  },
  {
   "cell_type": "code",
   "execution_count": null,
   "id": "25f716ea",
   "metadata": {},
   "outputs": [],
   "source": [
    "# gun\n",
    "# Compute the mean time series\n",
    "prototype_mean = np.mean(X_test[y_test == 1], axis=0)\n",
    "# Compute the median time series\n",
    "median_prototype = np.median(X_test[y_test == 1], axis=0)\n",
    "\n",
    "# Plot the mean prototype\n",
    "plt.plot(prototype_mean, label=\"Mean Prototype\", color=\"red\")\n",
    "# Plot the median prototype\n",
    "plt.plot(median_prototype, label=\"Median Prototype\", color=\"blue\", linestyle=\"--\")\n",
    "# plt.title(\"Idealized Prototype\")\n",
    "plt.xlabel(\"Time Step\")\n",
    "plt.ylabel(\"Value\")\n",
    "# plt.legend()\n",
    "plt.axis(\"off\")\n",
    "plt.tight_layout()\n",
    "plt.show()"
   ]
  },
  {
   "cell_type": "markdown",
   "id": "5439088b",
   "metadata": {},
   "source": [
    "Summary of the index figure pointing time series by plotting the mean time series and median time series."
   ]
  },
  {
   "cell_type": "code",
   "execution_count": null,
   "id": "830a06a8",
   "metadata": {},
   "outputs": [],
   "source": [
    "# pointing\n",
    "# Compute the mean time series\n",
    "prototype_mean = np.mean(X_test[y_test == 2], axis=0)\n",
    "# Compute the median time series\n",
    "median_prototype = np.median(X_test[y_test == 2], axis=0)\n",
    "\n",
    "# Plot the mean prototype\n",
    "plt.plot(prototype_mean, label=\"Mean Prototype\", color=\"red\")\n",
    "# Plot the median prototype\n",
    "plt.plot(median_prototype, label=\"Median Prototype\", color=\"blue\", linestyle=\"--\")\n",
    "# plt.title(\"Idealized Prototype\")\n",
    "plt.xlabel(\"Time Step\")\n",
    "plt.ylabel(\"Value\")\n",
    "# plt.legend()\n",
    "plt.axis(\"off\")\n",
    "plt.tight_layout()\n",
    "plt.show()"
   ]
  },
  {
   "cell_type": "markdown",
   "id": "382b5446",
   "metadata": {},
   "source": [
    "# Medoids"
   ]
  },
  {
   "cell_type": "code",
   "execution_count": null,
   "id": "f60c5ad1",
   "metadata": {},
   "outputs": [],
   "source": [
    "# Flatten from (n_samples, time_steps, 1) → (n_samples, time_steps)\n",
    "X_train = X_train.squeeze()\n",
    "\n",
    "# --- Z-normalize each series (for distance computation) ---\n",
    "X_norm = np.array([z_normalize(x) for x in X_train])\n",
    "\n",
    "# --- Compute medoid per class ---\n",
    "medoids_ed = []\n",
    "labels = np.unique(y_train)\n",
    "\n",
    "for label in labels:\n",
    "    class_series = X_norm[y_train == label]\n",
    "    dist_matrix = cdist(class_series, class_series, metric=\"euclidean\")\n",
    "    medoid_index = np.argmin(dist_matrix.sum(axis=1))\n",
    "    medoids_ed.append((label, class_series[medoid_index]))\n",
    "\n",
    "# --- Min-max scale for plotting ---\n",
    "medoids_ed_scaled = [(label, min_max_scale(series)) for label, series in medoids_ed]"
   ]
  },
  {
   "cell_type": "code",
   "execution_count": null,
   "id": "a0b1754a",
   "metadata": {},
   "outputs": [],
   "source": [
    "# --- Compute medoid per class using DTW ---\n",
    "medoids_dtw = []\n",
    "labels = np.unique(y_train)\n",
    "\n",
    "for label in labels:\n",
    "    class_series = X_norm[y_train == label]\n",
    "    distance_matrix = cdist_dtw(class_series)  # DTW pairwise distances\n",
    "    medoid_index = np.argmin(distance_matrix.sum(axis=1))\n",
    "    medoids_dtw.append((label, class_series[medoid_index]))\n",
    "\n",
    "# --- Min-max scale for plotting ---\n",
    "medoids_dtw_scaled = [(label, min_max_scale(series)) for label, series in medoids_dtw]"
   ]
  },
  {
   "cell_type": "code",
   "execution_count": null,
   "id": "a7b524e5",
   "metadata": {},
   "outputs": [],
   "source": [
    "# Plot the mean prototype\n",
    "plt.plot(medoids_ed_scaled[0][1], label=\"ED Medoid Gun\", color=\"red\")\n",
    "# Plot the median prototype\n",
    "plt.plot(medoids_dtw_scaled[0][1], label=\"DTW Medoid Gun\", color=\"blue\", linestyle=\"--\")\n",
    "# plt.title(\"Idealized Prototype\")\n",
    "plt.xlabel(\"Time Step\")\n",
    "plt.ylabel(\"Value\")\n",
    "# plt.legend()\n",
    "plt.axis(\"off\")\n",
    "plt.tight_layout()\n",
    "plt.show()"
   ]
  },
  {
   "cell_type": "code",
   "execution_count": null,
   "id": "5f376ae1",
   "metadata": {},
   "outputs": [],
   "source": [
    "# Plot the mean prototype\n",
    "plt.plot(medoids_ed_scaled[1][1], label=\"ED Medoid Gun\", color=\"red\")\n",
    "# Plot the median prototype\n",
    "plt.plot(medoids_dtw_scaled[1][1], label=\"DTW Medoid Gun\", color=\"blue\", linestyle=\"--\")\n",
    "# plt.title(\"Idealized Prototype\")\n",
    "plt.xlabel(\"Time Step\")\n",
    "plt.ylabel(\"Value\")\n",
    "# plt.legend()\n",
    "plt.axis(\"off\")\n",
    "plt.tight_layout()\n",
    "plt.show()"
   ]
  },
  {
   "cell_type": "code",
   "execution_count": null,
   "id": "bd7c3bbc",
   "metadata": {},
   "outputs": [],
   "source": [
    "# # --- Plot ---\n",
    "# plt.figure(figsize=(10, 4))\n",
    "# for label, series in medoids_ed_scaled:\n",
    "#     plt.plot(series, label=f\"Class {label}\", linewidth=2)\n",
    "# plt.title(\n",
    "#     \"Representative (Medoid) Time Series per Class\\nZ-normalized for distance, Min–Max scaled for visualization\"\n",
    "# )\n",
    "# plt.xlabel(\"Time\")\n",
    "# plt.ylabel(\"Scaled Value\")\n",
    "# plt.legend()\n",
    "# plt.tight_layout()\n",
    "# plt.show()"
   ]
  },
  {
   "cell_type": "code",
   "execution_count": null,
   "id": "7b1e779b",
   "metadata": {},
   "outputs": [],
   "source": [
    "# # --- Plot ---\n",
    "# plt.figure(figsize=(10, 4))\n",
    "# for label, series in medoids_dtw_scaled:\n",
    "#     plt.plot(series, label=f\"Class {label}\", linewidth=2)\n",
    "# plt.title(\n",
    "#     \"Representative (Medoid) Time Series per Class (DTW)\\nZ-normalized for distance, Min–Max scaled for visualization\"\n",
    "# )\n",
    "# plt.xlabel(\"Time\")\n",
    "# plt.ylabel(\"Scaled Value\")\n",
    "# plt.legend()\n",
    "# plt.tight_layout()\n",
    "# plt.show()"
   ]
  },
  {
   "cell_type": "code",
   "execution_count": null,
   "id": "d96070f8",
   "metadata": {},
   "outputs": [],
   "source": [
    "import datetime\n",
    "\n",
    "print(f\"This notebook was last run end-to-end on: {datetime.datetime.now()}\\n\")\n",
    "###\n",
    "###\n",
    "###"
   ]
  }
 ],
 "metadata": {
  "kernelspec": {
   "display_name": "ksfdtw",
   "language": "python",
   "name": "python3"
  },
  "language_info": {
   "codemirror_mode": {
    "name": "ipython",
    "version": 3
   },
   "file_extension": ".py",
   "mimetype": "text/x-python",
   "name": "python",
   "nbconvert_exporter": "python",
   "pygments_lexer": "ipython3",
   "version": "3.12.3"
  }
 },
 "nbformat": 4,
 "nbformat_minor": 5
}
