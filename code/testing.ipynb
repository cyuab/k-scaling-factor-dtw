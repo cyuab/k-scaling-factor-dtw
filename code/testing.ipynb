{
 "cells": [
  {
   "cell_type": "code",
   "execution_count": 1,
   "id": "4e2acb39",
   "metadata": {},
   "outputs": [
    {
     "name": "stderr",
     "output_type": "stream",
     "text": [
      "/Users/cyuab/miniconda3/envs/ksfdtw/lib/python3.12/site-packages/tslearn/bases/bases.py:15: UserWarning: h5py not installed, hdf5 features will not be supported.\n",
      "Install h5py to use hdf5 features: http://docs.h5py.org/\n",
      "  warn(h5py_msg)\n",
      "Classifying: 100%|██████████| 150/150 [00:01<00:00, 99.97it/s] "
     ]
    },
    {
     "name": "stdout",
     "output_type": "stream",
     "text": [
      "Accuracy: 0.9400\n",
      "DTW calls made: 605\n",
      "Candidates pruned by LB_Keogh: 6895\n",
      "Pruning ratio: 91.93%\n"
     ]
    },
    {
     "name": "stderr",
     "output_type": "stream",
     "text": [
      "\n"
     ]
    }
   ],
   "source": [
    "#  Updated Example with Pruning Count\n",
    "import numpy as np\n",
    "from tslearn.datasets import UCR_UEA_datasets\n",
    "from tslearn.metrics import dtw, lb_keogh\n",
    "from sklearn.metrics import accuracy_score\n",
    "from tqdm import tqdm\n",
    "\n",
    "# Load dataset\n",
    "ucr = UCR_UEA_datasets()\n",
    "X_train, y_train, X_test, y_test = ucr.load_dataset(\"GunPoint\")\n",
    "X_train = X_train.squeeze()\n",
    "X_test = X_test.squeeze()\n",
    "\n",
    "# 1-NN with LB_Keogh pruning and stats\n",
    "class LBKeogh1NN:\n",
    "    def __init__(self, lb_radius=5):\n",
    "        self.lb_radius = lb_radius\n",
    "        self.total_dtw_calls = 0\n",
    "        self.total_pruned = 0\n",
    "\n",
    "    def fit(self, X, y):\n",
    "        self.X_train = X\n",
    "        self.y_train = y\n",
    "\n",
    "    def predict(self, X_test):\n",
    "        preds = []\n",
    "        for x in tqdm(X_test, desc=\"Classifying\"):\n",
    "            min_dtw = float('inf')\n",
    "            best_label = None\n",
    "            for xt, label in zip(self.X_train, self.y_train):\n",
    "                # Prune using LB_Keogh\n",
    "                lb = lb_keogh(x, xt, radius=self.lb_radius)\n",
    "                if lb >= min_dtw:\n",
    "                    self.total_pruned += 1\n",
    "                    continue\n",
    "\n",
    "                dist = dtw(x, xt)\n",
    "                self.total_dtw_calls += 1\n",
    "                if dist < min_dtw:\n",
    "                    min_dtw = dist\n",
    "                    best_label = label\n",
    "            preds.append(best_label)\n",
    "        return np.array(preds)\n",
    "\n",
    "# Run\n",
    "model = LBKeogh1NN(lb_radius=5)\n",
    "model.fit(X_train, y_train)\n",
    "y_pred = model.predict(X_test)\n",
    "\n",
    "# Results\n",
    "acc = accuracy_score(y_test, y_pred)\n",
    "print(f\"Accuracy: {acc:.4f}\")\n",
    "print(f\"DTW calls made: {model.total_dtw_calls}\")\n",
    "print(f\"Candidates pruned by LB_Keogh: {model.total_pruned}\")\n",
    "total_candidates = len(X_test) * len(X_train)\n",
    "print(f\"Pruning ratio: {model.total_pruned / total_candidates:.2%}\")\n"
   ]
  }
 ],
 "metadata": {
  "kernelspec": {
   "display_name": "ksfdtw",
   "language": "python",
   "name": "python3"
  },
  "language_info": {
   "codemirror_mode": {
    "name": "ipython",
    "version": 3
   },
   "file_extension": ".py",
   "mimetype": "text/x-python",
   "name": "python",
   "nbconvert_exporter": "python",
   "pygments_lexer": "ipython3",
   "version": "3.12.10"
  }
 },
 "nbformat": 4,
 "nbformat_minor": 5
}
