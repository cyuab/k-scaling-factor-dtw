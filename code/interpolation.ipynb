{
 "cells": [
  {
   "cell_type": "code",
   "execution_count": 2,
   "id": "0e439e12",
   "metadata": {},
   "outputs": [],
   "source": [
    "import numpy as np\n",
    "\n",
    "import timeit"
   ]
  },
  {
   "cell_type": "code",
   "execution_count": 3,
   "id": "3bd4f56b",
   "metadata": {},
   "outputs": [],
   "source": [
    "%load_ext autoreload\n",
    "%autoreload 2\n",
    "\n",
    "from ksfdtw.utils import nearest_neighbor_interpolation, nearest_neighbor_interpolation_legacy_2"
   ]
  },
  {
   "cell_type": "code",
   "execution_count": 4,
   "id": "7b5586c9",
   "metadata": {},
   "outputs": [
    {
     "data": {
      "text/plain": [
       "array([1, 2, 2, 3, 4, 5, 5, 6])"
      ]
     },
     "execution_count": 4,
     "metadata": {},
     "output_type": "execute_result"
    }
   ],
   "source": [
    "a = np.array([1, 2, 3, 4, 5, 6])\n",
    "nearest_neighbor_interpolation(a, 8)"
   ]
  },
  {
   "cell_type": "code",
   "execution_count": 8,
   "id": "14db5213",
   "metadata": {},
   "outputs": [
    {
     "data": {
      "text/plain": [
       "(0.20810229191556573, 0.00512512493878603, 40.604335387159985)"
      ]
     },
     "execution_count": 8,
     "metadata": {},
     "output_type": "execute_result"
    }
   ],
   "source": [
    "# Create test data\n",
    "ts = np.random.rand(1_000_000)  # 1 million points\n",
    "new_len = 200_000\n",
    "\n",
    "# Benchmark\n",
    "t_loop = timeit.timeit(\n",
    "    lambda: nearest_neighbor_interpolation_legacy_2(ts, new_len), number=5\n",
    ")\n",
    "t_vec = timeit.timeit(lambda: nearest_neighbor_interpolation(ts, new_len), number=5)\n",
    "\n",
    "t_loop, t_vec, t_loop / t_vec"
   ]
  }
 ],
 "metadata": {
  "kernelspec": {
   "display_name": "ksfdtw",
   "language": "python",
   "name": "python3"
  },
  "language_info": {
   "codemirror_mode": {
    "name": "ipython",
    "version": 3
   },
   "file_extension": ".py",
   "mimetype": "text/x-python",
   "name": "python",
   "nbconvert_exporter": "python",
   "pygments_lexer": "ipython3",
   "version": "3.12.10"
  }
 },
 "nbformat": 4,
 "nbformat_minor": 5
}
