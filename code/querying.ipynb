{
 "cells": [
  {
   "cell_type": "code",
   "execution_count": 1,
   "id": "112c03b2",
   "metadata": {},
   "outputs": [],
   "source": [
    "# Imported Python files do not automatically reload after you modify them\n",
    "# M1: Automatically Reload\n",
    "%load_ext autoreload\n",
    "%autoreload 2\n",
    "# M2: Manual Reload\n",
    "# import importlib\n",
    "# import ksfdtw\n",
    "# importlib.reload(ksfdtw)\n",
    "\n",
    "# https://stackoverflow.com/questions/20309456/how-do-i-call-a-function-from-another-py-file\n",
    "from ksfdtw import *"
   ]
  },
  {
   "cell_type": "code",
   "execution_count": 2,
   "id": "85b7e46e",
   "metadata": {},
   "outputs": [
    {
     "name": "stderr",
     "output_type": "stream",
     "text": [
      "/Users/cyuab/miniconda3/envs/ksfdtw/lib/python3.12/site-packages/tslearn/bases/bases.py:15: UserWarning: h5py not installed, hdf5 features will not be supported.\n",
      "Install h5py to use hdf5 features: http://docs.h5py.org/\n",
      "  warn(h5py_msg)\n"
     ]
    }
   ],
   "source": [
    "import numpy as np\n",
    "import pandas as pd\n",
    "import matplotlib.pyplot as plt\n",
    "from tslearn.metrics import dtw, lb_keogh\n",
    "from sklearn.metrics import accuracy_score\n",
    "from tslearn.neighbors import KNeighborsTimeSeriesClassifier\n",
    "from tslearn.metrics import dtw as tsln_dtw\n",
    "from tqdm import tqdm"
   ]
  },
  {
   "cell_type": "code",
   "execution_count": null,
   "id": "109bffab",
   "metadata": {},
   "outputs": [],
   "source": [
    "# # A neat way to load the dataset\n",
    "# data = np.load(\"../data/gunpoint_preprocessed.npz\")\n",
    "# data_dict = {key: data[key] for key in data.files}\n"
   ]
  },
  {
   "cell_type": "code",
   "execution_count": 32,
   "id": "a7a94579",
   "metadata": {},
   "outputs": [],
   "source": [
    "# A old way to load the dataset\n",
    "data = np.load(\"../data/gunpoint_preprocessed.npz\", allow_pickle=True)\n",
    "X_train_scaled = data[\"X_train_scaled\"]\n",
    "X_train_proc = data[\"X_train_proc\"]\n",
    "X_train_proc_noisy = data[\"X_train_proc_noisy\"]\n",
    "y_train = data[\"y_train\"]\n",
    "X_test_scaled = data[\"X_test_scaled\"]\n",
    "X_test_proc = data[\"X_test_proc\"]\n",
    "X_test_proc_noisy = data[\"X_test_proc_noisy\"]\n",
    "y_test = data[\"y_test\"]\n",
    "train_cutting_orig = data[\"train_cutting_orig\"].tolist()\n",
    "train_cutting_final = data[\"train_cutting_final\"].tolist()\n",
    "test_cutting_orig = data[\"test_cutting_orig\"].tolist()\n",
    "test_cutting_final = data[\"test_cutting_final\"].tolist()\n"
   ]
  },
  {
   "cell_type": "code",
   "execution_count": 12,
   "id": "69d6ba33",
   "metadata": {},
   "outputs": [],
   "source": [
    "# Compute Euclidean distances to all training samples\n",
    "def euclidean_distance(a, b):\n",
    "    return np.sqrt(np.sum((a - b) ** 2))"
   ]
  },
  {
   "cell_type": "code",
   "execution_count": null,
   "id": "e01d7dc1",
   "metadata": {},
   "outputs": [],
   "source": [
    "def test_querying_ed_dtw(query_ts_idx, dist_method):\n",
    "    query_ts = X_train_proc_noisy[query_ts_idx]\n",
    "    query_ts_original = X_train[query_ts_idx]\n",
    "    if dist_method == \"dtw\":\n",
    "        distances = np.array([tsln_dtw(query_ts, x) for x in X_train])\n",
    "    elif dist_method == \"psdtw\":\n",
    "        results = [ps_distance_p(query_ts, x, 2, 0.1, L, 3) for x in X_train[:5]]\n",
    "        distances = np.array([r[0] for r in results])\n",
    "        cuts = [r[1] for r in results]\n",
    "        iterations = np.array([r[2] for r in results])  \n",
    "    else:\n",
    "        raise ValueError(\"Must be either dtw or psdtw\")\n",
    "    # Find best match\n",
    "    best_idx = np.argmin(distances)\n",
    "    best_match = X_train[best_idx]\n",
    "\n",
    "    print(f\"Best match index: {best_idx}\")\n",
    "    print(f\"Distance: {distances[best_idx]:.4f}\")\n",
    "    plt.plot(query_ts, label=\"Query\", linewidth=2, color= \"red\")\n",
    "    plt.plot(query_ts_original, label=\"Original version of Query\", linestyle=\"--\", color=\"green\")\n",
    "    plt.plot(best_match, label=\"Best Match\", linestyle=\"--\", color=\"blue\")\n",
    "\n",
    "    plt.legend()\n",
    "    plt.title(\"1-NN Query (Euclidean Distance)\")\n",
    "    plt.show()\n",
    "\n",
    "    for i in range(0, 6):\n",
    "    test_querying_ed_dtw(i, \"psdtw\")\n",
    "\n"
   ]
  },
  {
   "cell_type": "code",
   "execution_count": null,
   "id": "8a2bb137",
   "metadata": {},
   "outputs": [],
   "source": []
  },
  {
   "cell_type": "code",
   "execution_count": null,
   "id": "413889e1",
   "metadata": {},
   "outputs": [],
   "source": [
    "\n",
    "m = len(query_ts)\n",
    "n = len(query_ts_noisy)\n",
    "l = 2\n",
    "L = int(np.floor(min(np.ceil(l*m),n)/3))"
   ]
  },
  {
   "cell_type": "code",
   "execution_count": 75,
   "id": "b8fdfd51",
   "metadata": {},
   "outputs": [
    {
     "ename": "KeyboardInterrupt",
     "evalue": "",
     "output_type": "error",
     "traceback": [
      "\u001b[31m---------------------------------------------------------------------------\u001b[39m",
      "\u001b[31mKeyboardInterrupt\u001b[39m                         Traceback (most recent call last)",
      "\u001b[36mCell\u001b[39m\u001b[36m \u001b[39m\u001b[32mIn[75]\u001b[39m\u001b[32m, line 4\u001b[39m\n\u001b[32m      2\u001b[39m results_noisy = []\n\u001b[32m      3\u001b[39m \u001b[38;5;28;01mfor\u001b[39;00m i \u001b[38;5;129;01min\u001b[39;00m \u001b[38;5;28mrange\u001b[39m(\u001b[32m0\u001b[39m,\u001b[32m50\u001b[39m): \u001b[38;5;66;03m# X_train_proc.shape[0]\u001b[39;00m\n\u001b[32m----> \u001b[39m\u001b[32m4\u001b[39m     results.append([\u001b[43mps_distance_p\u001b[49m\u001b[43m(\u001b[49m\u001b[43mX_train_proc\u001b[49m\u001b[43m[\u001b[49m\u001b[43mi\u001b[49m\u001b[43m]\u001b[49m\u001b[43m,\u001b[49m\u001b[43m \u001b[49m\u001b[43mx\u001b[49m\u001b[43m,\u001b[49m\u001b[43m \u001b[49m\u001b[32;43m2\u001b[39;49m\u001b[43m,\u001b[49m\u001b[43m \u001b[49m\u001b[32;43m0.1\u001b[39;49m\u001b[43m,\u001b[49m\u001b[43m \u001b[49m\u001b[32;43m10\u001b[39;49m\u001b[43m,\u001b[49m\u001b[43m \u001b[49m\u001b[32;43m3\u001b[39;49m\u001b[43m,\u001b[49m\u001b[43m \u001b[49m\u001b[43mdistance_method\u001b[49m\u001b[43m=\u001b[49m\u001b[33;43m'\u001b[39;49m\u001b[33;43mdtw\u001b[39;49m\u001b[33;43m'\u001b[39;49m\u001b[43m,\u001b[49m\u001b[43m \u001b[49m\u001b[43mlower_bound_method\u001b[49m\u001b[43m=\u001b[49m\u001b[43mlb_kim_fl\u001b[49m\u001b[43m)\u001b[49m \u001b[38;5;28;01mfor\u001b[39;00m x \u001b[38;5;129;01min\u001b[39;00m X_train_scaled[:\u001b[32m50\u001b[39m]])\n\u001b[32m      5\u001b[39m \u001b[38;5;66;03m# for i in range(0,50): # X_train_proc.shape[0]\u001b[39;00m\n\u001b[32m      6\u001b[39m \u001b[38;5;66;03m#     results.append([ps_distance_p(X_train_proc_noisy[i], x, 2, 0.1, 10, 3, distance_method='dtw', lower_bound_method=lb_kim_fl) for x in X_train_scaled])\u001b[39;00m\n\u001b[32m      7\u001b[39m \u001b[38;5;66;03m# np.savez(\"../results/results.npz\", results=np.array(results, dtype=object))\u001b[39;00m\n\u001b[32m      8\u001b[39m \u001b[38;5;66;03m# np.savez(\"../results/results_noisy.npz\", results=np.array(results_noisy, dtype=object))\u001b[39;00m\n",
      "\u001b[36mFile \u001b[39m\u001b[32m~/Desktop/k-scaling-factor-dtw/code/ksfdtw.py:267\u001b[39m, in \u001b[36mps_distance_p\u001b[39m\u001b[34m(Q, C, l, r, L, P, distance_method, lower_bound_method)\u001b[39m\n\u001b[32m    265\u001b[39m \u001b[38;5;66;03m# lower bound pruning\u001b[39;00m\n\u001b[32m    266\u001b[39m \u001b[38;5;28;01mif\u001b[39;00m key \u001b[38;5;129;01mnot\u001b[39;00m \u001b[38;5;129;01min\u001b[39;00m lb_cache:\n\u001b[32m--> \u001b[39m\u001b[32m267\u001b[39m     lb_cache[key] = \u001b[43mlower_bound_method\u001b[49m\u001b[43m(\u001b[49m\u001b[43mQ\u001b[49m\u001b[43m[\u001b[49m\u001b[43mqi_st\u001b[49m\u001b[43m:\u001b[49m\u001b[43mi\u001b[49m\u001b[43m]\u001b[49m\u001b[43m,\u001b[49m\u001b[43m \u001b[49m\u001b[43mC\u001b[49m\u001b[43m[\u001b[49m\u001b[43mcj_st\u001b[49m\u001b[43m:\u001b[49m\u001b[43mj\u001b[49m\u001b[43m]\u001b[49m\u001b[43m,\u001b[49m\u001b[43m \u001b[49m\u001b[43ml\u001b[49m\u001b[43m,\u001b[49m\u001b[43m \u001b[49m\u001b[43mr\u001b[49m\u001b[43m)\u001b[49m\n\u001b[32m    268\u001b[39m \u001b[38;5;28;01mif\u001b[39;00m lb_cache[key] + prev_cost >= D[i][j][p]:\n\u001b[32m    269\u001b[39m     \u001b[38;5;28;01mcontinue\u001b[39;00m  \u001b[38;5;66;03m# Skip: can't improve\u001b[39;00m\n",
      "\u001b[36mFile \u001b[39m\u001b[32m~/Desktop/k-scaling-factor-dtw/code/ksfdtw.py:125\u001b[39m, in \u001b[36mlb_kim_fl\u001b[39m\u001b[34m(q, c, l, r)\u001b[39m\n\u001b[32m    123\u001b[39m ensure_non_zero_len(q)\n\u001b[32m    124\u001b[39m ensure_non_zero_len(c)\n\u001b[32m--> \u001b[39m\u001b[32m125\u001b[39m \u001b[38;5;28;01mreturn\u001b[39;00m \u001b[43mnp\u001b[49m\u001b[43m.\u001b[49m\u001b[43msqrt\u001b[49m\u001b[43m(\u001b[49m\u001b[43m(\u001b[49m\u001b[43mq\u001b[49m\u001b[43m[\u001b[49m\u001b[32;43m0\u001b[39;49m\u001b[43m]\u001b[49m\u001b[43m-\u001b[49m\u001b[43mc\u001b[49m\u001b[43m[\u001b[49m\u001b[32;43m0\u001b[39;49m\u001b[43m]\u001b[49m\u001b[43m)\u001b[49m\u001b[43m*\u001b[49m\u001b[43m*\u001b[49m\u001b[32;43m2\u001b[39;49m\u001b[43m+\u001b[49m\u001b[43m(\u001b[49m\u001b[43mq\u001b[49m\u001b[43m[\u001b[49m\u001b[43m-\u001b[49m\u001b[32;43m1\u001b[39;49m\u001b[43m]\u001b[49m\u001b[43m-\u001b[49m\u001b[43mc\u001b[49m\u001b[43m[\u001b[49m\u001b[43m-\u001b[49m\u001b[32;43m1\u001b[39;49m\u001b[43m]\u001b[49m\u001b[43m)\u001b[49m\u001b[43m*\u001b[49m\u001b[43m*\u001b[49m\u001b[32;43m2\u001b[39;49m\u001b[43m)\u001b[49m\n",
      "\u001b[31mKeyboardInterrupt\u001b[39m: "
     ]
    }
   ],
   "source": [
    "results = []\n",
    "results_noisy = []\n",
    "for i in range(0,50): # X_train_proc.shape[0]\n",
    "    results.append([ps_distance_p(X_train_proc[i], x, 2, 0.1, 10, 3, distance_method='dtw', lower_bound_method=lb_kim_fl) for x in X_train_scaled[:50]])\n",
    "# for i in range(0,50): # X_train_proc.shape[0]\n",
    "#     results.append([ps_distance_p(X_train_proc_noisy[i], x, 2, 0.1, 10, 3, distance_method='dtw', lower_bound_method=lb_kim_fl) for x in X_train_scaled])\n",
    "# np.savez(\"../results/results.npz\", results=np.array(results, dtype=object))\n",
    "# np.savez(\"../results/results_noisy.npz\", results=np.array(results_noisy, dtype=object))"
   ]
  },
  {
   "cell_type": "code",
   "execution_count": null,
   "id": "ba900107",
   "metadata": {},
   "outputs": [],
   "source": [
    "results_lb_shen = []\n",
    "results_no_prune = []\n",
    "for i in range(0,50): # X_train_proc.shape[0]\n",
    "    results.append([ps_distance_p(X_train_proc[i], x, 2, 0.1, 10, 3, distance_method='dtw', lower_bound_method=lb_shen) for x in X_train_scaled])\n",
    "for i in range(0,50): # X_train_proc.shape[0]\n",
    "    results.append([ps_distance_p_without_prune(X_train_proc[i], x, 2, 0.1, 10, 3, distance_method='dtw', lower_bound_method=lb_dummy) for x in X_train_scaled])\n",
    "np.savez(\"../results/results_lb_shen.npz\", results=np.array(results_lb_shen, dtype=object))\n",
    "np.savez(\"../results/results_no_prune.npz\", results=np.array(results_no_prune, dtype=object))"
   ]
  },
  {
   "cell_type": "code",
   "execution_count": 73,
   "id": "287eef65",
   "metadata": {},
   "outputs": [],
   "source": [
    "for i in range(0,10):\n",
    "     distances = np.array([r[0] for r in results[i]])\n",
    "     cuts = [r[1] for r in results[i]]\n",
    "     iterations = np.array([r[2] for r in results[i]])  \n",
    "     best_idx = np.argmin(distances)\n",
    "     if i != best_idx:\n",
    "          print(i, \"cannot retrieve the original time series\") \n",
    "        "
   ]
  },
  {
   "cell_type": "code",
   "execution_count": null,
   "id": "cb0b4bb7",
   "metadata": {},
   "outputs": [],
   "source": []
  },
  {
   "cell_type": "code",
   "execution_count": 9,
   "id": "26cb0865",
   "metadata": {},
   "outputs": [],
   "source": [
    "###"
   ]
  },
  {
   "cell_type": "code",
   "execution_count": null,
   "id": "2c767227",
   "metadata": {},
   "outputs": [],
   "source": []
  },
  {
   "cell_type": "code",
   "execution_count": null,
   "id": "d4e725bd",
   "metadata": {},
   "outputs": [],
   "source": []
  }
 ],
 "metadata": {
  "kernelspec": {
   "display_name": "ksfdtw",
   "language": "python",
   "name": "python3"
  },
  "language_info": {
   "codemirror_mode": {
    "name": "ipython",
    "version": 3
   },
   "file_extension": ".py",
   "mimetype": "text/x-python",
   "name": "python",
   "nbconvert_exporter": "python",
   "pygments_lexer": "ipython3",
   "version": "3.12.10"
  }
 },
 "nbformat": 4,
 "nbformat_minor": 5
}
