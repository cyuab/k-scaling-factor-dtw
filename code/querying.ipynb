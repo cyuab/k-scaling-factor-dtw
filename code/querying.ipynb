{
 "cells": [
  {
   "cell_type": "code",
   "execution_count": 77,
   "id": "112c03b2",
   "metadata": {},
   "outputs": [
    {
     "name": "stdout",
     "output_type": "stream",
     "text": [
      "The autoreload extension is already loaded. To reload it, use:\n",
      "  %reload_ext autoreload\n"
     ]
    }
   ],
   "source": [
    "# Imported Python files do not automatically reload after you modify them\n",
    "# M1: Automatically Reload\n",
    "%load_ext autoreload\n",
    "%autoreload 2\n",
    "# M2: Manual Reload\n",
    "# import importlib\n",
    "# import ksfdtw\n",
    "# importlib.reload(ksfdtw)\n",
    "\n",
    "# https://stackoverflow.com/questions/20309456/how-do-i-call-a-function-from-another-py-file\n",
    "from ksfdtw import *"
   ]
  },
  {
   "cell_type": "code",
   "execution_count": 2,
   "id": "85b7e46e",
   "metadata": {},
   "outputs": [
    {
     "name": "stderr",
     "output_type": "stream",
     "text": [
      "/Users/cyuab/miniconda3/envs/ksfdtw/lib/python3.12/site-packages/tslearn/bases/bases.py:15: UserWarning: h5py not installed, hdf5 features will not be supported.\n",
      "Install h5py to use hdf5 features: http://docs.h5py.org/\n",
      "  warn(h5py_msg)\n"
     ]
    }
   ],
   "source": [
    "import numpy as np\n",
    "import pandas as pd\n",
    "import matplotlib.pyplot as plt\n",
    "from tslearn.metrics import dtw, lb_keogh\n",
    "from sklearn.metrics import accuracy_score\n",
    "from tslearn.neighbors import KNeighborsTimeSeriesClassifier\n",
    "from tslearn.metrics import dtw as tsln_dtw\n",
    "from tqdm import tqdm"
   ]
  },
  {
   "cell_type": "code",
   "execution_count": null,
   "id": "109bffab",
   "metadata": {},
   "outputs": [],
   "source": [
    "# # A neat way to load the dataset\n",
    "# data = np.load(\"../data/gunpoint_preprocessed.npz\")\n",
    "# data_dict = {key: data[key] for key in data.files}\n"
   ]
  },
  {
   "cell_type": "code",
   "execution_count": 3,
   "id": "a7a94579",
   "metadata": {},
   "outputs": [],
   "source": [
    "# A old way to load the dataset\n",
    "data = np.load(\"../data/gunpoint_preprocessed.npz\", allow_pickle=True)\n",
    "X_train_scaled = data[\"X_train_scaled\"]\n",
    "X_train_proc = data[\"X_train_proc\"]\n",
    "X_train_proc_noisy = data[\"X_train_proc_noisy\"]\n",
    "y_train = data[\"y_train\"]\n",
    "X_test_scaled = data[\"X_test_scaled\"]\n",
    "X_test_proc = data[\"X_test_proc\"]\n",
    "X_test_proc_noisy = data[\"X_test_proc_noisy\"]\n",
    "y_test = data[\"y_test\"]\n",
    "train_cutting_orig = data[\"train_cutting_orig\"].tolist()\n",
    "train_cutting_final = data[\"train_cutting_final\"].tolist()\n",
    "test_cutting_orig = data[\"test_cutting_orig\"].tolist()\n",
    "test_cutting_final = data[\"test_cutting_final\"].tolist()\n"
   ]
  },
  {
   "cell_type": "code",
   "execution_count": 4,
   "id": "69d6ba33",
   "metadata": {},
   "outputs": [],
   "source": [
    "# Compute Euclidean distances to all training samples\n",
    "def euclidean_distance(a, b):\n",
    "    return np.sqrt(np.sum((a - b) ** 2))"
   ]
  },
  {
   "cell_type": "code",
   "execution_count": null,
   "id": "413889e1",
   "metadata": {},
   "outputs": [],
   "source": [
    "m = len(X_train_proc[0])\n",
    "n = len(X_train_scaled[0])\n",
    "l = 2\n",
    "L = int(np.floor(min(np.ceil(l*m),n)/3))"
   ]
  },
  {
   "cell_type": "code",
   "execution_count": null,
   "id": "b8fdfd51",
   "metadata": {},
   "outputs": [
    {
     "name": "stdout",
     "output_type": "stream",
     "text": [
      "0\n",
      "1\n",
      "2\n",
      "3\n",
      "4\n",
      "5\n",
      "6\n",
      "7\n",
      "8\n",
      "9\n",
      "10\n",
      "11\n",
      "12\n",
      "13\n",
      "14\n",
      "15\n",
      "16\n",
      "17\n",
      "18\n",
      "19\n",
      "20\n",
      "21\n",
      "22\n",
      "23\n",
      "24\n",
      "25\n",
      "26\n",
      "27\n",
      "28\n",
      "29\n",
      "30\n",
      "31\n",
      "32\n",
      "33\n",
      "34\n",
      "35\n",
      "36\n",
      "37\n",
      "38\n",
      "39\n",
      "40\n",
      "41\n",
      "42\n",
      "43\n",
      "44\n",
      "45\n",
      "46\n",
      "47\n",
      "48\n",
      "49\n"
     ]
    }
   ],
   "source": [
    "# ps\n",
    "results = []\n",
    "for i in range(0,50): # X_train_proc.shape[0]\n",
    "    results.append([ps_distance_p(X_train_proc[i], x, 2, 0.1, 10, 3, distance_method='dtw', lower_bound_method=lb_kim_fl) for x in X_train_scaled[:50]])\n",
    "np.savez(\"../results/results.npz\", results=np.array(results, dtype=object))\n"
   ]
  },
  {
   "cell_type": "code",
   "execution_count": null,
   "id": "f4af3d36",
   "metadata": {},
   "outputs": [],
   "source": [
    "# ps + noise\n",
    "results_noisy = []\n",
    "for i in range(0,50): # X_train_proc.shape[0]\n",
    "    results_noisy.append([ps_distance_p(X_train_proc_noisy[i], x, 2, 0.1, 10, 3, distance_method='dtw', lower_bound_method=lb_kim_fl) for x in X_train_scaled])\n",
    "np.savez(\"../results/results_noisy.npz\", results=np.array(results_noisy, dtype=object))"
   ]
  },
  {
   "cell_type": "code",
   "execution_count": null,
   "id": "ba900107",
   "metadata": {},
   "outputs": [
    {
     "name": "stdout",
     "output_type": "stream",
     "text": [
      "0\n",
      "1\n",
      "2\n",
      "3\n",
      "4\n",
      "5\n",
      "6\n",
      "7\n",
      "8\n",
      "9\n"
     ]
    }
   ],
   "source": [
    "# ps\n",
    "# Check the pruning power\n",
    "results_lb_shen = []\n",
    "\n",
    "for i in range(0,10): # X_train_proc.shape[0]\n",
    "    results_lb_shen.append([ps_distance_p(X_train_proc[i], x, 2, 0.1, 10, 3, distance_method='dtw', lower_bound_method=lb_shen) for x in X_train_scaled[:10]])\n",
    "    print(i)\n",
    "np.savez(\"../results/results_lb_shen.npz\", results=np.array(results_lb_shen, dtype=object))\n"
   ]
  },
  {
   "cell_type": "code",
   "execution_count": null,
   "id": "ac1af7ba",
   "metadata": {},
   "outputs": [
    {
     "name": "stdout",
     "output_type": "stream",
     "text": [
      "0\n",
      "1\n",
      "2\n",
      "3\n",
      "4\n",
      "5\n",
      "6\n",
      "7\n",
      "8\n",
      "9\n"
     ]
    }
   ],
   "source": [
    "# ps + noise\n",
    "# Check the pruning power\n",
    "results_lb_shen2 = []\n",
    "\n",
    "for i in range(0,10): # X_train_proc.shape[0]\n",
    "    results_lb_shen2.append([ps_distance_p(X_train_proc_noisy[i], x, 2, 0.1, 10, 3, distance_method='dtw', lower_bound_method=lb_shen) for x in X_train_scaled[:10]])\n",
    "    print(i)\n",
    "np.savez(\"../results/results_lb_shen.npz\", results=np.array(results_lb_shen2, dtype=object))\n"
   ]
  },
  {
   "cell_type": "code",
   "execution_count": null,
   "id": "10f8327d",
   "metadata": {},
   "outputs": [
    {
     "name": "stdout",
     "output_type": "stream",
     "text": [
      "0\n",
      "1\n",
      "2\n",
      "3\n",
      "4\n",
      "5\n",
      "6\n",
      "7\n",
      "8\n",
      "9\n"
     ]
    }
   ],
   "source": [
    "# ps\n",
    "results_no_prune = []\n",
    "for i in range(0,10): # X_train_proc.shape[0]\n",
    "    results_no_prune.append([ps_distance_p_without_prune(X_train_proc[i], x, 2, 0.1, 10, 3, distance_method='dtw', lower_bound_method=lb_dummy) for x in X_train_scaled[:10]])\n",
    "    print(i)\n",
    "np.savez(\"../results/results_no_prune.npz\", results=np.array(results_no_prune, dtype=object))"
   ]
  },
  {
   "cell_type": "code",
   "execution_count": null,
   "id": "42c47354",
   "metadata": {},
   "outputs": [
    {
     "name": "stdout",
     "output_type": "stream",
     "text": [
      "0\n",
      "1\n",
      "2\n",
      "3\n",
      "4\n",
      "5\n",
      "6\n",
      "7\n",
      "8\n",
      "9\n"
     ]
    }
   ],
   "source": [
    "# ps + noise\n",
    "results_no_prune2 = []\n",
    "for i in range(0,10): # X_train_proc.shape[0]\n",
    "    results_no_prune2.append([ps_distance_p_without_prune(X_train_proc_noisy[i], x, 2, 0.1, 10, 3, distance_method='dtw', lower_bound_method=lb_dummy) for x in X_train_scaled[:10]])\n",
    "    print(i)\n",
    "np.savez(\"../results/results_no_prune2.npz\", results=np.array(results_no_prune2, dtype=object))"
   ]
  },
  {
   "cell_type": "code",
   "execution_count": null,
   "id": "ee622ebe",
   "metadata": {},
   "outputs": [
    {
     "name": "stdout",
     "output_type": "stream",
     "text": [
      "3985237\n"
     ]
    }
   ],
   "source": [
    "# ps\n",
    "# No prune\n",
    "total_no_iterations =0\n",
    "for i in range(0,10):\n",
    "     # cuts = [r[1] for r in results[i]]\n",
    "     iterations = np.array([r[2] for r in results_no_prune[i]])\n",
    "     total_no_iterations += sum(iterations)  \n",
    "     # best_idx = np.argmin(distances)\n",
    "     # if i != best_idx:\n",
    "     #      print(i, \"cannot retrieve the original time series\")\n",
    "print(total_no_iterations)\n",
    "total_no_iterations_no_prune = total_no_iterations\n",
    "        "
   ]
  },
  {
   "cell_type": "code",
   "execution_count": null,
   "id": "9d987dbf",
   "metadata": {},
   "outputs": [
    {
     "name": "stdout",
     "output_type": "stream",
     "text": [
      "4023811\n"
     ]
    }
   ],
   "source": [
    "# ps + noise\n",
    "# No prune\n",
    "total_no_iterations =0\n",
    "for i in range(0,10):\n",
    "     # cuts = [r[1] for r in results[i]]\n",
    "     iterations = np.array([r[2] for r in results_no_prune2[i]])\n",
    "     total_no_iterations += sum(iterations)  \n",
    "     # best_idx = np.argmin(distances)\n",
    "     # if i != best_idx:\n",
    "     #      print(i, \"cannot retrieve the original time series\")\n",
    "print(total_no_iterations)\n",
    "total_no_iterations_no_prune = total_no_iterations\n",
    "        "
   ]
  },
  {
   "cell_type": "code",
   "execution_count": null,
   "id": "16628f06",
   "metadata": {},
   "outputs": [
    {
     "name": "stdout",
     "output_type": "stream",
     "text": [
      "1404294\n"
     ]
    }
   ],
   "source": [
    "# ps\n",
    "# Using LB_Shen\n",
    "total_no_iterations =0\n",
    "for i in range(0,10):\n",
    "     # cuts = [r[1] for r in results[i]]\n",
    "     iterations = np.array([r[2] for r in results_lb_shen[i]])\n",
    "     total_no_iterations += sum(iterations)  \n",
    "     # best_idx = np.argmin(distances)\n",
    "     # if i != best_idx:\n",
    "     #      print(i, \"cannot retrieve the original time series\")\n",
    "print(total_no_iterations)\n",
    "total_no_iterations_lb_shen = total_no_iterations"
   ]
  },
  {
   "cell_type": "code",
   "execution_count": null,
   "id": "4ef2a814",
   "metadata": {},
   "outputs": [
    {
     "name": "stdout",
     "output_type": "stream",
     "text": [
      "1483516\n"
     ]
    }
   ],
   "source": [
    "# ps + noise\n",
    "# Using LB_Shen\n",
    "total_no_iterations =0\n",
    "for i in range(0,10):\n",
    "     # cuts = [r[1] for r in results[i]]\n",
    "     iterations = np.array([r[2] for r in results_lb_shen2[i]])\n",
    "     total_no_iterations += sum(iterations)  \n",
    "     # best_idx = np.argmin(distances)\n",
    "     # if i != best_idx:\n",
    "     #      print(i, \"cannot retrieve the original time series\")\n",
    "print(total_no_iterations)\n",
    "total_no_iterations_lb_shen = total_no_iterations"
   ]
  },
  {
   "cell_type": "code",
   "execution_count": 76,
   "id": "2e478d95",
   "metadata": {},
   "outputs": [
    {
     "data": {
      "text/plain": [
       "np.float64(0.6313156855528255)"
      ]
     },
     "execution_count": 76,
     "metadata": {},
     "output_type": "execute_result"
    }
   ],
   "source": [
    "(total_no_iterations_no_prune - total_no_iterations_lb_shen)/total_no_iterations_no_prune"
   ]
  },
  {
   "cell_type": "code",
   "execution_count": null,
   "id": "005aaa92",
   "metadata": {},
   "outputs": [],
   "source": []
  },
  {
   "cell_type": "code",
   "execution_count": null,
   "id": "dddb82e7",
   "metadata": {},
   "outputs": [],
   "source": []
  },
  {
   "cell_type": "markdown",
   "id": "4a7b3e12",
   "metadata": {},
   "source": [
    "# Precision"
   ]
  },
  {
   "cell_type": "code",
   "execution_count": 21,
   "id": "18f427e6",
   "metadata": {},
   "outputs": [],
   "source": [
    "def precision_at_k(distances, true_index, k):\n",
    "    # Get the indices of the top-k smallest distances\n",
    "    top_k_indices = sorted(range(len(distances)), key=lambda x: distances[x])[:k]\n",
    "    \n",
    "    # Check if the true match is among them\n",
    "    return 1 if true_index in top_k_indices else 0\n"
   ]
  },
  {
   "cell_type": "code",
   "execution_count": 32,
   "id": "287eef65",
   "metadata": {},
   "outputs": [
    {
     "name": "stdout",
     "output_type": "stream",
     "text": [
      "0.8 0.96 1.0 1.0\n"
     ]
    }
   ],
   "source": [
    "# PSDTW\n",
    "precision_at_1, precision_at_3, precision_at_5, precision_at_7 = 0, 0, 0, 0\n",
    "for i in range(0,50):\n",
    "     distances = np.array([r[0] for r in results[i]])\n",
    "     precision_at_1 += precision_at_k(distances, i, 1)\n",
    "     precision_at_3 += precision_at_k(distances, i, 3)\n",
    "     precision_at_5 += precision_at_k(distances, i, 5)\n",
    "     precision_at_7 += precision_at_k(distances, i, 7)\n",
    "     # cuts = [r[1] for r in results[i]]\n",
    "     # iterations = np.array([r[2] for r in results[i]])  \n",
    "     # best_idx = np.argmin(distances)\n",
    "     # if i != best_idx:\n",
    "     #      print(i, \"cannot retrieve the original time series\")\n",
    "print(precision_at_1/50, precision_at_3/50, precision_at_5/50, precision_at_7/50) \n",
    "        "
   ]
  },
  {
   "cell_type": "code",
   "execution_count": 33,
   "id": "b769c267",
   "metadata": {},
   "outputs": [
    {
     "name": "stdout",
     "output_type": "stream",
     "text": [
      "0.48 0.82 0.96 1.0\n"
     ]
    }
   ],
   "source": [
    "# PSDTW, noisy\n",
    "precision_at_1, precision_at_3, precision_at_5, precision_at_7 = 0, 0, 0, 0\n",
    "for i in range(0,50):\n",
    "     distances = np.array([r[0] for r in results_noisy[i]])\n",
    "     precision_at_1 += precision_at_k(distances, i, 1)\n",
    "     precision_at_3 += precision_at_k(distances, i, 3)\n",
    "     precision_at_5 += precision_at_k(distances, i, 5)\n",
    "     precision_at_7 += precision_at_k(distances, i, 7)\n",
    "     # cuts = [r[1] for r in results[i]]\n",
    "     # iterations = np.array([r[2] for r in results[i]])  \n",
    "     # best_idx = np.argmin(distances)\n",
    "     # if i != best_idx:\n",
    "     #      print(i, \"cannot retrieve the original time series\")\n",
    "print(precision_at_1/50, precision_at_3/50, precision_at_5/50, precision_at_7/50) "
   ]
  },
  {
   "cell_type": "code",
   "execution_count": 34,
   "id": "9aa6d22f",
   "metadata": {},
   "outputs": [
    {
     "name": "stdout",
     "output_type": "stream",
     "text": [
      "24 37 43 45\n",
      "0.48 0.74 0.86 0.9\n"
     ]
    }
   ],
   "source": [
    "# DTW\n",
    "precision_at_1, precision_at_3, precision_at_5, precision_at_7 = 0, 0, 0, 0\n",
    "for i in range(0,50):\n",
    "    distances = np.array([tsln_dtw(X_train_proc[i], x) for x in X_train_scaled])\n",
    "    precision_at_1 += precision_at_k(distances, i, 1)\n",
    "    precision_at_3 += precision_at_k(distances, i, 3)\n",
    "    precision_at_5 += precision_at_k(distances, i, 5)\n",
    "    precision_at_7 += precision_at_k(distances, i, 7)\n",
    "print(precision_at_1, precision_at_3, precision_at_5, precision_at_7)\n",
    "print(precision_at_1/50, precision_at_3/50, precision_at_5/50, precision_at_7/50)  "
   ]
  },
  {
   "cell_type": "code",
   "execution_count": 35,
   "id": "197f8b1c",
   "metadata": {},
   "outputs": [
    {
     "name": "stdout",
     "output_type": "stream",
     "text": [
      "22 32 39 43\n",
      "0.44 0.64 0.78 0.86\n"
     ]
    }
   ],
   "source": [
    "# DTW Noisy\n",
    "precision_at_1, precision_at_3, precision_at_5, precision_at_7 = 0, 0, 0, 0\n",
    "for i in range(0,50):\n",
    "    distances = np.array([tsln_dtw(X_train_proc_noisy[i], x) for x in X_train_scaled])\n",
    "    precision_at_1 += precision_at_k(distances, i, 1)\n",
    "    precision_at_3 += precision_at_k(distances, i, 3)\n",
    "    precision_at_5 += precision_at_k(distances, i, 5)\n",
    "    precision_at_7 += precision_at_k(distances, i, 7)\n",
    "print(precision_at_1, precision_at_3, precision_at_5, precision_at_7)\n",
    "print(precision_at_1/50, precision_at_3/50, precision_at_5/50, precision_at_7/50)  "
   ]
  },
  {
   "cell_type": "code",
   "execution_count": 36,
   "id": "0d749a87",
   "metadata": {},
   "outputs": [
    {
     "name": "stdout",
     "output_type": "stream",
     "text": [
      "1 3 5 9\n",
      "0.02 0.06 0.1 0.18\n"
     ]
    }
   ],
   "source": [
    "# ED\n",
    "precision_at_1, precision_at_3, precision_at_5, precision_at_7 = 0, 0, 0, 0\n",
    "for i in range(0,50):\n",
    "    distances = np.array([euclidean_distance(X_train_proc[i], x) for x in X_train_scaled])\n",
    "    precision_at_1 += precision_at_k(distances, i, 1)\n",
    "    precision_at_3 += precision_at_k(distances, i, 3)\n",
    "    precision_at_5 += precision_at_k(distances, i, 5)\n",
    "    precision_at_7 += precision_at_k(distances, i, 7)\n",
    "print(precision_at_1, precision_at_3, precision_at_5, precision_at_7)\n",
    "print(precision_at_1/50, precision_at_3/50, precision_at_5/50, precision_at_7/50)  "
   ]
  },
  {
   "cell_type": "code",
   "execution_count": 41,
   "id": "53448fed",
   "metadata": {},
   "outputs": [
    {
     "name": "stdout",
     "output_type": "stream",
     "text": [
      "1 3 4 9\n",
      "0.02 0.06 0.08 0.18\n"
     ]
    }
   ],
   "source": [
    "# ED\n",
    "precision_at_1, precision_at_3, precision_at_5, precision_at_7 = 0, 0, 0, 0\n",
    "for i in range(0,50):\n",
    "    distances = np.array([euclidean_distance(X_train_proc_noisy[i], x) for x in X_train_scaled])\n",
    "    precision_at_1 += precision_at_k(distances, i, 1)\n",
    "    precision_at_3 += precision_at_k(distances, i, 3)\n",
    "    precision_at_5 += precision_at_k(distances, i, 5)\n",
    "    precision_at_7 += precision_at_k(distances, i, 7)\n",
    "print(precision_at_1, precision_at_3, precision_at_5, precision_at_7)\n",
    "print(precision_at_1/50, precision_at_3/50, precision_at_5/50, precision_at_7/50)  "
   ]
  },
  {
   "cell_type": "code",
   "execution_count": null,
   "id": "7eac5f52",
   "metadata": {},
   "outputs": [],
   "source": []
  },
  {
   "cell_type": "code",
   "execution_count": null,
   "id": "1748ff57",
   "metadata": {},
   "outputs": [],
   "source": [
    "# def test_querying_ed_dtw(query_ts_idx, dist_method):\n",
    "#     query_ts = X_train_proc_noisy[query_ts_idx]\n",
    "#     query_ts_original = X_train[query_ts_idx]\n",
    "#     if dist_method == \"dtw\":\n",
    "#         distances = np.array([tsln_dtw(query_ts, x) for x in X_train])\n",
    "#     elif dist_method == \"psdtw\":\n",
    "#         results = [ps_distance_p(query_ts, x, 2, 0.1, L, 3) for x in X_train[:5]]\n",
    "#         distances = np.array([r[0] for r in results])\n",
    "#         cuts = [r[1] for r in results]\n",
    "#         iterations = np.array([r[2] for r in results])  \n",
    "#     else:\n",
    "#         raise ValueError(\"Must be either dtw or psdtw\")\n",
    "#     # Find best match\n",
    "#     best_idx = np.argmin(distances)\n",
    "#     best_match = X_train[best_idx]\n",
    "\n",
    "#     print(f\"Best match index: {best_idx}\")\n",
    "#     print(f\"Distance: {distances[best_idx]:.4f}\")\n",
    "#     plt.plot(query_ts, label=\"Query\", linewidth=2, color= \"red\")\n",
    "#     plt.plot(query_ts_original, label=\"Original version of Query\", linestyle=\"--\", color=\"green\")\n",
    "#     plt.plot(best_match, label=\"Best Match\", linestyle=\"--\", color=\"blue\")\n",
    "\n",
    "#     plt.legend()\n",
    "#     plt.title(\"1-NN Query (Euclidean Distance)\")\n",
    "#     plt.show()\n",
    "\n",
    "#     for i in range(0, 6):\n",
    "#     test_querying_ed_dtw(i, \"psdtw\")\n",
    "\n"
   ]
  },
  {
   "cell_type": "code",
   "execution_count": 9,
   "id": "26cb0865",
   "metadata": {},
   "outputs": [],
   "source": [
    "###"
   ]
  },
  {
   "cell_type": "code",
   "execution_count": null,
   "id": "c5d9cd93",
   "metadata": {},
   "outputs": [],
   "source": []
  },
  {
   "cell_type": "code",
   "execution_count": null,
   "id": "62db7936",
   "metadata": {},
   "outputs": [],
   "source": []
  }
 ],
 "metadata": {
  "kernelspec": {
   "display_name": "ksfdtw",
   "language": "python",
   "name": "python3"
  },
  "language_info": {
   "codemirror_mode": {
    "name": "ipython",
    "version": 3
   },
   "file_extension": ".py",
   "mimetype": "text/x-python",
   "name": "python",
   "nbconvert_exporter": "python",
   "pygments_lexer": "ipython3",
   "version": "3.12.10"
  }
 },
 "nbformat": 4,
 "nbformat_minor": 5
}
