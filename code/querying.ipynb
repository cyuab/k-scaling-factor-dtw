{
 "cells": [
  {
   "cell_type": "code",
   "execution_count": 77,
   "id": "112c03b2",
   "metadata": {},
   "outputs": [
    {
     "name": "stdout",
     "output_type": "stream",
     "text": [
      "The autoreload extension is already loaded. To reload it, use:\n",
      "  %reload_ext autoreload\n"
     ]
    }
   ],
   "source": [
    "# Imported Python files do not automatically reload after you modify them\n",
    "# M1: Automatically Reload\n",
    "%load_ext autoreload\n",
    "%autoreload 2\n",
    "# M2: Manual Reload\n",
    "# import importlib\n",
    "# import ksfdtw\n",
    "# importlib.reload(ksfdtw)\n",
    "\n",
    "# https://stackoverflow.com/questions/20309456/how-do-i-call-a-function-from-another-py-file\n",
    "from ksfdtw import *"
   ]
  },
  {
   "cell_type": "code",
   "execution_count": 2,
   "id": "85b7e46e",
   "metadata": {},
   "outputs": [
    {
     "name": "stderr",
     "output_type": "stream",
     "text": [
      "/Users/cyuab/miniconda3/envs/ksfdtw/lib/python3.12/site-packages/tslearn/bases/bases.py:15: UserWarning: h5py not installed, hdf5 features will not be supported.\n",
      "Install h5py to use hdf5 features: http://docs.h5py.org/\n",
      "  warn(h5py_msg)\n"
     ]
    }
   ],
   "source": [
    "import numpy as np\n",
    "import pandas as pd\n",
    "import matplotlib.pyplot as plt\n",
    "from tslearn.metrics import dtw, lb_keogh\n",
    "from sklearn.metrics import accuracy_score\n",
    "from tslearn.neighbors import KNeighborsTimeSeriesClassifier\n",
    "from tslearn.metrics import dtw as tsln_dtw\n",
    "from tqdm import tqdm"
   ]
  },
  {
   "cell_type": "code",
   "execution_count": null,
   "id": "109bffab",
   "metadata": {},
   "outputs": [],
   "source": [
    "# # A neat way to load the dataset\n",
    "# data = np.load(\"../data/gunpoint_preprocessed.npz\")\n",
    "# data_dict = {key: data[key] for key in data.files}\n"
   ]
  },
  {
   "cell_type": "code",
   "execution_count": 3,
   "id": "a7a94579",
   "metadata": {},
   "outputs": [],
   "source": [
    "# A old way to load the dataset\n",
    "data = np.load(\"../data/gunpoint_preprocessed.npz\", allow_pickle=True)\n",
    "X_train_scaled = data[\"X_train_scaled\"]\n",
    "X_train_proc = data[\"X_train_proc\"]\n",
    "X_train_proc_noisy = data[\"X_train_proc_noisy\"]\n",
    "y_train = data[\"y_train\"]\n",
    "X_test_scaled = data[\"X_test_scaled\"]\n",
    "X_test_proc = data[\"X_test_proc\"]\n",
    "X_test_proc_noisy = data[\"X_test_proc_noisy\"]\n",
    "y_test = data[\"y_test\"]\n",
    "train_cutting_orig = data[\"train_cutting_orig\"].tolist()\n",
    "train_cutting_final = data[\"train_cutting_final\"].tolist()\n",
    "test_cutting_orig = data[\"test_cutting_orig\"].tolist()\n",
    "test_cutting_final = data[\"test_cutting_final\"].tolist()\n"
   ]
  },
  {
   "cell_type": "code",
   "execution_count": 4,
   "id": "69d6ba33",
   "metadata": {},
   "outputs": [],
   "source": [
    "# Compute Euclidean distances to all training samples\n",
    "def euclidean_distance(a, b):\n",
    "    return np.sqrt(np.sum((a - b) ** 2))"
   ]
  },
  {
   "cell_type": "code",
   "execution_count": null,
   "id": "413889e1",
   "metadata": {},
   "outputs": [],
   "source": [
    "m = len(X_train_proc[0])\n",
    "n = len(X_train_scaled[0])\n",
    "l = 2\n",
    "L = int(np.floor(min(np.ceil(l*m),n)/3))"
   ]
  },
  {
   "cell_type": "code",
   "execution_count": 8,
   "id": "b8fdfd51",
   "metadata": {},
   "outputs": [
    {
     "name": "stdout",
     "output_type": "stream",
     "text": [
      "0\n",
      "1\n",
      "2\n",
      "3\n",
      "4\n",
      "5\n",
      "6\n",
      "7\n",
      "8\n",
      "9\n",
      "10\n",
      "11\n",
      "12\n",
      "13\n",
      "14\n",
      "15\n",
      "16\n",
      "17\n",
      "18\n",
      "19\n",
      "20\n",
      "21\n",
      "22\n",
      "23\n",
      "24\n",
      "25\n",
      "26\n",
      "27\n",
      "28\n",
      "29\n",
      "30\n",
      "31\n",
      "32\n",
      "33\n",
      "34\n",
      "35\n",
      "36\n",
      "37\n",
      "38\n",
      "39\n",
      "40\n",
      "41\n",
      "42\n",
      "43\n",
      "44\n",
      "45\n",
      "46\n",
      "47\n",
      "48\n",
      "49\n"
     ]
    }
   ],
   "source": [
    "# ps\n",
    "results = []\n",
    "for i in range(0,50): # X_train_proc.shape[0]\n",
    "    results.append([ps_distance_p(X_train_proc[i], x, 2, 0.1, 10, 3, distance_method='dtw', lower_bound_method=lb_kim_fl) for x in X_train_scaled[:50]])\n",
    "np.savez(\"../results/results.npz\", results=np.array(results, dtype=object))\n"
   ]
  },
  {
   "cell_type": "code",
   "execution_count": 84,
   "id": "90674db2",
   "metadata": {},
   "outputs": [
    {
     "data": {
      "text/plain": [
       "50"
      ]
     },
     "execution_count": 84,
     "metadata": {},
     "output_type": "execute_result"
    }
   ],
   "source": [
    "len(results_noisy)"
   ]
  },
  {
   "cell_type": "code",
   "execution_count": null,
   "id": "9c0c3fc9",
   "metadata": {},
   "outputs": [],
   "source": []
  },
  {
   "cell_type": "code",
   "execution_count": null,
   "id": "f4af3d36",
   "metadata": {},
   "outputs": [],
   "source": [
    "# ps + noise\n",
    "results_noisy = []\n",
    "for i in range(0,50): # X_train_proc.shape[0]\n",
    "    results_noisy.append([ps_distance_p(X_train_proc_noisy[i], x, 2, 0.1, 10, 3, distance_method='dtw', lower_bound_method=lb_kim_fl) for x in X_train_scaled])\n",
    "np.savez(\"../results/results_noisy.npz\", results=np.array(results_noisy, dtype=object))"
   ]
  },
  {
   "cell_type": "code",
   "execution_count": 48,
   "id": "ba900107",
   "metadata": {},
   "outputs": [
    {
     "name": "stdout",
     "output_type": "stream",
     "text": [
      "0\n",
      "1\n",
      "2\n",
      "3\n",
      "4\n",
      "5\n",
      "6\n",
      "7\n",
      "8\n",
      "9\n"
     ]
    }
   ],
   "source": [
    "# ps\n",
    "# Check the pruning power\n",
    "results_lb_shen = []\n",
    "\n",
    "for i in range(0,10): # X_train_proc.shape[0]\n",
    "    results_lb_shen.append([ps_distance_p(X_train_proc[i], x, 2, 0.1, 10, 3, distance_method='dtw', lower_bound_method=lb_shen) for x in X_train_scaled[:10]])\n",
    "    print(i)\n",
    "np.savez(\"../results/results_lb_shen.npz\", results=np.array(results_lb_shen, dtype=object))\n"
   ]
  },
  {
   "cell_type": "code",
   "execution_count": 71,
   "id": "ac1af7ba",
   "metadata": {},
   "outputs": [
    {
     "name": "stdout",
     "output_type": "stream",
     "text": [
      "0\n",
      "1\n",
      "2\n",
      "3\n",
      "4\n",
      "5\n",
      "6\n",
      "7\n",
      "8\n",
      "9\n"
     ]
    }
   ],
   "source": [
    "# ps + noise\n",
    "# Check the pruning power\n",
    "results_lb_shen2 = []\n",
    "\n",
    "for i in range(0,10): # X_train_proc.shape[0]\n",
    "    results_lb_shen2.append([ps_distance_p(X_train_proc_noisy[i], x, 2, 0.1, 10, 3, distance_method='dtw', lower_bound_method=lb_shen) for x in X_train_scaled[:10]])\n",
    "    print(i)\n",
    "np.savez(\"../results/results_lb_shen.npz\", results=np.array(results_lb_shen2, dtype=object))\n"
   ]
  },
  {
   "cell_type": "code",
   "execution_count": 60,
   "id": "10f8327d",
   "metadata": {},
   "outputs": [
    {
     "name": "stdout",
     "output_type": "stream",
     "text": [
      "0\n",
      "1\n",
      "2\n",
      "3\n",
      "4\n",
      "5\n",
      "6\n",
      "7\n",
      "8\n",
      "9\n"
     ]
    }
   ],
   "source": [
    "# ps\n",
    "results_no_prune = []\n",
    "for i in range(0,10): # X_train_proc.shape[0]\n",
    "    results_no_prune.append([ps_distance_p_without_prune(X_train_proc[i], x, 2, 0.1, 10, 3, distance_method='dtw', lower_bound_method=lb_dummy) for x in X_train_scaled[:10]])\n",
    "    print(i)\n",
    "np.savez(\"../results/results_no_prune.npz\", results=np.array(results_no_prune, dtype=object))"
   ]
  },
  {
   "cell_type": "code",
   "execution_count": 70,
   "id": "42c47354",
   "metadata": {},
   "outputs": [
    {
     "name": "stdout",
     "output_type": "stream",
     "text": [
      "0\n",
      "1\n",
      "2\n",
      "3\n",
      "4\n",
      "5\n",
      "6\n",
      "7\n",
      "8\n",
      "9\n"
     ]
    }
   ],
   "source": [
    "# ps + noise\n",
    "results_no_prune2 = []\n",
    "for i in range(0,10): # X_train_proc.shape[0]\n",
    "    results_no_prune2.append([ps_distance_p_without_prune(X_train_proc_noisy[i], x, 2, 0.1, 10, 3, distance_method='dtw', lower_bound_method=lb_dummy) for x in X_train_scaled[:10]])\n",
    "    print(i)\n",
    "np.savez(\"../results/results_no_prune2.npz\", results=np.array(results_no_prune2, dtype=object))"
   ]
  },
  {
   "cell_type": "code",
   "execution_count": 67,
   "id": "ee622ebe",
   "metadata": {},
   "outputs": [
    {
     "name": "stdout",
     "output_type": "stream",
     "text": [
      "3985237\n"
     ]
    }
   ],
   "source": [
    "# ps\n",
    "# No prune\n",
    "total_no_iterations =0\n",
    "for i in range(0,10):\n",
    "     # cuts = [r[1] for r in results[i]]\n",
    "     iterations = np.array([r[2] for r in results_no_prune[i]])\n",
    "     total_no_iterations += sum(iterations)  \n",
    "     # best_idx = np.argmin(distances)\n",
    "     # if i != best_idx:\n",
    "     #      print(i, \"cannot retrieve the original time series\")\n",
    "print(total_no_iterations)\n",
    "total_no_iterations_no_prune = total_no_iterations\n",
    "        "
   ]
  },
  {
   "cell_type": "code",
   "execution_count": 72,
   "id": "9d987dbf",
   "metadata": {},
   "outputs": [
    {
     "name": "stdout",
     "output_type": "stream",
     "text": [
      "4023811\n"
     ]
    }
   ],
   "source": [
    "# ps + noise\n",
    "# No prune\n",
    "total_no_iterations =0\n",
    "for i in range(0,10):\n",
    "     # cuts = [r[1] for r in results[i]]\n",
    "     iterations = np.array([r[2] for r in results_no_prune2[i]])\n",
    "     total_no_iterations += sum(iterations)  \n",
    "     # best_idx = np.argmin(distances)\n",
    "     # if i != best_idx:\n",
    "     #      print(i, \"cannot retrieve the original time series\")\n",
    "print(total_no_iterations)\n",
    "total_no_iterations_no_prune = total_no_iterations\n",
    "        "
   ]
  },
  {
   "cell_type": "code",
   "execution_count": 66,
   "id": "16628f06",
   "metadata": {},
   "outputs": [
    {
     "name": "stdout",
     "output_type": "stream",
     "text": [
      "1404294\n"
     ]
    }
   ],
   "source": [
    "# ps\n",
    "# Using LB_Shen\n",
    "total_no_iterations =0\n",
    "for i in range(0,10):\n",
    "     # cuts = [r[1] for r in results[i]]\n",
    "     iterations = np.array([r[2] for r in results_lb_shen[i]])\n",
    "     total_no_iterations += sum(iterations)  \n",
    "     # best_idx = np.argmin(distances)\n",
    "     # if i != best_idx:\n",
    "     #      print(i, \"cannot retrieve the original time series\")\n",
    "print(total_no_iterations)\n",
    "total_no_iterations_lb_shen = total_no_iterations"
   ]
  },
  {
   "cell_type": "code",
   "execution_count": 73,
   "id": "4ef2a814",
   "metadata": {},
   "outputs": [
    {
     "name": "stdout",
     "output_type": "stream",
     "text": [
      "1483516\n"
     ]
    }
   ],
   "source": [
    "# ps + noise\n",
    "# Using LB_Shen\n",
    "total_no_iterations =0\n",
    "for i in range(0,10):\n",
    "     # cuts = [r[1] for r in results[i]]\n",
    "     iterations = np.array([r[2] for r in results_lb_shen2[i]])\n",
    "     total_no_iterations += sum(iterations)  \n",
    "     # best_idx = np.argmin(distances)\n",
    "     # if i != best_idx:\n",
    "     #      print(i, \"cannot retrieve the original time series\")\n",
    "print(total_no_iterations)\n",
    "total_no_iterations_lb_shen = total_no_iterations"
   ]
  },
  {
   "cell_type": "code",
   "execution_count": 76,
   "id": "2e478d95",
   "metadata": {},
   "outputs": [
    {
     "data": {
      "text/plain": [
       "np.float64(0.6313156855528255)"
      ]
     },
     "execution_count": 76,
     "metadata": {},
     "output_type": "execute_result"
    }
   ],
   "source": [
    "(total_no_iterations_no_prune - total_no_iterations_lb_shen)/total_no_iterations_no_prune"
   ]
  },
  {
   "cell_type": "code",
   "execution_count": null,
   "id": "005aaa92",
   "metadata": {},
   "outputs": [],
   "source": []
  },
  {
   "cell_type": "code",
   "execution_count": null,
   "id": "dddb82e7",
   "metadata": {},
   "outputs": [],
   "source": []
  },
  {
   "cell_type": "markdown",
   "id": "4a7b3e12",
   "metadata": {},
   "source": [
    "# Precision"
   ]
  },
  {
   "cell_type": "code",
   "execution_count": 21,
   "id": "18f427e6",
   "metadata": {},
   "outputs": [],
   "source": [
    "def precision_at_k(distances, true_index, k):\n",
    "    # Get the indices of the top-k smallest distances\n",
    "    top_k_indices = sorted(range(len(distances)), key=lambda x: distances[x])[:k]\n",
    "    \n",
    "    # Check if the true match is among them\n",
    "    return 1 if true_index in top_k_indices else 0\n"
   ]
  },
  {
   "cell_type": "code",
   "execution_count": 32,
   "id": "287eef65",
   "metadata": {},
   "outputs": [
    {
     "name": "stdout",
     "output_type": "stream",
     "text": [
      "0.8 0.96 1.0 1.0\n"
     ]
    }
   ],
   "source": [
    "# PSDTW\n",
    "precision_at_1, precision_at_3, precision_at_5, precision_at_7 = 0, 0, 0, 0\n",
    "for i in range(0,50):\n",
    "     distances = np.array([r[0] for r in results[i]])\n",
    "     precision_at_1 += precision_at_k(distances, i, 1)\n",
    "     precision_at_3 += precision_at_k(distances, i, 3)\n",
    "     precision_at_5 += precision_at_k(distances, i, 5)\n",
    "     precision_at_7 += precision_at_k(distances, i, 7)\n",
    "     # cuts = [r[1] for r in results[i]]\n",
    "     # iterations = np.array([r[2] for r in results[i]])  \n",
    "     # best_idx = np.argmin(distances)\n",
    "     # if i != best_idx:\n",
    "     #      print(i, \"cannot retrieve the original time series\")\n",
    "print(precision_at_1/50, precision_at_3/50, precision_at_5/50, precision_at_7/50) \n",
    "        "
   ]
  },
  {
   "cell_type": "code",
   "execution_count": 33,
   "id": "b769c267",
   "metadata": {},
   "outputs": [
    {
     "name": "stdout",
     "output_type": "stream",
     "text": [
      "0.48 0.82 0.96 1.0\n"
     ]
    }
   ],
   "source": [
    "# PSDTW, noisy\n",
    "precision_at_1, precision_at_3, precision_at_5, precision_at_7 = 0, 0, 0, 0\n",
    "for i in range(0,50):\n",
    "     distances = np.array([r[0] for r in results_noisy[i]])\n",
    "     precision_at_1 += precision_at_k(distances, i, 1)\n",
    "     precision_at_3 += precision_at_k(distances, i, 3)\n",
    "     precision_at_5 += precision_at_k(distances, i, 5)\n",
    "     precision_at_7 += precision_at_k(distances, i, 7)\n",
    "     # cuts = [r[1] for r in results[i]]\n",
    "     # iterations = np.array([r[2] for r in results[i]])  \n",
    "     # best_idx = np.argmin(distances)\n",
    "     # if i != best_idx:\n",
    "     #      print(i, \"cannot retrieve the original time series\")\n",
    "print(precision_at_1/50, precision_at_3/50, precision_at_5/50, precision_at_7/50) "
   ]
  },
  {
   "cell_type": "code",
   "execution_count": 34,
   "id": "9aa6d22f",
   "metadata": {},
   "outputs": [
    {
     "name": "stdout",
     "output_type": "stream",
     "text": [
      "24 37 43 45\n",
      "0.48 0.74 0.86 0.9\n"
     ]
    }
   ],
   "source": [
    "# DTW\n",
    "precision_at_1, precision_at_3, precision_at_5, precision_at_7 = 0, 0, 0, 0\n",
    "for i in range(0,50):\n",
    "    distances = np.array([tsln_dtw(X_train_proc[i], x) for x in X_train_scaled])\n",
    "    precision_at_1 += precision_at_k(distances, i, 1)\n",
    "    precision_at_3 += precision_at_k(distances, i, 3)\n",
    "    precision_at_5 += precision_at_k(distances, i, 5)\n",
    "    precision_at_7 += precision_at_k(distances, i, 7)\n",
    "print(precision_at_1, precision_at_3, precision_at_5, precision_at_7)\n",
    "print(precision_at_1/50, precision_at_3/50, precision_at_5/50, precision_at_7/50)  "
   ]
  },
  {
   "cell_type": "code",
   "execution_count": 35,
   "id": "197f8b1c",
   "metadata": {},
   "outputs": [
    {
     "name": "stdout",
     "output_type": "stream",
     "text": [
      "22 32 39 43\n",
      "0.44 0.64 0.78 0.86\n"
     ]
    }
   ],
   "source": [
    "# DTW Noisy\n",
    "precision_at_1, precision_at_3, precision_at_5, precision_at_7 = 0, 0, 0, 0\n",
    "for i in range(0,50):\n",
    "    distances = np.array([tsln_dtw(X_train_proc_noisy[i], x) for x in X_train_scaled])\n",
    "    precision_at_1 += precision_at_k(distances, i, 1)\n",
    "    precision_at_3 += precision_at_k(distances, i, 3)\n",
    "    precision_at_5 += precision_at_k(distances, i, 5)\n",
    "    precision_at_7 += precision_at_k(distances, i, 7)\n",
    "print(precision_at_1, precision_at_3, precision_at_5, precision_at_7)\n",
    "print(precision_at_1/50, precision_at_3/50, precision_at_5/50, precision_at_7/50)  "
   ]
  },
  {
   "cell_type": "code",
   "execution_count": 36,
   "id": "0d749a87",
   "metadata": {},
   "outputs": [
    {
     "name": "stdout",
     "output_type": "stream",
     "text": [
      "1 3 5 9\n",
      "0.02 0.06 0.1 0.18\n"
     ]
    }
   ],
   "source": [
    "# ED\n",
    "precision_at_1, precision_at_3, precision_at_5, precision_at_7 = 0, 0, 0, 0\n",
    "for i in range(0,50):\n",
    "    distances = np.array([euclidean_distance(X_train_proc[i], x) for x in X_train_scaled])\n",
    "    precision_at_1 += precision_at_k(distances, i, 1)\n",
    "    precision_at_3 += precision_at_k(distances, i, 3)\n",
    "    precision_at_5 += precision_at_k(distances, i, 5)\n",
    "    precision_at_7 += precision_at_k(distances, i, 7)\n",
    "print(precision_at_1, precision_at_3, precision_at_5, precision_at_7)\n",
    "print(precision_at_1/50, precision_at_3/50, precision_at_5/50, precision_at_7/50)  "
   ]
  },
  {
   "cell_type": "code",
   "execution_count": 41,
   "id": "53448fed",
   "metadata": {},
   "outputs": [
    {
     "name": "stdout",
     "output_type": "stream",
     "text": [
      "1 3 4 9\n",
      "0.02 0.06 0.08 0.18\n"
     ]
    }
   ],
   "source": [
    "# ED\n",
    "precision_at_1, precision_at_3, precision_at_5, precision_at_7 = 0, 0, 0, 0\n",
    "for i in range(0,50):\n",
    "    distances = np.array([euclidean_distance(X_train_proc_noisy[i], x) for x in X_train_scaled])\n",
    "    precision_at_1 += precision_at_k(distances, i, 1)\n",
    "    precision_at_3 += precision_at_k(distances, i, 3)\n",
    "    precision_at_5 += precision_at_k(distances, i, 5)\n",
    "    precision_at_7 += precision_at_k(distances, i, 7)\n",
    "print(precision_at_1, precision_at_3, precision_at_5, precision_at_7)\n",
    "print(precision_at_1/50, precision_at_3/50, precision_at_5/50, precision_at_7/50)  "
   ]
  },
  {
   "cell_type": "code",
   "execution_count": null,
   "id": "7eac5f52",
   "metadata": {},
   "outputs": [],
   "source": []
  },
  {
   "cell_type": "code",
   "execution_count": null,
   "id": "1748ff57",
   "metadata": {},
   "outputs": [],
   "source": [
    "# def test_querying_ed_dtw(query_ts_idx, dist_method):\n",
    "#     query_ts = X_train_proc_noisy[query_ts_idx]\n",
    "#     query_ts_original = X_train[query_ts_idx]\n",
    "#     if dist_method == \"dtw\":\n",
    "#         distances = np.array([tsln_dtw(query_ts, x) for x in X_train])\n",
    "#     elif dist_method == \"psdtw\":\n",
    "#         results = [ps_distance_p(query_ts, x, 2, 0.1, L, 3) for x in X_train[:5]]\n",
    "#         distances = np.array([r[0] for r in results])\n",
    "#         cuts = [r[1] for r in results]\n",
    "#         iterations = np.array([r[2] for r in results])  \n",
    "#     else:\n",
    "#         raise ValueError(\"Must be either dtw or psdtw\")\n",
    "#     # Find best match\n",
    "#     best_idx = np.argmin(distances)\n",
    "#     best_match = X_train[best_idx]\n",
    "\n",
    "#     print(f\"Best match index: {best_idx}\")\n",
    "#     print(f\"Distance: {distances[best_idx]:.4f}\")\n",
    "#     plt.plot(query_ts, label=\"Query\", linewidth=2, color= \"red\")\n",
    "#     plt.plot(query_ts_original, label=\"Original version of Query\", linestyle=\"--\", color=\"green\")\n",
    "#     plt.plot(best_match, label=\"Best Match\", linestyle=\"--\", color=\"blue\")\n",
    "\n",
    "#     plt.legend()\n",
    "#     plt.title(\"1-NN Query (Euclidean Distance)\")\n",
    "#     plt.show()\n",
    "\n",
    "#     for i in range(0, 6):\n",
    "#     test_querying_ed_dtw(i, \"psdtw\")\n",
    "\n"
   ]
  },
  {
   "cell_type": "code",
   "execution_count": 9,
   "id": "26cb0865",
   "metadata": {},
   "outputs": [],
   "source": [
    "###"
   ]
  },
  {
   "cell_type": "code",
   "execution_count": 92,
   "id": "c5d9cd93",
   "metadata": {},
   "outputs": [],
   "source": [
    "# cutting"
   ]
  },
  {
   "cell_type": "code",
   "execution_count": 93,
   "id": "62db7936",
   "metadata": {},
   "outputs": [],
   "source": [
    "data = np.load(\"../results/results.npz\", allow_pickle=True)\n",
    "results = data[\"results\"]\n",
    "data = np.load(\"../results/results_noisy.npz\", allow_pickle=True)\n",
    "results_noisy = data[\"results\"]"
   ]
  },
  {
   "cell_type": "code",
   "execution_count": null,
   "id": "aec06d39",
   "metadata": {},
   "outputs": [],
   "source": []
  },
  {
   "cell_type": "code",
   "execution_count": 96,
   "id": "2787096f",
   "metadata": {},
   "outputs": [
    {
     "data": {
      "text/plain": [
       "50"
      ]
     },
     "execution_count": 96,
     "metadata": {},
     "output_type": "execute_result"
    }
   ],
   "source": [
    "len(results_noisy)"
   ]
  },
  {
   "cell_type": "code",
   "execution_count": 98,
   "id": "7bd7cdbb",
   "metadata": {},
   "outputs": [
    {
     "name": "stdout",
     "output_type": "stream",
     "text": [
      "[[((0, 6), (0, 7)), ((6, 25), (7, 25)), ((25, 30), (25, 30))], [((0, 5), (0, 5)), ((5, 25), (5, 23)), ((25, 30), (23, 30))], [((0, 9), (0, 9)), ((9, 23), (9, 22)), ((23, 30), (22, 30))], [((0, 14), (0, 13)), ((14, 19), (13, 17)), ((19, 30), (17, 30))], [((0, 5), (0, 4)), ((5, 25), (4, 22)), ((25, 30), (22, 30))], [((0, 5), (0, 6)), ((5, 19), (6, 16)), ((19, 30), (16, 30))], [((0, 12), (0, 8)), ((12, 23), (8, 26)), ((23, 30), (26, 30))], [((0, 18), (0, 15)), ((18, 24), (15, 27)), ((24, 30), (27, 30))], [((0, 12), (0, 6)), ((12, 25), (6, 24)), ((25, 30), (24, 30))], [((0, 6), (0, 5)), ((6, 11), (5, 8)), ((11, 30), (8, 30))], [((0, 5), (0, 3)), ((5, 10), (3, 6)), ((10, 30), (6, 30))], [((0, 7), (0, 5)), ((7, 12), (5, 10)), ((12, 30), (10, 30))], [((0, 20), (0, 22)), ((20, 25), (22, 27)), ((25, 30), (27, 30))], [((0, 6), (0, 5)), ((6, 11), (5, 8)), ((11, 30), (8, 30))], [((0, 7), (0, 9)), ((7, 25), (9, 22)), ((25, 30), (22, 30))], [((0, 7), (0, 5)), ((7, 12), (5, 10)), ((12, 30), (10, 30))], [((0, 5), (0, 5)), ((5, 25), (5, 24)), ((25, 30), (24, 30))], [((0, 6), (0, 6)), ((6, 25), (6, 24)), ((25, 30), (24, 30))], [((0, 5), (0, 5)), ((5, 10), (5, 8)), ((10, 30), (8, 30))], [((0, 6), (0, 3)), ((6, 12), (3, 6)), ((12, 30), (6, 30))], [((0, 5), (0, 7)), ((5, 10), (7, 10)), ((10, 30), (10, 30))], [((0, 5), (0, 3)), ((5, 11), (3, 9)), ((11, 30), (9, 30))], [((0, 5), (0, 5)), ((5, 10), (5, 8)), ((10, 30), (8, 30))], [((0, 7), (0, 5)), ((7, 12), (5, 8)), ((12, 30), (8, 30))], [((0, 8), (0, 8)), ((8, 25), (8, 21)), ((25, 30), (21, 30))], [((0, 12), (0, 6)), ((12, 25), (6, 22)), ((25, 30), (22, 30))], [((0, 6), (0, 5)), ((6, 11), (5, 8)), ((11, 30), (8, 30))], [((0, 5), (0, 5)), ((5, 10), (5, 8)), ((10, 30), (8, 30))], [((0, 12), (0, 6)), ((12, 25), (6, 25)), ((25, 30), (25, 30))], [((0, 10), (0, 9)), ((10, 22), (9, 26)), ((22, 30), (26, 30))], [((0, 6), (0, 4)), ((6, 11), (4, 8)), ((11, 30), (8, 30))], [((0, 20), (0, 23)), ((20, 25), (23, 27)), ((25, 30), (27, 30))], [((0, 12), (0, 6)), ((12, 25), (6, 24)), ((25, 30), (24, 30))], [((0, 9), (0, 9)), ((9, 23), (9, 22)), ((23, 30), (22, 30))], [((0, 5), (0, 5)), ((5, 25), (5, 23)), ((25, 30), (23, 30))], [((0, 8), (0, 8)), ((8, 25), (8, 21)), ((25, 30), (21, 30))], [((0, 12), (0, 8)), ((12, 25), (8, 27)), ((25, 30), (27, 30))], [((0, 8), (0, 9)), ((8, 25), (9, 22)), ((25, 30), (22, 30))], [((0, 7), (0, 5)), ((7, 12), (5, 8)), ((12, 30), (8, 30))], [((0, 7), (0, 4)), ((7, 12), (4, 7)), ((12, 30), (7, 30))], [((0, 9), (0, 9)), ((9, 25), (9, 24)), ((25, 30), (24, 30))], [((0, 6), (0, 6)), ((6, 11), (6, 10)), ((11, 30), (10, 30))], [((0, 6), (0, 4)), ((6, 11), (4, 8)), ((11, 30), (8, 30))], [((0, 5), (0, 5)), ((5, 10), (5, 8)), ((10, 30), (8, 30))], [((0, 6), (0, 3)), ((6, 12), (3, 6)), ((12, 30), (6, 30))], [((0, 6), (0, 5)), ((6, 25), (5, 23)), ((25, 30), (23, 30))], [((0, 5), (0, 4)), ((5, 24), (4, 22)), ((24, 30), (22, 30))], [((0, 13), (0, 13)), ((13, 19), (13, 17)), ((19, 30), (17, 30))], [((0, 9), (0, 8)), ((9, 23), (8, 21)), ((23, 30), (21, 30))], [((0, 7), (0, 4)), ((7, 12), (4, 7)), ((12, 30), (7, 30))]]\n",
      "[[((0, 7), (0, 4)), ((7, 25), (4, 27)), ((25, 30), (27, 30))], [((0, 10), (0, 6)), ((10, 25), (6, 27)), ((25, 30), (27, 30))], [((0, 10), (0, 6)), ((10, 25), (6, 27)), ((25, 30), (27, 30))], [((0, 10), (0, 5)), ((10, 25), (5, 26)), ((25, 30), (26, 30))], [((0, 6), (0, 3)), ((6, 11), (3, 7)), ((11, 30), (7, 30))], [((0, 11), (0, 6)), ((11, 24), (6, 25)), ((24, 30), (25, 30))], [((0, 12), (0, 6)), ((12, 22), (6, 26)), ((22, 30), (26, 30))], [((0, 13), (0, 15)), ((13, 25), (15, 27)), ((25, 30), (27, 30))], [((0, 10), (0, 5)), ((10, 25), (5, 25)), ((25, 30), (25, 30))], [((0, 13), (0, 8)), ((13, 21), (8, 23)), ((21, 30), (23, 30))], [((0, 13), (0, 7)), ((13, 25), (7, 27)), ((25, 30), (27, 30))], [((0, 13), (0, 8)), ((13, 21), (8, 23)), ((21, 30), (23, 30))], [((0, 13), (0, 9)), ((13, 21), (9, 25)), ((21, 30), (25, 30))], [((0, 13), (0, 8)), ((13, 21), (8, 22)), ((21, 30), (22, 30))], [((0, 9), (0, 5)), ((9, 25), (5, 27)), ((25, 30), (27, 30))], [((0, 13), (0, 8)), ((13, 21), (8, 23)), ((21, 30), (23, 30))], [((0, 11), (0, 7)), ((11, 24), (7, 26)), ((24, 30), (26, 30))], [((0, 10), (0, 6)), ((10, 25), (6, 27)), ((25, 30), (27, 30))], [((0, 13), (0, 8)), ((13, 21), (8, 22)), ((21, 30), (22, 30))], [((0, 10), (0, 5)), ((10, 25), (5, 27)), ((25, 30), (27, 30))], [((0, 13), (0, 10)), ((13, 21), (10, 23)), ((21, 30), (23, 30))], [((0, 13), (0, 8)), ((13, 21), (8, 22)), ((21, 30), (22, 30))], [((0, 13), (0, 8)), ((13, 21), (8, 22)), ((21, 30), (22, 30))], [((0, 10), (0, 5)), ((10, 15), (5, 8)), ((15, 30), (8, 30))], [((0, 5), (0, 4)), ((5, 11), (4, 7)), ((11, 30), (7, 30))], [((0, 10), (0, 5)), ((10, 25), (5, 24)), ((25, 30), (24, 30))], [((0, 13), (0, 7)), ((13, 21), (7, 23)), ((21, 30), (23, 30))], [((0, 13), (0, 8)), ((13, 21), (8, 23)), ((21, 30), (23, 30))], [((0, 10), (0, 5)), ((10, 25), (5, 27)), ((25, 30), (27, 30))], [((0, 12), (0, 9)), ((12, 20), (9, 25)), ((20, 30), (25, 30))], [((0, 13), (0, 7)), ((13, 25), (7, 27)), ((25, 30), (27, 30))], [((0, 19), (0, 24)), ((19, 24), (24, 27)), ((24, 30), (27, 30))], [((0, 10), (0, 5)), ((10, 25), (5, 26)), ((25, 30), (26, 30))], [((0, 10), (0, 5)), ((10, 25), (5, 27)), ((25, 30), (27, 30))], [((0, 9), (0, 5)), ((9, 25), (5, 25)), ((25, 30), (25, 30))], [((0, 10), (0, 5)), ((10, 25), (5, 26)), ((25, 30), (26, 30))], [((0, 12), (0, 6)), ((12, 22), (6, 26)), ((22, 30), (26, 30))], [((0, 12), (0, 8)), ((12, 25), (8, 27)), ((25, 30), (27, 30))], [((0, 10), (0, 5)), ((10, 15), (5, 8)), ((15, 30), (8, 30))], [((0, 12), (0, 6)), ((12, 24), (6, 27)), ((24, 30), (27, 30))], [((0, 11), (0, 7)), ((11, 24), (7, 26)), ((24, 30), (26, 30))], [((0, 13), (0, 9)), ((13, 21), (9, 24)), ((21, 30), (24, 30))], [((0, 13), (0, 7)), ((13, 21), (7, 22)), ((21, 30), (22, 30))], [((0, 13), (0, 8)), ((13, 21), (8, 22)), ((21, 30), (22, 30))], [((0, 10), (0, 5)), ((10, 23), (5, 24)), ((23, 30), (24, 30))], [((0, 10), (0, 5)), ((10, 25), (5, 26)), ((25, 30), (26, 30))], [((0, 5), (0, 3)), ((5, 10), (3, 6)), ((10, 30), (6, 30))], [((0, 11), (0, 7)), ((11, 24), (7, 26)), ((24, 30), (26, 30))], [((0, 12), (0, 7)), ((12, 25), (7, 27)), ((25, 30), (27, 30))], [((0, 19), (0, 23)), ((19, 24), (23, 27)), ((24, 30), (27, 30))]]\n",
      "[[((0, 10), (0, 8)), ((10, 24), (8, 25)), ((24, 30), (25, 30))], [((0, 6), (0, 3)), ((6, 25), (3, 25)), ((25, 30), (25, 30))], [((0, 5), (0, 4)), ((5, 10), (4, 8)), ((10, 30), (8, 30))], [((0, 5), (0, 3)), ((5, 10), (3, 7)), ((10, 30), (7, 30))], [((0, 6), (0, 3)), ((6, 22), (3, 19)), ((22, 30), (19, 30))], [((0, 11), (0, 7)), ((11, 25), (7, 24)), ((25, 30), (24, 30))], [((0, 14), (0, 7)), ((14, 22), (7, 23)), ((22, 30), (23, 30))], [((0, 18), (0, 15)), ((18, 24), (15, 27)), ((24, 30), (27, 30))], [((0, 10), (0, 5)), ((10, 25), (5, 24)), ((25, 30), (24, 30))], [((0, 6), (0, 4)), ((6, 11), (4, 7)), ((11, 30), (7, 30))], [((0, 6), (0, 3)), ((6, 11), (3, 6)), ((11, 30), (6, 30))], [((0, 6), (0, 5)), ((6, 11), (5, 8)), ((11, 30), (8, 30))], [((0, 12), (0, 8)), ((12, 21), (8, 24)), ((21, 30), (24, 30))], [((0, 14), (0, 9)), ((14, 22), (9, 22)), ((22, 30), (22, 30))], [((0, 6), (0, 3)), ((6, 23), (3, 22)), ((23, 30), (22, 30))], [((0, 6), (0, 5)), ((6, 11), (5, 8)), ((11, 30), (8, 30))], [((0, 10), (0, 6)), ((10, 24), (6, 25)), ((24, 30), (25, 30))], [((0, 6), (0, 6)), ((6, 11), (6, 9)), ((11, 30), (9, 30))], [((0, 6), (0, 4)), ((6, 11), (4, 8)), ((11, 30), (8, 30))], [((0, 10), (0, 5)), ((10, 25), (5, 25)), ((25, 30), (25, 30))], [((0, 6), (0, 3)), ((6, 22), (3, 22)), ((22, 30), (22, 30))], [((0, 6), (0, 3)), ((6, 11), (3, 8)), ((11, 30), (8, 30))], [((0, 12), (0, 7)), ((12, 21), (7, 22)), ((21, 30), (22, 30))], [((0, 13), (0, 8)), ((13, 22), (8, 26)), ((22, 30), (26, 30))], [((0, 5), (0, 3)), ((5, 10), (3, 6)), ((10, 30), (6, 30))], [((0, 10), (0, 5)), ((10, 25), (5, 23)), ((25, 30), (23, 30))], [((0, 5), (0, 4)), ((5, 11), (4, 7)), ((11, 30), (7, 30))], [((0, 6), (0, 5)), ((6, 11), (5, 8)), ((11, 30), (8, 30))], [((0, 8), (0, 4)), ((8, 25), (4, 24)), ((25, 30), (24, 30))], [((0, 12), (0, 8)), ((12, 22), (8, 26)), ((22, 30), (26, 30))], [((0, 12), (0, 6)), ((12, 24), (6, 24)), ((24, 30), (24, 30))], [((0, 14), (0, 8)), ((14, 22), (8, 24)), ((22, 30), (24, 30))], [((0, 10), (0, 5)), ((10, 25), (5, 24)), ((25, 30), (24, 30))], [((0, 6), (0, 4)), ((6, 24), (4, 23)), ((24, 30), (23, 30))], [((0, 5), (0, 3)), ((5, 24), (3, 22)), ((24, 30), (22, 30))], [((0, 6), (0, 3)), ((6, 25), (3, 23)), ((25, 30), (23, 30))], [((0, 14), (0, 7)), ((14, 22), (7, 23)), ((22, 30), (23, 30))], [((0, 9), (0, 7)), ((9, 25), (7, 23)), ((25, 30), (23, 30))], [((0, 9), (0, 5)), ((9, 15), (5, 8)), ((15, 30), (8, 30))], [((0, 14), (0, 7)), ((14, 24), (7, 27)), ((24, 30), (27, 30))], [((0, 10), (0, 7)), ((10, 25), (7, 25)), ((25, 30), (25, 30))], [((0, 12), (0, 9)), ((12, 20), (9, 22)), ((20, 30), (22, 30))], [((0, 6), (0, 3)), ((6, 11), (3, 6)), ((11, 30), (6, 30))], [((0, 12), (0, 7)), ((12, 18), (7, 17)), ((18, 30), (17, 30))], [((0, 10), (0, 5)), ((10, 25), (5, 25)), ((25, 30), (25, 30))], [((0, 11), (0, 7)), ((11, 25), (7, 24)), ((25, 30), (24, 30))], [((0, 11), (0, 8)), ((11, 24), (8, 22)), ((24, 30), (22, 30))], [((0, 6), (0, 3)), ((6, 11), (3, 9)), ((11, 30), (9, 30))], [((0, 5), (0, 3)), ((5, 10), (3, 6)), ((10, 30), (6, 30))], [((0, 14), (0, 7)), ((14, 22), (7, 23)), ((22, 30), (23, 30))]]\n",
      "[[((0, 5), (0, 10)), ((5, 18), (10, 23)), ((18, 30), (23, 30))], [((0, 6), (0, 10)), ((6, 22), (10, 26)), ((22, 30), (26, 30))], [((0, 6), (0, 9)), ((6, 22), (9, 26)), ((22, 30), (26, 30))], [((0, 5), (0, 7)), ((5, 16), (7, 20)), ((16, 30), (20, 30))], [((0, 6), (0, 9)), ((6, 25), (9, 26)), ((25, 30), (26, 30))], [((0, 6), (0, 9)), ((6, 22), (9, 25)), ((22, 30), (25, 30))], [((0, 5), (0, 3)), ((5, 16), (3, 23)), ((16, 30), (23, 30))], [((0, 9), (0, 12)), ((9, 24), (12, 27)), ((24, 30), (27, 30))], [((0, 7), (0, 5)), ((7, 20), (5, 25)), ((20, 30), (25, 30))], [((0, 17), (0, 22)), ((17, 23), (22, 25)), ((23, 30), (25, 30))], [((0, 5), (0, 5)), ((5, 16), (5, 20)), ((16, 30), (20, 30))], [((0, 17), (0, 22)), ((17, 23), (22, 25)), ((23, 30), (25, 30))], [((0, 18), (0, 24)), ((18, 24), (24, 27)), ((24, 30), (27, 30))], [((0, 17), (0, 22)), ((17, 23), (22, 25)), ((23, 30), (25, 30))], [((0, 7), (0, 11)), ((7, 22), (11, 26)), ((22, 30), (26, 30))], [((0, 17), (0, 22)), ((17, 23), (22, 25)), ((23, 30), (25, 30))], [((0, 5), (0, 8)), ((5, 20), (8, 25)), ((20, 30), (25, 30))], [((0, 5), (0, 8)), ((5, 12), (8, 17)), ((12, 30), (17, 30))], [((0, 16), (0, 21)), ((16, 24), (21, 25)), ((24, 30), (25, 30))], [((0, 5), (0, 4)), ((5, 20), (4, 25)), ((20, 30), (25, 30))], [((0, 6), (0, 10)), ((6, 17), (10, 23)), ((17, 30), (23, 30))], [((0, 5), (0, 4)), ((5, 16), (4, 21)), ((16, 30), (21, 30))], [((0, 17), (0, 22)), ((17, 23), (22, 25)), ((23, 30), (25, 30))], [((0, 8), (0, 8)), ((8, 22), (8, 26)), ((22, 30), (26, 30))], [((0, 6), (0, 8)), ((6, 20), (8, 24)), ((20, 30), (24, 30))], [((0, 6), (0, 4)), ((6, 22), (4, 26)), ((22, 30), (26, 30))], [((0, 5), (0, 5)), ((5, 16), (5, 21)), ((16, 30), (21, 30))], [((0, 6), (0, 7)), ((6, 16), (7, 21)), ((16, 30), (21, 30))], [((0, 5), (0, 4)), ((5, 20), (4, 25)), ((20, 30), (25, 30))], [((0, 5), (0, 8)), ((5, 22), (8, 26)), ((22, 30), (26, 30))], [((0, 17), (0, 20)), ((17, 22), (20, 23)), ((22, 30), (23, 30))], [((0, 18), (0, 24)), ((18, 24), (24, 27)), ((24, 30), (27, 30))], [((0, 5), (0, 3)), ((5, 20), (3, 25)), ((20, 30), (25, 30))], [((0, 6), (0, 9)), ((6, 22), (9, 26)), ((22, 30), (26, 30))], [((0, 7), (0, 10)), ((7, 24), (10, 27)), ((24, 30), (27, 30))], [((0, 7), (0, 10)), ((7, 22), (10, 25)), ((22, 30), (25, 30))], [((0, 19), (0, 23)), ((19, 25), (23, 26)), ((25, 30), (26, 30))], [((0, 6), (0, 10)), ((6, 25), (10, 27)), ((25, 30), (27, 30))], [((0, 8), (0, 8)), ((8, 22), (8, 26)), ((22, 30), (26, 30))], [((0, 5), (0, 3)), ((5, 16), (3, 22)), ((16, 30), (22, 30))], [((0, 5), (0, 8)), ((5, 21), (8, 25)), ((21, 30), (25, 30))], [((0, 16), (0, 23)), ((16, 22), (23, 26)), ((22, 30), (26, 30))], [((0, 16), (0, 20)), ((16, 22), (20, 23)), ((22, 30), (23, 30))], [((0, 16), (0, 21)), ((16, 22), (21, 24)), ((22, 30), (24, 30))], [((0, 5), (0, 4)), ((5, 20), (4, 25)), ((20, 30), (25, 30))], [((0, 7), (0, 10)), ((7, 24), (10, 27)), ((24, 30), (27, 30))], [((0, 9), (0, 12)), ((9, 22), (12, 25)), ((22, 30), (25, 30))], [((0, 5), (0, 8)), ((5, 18), (8, 22)), ((18, 30), (22, 30))], [((0, 7), (0, 10)), ((7, 24), (10, 27)), ((24, 30), (27, 30))], [((0, 6), (0, 5)), ((6, 16), (5, 23)), ((16, 30), (23, 30))]]\n",
      "[[((0, 5), (0, 3)), ((5, 25), (3, 25)), ((25, 30), (25, 30))], [((0, 11), (0, 9)), ((11, 25), (9, 22)), ((25, 30), (22, 30))], [((0, 6), (0, 3)), ((6, 24), (3, 22)), ((24, 30), (22, 30))], [((0, 12), (0, 9)), ((12, 25), (9, 22)), ((25, 30), (22, 30))], [((0, 6), (0, 3)), ((6, 23), (3, 19)), ((23, 30), (19, 30))], [((0, 6), (0, 4)), ((6, 20), (4, 16)), ((20, 30), (16, 30))], [((0, 13), (0, 7)), ((13, 24), (7, 27)), ((24, 30), (27, 30))], [((0, 20), (0, 18)), ((20, 25), (18, 27)), ((25, 30), (27, 30))], [((0, 10), (0, 5)), ((10, 25), (5, 23)), ((25, 30), (23, 30))], [((0, 6), (0, 5)), ((6, 12), (5, 8)), ((12, 30), (8, 30))], [((0, 8), (0, 5)), ((8, 13), (5, 8)), ((13, 30), (8, 30))], [((0, 6), (0, 5)), ((6, 12), (5, 8)), ((12, 30), (8, 30))], [((0, 13), (0, 10)), ((13, 24), (10, 27)), ((24, 30), (27, 30))], [((0, 10), (0, 5)), ((10, 15), (5, 10)), ((15, 30), (10, 30))], [((0, 7), (0, 6)), ((7, 20), (6, 17)), ((20, 30), (17, 30))], [((0, 6), (0, 5)), ((6, 12), (5, 8)), ((12, 30), (8, 30))], [((0, 11), (0, 7)), ((11, 25), (7, 24)), ((25, 30), (24, 30))], [((0, 5), (0, 3)), ((5, 10), (3, 7)), ((10, 30), (7, 30))], [((0, 6), (0, 5)), ((6, 12), (5, 8)), ((12, 30), (8, 30))], [((0, 14), (0, 7)), ((14, 25), (7, 26)), ((25, 30), (26, 30))], [((0, 9), (0, 7)), ((9, 15), (7, 13)), ((15, 30), (13, 30))], [((0, 8), (0, 4)), ((8, 15), (4, 10)), ((15, 30), (10, 30))], [((0, 6), (0, 5)), ((6, 12), (5, 8)), ((12, 30), (8, 30))], [((0, 9), (0, 5)), ((9, 15), (5, 8)), ((15, 30), (8, 30))], [((0, 8), (0, 5)), ((8, 24), (5, 20)), ((24, 30), (20, 30))], [((0, 18), (0, 9)), ((18, 25), (9, 23)), ((25, 30), (23, 30))], [((0, 10), (0, 5)), ((10, 15), (5, 10)), ((15, 30), (10, 30))], [((0, 6), (0, 5)), ((6, 12), (5, 8)), ((12, 30), (8, 30))], [((0, 10), (0, 5)), ((10, 25), (5, 23)), ((25, 30), (23, 30))], [((0, 6), (0, 6)), ((6, 12), (6, 9)), ((12, 30), (9, 30))], [((0, 10), (0, 5)), ((10, 15), (5, 10)), ((15, 30), (10, 30))], [((0, 13), (0, 7)), ((13, 23), (7, 25)), ((23, 30), (25, 30))], [((0, 10), (0, 5)), ((10, 25), (5, 23)), ((25, 30), (23, 30))], [((0, 11), (0, 8)), ((11, 25), (8, 22)), ((25, 30), (22, 30))], [((0, 9), (0, 5)), ((9, 25), (5, 23)), ((25, 30), (23, 30))], [((0, 6), (0, 4)), ((6, 20), (4, 16)), ((20, 30), (16, 30))], [((0, 14), (0, 7)), ((14, 25), (7, 27)), ((25, 30), (27, 30))], [((0, 6), (0, 4)), ((6, 20), (4, 17)), ((20, 30), (17, 30))], [((0, 9), (0, 5)), ((9, 15), (5, 8)), ((15, 30), (8, 30))], [((0, 14), (0, 7)), ((14, 25), (7, 27)), ((25, 30), (27, 30))], [((0, 5), (0, 3)), ((5, 10), (3, 6)), ((10, 30), (6, 30))], [((0, 6), (0, 6)), ((6, 12), (6, 9)), ((12, 30), (9, 30))], [((0, 10), (0, 5)), ((10, 15), (5, 10)), ((15, 30), (10, 30))], [((0, 6), (0, 5)), ((6, 12), (5, 8)), ((12, 30), (8, 30))], [((0, 10), (0, 5)), ((10, 25), (5, 24)), ((25, 30), (24, 30))], [((0, 9), (0, 5)), ((9, 25), (5, 23)), ((25, 30), (23, 30))], [((0, 8), (0, 5)), ((8, 24), (5, 20)), ((24, 30), (20, 30))], [((0, 11), (0, 8)), ((11, 25), (8, 22)), ((25, 30), (22, 30))], [((0, 8), (0, 5)), ((8, 24), (5, 20)), ((24, 30), (20, 30))], [((0, 6), (0, 3)), ((6, 12), (3, 6)), ((12, 30), (6, 30))]]\n",
      "[[((0, 17), (0, 21)), ((17, 25), (21, 27)), ((25, 30), (27, 30))], [((0, 5), (0, 5)), ((5, 20), (5, 24)), ((20, 30), (24, 30))], [((0, 5), (0, 4)), ((5, 20), (4, 25)), ((20, 30), (25, 30))], [((0, 6), (0, 5)), ((6, 21), (5, 25)), ((21, 30), (25, 30))], [((0, 5), (0, 3)), ((5, 21), (3, 25)), ((21, 30), (25, 30))], [((0, 5), (0, 4)), ((5, 21), (4, 24)), ((21, 30), (24, 30))], [((0, 8), (0, 4)), ((8, 18), (4, 24)), ((18, 30), (24, 30))], [((0, 11), (0, 15)), ((11, 24), (15, 27)), ((24, 30), (27, 30))], [((0, 10), (0, 5)), ((10, 20), (5, 25)), ((20, 30), (25, 30))], [((0, 9), (0, 8)), ((9, 17), (8, 22)), ((17, 30), (22, 30))], [((0, 7), (0, 4)), ((7, 16), (4, 19)), ((16, 30), (19, 30))], [((0, 10), (0, 9)), ((10, 18), (9, 23)), ((18, 30), (23, 30))], [((0, 19), (0, 24)), ((19, 25), (24, 27)), ((25, 30), (27, 30))], [((0, 9), (0, 7)), ((9, 17), (7, 22)), ((17, 30), (22, 30))], [((0, 7), (0, 8)), ((7, 21), (8, 25)), ((21, 30), (25, 30))], [((0, 9), (0, 8)), ((9, 17), (8, 22)), ((17, 30), (22, 30))], [((0, 19), (0, 22)), ((19, 25), (22, 26)), ((25, 30), (26, 30))], [((0, 6), (0, 7)), ((6, 19), (7, 23)), ((19, 30), (23, 30))], [((0, 9), (0, 8)), ((9, 17), (8, 22)), ((17, 30), (22, 30))], [((0, 9), (0, 5)), ((9, 19), (5, 24)), ((19, 30), (24, 30))], [((0, 19), (0, 23)), ((19, 25), (23, 26)), ((25, 30), (26, 30))], [((0, 6), (0, 3)), ((6, 18), (3, 23)), ((18, 30), (23, 30))], [((0, 9), (0, 8)), ((9, 17), (8, 22)), ((17, 30), (22, 30))], [((0, 6), (0, 5)), ((6, 11), (5, 8)), ((11, 30), (8, 30))], [((0, 5), (0, 5)), ((5, 23), (5, 25)), ((23, 30), (25, 30))], [((0, 10), (0, 5)), ((10, 20), (5, 25)), ((20, 30), (25, 30))], [((0, 10), (0, 9)), ((10, 18), (9, 23)), ((18, 30), (23, 30))], [((0, 9), (0, 8)), ((9, 17), (8, 22)), ((17, 30), (22, 30))], [((0, 10), (0, 5)), ((10, 20), (5, 25)), ((20, 30), (25, 30))], [((0, 7), (0, 8)), ((7, 22), (8, 26)), ((22, 30), (26, 30))], [((0, 9), (0, 7)), ((9, 19), (7, 24)), ((19, 30), (24, 30))], [((0, 19), (0, 24)), ((19, 25), (24, 27)), ((25, 30), (27, 30))], [((0, 9), (0, 5)), ((9, 21), (5, 25)), ((21, 30), (25, 30))], [((0, 5), (0, 6)), ((5, 23), (6, 26)), ((23, 30), (26, 30))], [((0, 8), (0, 8)), ((8, 20), (8, 24)), ((20, 30), (24, 30))], [((0, 5), (0, 4)), ((5, 23), (4, 26)), ((23, 30), (26, 30))], [((0, 17), (0, 23)), ((17, 22), (23, 26)), ((22, 30), (26, 30))], [((0, 5), (0, 5)), ((5, 21), (5, 25)), ((21, 30), (25, 30))], [((0, 6), (0, 5)), ((6, 11), (5, 8)), ((11, 30), (8, 30))], [((0, 8), (0, 4)), ((8, 18), (4, 24)), ((18, 30), (24, 30))], [((0, 5), (0, 4)), ((5, 20), (4, 25)), ((20, 30), (25, 30))], [((0, 9), (0, 9)), ((9, 16), (9, 22)), ((16, 30), (22, 30))], [((0, 9), (0, 7)), ((9, 18), (7, 22)), ((18, 30), (22, 30))], [((0, 9), (0, 8)), ((9, 17), (8, 21)), ((17, 30), (21, 30))], [((0, 9), (0, 5)), ((9, 19), (5, 24)), ((19, 30), (24, 30))], [((0, 6), (0, 5)), ((6, 21), (5, 25)), ((21, 30), (25, 30))], [((0, 5), (0, 5)), ((5, 23), (5, 26)), ((23, 30), (26, 30))], [((0, 5), (0, 5)), ((5, 20), (5, 24)), ((20, 30), (24, 30))], [((0, 5), (0, 5)), ((5, 23), (5, 25)), ((23, 30), (25, 30))], [((0, 8), (0, 5)), ((8, 18), (5, 24)), ((18, 30), (24, 30))]]\n",
      "[[((0, 18), (0, 19)), ((18, 24), (19, 22)), ((24, 30), (22, 30))], [((0, 19), (0, 18)), ((19, 24), (18, 21)), ((24, 30), (21, 30))], [((0, 5), (0, 7)), ((5, 25), (7, 24)), ((25, 30), (24, 30))], [((0, 5), (0, 6)), ((5, 25), (6, 23)), ((25, 30), (23, 30))], [((0, 18), (0, 16)), ((18, 24), (16, 19)), ((24, 30), (19, 30))], [((0, 18), (0, 17)), ((18, 24), (17, 20)), ((24, 30), (20, 30))], [((0, 15), (0, 13)), ((15, 20), (13, 21)), ((20, 30), (21, 30))], [((0, 7), (0, 7)), ((7, 12), (7, 16)), ((12, 30), (16, 30))], [((0, 6), (0, 3)), ((6, 24), (3, 21)), ((24, 30), (21, 30))], [((0, 5), (0, 3)), ((5, 25), (3, 27)), ((25, 30), (27, 30))], [((0, 5), (0, 3)), ((5, 25), (3, 25)), ((25, 30), (25, 30))], [((0, 5), (0, 4)), ((5, 25), (4, 27)), ((25, 30), (27, 30))], [((0, 5), (0, 4)), ((5, 11), (4, 16)), ((11, 30), (16, 30))], [((0, 5), (0, 4)), ((5, 16), (4, 16)), ((16, 30), (16, 30))], [((0, 18), (0, 18)), ((18, 24), (18, 21)), ((24, 30), (21, 30))], [((0, 5), (0, 4)), ((5, 25), (4, 27)), ((25, 30), (27, 30))], [((0, 8), (0, 10)), ((8, 14), (10, 13)), ((14, 30), (13, 30))], [((0, 18), (0, 18)), ((18, 24), (18, 21)), ((24, 30), (21, 30))], [((0, 5), (0, 4)), ((5, 25), (4, 26)), ((25, 30), (26, 30))], [((0, 15), (0, 10)), ((15, 20), (10, 18)), ((20, 30), (18, 30))], [((0, 7), (0, 9)), ((7, 25), (9, 26)), ((25, 30), (26, 30))], [((0, 19), (0, 18)), ((19, 25), (18, 24)), ((25, 30), (24, 30))], [((0, 5), (0, 4)), ((5, 25), (4, 27)), ((25, 30), (27, 30))], [((0, 13), (0, 12)), ((13, 19), (12, 24)), ((19, 30), (24, 30))], [((0, 5), (0, 6)), ((5, 25), (6, 23)), ((25, 30), (23, 30))], [((0, 12), (0, 7)), ((12, 22), (7, 18)), ((22, 30), (18, 30))], [((0, 18), (0, 18)), ((18, 23), (18, 22)), ((23, 30), (22, 30))], [((0, 5), (0, 4)), ((5, 25), (4, 27)), ((25, 30), (27, 30))], [((0, 12), (0, 7)), ((12, 25), (7, 24)), ((25, 30), (24, 30))], [((0, 11), (0, 14)), ((11, 16), (14, 22)), ((16, 30), (22, 30))], [((0, 5), (0, 4)), ((5, 25), (4, 23)), ((25, 30), (23, 30))], [((0, 15), (0, 13)), ((15, 24), (13, 26)), ((24, 30), (26, 30))], [((0, 11), (0, 7)), ((11, 16), (7, 11)), ((16, 30), (11, 30))], [((0, 5), (0, 7)), ((5, 25), (7, 24)), ((25, 30), (24, 30))], [((0, 18), (0, 17)), ((18, 24), (17, 20)), ((24, 30), (20, 30))], [((0, 19), (0, 17)), ((19, 24), (17, 20)), ((24, 30), (20, 30))], [((0, 6), (0, 5)), ((6, 24), (5, 25)), ((24, 30), (25, 30))], [((0, 17), (0, 17)), ((17, 25), (17, 21)), ((25, 30), (21, 30))], [((0, 13), (0, 12)), ((13, 19), (12, 24)), ((19, 30), (24, 30))], [((0, 15), (0, 11)), ((15, 20), (11, 20)), ((20, 30), (20, 30))], [((0, 19), (0, 19)), ((19, 25), (19, 22)), ((25, 30), (22, 30))], [((0, 5), (0, 4)), ((5, 10), (4, 14)), ((10, 30), (14, 30))], [((0, 5), (0, 3)), ((5, 25), (3, 25)), ((25, 30), (25, 30))], [((0, 5), (0, 4)), ((5, 25), (4, 26)), ((25, 30), (26, 30))], [((0, 6), (0, 3)), ((6, 24), (3, 22)), ((24, 30), (22, 30))], [((0, 18), (0, 17)), ((18, 24), (17, 20)), ((24, 30), (20, 30))], [((0, 18), (0, 17)), ((18, 24), (17, 20)), ((24, 30), (20, 30))], [((0, 18), (0, 18)), ((18, 24), (18, 21)), ((24, 30), (21, 30))], [((0, 18), (0, 17)), ((18, 24), (17, 20)), ((24, 30), (20, 30))], [((0, 7), (0, 5)), ((7, 13), (5, 17)), ((13, 30), (17, 30))]]\n",
      "[[((0, 19), (0, 19)), ((19, 25), (19, 22)), ((25, 30), (22, 30))], [((0, 19), (0, 17)), ((19, 25), (17, 20)), ((25, 30), (20, 30))], [((0, 19), (0, 18)), ((19, 25), (18, 21)), ((25, 30), (21, 30))], [((0, 19), (0, 17)), ((19, 25), (17, 20)), ((25, 30), (20, 30))], [((0, 15), (0, 9)), ((15, 21), (9, 12)), ((21, 30), (12, 30))], [((0, 19), (0, 17)), ((19, 25), (17, 20)), ((25, 30), (20, 30))], [((0, 13), (0, 11)), ((13, 23), (11, 16)), ((23, 30), (16, 30))], [((0, 5), (0, 5)), ((5, 20), (5, 21)), ((20, 30), (21, 30))], [((0, 12), (0, 8)), ((12, 18), (8, 11)), ((18, 30), (11, 30))], [((0, 15), (0, 15)), ((15, 25), (15, 20)), ((25, 30), (20, 30))], [((0, 15), (0, 8)), ((15, 20), (8, 11)), ((20, 30), (11, 30))], [((0, 15), (0, 15)), ((15, 25), (15, 20)), ((25, 30), (20, 30))], [((0, 15), (0, 14)), ((15, 25), (14, 20)), ((25, 30), (20, 30))], [((0, 20), (0, 18)), ((20, 25), (18, 21)), ((25, 30), (21, 30))], [((0, 19), (0, 18)), ((19, 25), (18, 21)), ((25, 30), (21, 30))], [((0, 8), (0, 8)), ((8, 16), (8, 12)), ((16, 30), (12, 30))], [((0, 19), (0, 18)), ((19, 25), (18, 21)), ((25, 30), (21, 30))], [((0, 19), (0, 18)), ((19, 25), (18, 21)), ((25, 30), (21, 30))], [((0, 8), (0, 8)), ((8, 16), (8, 12)), ((16, 30), (12, 30))], [((0, 12), (0, 8)), ((12, 18), (8, 11)), ((18, 30), (11, 30))], [((0, 19), (0, 19)), ((19, 25), (19, 22)), ((25, 30), (22, 30))], [((0, 19), (0, 18)), ((19, 25), (18, 21)), ((25, 30), (21, 30))], [((0, 8), (0, 8)), ((8, 16), (8, 12)), ((16, 30), (12, 30))], [((0, 17), (0, 17)), ((17, 25), (17, 21)), ((25, 30), (21, 30))], [((0, 19), (0, 17)), ((19, 25), (17, 20)), ((25, 30), (20, 30))], [((0, 19), (0, 15)), ((19, 24), (15, 18)), ((24, 30), (18, 30))], [((0, 20), (0, 18)), ((20, 25), (18, 21)), ((25, 30), (21, 30))], [((0, 19), (0, 18)), ((19, 25), (18, 21)), ((25, 30), (21, 30))], [((0, 12), (0, 8)), ((12, 18), (8, 11)), ((18, 30), (11, 30))], [((0, 12), (0, 14)), ((12, 25), (14, 21)), ((25, 30), (21, 30))], [((0, 10), (0, 7)), ((10, 16), (7, 10)), ((16, 30), (10, 30))], [((0, 16), (0, 14)), ((16, 24), (14, 18)), ((24, 30), (18, 30))], [((0, 12), (0, 8)), ((12, 18), (8, 11)), ((18, 30), (11, 30))], [((0, 19), (0, 18)), ((19, 25), (18, 21)), ((25, 30), (21, 30))], [((0, 19), (0, 17)), ((19, 25), (17, 20)), ((25, 30), (20, 30))], [((0, 19), (0, 17)), ((19, 25), (17, 20)), ((25, 30), (20, 30))], [((0, 13), (0, 11)), ((13, 23), (11, 16)), ((23, 30), (16, 30))], [((0, 19), (0, 17)), ((19, 25), (17, 20)), ((25, 30), (20, 30))], [((0, 15), (0, 14)), ((15, 25), (14, 21)), ((25, 30), (21, 30))], [((0, 17), (0, 14)), ((17, 23), (14, 17)), ((23, 30), (17, 30))], [((0, 19), (0, 18)), ((19, 25), (18, 21)), ((25, 30), (21, 30))], [((0, 15), (0, 14)), ((15, 25), (14, 20)), ((25, 30), (20, 30))], [((0, 19), (0, 17)), ((19, 25), (17, 20)), ((25, 30), (20, 30))], [((0, 19), (0, 18)), ((19, 25), (18, 21)), ((25, 30), (21, 30))], [((0, 12), (0, 8)), ((12, 18), (8, 11)), ((18, 30), (11, 30))], [((0, 19), (0, 17)), ((19, 25), (17, 20)), ((25, 30), (20, 30))], [((0, 19), (0, 17)), ((19, 25), (17, 20)), ((25, 30), (20, 30))], [((0, 19), (0, 18)), ((19, 25), (18, 21)), ((25, 30), (21, 30))], [((0, 19), (0, 17)), ((19, 25), (17, 20)), ((25, 30), (20, 30))], [((0, 15), (0, 12)), ((15, 23), (12, 16)), ((23, 30), (16, 30))]]\n",
      "[[((0, 6), (0, 12)), ((6, 25), (12, 25)), ((25, 30), (25, 30))], [((0, 6), (0, 11)), ((6, 24), (11, 22)), ((24, 30), (22, 30))], [((0, 5), (0, 10)), ((5, 25), (10, 25)), ((25, 30), (25, 30))], [((0, 5), (0, 9)), ((5, 25), (9, 24)), ((25, 30), (24, 30))], [((0, 5), (0, 8)), ((5, 25), (8, 23)), ((25, 30), (23, 30))], [((0, 5), (0, 10)), ((5, 25), (10, 23)), ((25, 30), (23, 30))], [((0, 14), (0, 16)), ((14, 19), (16, 22)), ((19, 30), (22, 30))], [((0, 8), (0, 12)), ((8, 13), (12, 18)), ((13, 30), (18, 30))], [((0, 11), (0, 11)), ((11, 25), (11, 25)), ((25, 30), (25, 30))], [((0, 10), (0, 15)), ((10, 18), (15, 20)), ((18, 30), (20, 30))], [((0, 6), (0, 9)), ((6, 25), (9, 24)), ((25, 30), (24, 30))], [((0, 9), (0, 13)), ((9, 21), (13, 23)), ((21, 30), (23, 30))], [((0, 10), (0, 17)), ((10, 16), (17, 21)), ((16, 30), (21, 30))], [((0, 10), (0, 15)), ((10, 15), (15, 18)), ((15, 30), (18, 30))], [((0, 6), (0, 12)), ((6, 25), (12, 23)), ((25, 30), (23, 30))], [((0, 5), (0, 8)), ((5, 25), (8, 27)), ((25, 30), (27, 30))], [((0, 5), (0, 10)), ((5, 23), (10, 23)), ((23, 30), (23, 30))], [((0, 6), (0, 12)), ((6, 25), (12, 23)), ((25, 30), (23, 30))], [((0, 5), (0, 8)), ((5, 25), (8, 26)), ((25, 30), (26, 30))], [((0, 5), (0, 5)), ((5, 11), (5, 13)), ((11, 30), (13, 30))], [((0, 5), (0, 10)), ((5, 25), (10, 26)), ((25, 30), (26, 30))], [((0, 5), (0, 8)), ((5, 25), (8, 26)), ((25, 30), (26, 30))], [((0, 9), (0, 13)), ((9, 15), (13, 18)), ((15, 30), (18, 30))], [((0, 13), (0, 15)), ((13, 18), (15, 24)), ((18, 30), (24, 30))], [((0, 5), (0, 8)), ((5, 25), (8, 23)), ((25, 30), (23, 30))], [((0, 18), (0, 16)), ((18, 25), (16, 23)), ((25, 30), (23, 30))], [((0, 10), (0, 15)), ((10, 15), (15, 18)), ((15, 30), (18, 30))], [((0, 9), (0, 13)), ((9, 24), (13, 25)), ((24, 30), (25, 30))], [((0, 12), (0, 11)), ((12, 17), (11, 17)), ((17, 30), (17, 30))], [((0, 10), (0, 17)), ((10, 18), (17, 24)), ((18, 30), (24, 30))], [((0, 5), (0, 7)), ((5, 25), (7, 25)), ((25, 30), (25, 30))], [((0, 14), (0, 16)), ((14, 19), (16, 24)), ((19, 30), (24, 30))], [((0, 11), (0, 11)), ((11, 23), (11, 22)), ((23, 30), (22, 30))], [((0, 5), (0, 10)), ((5, 25), (10, 25)), ((25, 30), (25, 30))], [((0, 5), (0, 10)), ((5, 25), (10, 23)), ((25, 30), (23, 30))], [((0, 5), (0, 10)), ((5, 25), (10, 22)), ((25, 30), (22, 30))], [((0, 19), (0, 22)), ((19, 24), (22, 27)), ((24, 30), (27, 30))], [((0, 6), (0, 11)), ((6, 25), (11, 23)), ((25, 30), (23, 30))], [((0, 12), (0, 15)), ((12, 18), (15, 24)), ((18, 30), (24, 30))], [((0, 14), (0, 17)), ((14, 19), (17, 21)), ((19, 30), (21, 30))], [((0, 6), (0, 11)), ((6, 25), (11, 24)), ((25, 30), (24, 30))], [((0, 9), (0, 15)), ((9, 21), (15, 24)), ((21, 30), (24, 30))], [((0, 5), (0, 7)), ((5, 25), (7, 25)), ((25, 30), (25, 30))], [((0, 5), (0, 8)), ((5, 25), (8, 26)), ((25, 30), (26, 30))], [((0, 11), (0, 11)), ((11, 17), (11, 17)), ((17, 30), (17, 30))], [((0, 5), (0, 10)), ((5, 25), (10, 23)), ((25, 30), (23, 30))], [((0, 5), (0, 10)), ((5, 25), (10, 23)), ((25, 30), (23, 30))], [((0, 5), (0, 9)), ((5, 25), (9, 24)), ((25, 30), (24, 30))], [((0, 5), (0, 10)), ((5, 25), (10, 23)), ((25, 30), (23, 30))], [((0, 16), (0, 20)), ((16, 21), (20, 25)), ((21, 30), (25, 30))]]\n",
      "[[((0, 7), (0, 13)), ((7, 21), (13, 23)), ((21, 30), (23, 30))], [((0, 7), (0, 12)), ((7, 21), (12, 22)), ((21, 30), (22, 30))], [((0, 5), (0, 10)), ((5, 21), (10, 22)), ((21, 30), (22, 30))], [((0, 6), (0, 10)), ((6, 20), (10, 21)), ((20, 30), (21, 30))], [((0, 6), (0, 10)), ((6, 22), (10, 21)), ((22, 30), (21, 30))], [((0, 7), (0, 11)), ((7, 21), (11, 21)), ((21, 30), (21, 30))], [((0, 18), (0, 23)), ((18, 24), (23, 26)), ((24, 30), (26, 30))], [((0, 11), (0, 15)), ((11, 16), (15, 23)), ((16, 30), (23, 30))], [((0, 10), (0, 9)), ((10, 17), (9, 18)), ((17, 30), (18, 30))], [((0, 5), (0, 7)), ((5, 20), (7, 23)), ((20, 30), (23, 30))], [((0, 13), (0, 17)), ((13, 23), (17, 22)), ((23, 30), (22, 30))], [((0, 10), (0, 14)), ((10, 16), (14, 20)), ((16, 30), (20, 30))], [((0, 11), (0, 19)), ((11, 16), (19, 22)), ((16, 30), (22, 30))], [((0, 10), (0, 13)), ((10, 15), (13, 19)), ((15, 30), (19, 30))], [((0, 7), (0, 12)), ((7, 21), (12, 22)), ((21, 30), (22, 30))], [((0, 5), (0, 7)), ((5, 10), (7, 15)), ((10, 30), (15, 30))], [((0, 6), (0, 10)), ((6, 11), (10, 14)), ((11, 30), (14, 30))], [((0, 9), (0, 15)), ((9, 21), (15, 22)), ((21, 30), (22, 30))], [((0, 9), (0, 12)), ((9, 15), (12, 19)), ((15, 30), (19, 30))], [((0, 11), (0, 10)), ((11, 17), (10, 19)), ((17, 30), (19, 30))], [((0, 9), (0, 15)), ((9, 21), (15, 24)), ((21, 30), (24, 30))], [((0, 11), (0, 16)), ((11, 16), (16, 19)), ((16, 30), (19, 30))], [((0, 9), (0, 12)), ((9, 15), (12, 19)), ((15, 30), (19, 30))], [((0, 12), (0, 15)), ((12, 18), (15, 24)), ((18, 30), (24, 30))], [((0, 6), (0, 10)), ((6, 22), (10, 21)), ((22, 30), (21, 30))], [((0, 10), (0, 9)), ((10, 15), (9, 15)), ((15, 30), (15, 30))], [((0, 10), (0, 13)), ((10, 15), (13, 19)), ((15, 30), (19, 30))], [((0, 9), (0, 12)), ((9, 15), (12, 19)), ((15, 30), (19, 30))], [((0, 7), (0, 6)), ((7, 14), (6, 16)), ((14, 30), (16, 30))], [((0, 11), (0, 19)), ((11, 18), (19, 24)), ((18, 30), (24, 30))], [((0, 6), (0, 8)), ((6, 11), (8, 12)), ((11, 30), (12, 30))], [((0, 18), (0, 24)), ((18, 24), (24, 27)), ((24, 30), (27, 30))], [((0, 11), (0, 10)), ((11, 17), (10, 18)), ((17, 30), (18, 30))], [((0, 5), (0, 10)), ((5, 21), (10, 23)), ((21, 30), (23, 30))], [((0, 9), (0, 15)), ((9, 21), (15, 21)), ((21, 30), (21, 30))], [((0, 7), (0, 11)), ((7, 21), (11, 21)), ((21, 30), (21, 30))], [((0, 19), (0, 23)), ((19, 25), (23, 26)), ((25, 30), (26, 30))], [((0, 9), (0, 15)), ((9, 21), (15, 21)), ((21, 30), (21, 30))], [((0, 12), (0, 15)), ((12, 18), (15, 24)), ((18, 30), (24, 30))], [((0, 11), (0, 12)), ((11, 16), (12, 20)), ((16, 30), (20, 30))], [((0, 9), (0, 15)), ((9, 21), (15, 22)), ((21, 30), (22, 30))], [((0, 9), (0, 14)), ((9, 14), (14, 20)), ((14, 30), (20, 30))], [((0, 9), (0, 11)), ((9, 16), (11, 18)), ((16, 30), (18, 30))], [((0, 9), (0, 12)), ((9, 16), (12, 19)), ((16, 30), (19, 30))], [((0, 10), (0, 9)), ((10, 17), (9, 19)), ((17, 30), (19, 30))], [((0, 6), (0, 10)), ((6, 21), (10, 21)), ((21, 30), (21, 30))], [((0, 20), (0, 23)), ((20, 25), (23, 27)), ((25, 30), (27, 30))], [((0, 9), (0, 15)), ((9, 20), (15, 21)), ((20, 30), (21, 30))], [((0, 6), (0, 10)), ((6, 21), (10, 21)), ((21, 30), (21, 30))], [((0, 12), (0, 13)), ((12, 18), (13, 23)), ((18, 30), (23, 30))]]\n",
      "[[((0, 5), (0, 10)), ((5, 12), (10, 15)), ((12, 30), (15, 30))], [((0, 6), (0, 10)), ((6, 12), (10, 13)), ((12, 30), (13, 30))], [((0, 6), (0, 9)), ((6, 19), (9, 20)), ((19, 30), (20, 30))], [((0, 5), (0, 8)), ((5, 12), (8, 13)), ((12, 30), (13, 30))], [((0, 5), (0, 8)), ((5, 15), (8, 14)), ((15, 30), (14, 30))], [((0, 6), (0, 9)), ((6, 12), (9, 12)), ((12, 30), (12, 30))], [((0, 18), (0, 22)), ((18, 25), (22, 26)), ((25, 30), (26, 30))], [((0, 15), (0, 15)), ((15, 20), (15, 25)), ((20, 30), (25, 30))], [((0, 9), (0, 6)), ((9, 25), (6, 27)), ((25, 30), (27, 30))], [((0, 19), (0, 21)), ((19, 24), (21, 26)), ((24, 30), (26, 30))], [((0, 14), (0, 14)), ((14, 25), (14, 25)), ((25, 30), (25, 30))], [((0, 20), (0, 22)), ((20, 25), (22, 27)), ((25, 30), (27, 30))], [((0, 20), (0, 24)), ((20, 25), (24, 27)), ((25, 30), (27, 30))], [((0, 20), (0, 22)), ((20, 25), (22, 27)), ((25, 30), (27, 30))], [((0, 5), (0, 10)), ((5, 11), (10, 13)), ((11, 30), (13, 30))], [((0, 19), (0, 21)), ((19, 25), (21, 27)), ((25, 30), (27, 30))], [((0, 5), (0, 8)), ((5, 14), (8, 15)), ((14, 30), (15, 30))], [((0, 5), (0, 9)), ((5, 12), (9, 14)), ((12, 30), (14, 30))], [((0, 20), (0, 22)), ((20, 25), (22, 27)), ((25, 30), (27, 30))], [((0, 12), (0, 9)), ((12, 24), (9, 26)), ((24, 30), (26, 30))], [((0, 5), (0, 9)), ((5, 18), (9, 20)), ((18, 30), (20, 30))], [((0, 15), (0, 15)), ((15, 25), (15, 27)), ((25, 30), (27, 30))], [((0, 20), (0, 22)), ((20, 25), (22, 27)), ((25, 30), (27, 30))], [((0, 15), (0, 15)), ((15, 20), (15, 25)), ((20, 30), (25, 30))], [((0, 5), (0, 8)), ((5, 19), (8, 18)), ((19, 30), (18, 30))], [((0, 14), (0, 9)), ((14, 25), (9, 26)), ((25, 30), (26, 30))], [((0, 18), (0, 20)), ((18, 25), (20, 27)), ((25, 30), (27, 30))], [((0, 20), (0, 22)), ((20, 25), (22, 27)), ((25, 30), (27, 30))], [((0, 7), (0, 4)), ((7, 25), (4, 26)), ((25, 30), (26, 30))], [((0, 18), (0, 24)), ((18, 24), (24, 27)), ((24, 30), (27, 30))], [((0, 12), (0, 12)), ((12, 17), (12, 17)), ((17, 30), (17, 30))], [((0, 19), (0, 24)), ((19, 25), (24, 27)), ((25, 30), (27, 30))], [((0, 6), (0, 3)), ((6, 25), (3, 25)), ((25, 30), (25, 30))], [((0, 6), (0, 9)), ((6, 19), (9, 19)), ((19, 30), (19, 30))], [((0, 6), (0, 10)), ((6, 12), (10, 13)), ((12, 30), (13, 30))], [((0, 6), (0, 8)), ((6, 18), (8, 17)), ((18, 30), (17, 30))], [((0, 20), (0, 23)), ((20, 25), (23, 26)), ((25, 30), (26, 30))], [((0, 6), (0, 10)), ((6, 12), (10, 13)), ((12, 30), (13, 30))], [((0, 15), (0, 15)), ((15, 20), (15, 25)), ((20, 30), (25, 30))], [((0, 9), (0, 7)), ((9, 24), (7, 27)), ((24, 30), (27, 30))], [((0, 5), (0, 8)), ((5, 14), (8, 15)), ((14, 30), (15, 30))], [((0, 14), (0, 17)), ((14, 23), (17, 26)), ((23, 30), (26, 30))], [((0, 12), (0, 12)), ((12, 25), (12, 25)), ((25, 30), (25, 30))], [((0, 19), (0, 20)), ((19, 25), (20, 27)), ((25, 30), (27, 30))], [((0, 9), (0, 6)), ((9, 25), (6, 26)), ((25, 30), (26, 30))], [((0, 5), (0, 8)), ((5, 12), (8, 13)), ((12, 30), (13, 30))], [((0, 5), (0, 8)), ((5, 20), (8, 19)), ((20, 30), (19, 30))], [((0, 5), (0, 8)), ((5, 23), (8, 22)), ((23, 30), (22, 30))], [((0, 5), (0, 8)), ((5, 12), (8, 13)), ((12, 30), (13, 30))], [((0, 18), (0, 23)), ((18, 24), (23, 26)), ((24, 30), (26, 30))]]\n",
      "[[((0, 6), (0, 12)), ((6, 20), (12, 23)), ((20, 30), (23, 30))], [((0, 5), (0, 10)), ((5, 19), (10, 21)), ((19, 30), (21, 30))], [((0, 5), (0, 10)), ((5, 18), (10, 21)), ((18, 30), (21, 30))], [((0, 5), (0, 9)), ((5, 22), (9, 24)), ((22, 30), (24, 30))], [((0, 6), (0, 10)), ((6, 22), (10, 22)), ((22, 30), (22, 30))], [((0, 6), (0, 10)), ((6, 20), (10, 21)), ((20, 30), (21, 30))], [((0, 19), (0, 24)), ((19, 25), (24, 27)), ((25, 30), (27, 30))], [((0, 12), (0, 18)), ((12, 17), (18, 23)), ((17, 30), (23, 30))], [((0, 11), (0, 11)), ((11, 16), (11, 18)), ((16, 30), (18, 30))], [((0, 9), (0, 12)), ((9, 18), (12, 22)), ((18, 30), (22, 30))], [((0, 13), (0, 17)), ((13, 22), (17, 22)), ((22, 30), (22, 30))], [((0, 10), (0, 16)), ((10, 25), (16, 27)), ((25, 30), (27, 30))], [((0, 9), (0, 15)), ((9, 18), (15, 24)), ((18, 30), (24, 30))], [((0, 9), (0, 12)), ((9, 14), (12, 19)), ((14, 30), (19, 30))], [((0, 6), (0, 11)), ((6, 20), (11, 22)), ((20, 30), (22, 30))], [((0, 10), (0, 16)), ((10, 25), (16, 27)), ((25, 30), (27, 30))], [((0, 5), (0, 10)), ((5, 18), (10, 21)), ((18, 30), (21, 30))], [((0, 6), (0, 11)), ((6, 20), (11, 22)), ((20, 30), (22, 30))], [((0, 11), (0, 17)), ((11, 16), (17, 20)), ((16, 30), (20, 30))], [((0, 18), (0, 21)), ((18, 25), (21, 26)), ((25, 30), (26, 30))], [((0, 5), (0, 10)), ((5, 23), (10, 26)), ((23, 30), (26, 30))], [((0, 10), (0, 15)), ((10, 25), (15, 26)), ((25, 30), (26, 30))], [((0, 10), (0, 15)), ((10, 21), (15, 25)), ((21, 30), (25, 30))], [((0, 12), (0, 15)), ((12, 18), (15, 24)), ((18, 30), (24, 30))], [((0, 5), (0, 10)), ((5, 22), (10, 21)), ((22, 30), (21, 30))], [((0, 7), (0, 6)), ((7, 12), (6, 12)), ((12, 30), (12, 30))], [((0, 9), (0, 12)), ((9, 14), (12, 19)), ((14, 30), (19, 30))], [((0, 9), (0, 13)), ((9, 14), (13, 19)), ((14, 30), (19, 30))], [((0, 5), (0, 4)), ((5, 24), (4, 27)), ((24, 30), (27, 30))], [((0, 11), (0, 20)), ((11, 16), (20, 23)), ((16, 30), (23, 30))], [((0, 6), (0, 8)), ((6, 12), (8, 15)), ((12, 30), (15, 30))], [((0, 12), (0, 15)), ((12, 18), (15, 24)), ((18, 30), (24, 30))], [((0, 11), (0, 11)), ((11, 16), (11, 18)), ((16, 30), (18, 30))], [((0, 6), (0, 11)), ((6, 22), (11, 24)), ((22, 30), (24, 30))], [((0, 6), (0, 11)), ((6, 22), (11, 23)), ((22, 30), (23, 30))], [((0, 6), (0, 10)), ((6, 22), (10, 22)), ((22, 30), (22, 30))], [((0, 18), (0, 23)), ((18, 25), (23, 27)), ((25, 30), (27, 30))], [((0, 6), (0, 11)), ((6, 22), (11, 23)), ((22, 30), (23, 30))], [((0, 12), (0, 15)), ((12, 18), (15, 24)), ((18, 30), (24, 30))], [((0, 19), (0, 23)), ((19, 25), (23, 26)), ((25, 30), (26, 30))], [((0, 5), (0, 10)), ((5, 18), (10, 21)), ((18, 30), (21, 30))], [((0, 9), (0, 15)), ((9, 20), (15, 25)), ((20, 30), (25, 30))], [((0, 10), (0, 14)), ((10, 25), (14, 25)), ((25, 30), (25, 30))], [((0, 5), (0, 8)), ((5, 22), (8, 25)), ((22, 30), (25, 30))], [((0, 18), (0, 21)), ((18, 25), (21, 26)), ((25, 30), (26, 30))], [((0, 9), (0, 15)), ((9, 20), (15, 21)), ((20, 30), (21, 30))], [((0, 6), (0, 10)), ((6, 22), (10, 23)), ((22, 30), (23, 30))], [((0, 9), (0, 15)), ((9, 20), (15, 22)), ((20, 30), (22, 30))], [((0, 5), (0, 9)), ((5, 18), (9, 20)), ((18, 30), (20, 30))], [((0, 12), (0, 13)), ((12, 17), (13, 23)), ((17, 30), (23, 30))]]\n",
      "[[((0, 15), (0, 16)), ((15, 25), (16, 22)), ((25, 30), (22, 30))], [((0, 19), (0, 17)), ((19, 25), (17, 20)), ((25, 30), (20, 30))], [((0, 10), (0, 10)), ((10, 25), (10, 21)), ((25, 30), (21, 30))], [((0, 18), (0, 16)), ((18, 24), (16, 19)), ((24, 30), (19, 30))], [((0, 8), (0, 8)), ((8, 24), (8, 18)), ((24, 30), (18, 30))], [((0, 18), (0, 16)), ((18, 24), (16, 19)), ((24, 30), (19, 30))], [((0, 12), (0, 8)), ((12, 18), (8, 15)), ((18, 30), (15, 30))], [((0, 11), (0, 8)), ((11, 20), (8, 25)), ((20, 30), (25, 30))], [((0, 17), (0, 9)), ((17, 25), (9, 20)), ((25, 30), (20, 30))], [((0, 15), (0, 12)), ((15, 20), (12, 15)), ((20, 30), (15, 30))], [((0, 20), (0, 16)), ((20, 25), (16, 20)), ((25, 30), (20, 30))], [((0, 18), (0, 14)), ((18, 24), (14, 21)), ((24, 30), (21, 30))], [((0, 14), (0, 13)), ((14, 20), (13, 19)), ((20, 30), (19, 30))], [((0, 9), (0, 6)), ((9, 25), (6, 22)), ((25, 30), (22, 30))], [((0, 19), (0, 17)), ((19, 25), (17, 20)), ((25, 30), (20, 30))], [((0, 18), (0, 14)), ((18, 24), (14, 21)), ((24, 30), (21, 30))], [((0, 9), (0, 9)), ((9, 24), (9, 20)), ((24, 30), (20, 30))], [((0, 18), (0, 17)), ((18, 24), (17, 20)), ((24, 30), (20, 30))], [((0, 15), (0, 12)), ((15, 25), (12, 22)), ((25, 30), (22, 30))], [((0, 17), (0, 9)), ((17, 25), (9, 21)), ((25, 30), (21, 30))], [((0, 18), (0, 18)), ((18, 24), (18, 21)), ((24, 30), (21, 30))], [((0, 20), (0, 17)), ((20, 25), (17, 21)), ((25, 30), (21, 30))], [((0, 15), (0, 12)), ((15, 20), (12, 15)), ((20, 30), (15, 30))], [((0, 11), (0, 8)), ((11, 18), (8, 22)), ((18, 30), (22, 30))], [((0, 8), (0, 8)), ((8, 24), (8, 18)), ((24, 30), (18, 30))], [((0, 18), (0, 9)), ((18, 24), (9, 18)), ((24, 30), (18, 30))], [((0, 15), (0, 11)), ((15, 21), (11, 17)), ((21, 30), (17, 30))], [((0, 18), (0, 14)), ((18, 24), (14, 21)), ((24, 30), (21, 30))], [((0, 12), (0, 6)), ((12, 19), (6, 10)), ((19, 30), (10, 30))], [((0, 17), (0, 16)), ((17, 25), (16, 26)), ((25, 30), (26, 30))], [((0, 11), (0, 8)), ((11, 25), (8, 20)), ((25, 30), (20, 30))], [((0, 12), (0, 8)), ((12, 18), (8, 17)), ((18, 30), (17, 30))], [((0, 17), (0, 9)), ((17, 24), (9, 19)), ((24, 30), (19, 30))], [((0, 19), (0, 17)), ((19, 25), (17, 20)), ((25, 30), (20, 30))], [((0, 8), (0, 9)), ((8, 25), (9, 20)), ((25, 30), (20, 30))], [((0, 8), (0, 8)), ((8, 24), (8, 18)), ((24, 30), (18, 30))], [((0, 5), (0, 3)), ((5, 15), (3, 9)), ((15, 30), (9, 30))], [((0, 20), (0, 17)), ((20, 25), (17, 20)), ((25, 30), (20, 30))], [((0, 12), (0, 8)), ((12, 20), (8, 22)), ((20, 30), (22, 30))], [((0, 13), (0, 8)), ((13, 19), (8, 13)), ((19, 30), (13, 30))], [((0, 18), (0, 17)), ((18, 24), (17, 20)), ((24, 30), (20, 30))], [((0, 12), (0, 11)), ((12, 18), (11, 14)), ((18, 30), (14, 30))], [((0, 9), (0, 6)), ((9, 25), (6, 21)), ((25, 30), (21, 30))], [((0, 15), (0, 12)), ((15, 21), (12, 16)), ((21, 30), (16, 30))], [((0, 17), (0, 9)), ((17, 25), (9, 21)), ((25, 30), (21, 30))], [((0, 18), (0, 16)), ((18, 24), (16, 19)), ((24, 30), (19, 30))], [((0, 18), (0, 16)), ((18, 24), (16, 19)), ((24, 30), (19, 30))], [((0, 19), (0, 17)), ((19, 25), (17, 20)), ((25, 30), (20, 30))], [((0, 18), (0, 16)), ((18, 24), (16, 19)), ((24, 30), (19, 30))], [((0, 10), (0, 5)), ((10, 15), (5, 10)), ((15, 30), (10, 30))]]\n",
      "[[((0, 6), (0, 8)), ((6, 11), (8, 13)), ((11, 30), (13, 30))], [((0, 7), (0, 8)), ((7, 12), (8, 13)), ((12, 30), (13, 30))], [((0, 20), (0, 20)), ((20, 25), (20, 27)), ((25, 30), (27, 30))], [((0, 20), (0, 20)), ((20, 25), (20, 27)), ((25, 30), (27, 30))], [((0, 18), (0, 17)), ((18, 24), (17, 20)), ((24, 30), (20, 30))], [((0, 18), (0, 17)), ((18, 23), (17, 22)), ((23, 30), (22, 30))], [((0, 6), (0, 3)), ((6, 23), (3, 26)), ((23, 30), (26, 30))], [((0, 14), (0, 15)), ((14, 20), (15, 25)), ((20, 30), (25, 30))], [((0, 11), (0, 6)), ((11, 17), (6, 16)), ((17, 30), (16, 30))], [((0, 5), (0, 4)), ((5, 23), (4, 24)), ((23, 30), (24, 30))], [((0, 8), (0, 5)), ((8, 22), (5, 22)), ((22, 30), (22, 30))], [((0, 12), (0, 11)), ((12, 19), (11, 20)), ((19, 30), (20, 30))], [((0, 12), (0, 12)), ((12, 21), (12, 25)), ((21, 30), (25, 30))], [((0, 12), (0, 10)), ((12, 19), (10, 20)), ((19, 30), (20, 30))], [((0, 7), (0, 10)), ((7, 13), (10, 13)), ((13, 30), (13, 30))], [((0, 5), (0, 4)), ((5, 23), (4, 24)), ((23, 30), (24, 30))], [((0, 20), (0, 20)), ((20, 25), (20, 24)), ((25, 30), (24, 30))], [((0, 7), (0, 8)), ((7, 12), (8, 13)), ((12, 30), (13, 30))], [((0, 12), (0, 11)), ((12, 20), (11, 21)), ((20, 30), (21, 30))], [((0, 14), (0, 9)), ((14, 19), (9, 19)), ((19, 30), (19, 30))], [((0, 19), (0, 21)), ((19, 25), (21, 26)), ((25, 30), (26, 30))], [((0, 14), (0, 13)), ((14, 20), (13, 20)), ((20, 30), (20, 30))], [((0, 5), (0, 4)), ((5, 23), (4, 24)), ((23, 30), (24, 30))], [((0, 10), (0, 8)), ((10, 18), (8, 24)), ((18, 30), (24, 30))], [((0, 5), (0, 5)), ((5, 10), (5, 10)), ((10, 30), (10, 30))], [((0, 11), (0, 6)), ((11, 16), (6, 13)), ((16, 30), (13, 30))], [((0, 12), (0, 10)), ((12, 19), (10, 20)), ((19, 30), (20, 30))], [((0, 12), (0, 11)), ((12, 19), (11, 20)), ((19, 30), (20, 30))], [((0, 11), (0, 6)), ((11, 16), (6, 16)), ((16, 30), (16, 30))], [((0, 14), (0, 15)), ((14, 19), (15, 24)), ((19, 30), (24, 30))], [((0, 6), (0, 4)), ((6, 11), (4, 9)), ((11, 30), (9, 30))], [((0, 11), (0, 8)), ((11, 20), (8, 24)), ((20, 30), (24, 30))], [((0, 14), (0, 8)), ((14, 19), (8, 18)), ((19, 30), (18, 30))], [((0, 18), (0, 18)), ((18, 23), (18, 23)), ((23, 30), (23, 30))], [((0, 16), (0, 17)), ((16, 22), (17, 20)), ((22, 30), (20, 30))], [((0, 18), (0, 17)), ((18, 23), (17, 22)), ((23, 30), (22, 30))], [((0, 6), (0, 3)), ((6, 24), (3, 26)), ((24, 30), (26, 30))], [((0, 16), (0, 17)), ((16, 25), (17, 22)), ((25, 30), (22, 30))], [((0, 10), (0, 8)), ((10, 18), (8, 24)), ((18, 30), (24, 30))], [((0, 6), (0, 3)), ((6, 23), (3, 25)), ((23, 30), (25, 30))], [((0, 20), (0, 20)), ((20, 25), (20, 24)), ((25, 30), (24, 30))], [((0, 5), (0, 4)), ((5, 21), (4, 23)), ((21, 30), (23, 30))], [((0, 10), (0, 8)), ((10, 20), (8, 20)), ((20, 30), (20, 30))], [((0, 5), (0, 3)), ((5, 20), (3, 21)), ((20, 30), (21, 30))], [((0, 10), (0, 5)), ((10, 25), (5, 27)), ((25, 30), (27, 30))], [((0, 18), (0, 17)), ((18, 23), (17, 22)), ((23, 30), (22, 30))], [((0, 18), (0, 17)), ((18, 24), (17, 23)), ((24, 30), (23, 30))], [((0, 18), (0, 18)), ((18, 23), (18, 23)), ((23, 30), (23, 30))], [((0, 18), (0, 17)), ((18, 23), (17, 22)), ((23, 30), (22, 30))], [((0, 11), (0, 7)), ((11, 18), (7, 21)), ((18, 30), (21, 30))]]\n",
      "[[((0, 5), (0, 6)), ((5, 24), (6, 25)), ((24, 30), (25, 30))], [((0, 6), (0, 5)), ((6, 25), (5, 24)), ((25, 30), (24, 30))], [((0, 6), (0, 4)), ((6, 25), (4, 25)), ((25, 30), (25, 30))], [((0, 6), (0, 7)), ((6, 11), (7, 10)), ((11, 30), (10, 30))], [((0, 6), (0, 4)), ((6, 24), (4, 22)), ((24, 30), (22, 30))], [((0, 7), (0, 4)), ((7, 23), (4, 22)), ((23, 30), (22, 30))], [((0, 11), (0, 7)), ((11, 24), (7, 27)), ((24, 30), (27, 30))], [((0, 17), (0, 15)), ((17, 24), (15, 27)), ((24, 30), (27, 30))], [((0, 12), (0, 6)), ((12, 23), (6, 24)), ((23, 30), (24, 30))], [((0, 6), (0, 5)), ((6, 11), (5, 8)), ((11, 30), (8, 30))], [((0, 5), (0, 4)), ((5, 10), (4, 7)), ((10, 30), (7, 30))], [((0, 5), (0, 5)), ((5, 10), (5, 8)), ((10, 30), (8, 30))], [((0, 19), (0, 22)), ((19, 24), (22, 27)), ((24, 30), (27, 30))], [((0, 6), (0, 5)), ((6, 11), (5, 8)), ((11, 30), (8, 30))], [((0, 5), (0, 5)), ((5, 24), (5, 23)), ((24, 30), (23, 30))], [((0, 11), (0, 9)), ((11, 22), (9, 23)), ((22, 30), (23, 30))], [((0, 20), (0, 20)), ((20, 25), (20, 25)), ((25, 30), (25, 30))], [((0, 5), (0, 5)), ((5, 24), (5, 24)), ((24, 30), (24, 30))], [((0, 5), (0, 5)), ((5, 10), (5, 8)), ((10, 30), (8, 30))], [((0, 12), (0, 6)), ((12, 23), (6, 25)), ((23, 30), (25, 30))], [((0, 20), (0, 21)), ((20, 25), (21, 25)), ((25, 30), (25, 30))], [((0, 6), (0, 3)), ((6, 20), (3, 20)), ((20, 30), (20, 30))], [((0, 5), (0, 5)), ((5, 10), (5, 8)), ((10, 30), (8, 30))], [((0, 8), (0, 5)), ((8, 13), (5, 8)), ((13, 30), (8, 30))], [((0, 5), (0, 4)), ((5, 25), (4, 23)), ((25, 30), (23, 30))], [((0, 12), (0, 6)), ((12, 23), (6, 22)), ((23, 30), (22, 30))], [((0, 8), (0, 5)), ((8, 13), (5, 10)), ((13, 30), (10, 30))], [((0, 5), (0, 5)), ((5, 10), (5, 8)), ((10, 30), (8, 30))], [((0, 12), (0, 6)), ((12, 23), (6, 24)), ((23, 30), (24, 30))], [((0, 11), (0, 10)), ((11, 22), (10, 26)), ((22, 30), (26, 30))], [((0, 5), (0, 4)), ((5, 10), (4, 7)), ((10, 30), (7, 30))], [((0, 19), (0, 23)), ((19, 24), (23, 27)), ((24, 30), (27, 30))], [((0, 12), (0, 6)), ((12, 24), (6, 25)), ((24, 30), (25, 30))], [((0, 5), (0, 7)), ((5, 11), (7, 10)), ((11, 30), (10, 30))], [((0, 9), (0, 8)), ((9, 23), (8, 22)), ((23, 30), (22, 30))], [((0, 5), (0, 4)), ((5, 25), (4, 23)), ((25, 30), (23, 30))], [((0, 20), (0, 22)), ((20, 25), (22, 26)), ((25, 30), (26, 30))], [((0, 5), (0, 4)), ((5, 22), (4, 21)), ((22, 30), (21, 30))], [((0, 8), (0, 5)), ((8, 13), (5, 8)), ((13, 30), (8, 30))], [((0, 12), (0, 7)), ((12, 23), (7, 26)), ((23, 30), (26, 30))], [((0, 5), (0, 4)), ((5, 21), (4, 21)), ((21, 30), (21, 30))], [((0, 20), (0, 22)), ((20, 25), (22, 26)), ((25, 30), (26, 30))], [((0, 6), (0, 5)), ((6, 11), (5, 8)), ((11, 30), (8, 30))], [((0, 5), (0, 5)), ((5, 10), (5, 8)), ((10, 30), (8, 30))], [((0, 12), (0, 6)), ((12, 23), (6, 25)), ((23, 30), (25, 30))], [((0, 5), (0, 3)), ((5, 11), (3, 10)), ((11, 30), (10, 30))], [((0, 5), (0, 7)), ((5, 11), (7, 10)), ((11, 30), (10, 30))], [((0, 10), (0, 9)), ((10, 25), (9, 24)), ((25, 30), (24, 30))], [((0, 5), (0, 7)), ((5, 11), (7, 10)), ((11, 30), (10, 30))], [((0, 19), (0, 23)), ((19, 24), (23, 26)), ((24, 30), (26, 30))]]\n",
      "[[((0, 5), (0, 5)), ((5, 10), (5, 11)), ((10, 30), (11, 30))], [((0, 18), (0, 17)), ((18, 24), (17, 23)), ((24, 30), (23, 30))], [((0, 5), (0, 5)), ((5, 10), (5, 9)), ((10, 30), (9, 30))], [((0, 5), (0, 3)), ((5, 10), (3, 9)), ((10, 30), (9, 30))], [((0, 19), (0, 17)), ((19, 25), (17, 20)), ((25, 30), (20, 30))], [((0, 19), (0, 17)), ((19, 24), (17, 22)), ((24, 30), (22, 30))], [((0, 11), (0, 7)), ((11, 24), (7, 27)), ((24, 30), (27, 30))], [((0, 16), (0, 15)), ((16, 21), (15, 25)), ((21, 30), (25, 30))], [((0, 12), (0, 6)), ((12, 18), (6, 16)), ((18, 30), (16, 30))], [((0, 15), (0, 12)), ((15, 20), (12, 21)), ((20, 30), (21, 30))], [((0, 12), (0, 9)), ((12, 24), (9, 23)), ((24, 30), (23, 30))], [((0, 12), (0, 10)), ((12, 19), (10, 20)), ((19, 30), (20, 30))], [((0, 11), (0, 10)), ((11, 21), (10, 24)), ((21, 30), (24, 30))], [((0, 13), (0, 10)), ((13, 18), (10, 18)), ((18, 30), (18, 30))], [((0, 19), (0, 19)), ((19, 25), (19, 22)), ((25, 30), (22, 30))], [((0, 9), (0, 7)), ((9, 18), (7, 19)), ((18, 30), (19, 30))], [((0, 5), (0, 5)), ((5, 10), (5, 10)), ((10, 30), (10, 30))], [((0, 5), (0, 7)), ((5, 10), (7, 10)), ((10, 30), (10, 30))], [((0, 12), (0, 10)), ((12, 17), (10, 17)), ((17, 30), (17, 30))], [((0, 11), (0, 6)), ((11, 18), (6, 17)), ((18, 30), (17, 30))], [((0, 20), (0, 21)), ((20, 25), (21, 26)), ((25, 30), (26, 30))], [((0, 12), (0, 10)), ((12, 18), (10, 18)), ((18, 30), (18, 30))], [((0, 12), (0, 10)), ((12, 18), (10, 19)), ((18, 30), (19, 30))], [((0, 11), (0, 8)), ((11, 19), (8, 24)), ((19, 30), (24, 30))], [((0, 5), (0, 3)), ((5, 10), (3, 8)), ((10, 30), (8, 30))], [((0, 12), (0, 6)), ((12, 17), (6, 13)), ((17, 30), (13, 30))], [((0, 7), (0, 5)), ((7, 24), (5, 24)), ((24, 30), (24, 30))], [((0, 12), (0, 10)), ((12, 18), (10, 19)), ((18, 30), (19, 30))], [((0, 12), (0, 6)), ((12, 18), (6, 16)), ((18, 30), (16, 30))], [((0, 11), (0, 10)), ((11, 19), (10, 24)), ((19, 30), (24, 30))], [((0, 5), (0, 3)), ((5, 10), (3, 7)), ((10, 30), (7, 30))], [((0, 11), (0, 7)), ((11, 21), (7, 24)), ((21, 30), (24, 30))], [((0, 12), (0, 6)), ((12, 24), (6, 24)), ((24, 30), (24, 30))], [((0, 5), (0, 4)), ((5, 10), (4, 9)), ((10, 30), (9, 30))], [((0, 18), (0, 17)), ((18, 23), (17, 21)), ((23, 30), (21, 30))], [((0, 19), (0, 17)), ((19, 24), (17, 22)), ((24, 30), (22, 30))], [((0, 11), (0, 7)), ((11, 24), (7, 27)), ((24, 30), (27, 30))], [((0, 17), (0, 17)), ((17, 25), (17, 22)), ((25, 30), (22, 30))], [((0, 11), (0, 8)), ((11, 19), (8, 24)), ((19, 30), (24, 30))], [((0, 13), (0, 8)), ((13, 19), (8, 20)), ((19, 30), (20, 30))], [((0, 5), (0, 3)), ((5, 10), (3, 9)), ((10, 30), (9, 30))], [((0, 7), (0, 6)), ((7, 24), (6, 26)), ((24, 30), (26, 30))], [((0, 12), (0, 9)), ((12, 19), (9, 18)), ((19, 30), (18, 30))], [((0, 5), (0, 3)), ((5, 23), (3, 23)), ((23, 30), (23, 30))], [((0, 12), (0, 6)), ((12, 18), (6, 17)), ((18, 30), (17, 30))], [((0, 19), (0, 17)), ((19, 24), (17, 22)), ((24, 30), (22, 30))], [((0, 19), (0, 17)), ((19, 25), (17, 24)), ((25, 30), (24, 30))], [((0, 5), (0, 3)), ((5, 10), (3, 9)), ((10, 30), (9, 30))], [((0, 5), (0, 3)), ((5, 10), (3, 8)), ((10, 30), (8, 30))], [((0, 11), (0, 6)), ((11, 19), (6, 22)), ((19, 30), (22, 30))]]\n",
      "[[((0, 6), (0, 9)), ((6, 25), (9, 23)), ((25, 30), (23, 30))], [((0, 6), (0, 8)), ((6, 24), (8, 21)), ((24, 30), (21, 30))], [((0, 6), (0, 7)), ((6, 25), (7, 24)), ((25, 30), (24, 30))], [((0, 5), (0, 6)), ((5, 25), (6, 23)), ((25, 30), (23, 30))], [((0, 6), (0, 7)), ((6, 25), (7, 21)), ((25, 30), (21, 30))], [((0, 6), (0, 7)), ((6, 25), (7, 21)), ((25, 30), (21, 30))], [((0, 6), (0, 4)), ((6, 12), (4, 8)), ((12, 30), (8, 30))], [((0, 18), (0, 15)), ((18, 24), (15, 27)), ((24, 30), (27, 30))], [((0, 5), (0, 3)), ((5, 11), (3, 6)), ((11, 30), (6, 30))], [((0, 7), (0, 6)), ((7, 12), (6, 11)), ((12, 30), (11, 30))], [((0, 5), (0, 3)), ((5, 20), (3, 18)), ((20, 30), (18, 30))], [((0, 6), (0, 5)), ((6, 11), (5, 10)), ((11, 30), (10, 30))], [((0, 20), (0, 22)), ((20, 25), (22, 27)), ((25, 30), (27, 30))], [((0, 7), (0, 6)), ((7, 12), (6, 11)), ((12, 30), (11, 30))], [((0, 5), (0, 8)), ((5, 25), (8, 22)), ((25, 30), (22, 30))], [((0, 6), (0, 5)), ((6, 11), (5, 10)), ((11, 30), (10, 30))], [((0, 5), (0, 6)), ((5, 24), (6, 23)), ((24, 30), (23, 30))], [((0, 6), (0, 7)), ((6, 25), (7, 24)), ((25, 30), (24, 30))], [((0, 6), (0, 5)), ((6, 11), (5, 10)), ((11, 30), (10, 30))], [((0, 5), (0, 3)), ((5, 11), (3, 6)), ((11, 30), (6, 30))], [((0, 5), (0, 6)), ((5, 21), (6, 21)), ((21, 30), (21, 30))], [((0, 5), (0, 3)), ((5, 19), (3, 18)), ((19, 30), (18, 30))], [((0, 7), (0, 6)), ((7, 12), (6, 11)), ((12, 30), (11, 30))], [((0, 7), (0, 5)), ((7, 12), (5, 9)), ((12, 30), (9, 30))], [((0, 6), (0, 7)), ((6, 25), (7, 21)), ((25, 30), (21, 30))], [((0, 8), (0, 4)), ((8, 24), (4, 21)), ((24, 30), (21, 30))], [((0, 6), (0, 5)), ((6, 11), (5, 10)), ((11, 30), (10, 30))], [((0, 6), (0, 5)), ((6, 11), (5, 10)), ((11, 30), (10, 30))], [((0, 6), (0, 3)), ((6, 12), (3, 6)), ((12, 30), (6, 30))], [((0, 10), (0, 10)), ((10, 22), (10, 26)), ((22, 30), (26, 30))], [((0, 5), (0, 3)), ((5, 21), (3, 19)), ((21, 30), (19, 30))], [((0, 10), (0, 7)), ((10, 22), (7, 25)), ((22, 30), (25, 30))], [((0, 5), (0, 3)), ((5, 13), (3, 7)), ((13, 30), (7, 30))], [((0, 5), (0, 7)), ((5, 24), (7, 21)), ((24, 30), (21, 30))], [((0, 6), (0, 8)), ((6, 25), (8, 22)), ((25, 30), (22, 30))], [((0, 6), (0, 7)), ((6, 25), (7, 21)), ((25, 30), (21, 30))], [((0, 10), (0, 7)), ((10, 22), (7, 23)), ((22, 30), (23, 30))], [((0, 6), (0, 8)), ((6, 25), (8, 22)), ((25, 30), (22, 30))], [((0, 7), (0, 5)), ((7, 12), (5, 9)), ((12, 30), (9, 30))], [((0, 6), (0, 4)), ((6, 12), (4, 8)), ((12, 30), (8, 30))], [((0, 5), (0, 6)), ((5, 24), (6, 23)), ((24, 30), (23, 30))], [((0, 7), (0, 5)), ((7, 12), (5, 14)), ((12, 30), (14, 30))], [((0, 8), (0, 6)), ((8, 24), (6, 22)), ((24, 30), (22, 30))], [((0, 7), (0, 6)), ((7, 12), (6, 11)), ((12, 30), (11, 30))], [((0, 5), (0, 3)), ((5, 11), (3, 6)), ((11, 30), (6, 30))], [((0, 8), (0, 9)), ((8, 25), (9, 21)), ((25, 30), (21, 30))], [((0, 6), (0, 6)), ((6, 25), (6, 23)), ((25, 30), (23, 30))], [((0, 6), (0, 8)), ((6, 24), (8, 21)), ((24, 30), (21, 30))], [((0, 6), (0, 6)), ((6, 25), (6, 23)), ((25, 30), (23, 30))], [((0, 6), (0, 4)), ((6, 12), (4, 7)), ((12, 30), (7, 30))]]\n",
      "[[((0, 8), (0, 4)), ((8, 25), (4, 27)), ((25, 30), (27, 30))], [((0, 10), (0, 5)), ((10, 25), (5, 26)), ((25, 30), (26, 30))], [((0, 12), (0, 8)), ((12, 25), (8, 27)), ((25, 30), (27, 30))], [((0, 13), (0, 8)), ((13, 25), (8, 27)), ((25, 30), (27, 30))], [((0, 5), (0, 3)), ((5, 13), (3, 9)), ((13, 30), (9, 30))], [((0, 12), (0, 7)), ((12, 25), (7, 26)), ((25, 30), (26, 30))], [((0, 12), (0, 6)), ((12, 22), (6, 26)), ((22, 30), (26, 30))], [((0, 13), (0, 15)), ((13, 25), (15, 27)), ((25, 30), (27, 30))], [((0, 10), (0, 5)), ((10, 25), (5, 26)), ((25, 30), (26, 30))], [((0, 14), (0, 8)), ((14, 22), (8, 24)), ((22, 30), (24, 30))], [((0, 13), (0, 7)), ((13, 21), (7, 20)), ((21, 30), (20, 30))], [((0, 14), (0, 9)), ((14, 22), (9, 23)), ((22, 30), (23, 30))], [((0, 14), (0, 10)), ((14, 22), (10, 26)), ((22, 30), (26, 30))], [((0, 14), (0, 8)), ((14, 21), (8, 22)), ((21, 30), (22, 30))], [((0, 6), (0, 3)), ((6, 24), (3, 23)), ((24, 30), (23, 30))], [((0, 14), (0, 9)), ((14, 22), (9, 23)), ((22, 30), (23, 30))], [((0, 11), (0, 6)), ((11, 24), (6, 26)), ((24, 30), (26, 30))], [((0, 11), (0, 8)), ((11, 24), (8, 24)), ((24, 30), (24, 30))], [((0, 14), (0, 9)), ((14, 22), (9, 23)), ((22, 30), (23, 30))], [((0, 10), (0, 5)), ((10, 25), (5, 26)), ((25, 30), (26, 30))], [((0, 11), (0, 7)), ((11, 24), (7, 27)), ((24, 30), (27, 30))], [((0, 14), (0, 8)), ((14, 22), (8, 23)), ((22, 30), (23, 30))], [((0, 14), (0, 8)), ((14, 22), (8, 24)), ((22, 30), (24, 30))], [((0, 10), (0, 5)), ((10, 16), (5, 8)), ((16, 30), (8, 30))], [((0, 8), (0, 5)), ((8, 13), (5, 9)), ((13, 30), (9, 30))], [((0, 10), (0, 5)), ((10, 25), (5, 24)), ((25, 30), (24, 30))], [((0, 14), (0, 8)), ((14, 22), (8, 24)), ((22, 30), (24, 30))], [((0, 14), (0, 9)), ((14, 22), (9, 23)), ((22, 30), (23, 30))], [((0, 8), (0, 4)), ((8, 25), (4, 26)), ((25, 30), (26, 30))], [((0, 14), (0, 10)), ((14, 22), (10, 26)), ((22, 30), (26, 30))], [((0, 14), (0, 8)), ((14, 24), (8, 26)), ((24, 30), (26, 30))], [((0, 20), (0, 24)), ((20, 25), (24, 27)), ((25, 30), (27, 30))], [((0, 10), (0, 5)), ((10, 25), (5, 26)), ((25, 30), (26, 30))], [((0, 12), (0, 8)), ((12, 25), (8, 27)), ((25, 30), (27, 30))], [((0, 5), (0, 5)), ((5, 11), (5, 8)), ((11, 30), (8, 30))], [((0, 6), (0, 3)), ((6, 11), (3, 7)), ((11, 30), (7, 30))], [((0, 12), (0, 6)), ((12, 22), (6, 26)), ((22, 30), (26, 30))], [((0, 10), (0, 6)), ((10, 25), (6, 25)), ((25, 30), (25, 30))], [((0, 10), (0, 5)), ((10, 16), (5, 8)), ((16, 30), (8, 30))], [((0, 14), (0, 7)), ((14, 24), (7, 27)), ((24, 30), (27, 30))], [((0, 11), (0, 6)), ((11, 24), (6, 25)), ((24, 30), (25, 30))], [((0, 13), (0, 9)), ((13, 21), (9, 23)), ((21, 30), (23, 30))], [((0, 14), (0, 8)), ((14, 24), (8, 27)), ((24, 30), (27, 30))], [((0, 14), (0, 8)), ((14, 22), (8, 23)), ((22, 30), (23, 30))], [((0, 10), (0, 5)), ((10, 25), (5, 26)), ((25, 30), (26, 30))], [((0, 5), (0, 4)), ((5, 11), (4, 7)), ((11, 30), (7, 30))], [((0, 5), (0, 3)), ((5, 11), (3, 7)), ((11, 30), (7, 30))], [((0, 10), (0, 5)), ((10, 25), (5, 26)), ((25, 30), (26, 30))], [((0, 12), (0, 7)), ((12, 25), (7, 26)), ((25, 30), (26, 30))], [((0, 12), (0, 6)), ((12, 22), (6, 26)), ((22, 30), (26, 30))]]\n",
      "[[((0, 7), (0, 11)), ((7, 20), (11, 22)), ((20, 30), (22, 30))], [((0, 20), (0, 20)), ((20, 25), (20, 24)), ((25, 30), (24, 30))], [((0, 6), (0, 9)), ((6, 20), (9, 21)), ((20, 30), (21, 30))], [((0, 7), (0, 9)), ((7, 20), (9, 20)), ((20, 30), (20, 30))], [((0, 20), (0, 19)), ((20, 25), (19, 27)), ((25, 30), (27, 30))], [((0, 20), (0, 20)), ((20, 25), (20, 23)), ((25, 30), (23, 30))], [((0, 10), (0, 8)), ((10, 19), (8, 23)), ((19, 30), (23, 30))], [((0, 8), (0, 8)), ((8, 13), (8, 18)), ((13, 30), (18, 30))], [((0, 7), (0, 4)), ((7, 25), (4, 26)), ((25, 30), (26, 30))], [((0, 10), (0, 10)), ((10, 15), (10, 18)), ((15, 30), (18, 30))], [((0, 20), (0, 20)), ((20, 25), (20, 24)), ((25, 30), (24, 30))], [((0, 6), (0, 6)), ((6, 21), (6, 23)), ((21, 30), (23, 30))], [((0, 19), (0, 24)), ((19, 24), (24, 27)), ((24, 30), (27, 30))], [((0, 9), (0, 9)), ((9, 15), (9, 18)), ((15, 30), (18, 30))], [((0, 20), (0, 20)), ((20, 25), (20, 23)), ((25, 30), (23, 30))], [((0, 20), (0, 22)), ((20, 25), (22, 26)), ((25, 30), (26, 30))], [((0, 5), (0, 7)), ((5, 11), (7, 13)), ((11, 30), (13, 30))], [((0, 5), (0, 9)), ((5, 11), (9, 13)), ((11, 30), (13, 30))], [((0, 6), (0, 6)), ((6, 15), (6, 18)), ((15, 30), (18, 30))], [((0, 7), (0, 4)), ((7, 25), (4, 27)), ((25, 30), (27, 30))], [((0, 7), (0, 9)), ((7, 21), (9, 24)), ((21, 30), (24, 30))], [((0, 14), (0, 14)), ((14, 20), (14, 21)), ((20, 30), (21, 30))], [((0, 10), (0, 10)), ((10, 15), (10, 18)), ((15, 30), (18, 30))], [((0, 11), (0, 10)), ((11, 18), (10, 24)), ((18, 30), (24, 30))], [((0, 7), (0, 9)), ((7, 21), (9, 20)), ((21, 30), (20, 30))], [((0, 12), (0, 7)), ((12, 17), (7, 15)), ((17, 30), (15, 30))], [((0, 11), (0, 11)), ((11, 21), (11, 23)), ((21, 30), (23, 30))], [((0, 6), (0, 6)), ((6, 23), (6, 25)), ((23, 30), (25, 30))], [((0, 7), (0, 4)), ((7, 25), (4, 26)), ((25, 30), (26, 30))], [((0, 13), (0, 15)), ((13, 18), (15, 24)), ((18, 30), (24, 30))], [((0, 5), (0, 4)), ((5, 25), (4, 26)), ((25, 30), (26, 30))], [((0, 10), (0, 8)), ((10, 19), (8, 24)), ((19, 30), (24, 30))], [((0, 6), (0, 3)), ((6, 24), (3, 25)), ((24, 30), (25, 30))], [((0, 7), (0, 9)), ((7, 23), (9, 24)), ((23, 30), (24, 30))], [((0, 20), (0, 20)), ((20, 25), (20, 23)), ((25, 30), (23, 30))], [((0, 20), (0, 20)), ((20, 25), (20, 27)), ((25, 30), (27, 30))], [((0, 5), (0, 3)), ((5, 23), (3, 26)), ((23, 30), (26, 30))], [((0, 20), (0, 20)), ((20, 25), (20, 23)), ((25, 30), (23, 30))], [((0, 11), (0, 10)), ((11, 18), (10, 24)), ((18, 30), (24, 30))], [((0, 5), (0, 3)), ((5, 23), (3, 25)), ((23, 30), (25, 30))], [((0, 5), (0, 7)), ((5, 11), (7, 13)), ((11, 30), (13, 30))], [((0, 12), (0, 15)), ((12, 18), (15, 21)), ((18, 30), (21, 30))], [((0, 5), (0, 4)), ((5, 16), (4, 17)), ((16, 30), (17, 30))], [((0, 9), (0, 9)), ((9, 23), (9, 25)), ((23, 30), (25, 30))], [((0, 7), (0, 4)), ((7, 25), (4, 27)), ((25, 30), (27, 30))], [((0, 16), (0, 17)), ((16, 24), (17, 22)), ((24, 30), (22, 30))], [((0, 20), (0, 20)), ((20, 25), (20, 27)), ((25, 30), (27, 30))], [((0, 6), (0, 8)), ((6, 20), (8, 21)), ((20, 30), (21, 30))], [((0, 7), (0, 9)), ((7, 20), (9, 20)), ((20, 30), (20, 30))], [((0, 7), (0, 5)), ((7, 15), (5, 21)), ((15, 30), (21, 30))]]\n",
      "[[((0, 6), (0, 12)), ((6, 25), (12, 22)), ((25, 30), (22, 30))], [((0, 5), (0, 10)), ((5, 25), (10, 21)), ((25, 30), (21, 30))], [((0, 5), (0, 10)), ((5, 23), (10, 20)), ((23, 30), (20, 30))], [((0, 5), (0, 9)), ((5, 24), (9, 20)), ((24, 30), (20, 30))], [((0, 5), (0, 9)), ((5, 24), (9, 19)), ((24, 30), (19, 30))], [((0, 5), (0, 9)), ((5, 24), (9, 20)), ((24, 30), (20, 30))], [((0, 11), (0, 13)), ((11, 18), (13, 18)), ((18, 30), (18, 30))], [((0, 11), (0, 15)), ((11, 16), (15, 23)), ((16, 30), (23, 30))], [((0, 18), (0, 15)), ((18, 23), (15, 19)), ((23, 30), (19, 30))], [((0, 9), (0, 12)), ((9, 20), (12, 18)), ((20, 30), (18, 30))], [((0, 10), (0, 13)), ((10, 24), (13, 20)), ((24, 30), (20, 30))], [((0, 6), (0, 9)), ((6, 18), (9, 15)), ((18, 30), (15, 30))], [((0, 9), (0, 14)), ((9, 15), (14, 17)), ((15, 30), (17, 30))], [((0, 10), (0, 14)), ((10, 22), (14, 20)), ((22, 30), (20, 30))], [((0, 5), (0, 10)), ((5, 25), (10, 21)), ((25, 30), (21, 30))], [((0, 6), (0, 9)), ((6, 18), (9, 15)), ((18, 30), (15, 30))], [((0, 5), (0, 10)), ((5, 24), (10, 21)), ((24, 30), (21, 30))], [((0, 5), (0, 10)), ((5, 24), (10, 21)), ((24, 30), (21, 30))], [((0, 5), (0, 7)), ((5, 25), (7, 23)), ((25, 30), (23, 30))], [((0, 11), (0, 11)), ((11, 20), (11, 16)), ((20, 30), (16, 30))], [((0, 5), (0, 9)), ((5, 25), (9, 24)), ((25, 30), (24, 30))], [((0, 5), (0, 7)), ((5, 24), (7, 22)), ((24, 30), (22, 30))], [((0, 6), (0, 9)), ((6, 18), (9, 15)), ((18, 30), (15, 30))], [((0, 10), (0, 12)), ((10, 16), (12, 22)), ((16, 30), (22, 30))], [((0, 5), (0, 9)), ((5, 25), (9, 20)), ((25, 30), (20, 30))], [((0, 5), (0, 4)), ((5, 22), (4, 17)), ((22, 30), (17, 30))], [((0, 10), (0, 14)), ((10, 24), (14, 22)), ((24, 30), (22, 30))], [((0, 9), (0, 13)), ((9, 21), (13, 19)), ((21, 30), (19, 30))], [((0, 5), (0, 4)), ((5, 17), (4, 10)), ((17, 30), (10, 30))], [((0, 10), (0, 17)), ((10, 16), (17, 20)), ((16, 30), (20, 30))], [((0, 5), (0, 6)), ((5, 25), (6, 21)), ((25, 30), (21, 30))], [((0, 14), (0, 16)), ((14, 19), (16, 20)), ((19, 30), (20, 30))], [((0, 18), (0, 15)), ((18, 23), (15, 19)), ((23, 30), (19, 30))], [((0, 5), (0, 10)), ((5, 24), (10, 21)), ((24, 30), (21, 30))], [((0, 5), (0, 10)), ((5, 24), (10, 20)), ((24, 30), (20, 30))], [((0, 5), (0, 9)), ((5, 25), (9, 20)), ((25, 30), (20, 30))], [((0, 11), (0, 13)), ((11, 18), (13, 17)), ((18, 30), (17, 30))], [((0, 5), (0, 10)), ((5, 25), (10, 21)), ((25, 30), (21, 30))], [((0, 10), (0, 12)), ((10, 16), (12, 22)), ((16, 30), (22, 30))], [((0, 14), (0, 14)), ((14, 20), (14, 18)), ((20, 30), (18, 30))], [((0, 5), (0, 10)), ((5, 24), (10, 21)), ((24, 30), (21, 30))], [((0, 6), (0, 10)), ((6, 18), (10, 17)), ((18, 30), (17, 30))], [((0, 5), (0, 6)), ((5, 24), (6, 21)), ((24, 30), (21, 30))], [((0, 8), (0, 11)), ((8, 21), (11, 18)), ((21, 30), (18, 30))], [((0, 18), (0, 15)), ((18, 25), (15, 22)), ((25, 30), (22, 30))], [((0, 5), (0, 9)), ((5, 24), (9, 20)), ((24, 30), (20, 30))], [((0, 5), (0, 9)), ((5, 24), (9, 20)), ((24, 30), (20, 30))], [((0, 8), (0, 13)), ((8, 24), (13, 21)), ((24, 30), (21, 30))], [((0, 5), (0, 9)), ((5, 24), (9, 20)), ((24, 30), (20, 30))], [((0, 15), (0, 17)), ((15, 20), (17, 21)), ((20, 30), (21, 30))]]\n",
      "[[((0, 7), (0, 7)), ((7, 25), (7, 22)), ((25, 30), (22, 30))], [((0, 7), (0, 4)), ((7, 24), (4, 20)), ((24, 30), (20, 30))], [((0, 9), (0, 6)), ((9, 25), (6, 21)), ((25, 30), (21, 30))], [((0, 8), (0, 5)), ((8, 24), (5, 20)), ((24, 30), (20, 30))], [((0, 7), (0, 4)), ((7, 24), (4, 18)), ((24, 30), (18, 30))], [((0, 11), (0, 7)), ((11, 25), (7, 20)), ((25, 30), (20, 30))], [((0, 6), (0, 3)), ((6, 12), (3, 6)), ((12, 30), (6, 30))], [((0, 18), (0, 15)), ((18, 24), (15, 27)), ((24, 30), (27, 30))], [((0, 18), (0, 9)), ((18, 25), (9, 21)), ((25, 30), (21, 30))], [((0, 10), (0, 5)), ((10, 15), (5, 10)), ((15, 30), (10, 30))], [((0, 8), (0, 4)), ((8, 20), (4, 14)), ((20, 30), (14, 30))], [((0, 7), (0, 5)), ((7, 13), (5, 8)), ((13, 30), (8, 30))], [((0, 6), (0, 6)), ((6, 12), (6, 9)), ((12, 30), (9, 30))], [((0, 6), (0, 4)), ((6, 12), (4, 7)), ((12, 30), (7, 30))], [((0, 10), (0, 9)), ((10, 24), (9, 20)), ((24, 30), (20, 30))], [((0, 7), (0, 5)), ((7, 13), (5, 8)), ((13, 30), (8, 30))], [((0, 6), (0, 4)), ((6, 21), (4, 17)), ((21, 30), (17, 30))], [((0, 12), (0, 10)), ((12, 25), (10, 21)), ((25, 30), (21, 30))], [((0, 10), (0, 5)), ((10, 24), (5, 21)), ((24, 30), (21, 30))], [((0, 10), (0, 5)), ((10, 25), (5, 21)), ((25, 30), (21, 30))], [((0, 9), (0, 7)), ((9, 24), (7, 22)), ((24, 30), (22, 30))], [((0, 5), (0, 3)), ((5, 18), (3, 12)), ((18, 30), (12, 30))], [((0, 8), (0, 5)), ((8, 13), (5, 8)), ((13, 30), (8, 30))], [((0, 14), (0, 8)), ((14, 24), (8, 26)), ((24, 30), (26, 30))], [((0, 5), (0, 3)), ((5, 24), (3, 19)), ((24, 30), (19, 30))], [((0, 18), (0, 9)), ((18, 24), (9, 18)), ((24, 30), (18, 30))], [((0, 10), (0, 5)), ((10, 15), (5, 10)), ((15, 30), (10, 30))], [((0, 8), (0, 4)), ((8, 15), (4, 10)), ((15, 30), (10, 30))], [((0, 8), (0, 4)), ((8, 25), (4, 21)), ((25, 30), (21, 30))], [((0, 6), (0, 6)), ((6, 12), (6, 9)), ((12, 30), (9, 30))], [((0, 11), (0, 6)), ((11, 24), (6, 19)), ((24, 30), (19, 30))], [((0, 14), (0, 7)), ((14, 24), (7, 24)), ((24, 30), (24, 30))], [((0, 10), (0, 5)), ((10, 25), (5, 20)), ((25, 30), (20, 30))], [((0, 9), (0, 6)), ((9, 25), (6, 21)), ((25, 30), (21, 30))], [((0, 11), (0, 8)), ((11, 25), (8, 21)), ((25, 30), (21, 30))], [((0, 5), (0, 3)), ((5, 24), (3, 19)), ((24, 30), (19, 30))], [((0, 14), (0, 7)), ((14, 24), (7, 23)), ((24, 30), (23, 30))], [((0, 11), (0, 8)), ((11, 25), (8, 21)), ((25, 30), (21, 30))], [((0, 14), (0, 8)), ((14, 24), (8, 26)), ((24, 30), (26, 30))], [((0, 6), (0, 3)), ((6, 12), (3, 6)), ((12, 30), (6, 30))], [((0, 9), (0, 6)), ((9, 25), (6, 21)), ((25, 30), (21, 30))], [((0, 7), (0, 6)), ((7, 12), (6, 9)), ((12, 30), (9, 30))], [((0, 11), (0, 6)), ((11, 24), (6, 20)), ((24, 30), (20, 30))], [((0, 14), (0, 9)), ((14, 21), (9, 17)), ((21, 30), (17, 30))], [((0, 10), (0, 5)), ((10, 25), (5, 21)), ((25, 30), (21, 30))], [((0, 8), (0, 5)), ((8, 25), (5, 20)), ((25, 30), (20, 30))], [((0, 12), (0, 9)), ((12, 25), (9, 20)), ((25, 30), (20, 30))], [((0, 5), (0, 3)), ((5, 22), (3, 18)), ((22, 30), (18, 30))], [((0, 8), (0, 5)), ((8, 25), (5, 20)), ((25, 30), (20, 30))], [((0, 6), (0, 3)), ((6, 12), (3, 6)), ((12, 30), (6, 30))]]\n",
      "[[((0, 5), (0, 6)), ((5, 21), (6, 20)), ((21, 30), (20, 30))], [((0, 5), (0, 5)), ((5, 22), (5, 19)), ((22, 30), (19, 30))], [((0, 5), (0, 4)), ((5, 20), (4, 18)), ((20, 30), (18, 30))], [((0, 5), (0, 4)), ((5, 21), (4, 18)), ((21, 30), (18, 30))], [((0, 5), (0, 4)), ((5, 22), (4, 18)), ((22, 30), (18, 30))], [((0, 5), (0, 4)), ((5, 21), (4, 18)), ((21, 30), (18, 30))], [((0, 12), (0, 7)), ((12, 25), (7, 27)), ((25, 30), (27, 30))], [((0, 12), (0, 8)), ((12, 17), (8, 18)), ((17, 30), (18, 30))], [((0, 12), (0, 6)), ((12, 25), (6, 23)), ((25, 30), (23, 30))], [((0, 16), (0, 11)), ((16, 25), (11, 25)), ((25, 30), (25, 30))], [((0, 6), (0, 3)), ((6, 25), (3, 22)), ((25, 30), (22, 30))], [((0, 15), (0, 11)), ((15, 25), (11, 25)), ((25, 30), (25, 30))], [((0, 18), (0, 15)), ((18, 24), (15, 26)), ((24, 30), (26, 30))], [((0, 16), (0, 11)), ((16, 25), (11, 25)), ((25, 30), (25, 30))], [((0, 5), (0, 7)), ((5, 23), (7, 20)), ((23, 30), (20, 30))], [((0, 16), (0, 12)), ((16, 25), (12, 25)), ((25, 30), (25, 30))], [((0, 5), (0, 3)), ((5, 21), (3, 19)), ((21, 30), (19, 30))], [((0, 5), (0, 5)), ((5, 21), (5, 19)), ((21, 30), (19, 30))], [((0, 13), (0, 10)), ((13, 25), (10, 25)), ((25, 30), (25, 30))], [((0, 12), (0, 6)), ((12, 25), (6, 24)), ((25, 30), (24, 30))], [((0, 5), (0, 3)), ((5, 22), (3, 21)), ((22, 30), (21, 30))], [((0, 15), (0, 11)), ((15, 20), (11, 18)), ((20, 30), (18, 30))], [((0, 11), (0, 8)), ((11, 17), (8, 15)), ((17, 30), (15, 30))], [((0, 12), (0, 8)), ((12, 22), (8, 26)), ((22, 30), (26, 30))], [((0, 5), (0, 4)), ((5, 22), (4, 18)), ((22, 30), (18, 30))], [((0, 18), (0, 9)), ((18, 25), (9, 23)), ((25, 30), (23, 30))], [((0, 16), (0, 11)), ((16, 21), (11, 20)), ((21, 30), (20, 30))], [((0, 13), (0, 10)), ((13, 21), (10, 20)), ((21, 30), (20, 30))], [((0, 12), (0, 6)), ((12, 25), (6, 23)), ((25, 30), (23, 30))], [((0, 17), (0, 15)), ((17, 23), (15, 26)), ((23, 30), (26, 30))], [((0, 10), (0, 5)), ((10, 24), (5, 22)), ((24, 30), (22, 30))], [((0, 12), (0, 7)), ((12, 22), (7, 24)), ((22, 30), (24, 30))], [((0, 12), (0, 6)), ((12, 25), (6, 22)), ((25, 30), (22, 30))], [((0, 5), (0, 4)), ((5, 20), (4, 18)), ((20, 30), (18, 30))], [((0, 5), (0, 5)), ((5, 22), (5, 19)), ((22, 30), (19, 30))], [((0, 5), (0, 4)), ((5, 22), (4, 18)), ((22, 30), (18, 30))], [((0, 12), (0, 7)), ((12, 25), (7, 26)), ((25, 30), (26, 30))], [((0, 5), (0, 5)), ((5, 22), (5, 19)), ((22, 30), (19, 30))], [((0, 12), (0, 8)), ((12, 22), (8, 26)), ((22, 30), (26, 30))], [((0, 12), (0, 7)), ((12, 25), (7, 25)), ((25, 30), (25, 30))], [((0, 5), (0, 4)), ((5, 20), (4, 18)), ((20, 30), (18, 30))], [((0, 13), (0, 11)), ((13, 21), (11, 21)), ((21, 30), (21, 30))], [((0, 13), (0, 9)), ((13, 18), (9, 14)), ((18, 30), (14, 30))], [((0, 15), (0, 11)), ((15, 20), (11, 18)), ((20, 30), (18, 30))], [((0, 12), (0, 6)), ((12, 25), (6, 24)), ((25, 30), (24, 30))], [((0, 20), (0, 17)), ((20, 25), (17, 22)), ((25, 30), (22, 30))], [((0, 5), (0, 3)), ((5, 22), (3, 19)), ((22, 30), (19, 30))], [((0, 5), (0, 5)), ((5, 21), (5, 19)), ((21, 30), (19, 30))], [((0, 5), (0, 3)), ((5, 22), (3, 19)), ((22, 30), (19, 30))], [((0, 12), (0, 6)), ((12, 20), (6, 21)), ((20, 30), (21, 30))]]\n",
      "[[((0, 8), (0, 11)), ((8, 22), (11, 20)), ((22, 30), (20, 30))], [((0, 8), (0, 10)), ((8, 24), (10, 20)), ((24, 30), (20, 30))], [((0, 8), (0, 10)), ((8, 23), (10, 20)), ((23, 30), (20, 30))], [((0, 8), (0, 9)), ((8, 22), (9, 18)), ((22, 30), (18, 30))], [((0, 8), (0, 9)), ((8, 22), (9, 17)), ((22, 30), (17, 30))], [((0, 7), (0, 9)), ((7, 24), (9, 20)), ((24, 30), (20, 30))], [((0, 5), (0, 3)), ((5, 19), (3, 18)), ((19, 30), (18, 30))], [((0, 15), (0, 15)), ((15, 20), (15, 25)), ((20, 30), (25, 30))], [((0, 14), (0, 9)), ((14, 21), (9, 16)), ((21, 30), (16, 30))], [((0, 12), (0, 12)), ((12, 18), (12, 15)), ((18, 30), (15, 30))], [((0, 16), (0, 14)), ((16, 22), (14, 18)), ((22, 30), (18, 30))], [((0, 12), (0, 12)), ((12, 18), (12, 15)), ((18, 30), (15, 30))], [((0, 8), (0, 9)), ((8, 16), (9, 17)), ((16, 30), (17, 30))], [((0, 12), (0, 12)), ((12, 18), (12, 15)), ((18, 30), (15, 30))], [((0, 7), (0, 10)), ((7, 24), (10, 20)), ((24, 30), (20, 30))], [((0, 15), (0, 15)), ((15, 23), (15, 21)), ((23, 30), (21, 30))], [((0, 7), (0, 9)), ((7, 22), (9, 19)), ((22, 30), (19, 30))], [((0, 8), (0, 10)), ((8, 21), (10, 18)), ((21, 30), (18, 30))], [((0, 12), (0, 12)), ((12, 18), (12, 15)), ((18, 30), (15, 30))], [((0, 5), (0, 3)), ((5, 17), (3, 10)), ((17, 30), (10, 30))], [((0, 7), (0, 10)), ((7, 22), (10, 20)), ((22, 30), (20, 30))], [((0, 14), (0, 14)), ((14, 23), (14, 20)), ((23, 30), (20, 30))], [((0, 12), (0, 12)), ((12, 18), (12, 15)), ((18, 30), (15, 30))], [((0, 9), (0, 8)), ((9, 16), (8, 22)), ((16, 30), (22, 30))], [((0, 8), (0, 9)), ((8, 22), (9, 17)), ((22, 30), (17, 30))], [((0, 14), (0, 9)), ((14, 20), (9, 12)), ((20, 30), (12, 30))], [((0, 12), (0, 12)), ((12, 20), (12, 17)), ((20, 30), (17, 30))], [((0, 12), (0, 12)), ((12, 20), (12, 17)), ((20, 30), (17, 30))], [((0, 6), (0, 3)), ((6, 17), (3, 9)), ((17, 30), (9, 30))], [((0, 13), (0, 15)), ((13, 24), (15, 26)), ((24, 30), (26, 30))], [((0, 8), (0, 7)), ((8, 22), (7, 18)), ((22, 30), (18, 30))], [((0, 18), (0, 15)), ((18, 23), (15, 24)), ((23, 30), (24, 30))], [((0, 14), (0, 9)), ((14, 20), (9, 14)), ((20, 30), (14, 30))], [((0, 8), (0, 10)), ((8, 23), (10, 20)), ((23, 30), (20, 30))], [((0, 10), (0, 12)), ((10, 24), (12, 20)), ((24, 30), (20, 30))], [((0, 8), (0, 9)), ((8, 22), (9, 17)), ((22, 30), (17, 30))], [((0, 5), (0, 3)), ((5, 25), (3, 24)), ((25, 30), (24, 30))], [((0, 8), (0, 10)), ((8, 22), (10, 18)), ((22, 30), (18, 30))], [((0, 9), (0, 8)), ((9, 16), (8, 22)), ((16, 30), (22, 30))], [((0, 5), (0, 3)), ((5, 25), (3, 23)), ((25, 30), (23, 30))], [((0, 8), (0, 10)), ((8, 23), (10, 20)), ((23, 30), (20, 30))], [((0, 13), (0, 14)), ((13, 19), (14, 17)), ((19, 30), (17, 30))], [((0, 8), (0, 7)), ((8, 20), (7, 15)), ((20, 30), (15, 30))], [((0, 7), (0, 7)), ((7, 25), (7, 22)), ((25, 30), (22, 30))], [((0, 5), (0, 3)), ((5, 17), (3, 10)), ((17, 30), (10, 30))], [((0, 7), (0, 9)), ((7, 24), (9, 20)), ((24, 30), (20, 30))], [((0, 7), (0, 9)), ((7, 24), (9, 20)), ((24, 30), (20, 30))], [((0, 12), (0, 15)), ((12, 24), (15, 21)), ((24, 30), (21, 30))], [((0, 8), (0, 9)), ((8, 22), (9, 18)), ((22, 30), (18, 30))], [((0, 11), (0, 8)), ((11, 16), (8, 17)), ((16, 30), (17, 30))]]\n",
      "[[((0, 20), (0, 19)), ((20, 25), (19, 22)), ((25, 30), (22, 30))], [((0, 18), (0, 17)), ((18, 24), (17, 20)), ((24, 30), (20, 30))], [((0, 20), (0, 18)), ((20, 25), (18, 21)), ((25, 30), (21, 30))], [((0, 20), (0, 17)), ((20, 25), (17, 20)), ((25, 30), (20, 30))], [((0, 7), (0, 9)), ((7, 12), (9, 12)), ((12, 30), (12, 30))], [((0, 20), (0, 17)), ((20, 25), (17, 20)), ((25, 30), (20, 30))], [((0, 15), (0, 11)), ((15, 22), (11, 16)), ((22, 30), (16, 30))], [((0, 16), (0, 15)), ((16, 21), (15, 25)), ((21, 30), (25, 30))], [((0, 14), (0, 8)), ((14, 24), (8, 18)), ((24, 30), (18, 30))], [((0, 20), (0, 19)), ((20, 25), (19, 22)), ((25, 30), (22, 30))], [((0, 20), (0, 17)), ((20, 25), (17, 20)), ((25, 30), (20, 30))], [((0, 20), (0, 19)), ((20, 25), (19, 22)), ((25, 30), (22, 30))], [((0, 14), (0, 14)), ((14, 19), (14, 18)), ((19, 30), (18, 30))], [((0, 19), (0, 18)), ((19, 25), (18, 21)), ((25, 30), (21, 30))], [((0, 6), (0, 10)), ((6, 12), (10, 13)), ((12, 30), (13, 30))], [((0, 20), (0, 19)), ((20, 25), (19, 22)), ((25, 30), (22, 30))], [((0, 6), (0, 9)), ((6, 12), (9, 12)), ((12, 30), (12, 30))], [((0, 7), (0, 10)), ((7, 12), (10, 13)), ((12, 30), (13, 30))], [((0, 19), (0, 18)), ((19, 25), (18, 21)), ((25, 30), (21, 30))], [((0, 14), (0, 8)), ((14, 19), (8, 11)), ((19, 30), (11, 30))], [((0, 14), (0, 17)), ((14, 24), (17, 22)), ((24, 30), (22, 30))], [((0, 20), (0, 18)), ((20, 25), (18, 21)), ((25, 30), (21, 30))], [((0, 18), (0, 18)), ((18, 24), (18, 21)), ((24, 30), (21, 30))], [((0, 7), (0, 6)), ((7, 16), (6, 19)), ((16, 30), (19, 30))], [((0, 18), (0, 16)), ((18, 24), (16, 19)), ((24, 30), (19, 30))], [((0, 14), (0, 8)), ((14, 24), (8, 18)), ((24, 30), (18, 30))], [((0, 19), (0, 18)), ((19, 25), (18, 21)), ((25, 30), (21, 30))], [((0, 19), (0, 18)), ((19, 25), (18, 21)), ((25, 30), (21, 30))], [((0, 14), (0, 8)), ((14, 24), (8, 18)), ((24, 30), (18, 30))], [((0, 5), (0, 3)), ((5, 10), (3, 13)), ((10, 30), (13, 30))], [((0, 18), (0, 16)), ((18, 24), (16, 19)), ((24, 30), (19, 30))], [((0, 15), (0, 11)), ((15, 20), (11, 18)), ((20, 30), (18, 30))], [((0, 14), (0, 8)), ((14, 20), (8, 11)), ((20, 30), (11, 30))], [((0, 20), (0, 18)), ((20, 25), (18, 21)), ((25, 30), (21, 30))], [((0, 20), (0, 17)), ((20, 25), (17, 20)), ((25, 30), (20, 30))], [((0, 18), (0, 16)), ((18, 24), (16, 19)), ((24, 30), (19, 30))], [((0, 15), (0, 11)), ((15, 22), (11, 16)), ((22, 30), (16, 30))], [((0, 20), (0, 17)), ((20, 25), (17, 20)), ((25, 30), (20, 30))], [((0, 10), (0, 9)), ((10, 15), (9, 15)), ((15, 30), (15, 30))], [((0, 14), (0, 10)), ((14, 22), (10, 14)), ((22, 30), (14, 30))], [((0, 20), (0, 18)), ((20, 25), (18, 21)), ((25, 30), (21, 30))], [((0, 14), (0, 14)), ((14, 22), (14, 19)), ((22, 30), (19, 30))], [((0, 19), (0, 17)), ((19, 25), (17, 20)), ((25, 30), (20, 30))], [((0, 19), (0, 18)), ((19, 25), (18, 21)), ((25, 30), (21, 30))], [((0, 14), (0, 8)), ((14, 19), (8, 11)), ((19, 30), (11, 30))], [((0, 20), (0, 17)), ((20, 25), (17, 20)), ((25, 30), (20, 30))], [((0, 20), (0, 17)), ((20, 25), (17, 20)), ((25, 30), (20, 30))], [((0, 18), (0, 17)), ((18, 24), (17, 20)), ((24, 30), (20, 30))], [((0, 20), (0, 17)), ((20, 25), (17, 20)), ((25, 30), (20, 30))], [((0, 14), (0, 10)), ((14, 19), (10, 15)), ((19, 30), (15, 30))]]\n",
      "[[((0, 6), (0, 7)), ((6, 25), (7, 27)), ((25, 30), (27, 30))], [((0, 5), (0, 4)), ((5, 25), (4, 27)), ((25, 30), (27, 30))], [((0, 17), (0, 18)), ((17, 22), (18, 23)), ((22, 30), (23, 30))], [((0, 5), (0, 5)), ((5, 10), (5, 10)), ((10, 30), (10, 30))], [((0, 14), (0, 13)), ((14, 25), (13, 24)), ((25, 30), (24, 30))], [((0, 9), (0, 9)), ((9, 24), (9, 23)), ((24, 30), (23, 30))], [((0, 6), (0, 3)), ((6, 23), (3, 26)), ((23, 30), (26, 30))], [((0, 17), (0, 15)), ((17, 24), (15, 27)), ((24, 30), (27, 30))], [((0, 12), (0, 6)), ((12, 24), (6, 27)), ((24, 30), (27, 30))], [((0, 5), (0, 5)), ((5, 10), (5, 8)), ((10, 30), (8, 30))], [((0, 5), (0, 3)), ((5, 10), (3, 8)), ((10, 30), (8, 30))], [((0, 5), (0, 5)), ((5, 10), (5, 8)), ((10, 30), (8, 30))], [((0, 20), (0, 24)), ((20, 25), (24, 27)), ((25, 30), (27, 30))], [((0, 5), (0, 5)), ((5, 10), (5, 8)), ((10, 30), (8, 30))], [((0, 7), (0, 8)), ((7, 25), (8, 25)), ((25, 30), (25, 30))], [((0, 5), (0, 5)), ((5, 10), (5, 8)), ((10, 30), (8, 30))], [((0, 5), (0, 4)), ((5, 25), (4, 27)), ((25, 30), (27, 30))], [((0, 6), (0, 6)), ((6, 25), (6, 27)), ((25, 30), (27, 30))], [((0, 5), (0, 5)), ((5, 10), (5, 8)), ((10, 30), (8, 30))], [((0, 9), (0, 5)), ((9, 24), (5, 27)), ((24, 30), (27, 30))], [((0, 5), (0, 4)), ((5, 19), (4, 21)), ((19, 30), (21, 30))], [((0, 6), (0, 3)), ((6, 21), (3, 22)), ((21, 30), (22, 30))], [((0, 5), (0, 5)), ((5, 10), (5, 8)), ((10, 30), (8, 30))], [((0, 7), (0, 5)), ((7, 12), (5, 8)), ((12, 30), (8, 30))], [((0, 6), (0, 5)), ((6, 25), (5, 24)), ((25, 30), (24, 30))], [((0, 12), (0, 6)), ((12, 24), (6, 25)), ((24, 30), (25, 30))], [((0, 5), (0, 5)), ((5, 10), (5, 8)), ((10, 30), (8, 30))], [((0, 5), (0, 5)), ((5, 10), (5, 8)), ((10, 30), (8, 30))], [((0, 12), (0, 6)), ((12, 24), (6, 26)), ((24, 30), (26, 30))], [((0, 5), (0, 6)), ((5, 10), (6, 9)), ((10, 30), (9, 30))], [((0, 5), (0, 4)), ((5, 10), (4, 7)), ((10, 30), (7, 30))], [((0, 18), (0, 23)), ((18, 23), (23, 26)), ((23, 30), (26, 30))], [((0, 9), (0, 5)), ((9, 25), (5, 27)), ((25, 30), (27, 30))], [((0, 5), (0, 4)), ((5, 21), (4, 22)), ((21, 30), (22, 30))], [((0, 9), (0, 9)), ((9, 25), (9, 25)), ((25, 30), (25, 30))], [((0, 8), (0, 7)), ((8, 25), (7, 25)), ((25, 30), (25, 30))], [((0, 6), (0, 3)), ((6, 23), (3, 26)), ((23, 30), (26, 30))], [((0, 8), (0, 8)), ((8, 25), (8, 26)), ((25, 30), (26, 30))], [((0, 7), (0, 5)), ((7, 12), (5, 8)), ((12, 30), (8, 30))], [((0, 5), (0, 3)), ((5, 10), (3, 6)), ((10, 30), (6, 30))], [((0, 5), (0, 4)), ((5, 25), (4, 27)), ((25, 30), (27, 30))], [((0, 8), (0, 6)), ((8, 19), (6, 22)), ((19, 30), (22, 30))], [((0, 5), (0, 4)), ((5, 10), (4, 7)), ((10, 30), (7, 30))], [((0, 5), (0, 5)), ((5, 10), (5, 8)), ((10, 30), (8, 30))], [((0, 9), (0, 5)), ((9, 24), (5, 27)), ((24, 30), (27, 30))], [((0, 6), (0, 5)), ((6, 25), (5, 26)), ((25, 30), (26, 30))], [((0, 5), (0, 3)), ((5, 10), (3, 9)), ((10, 30), (9, 30))], [((0, 5), (0, 4)), ((5, 25), (4, 27)), ((25, 30), (27, 30))], [((0, 6), (0, 4)), ((6, 25), (4, 26)), ((25, 30), (26, 30))], [((0, 7), (0, 4)), ((7, 13), (4, 7)), ((13, 30), (7, 30))]]\n",
      "[[((0, 5), (0, 10)), ((5, 25), (10, 25)), ((25, 30), (25, 30))], [((0, 5), (0, 9)), ((5, 25), (9, 24)), ((25, 30), (24, 30))], [((0, 5), (0, 9)), ((5, 25), (9, 25)), ((25, 30), (25, 30))], [((0, 6), (0, 9)), ((6, 25), (9, 24)), ((25, 30), (24, 30))], [((0, 5), (0, 8)), ((5, 25), (8, 23)), ((25, 30), (23, 30))], [((0, 5), (0, 8)), ((5, 25), (8, 23)), ((25, 30), (23, 30))], [((0, 15), (0, 15)), ((15, 20), (15, 23)), ((20, 30), (23, 30))], [((0, 11), (0, 15)), ((11, 16), (15, 23)), ((16, 30), (23, 30))], [((0, 5), (0, 4)), ((5, 25), (4, 25)), ((25, 30), (25, 30))], [((0, 11), (0, 15)), ((11, 16), (15, 18)), ((16, 30), (18, 30))], [((0, 8), (0, 10)), ((8, 24), (10, 23)), ((24, 30), (23, 30))], [((0, 8), (0, 10)), ((8, 13), (10, 16)), ((13, 30), (16, 30))], [((0, 12), (0, 17)), ((12, 22), (17, 26)), ((22, 30), (26, 30))], [((0, 11), (0, 15)), ((11, 16), (15, 18)), ((16, 30), (18, 30))], [((0, 8), (0, 13)), ((8, 25), (13, 23)), ((25, 30), (23, 30))], [((0, 10), (0, 13)), ((10, 15), (13, 18)), ((15, 30), (18, 30))], [((0, 5), (0, 9)), ((5, 25), (9, 25)), ((25, 30), (25, 30))], [((0, 8), (0, 13)), ((8, 25), (13, 23)), ((25, 30), (23, 30))], [((0, 8), (0, 10)), ((8, 14), (10, 16)), ((14, 30), (16, 30))], [((0, 5), (0, 4)), ((5, 14), (4, 14)), ((14, 30), (14, 30))], [((0, 5), (0, 9)), ((5, 25), (9, 27)), ((25, 30), (27, 30))], [((0, 8), (0, 10)), ((8, 23), (10, 23)), ((23, 30), (23, 30))], [((0, 10), (0, 13)), ((10, 16), (13, 18)), ((16, 30), (18, 30))], [((0, 11), (0, 12)), ((11, 18), (12, 24)), ((18, 30), (24, 30))], [((0, 5), (0, 8)), ((5, 25), (8, 23)), ((25, 30), (23, 30))], [((0, 5), (0, 3)), ((5, 24), (3, 22)), ((24, 30), (22, 30))], [((0, 12), (0, 15)), ((12, 18), (15, 19)), ((18, 30), (19, 30))], [((0, 8), (0, 10)), ((8, 14), (10, 16)), ((14, 30), (16, 30))], [((0, 5), (0, 3)), ((5, 25), (3, 26)), ((25, 30), (26, 30))], [((0, 10), (0, 15)), ((10, 18), (15, 24)), ((18, 30), (24, 30))], [((0, 5), (0, 6)), ((5, 25), (6, 25)), ((25, 30), (25, 30))], [((0, 15), (0, 15)), ((15, 20), (15, 24)), ((20, 30), (24, 30))], [((0, 5), (0, 4)), ((5, 25), (4, 24)), ((25, 30), (24, 30))], [((0, 8), (0, 12)), ((8, 25), (12, 24)), ((25, 30), (24, 30))], [((0, 7), (0, 11)), ((7, 25), (11, 22)), ((25, 30), (22, 30))], [((0, 5), (0, 8)), ((5, 25), (8, 23)), ((25, 30), (23, 30))], [((0, 14), (0, 14)), ((14, 23), (14, 26)), ((23, 30), (26, 30))], [((0, 5), (0, 9)), ((5, 25), (9, 24)), ((25, 30), (24, 30))], [((0, 11), (0, 12)), ((11, 18), (12, 24)), ((18, 30), (24, 30))], [((0, 5), (0, 5)), ((5, 21), (5, 23)), ((21, 30), (23, 30))], [((0, 8), (0, 12)), ((8, 25), (12, 23)), ((25, 30), (23, 30))], [((0, 12), (0, 18)), ((12, 18), (18, 21)), ((18, 30), (21, 30))], [((0, 5), (0, 6)), ((5, 23), (6, 23)), ((23, 30), (23, 30))], [((0, 8), (0, 10)), ((8, 13), (10, 14)), ((13, 30), (14, 30))], [((0, 5), (0, 4)), ((5, 22), (4, 22)), ((22, 30), (22, 30))], [((0, 5), (0, 8)), ((5, 25), (8, 23)), ((25, 30), (23, 30))], [((0, 5), (0, 9)), ((5, 25), (9, 24)), ((25, 30), (24, 30))], [((0, 5), (0, 9)), ((5, 25), (9, 24)), ((25, 30), (24, 30))], [((0, 6), (0, 10)), ((6, 25), (10, 23)), ((25, 30), (23, 30))], [((0, 14), (0, 13)), ((14, 21), (13, 25)), ((21, 30), (25, 30))]]\n",
      "[[((0, 7), (0, 10)), ((7, 23), (10, 21)), ((23, 30), (21, 30))], [((0, 18), (0, 17)), ((18, 24), (17, 20)), ((24, 30), (20, 30))], [((0, 8), (0, 9)), ((8, 22), (9, 19)), ((22, 30), (19, 30))], [((0, 5), (0, 6)), ((5, 24), (6, 21)), ((24, 30), (21, 30))], [((0, 7), (0, 8)), ((7, 24), (8, 19)), ((24, 30), (19, 30))], [((0, 18), (0, 16)), ((18, 23), (16, 19)), ((23, 30), (19, 30))], [((0, 6), (0, 3)), ((6, 23), (3, 23)), ((23, 30), (23, 30))], [((0, 14), (0, 15)), ((14, 20), (15, 25)), ((20, 30), (25, 30))], [((0, 17), (0, 9)), ((17, 22), (9, 18)), ((22, 30), (18, 30))], [((0, 15), (0, 12)), ((15, 20), (12, 18)), ((20, 30), (18, 30))], [((0, 12), (0, 10)), ((12, 25), (10, 21)), ((25, 30), (21, 30))], [((0, 13), (0, 11)), ((13, 18), (11, 16)), ((18, 30), (16, 30))], [((0, 16), (0, 15)), ((16, 24), (15, 25)), ((24, 30), (25, 30))], [((0, 15), (0, 12)), ((15, 21), (12, 19)), ((21, 30), (19, 30))], [((0, 7), (0, 9)), ((7, 23), (9, 20)), ((23, 30), (20, 30))], [((0, 12), (0, 11)), ((12, 18), (11, 16)), ((18, 30), (16, 30))], [((0, 8), (0, 9)), ((8, 23), (9, 20)), ((23, 30), (20, 30))], [((0, 7), (0, 9)), ((7, 23), (9, 20)), ((23, 30), (20, 30))], [((0, 8), (0, 7)), ((8, 23), (7, 21)), ((23, 30), (21, 30))], [((0, 5), (0, 3)), ((5, 13), (3, 7)), ((13, 30), (7, 30))], [((0, 6), (0, 8)), ((6, 24), (8, 23)), ((24, 30), (23, 30))], [((0, 12), (0, 10)), ((12, 18), (10, 14)), ((18, 30), (14, 30))], [((0, 15), (0, 12)), ((15, 20), (12, 18)), ((20, 30), (18, 30))], [((0, 18), (0, 15)), ((18, 24), (15, 27)), ((24, 30), (27, 30))], [((0, 5), (0, 3)), ((5, 10), (3, 10)), ((10, 30), (10, 30))], [((0, 17), (0, 9)), ((17, 22), (9, 17)), ((22, 30), (17, 30))], [((0, 12), (0, 10)), ((12, 18), (10, 15)), ((18, 30), (15, 30))], [((0, 8), (0, 7)), ((8, 23), (7, 21)), ((23, 30), (21, 30))], [((0, 6), (0, 3)), ((6, 15), (3, 8)), ((15, 30), (8, 30))], [((0, 16), (0, 16)), ((16, 24), (16, 26)), ((24, 30), (26, 30))], [((0, 5), (0, 3)), ((5, 22), (3, 18)), ((22, 30), (18, 30))], [((0, 17), (0, 12)), ((17, 24), (12, 25)), ((24, 30), (25, 30))], [((0, 16), (0, 9)), ((16, 22), (9, 18)), ((22, 30), (18, 30))], [((0, 8), (0, 9)), ((8, 22), (9, 19)), ((22, 30), (19, 30))], [((0, 19), (0, 17)), ((19, 25), (17, 20)), ((25, 30), (20, 30))], [((0, 7), (0, 8)), ((7, 23), (8, 19)), ((23, 30), (19, 30))], [((0, 16), (0, 10)), ((16, 24), (10, 23)), ((24, 30), (23, 30))], [((0, 18), (0, 17)), ((18, 24), (17, 20)), ((24, 30), (20, 30))], [((0, 11), (0, 8)), ((11, 20), (8, 24)), ((20, 30), (24, 30))], [((0, 5), (0, 3)), ((5, 13), (3, 8)), ((13, 30), (8, 30))], [((0, 8), (0, 9)), ((8, 23), (9, 20)), ((23, 30), (20, 30))], [((0, 15), (0, 15)), ((15, 21), (15, 21)), ((21, 30), (21, 30))], [((0, 5), (0, 3)), ((5, 24), (3, 21)), ((24, 30), (21, 30))], [((0, 9), (0, 7)), ((9, 24), (7, 22)), ((24, 30), (22, 30))], [((0, 6), (0, 3)), ((6, 15), (3, 8)), ((15, 30), (8, 30))], [((0, 19), (0, 17)), ((19, 25), (17, 20)), ((25, 30), (20, 30))], [((0, 7), (0, 8)), ((7, 23), (8, 19)), ((23, 30), (19, 30))], [((0, 6), (0, 7)), ((6, 22), (7, 19)), ((22, 30), (19, 30))], [((0, 7), (0, 8)), ((7, 23), (8, 19)), ((23, 30), (19, 30))], [((0, 14), (0, 9)), ((14, 20), (9, 21)), ((20, 30), (21, 30))]]\n",
      "[[((0, 9), (0, 11)), ((9, 23), (11, 22)), ((23, 30), (22, 30))], [((0, 9), (0, 10)), ((9, 23), (10, 21)), ((23, 30), (21, 30))], [((0, 6), (0, 9)), ((6, 14), (9, 13)), ((14, 30), (13, 30))], [((0, 8), (0, 9)), ((8, 22), (9, 20)), ((22, 30), (20, 30))], [((0, 7), (0, 8)), ((7, 23), (8, 19)), ((23, 30), (19, 30))], [((0, 9), (0, 9)), ((9, 23), (9, 20)), ((23, 30), (20, 30))], [((0, 11), (0, 8)), ((11, 25), (8, 27)), ((25, 30), (27, 30))], [((0, 9), (0, 8)), ((9, 14), (8, 18)), ((14, 30), (18, 30))], [((0, 16), (0, 9)), ((16, 22), (9, 20)), ((22, 30), (20, 30))], [((0, 11), (0, 10)), ((11, 16), (10, 16)), ((16, 30), (16, 30))], [((0, 17), (0, 15)), ((17, 24), (15, 22)), ((24, 30), (22, 30))], [((0, 11), (0, 10)), ((11, 16), (10, 16)), ((16, 30), (16, 30))], [((0, 14), (0, 15)), ((14, 22), (15, 24)), ((22, 30), (24, 30))], [((0, 11), (0, 10)), ((11, 17), (10, 16)), ((17, 30), (16, 30))], [((0, 9), (0, 11)), ((9, 25), (11, 22)), ((25, 30), (22, 30))], [((0, 14), (0, 13)), ((14, 19), (13, 19)), ((19, 30), (19, 30))], [((0, 9), (0, 10)), ((9, 14), (10, 13)), ((14, 30), (13, 30))], [((0, 8), (0, 10)), ((8, 23), (10, 21)), ((23, 30), (21, 30))], [((0, 5), (0, 5)), ((5, 10), (5, 9)), ((10, 30), (9, 30))], [((0, 14), (0, 9)), ((14, 25), (9, 26)), ((25, 30), (26, 30))], [((0, 7), (0, 8)), ((7, 21), (8, 21)), ((21, 30), (21, 30))], [((0, 17), (0, 16)), ((17, 22), (16, 21)), ((22, 30), (21, 30))], [((0, 11), (0, 10)), ((11, 16), (10, 16)), ((16, 30), (16, 30))], [((0, 15), (0, 12)), ((15, 22), (12, 26)), ((22, 30), (26, 30))], [((0, 5), (0, 6)), ((5, 21), (6, 18)), ((21, 30), (18, 30))], [((0, 16), (0, 9)), ((16, 21), (9, 17)), ((21, 30), (17, 30))], [((0, 11), (0, 10)), ((11, 17), (10, 16)), ((17, 30), (16, 30))], [((0, 10), (0, 9)), ((10, 18), (9, 18)), ((18, 30), (18, 30))], [((0, 6), (0, 3)), ((6, 12), (3, 6)), ((12, 30), (6, 30))], [((0, 14), (0, 15)), ((14, 22), (15, 26)), ((22, 30), (26, 30))], [((0, 8), (0, 6)), ((8, 23), (6, 21)), ((23, 30), (21, 30))], [((0, 14), (0, 10)), ((14, 22), (10, 25)), ((22, 30), (25, 30))], [((0, 5), (0, 3)), ((5, 13), (3, 7)), ((13, 30), (7, 30))], [((0, 9), (0, 10)), ((9, 25), (10, 23)), ((25, 30), (23, 30))], [((0, 8), (0, 9)), ((8, 22), (9, 20)), ((22, 30), (20, 30))], [((0, 9), (0, 10)), ((9, 25), (10, 21)), ((25, 30), (21, 30))], [((0, 11), (0, 8)), ((11, 25), (8, 27)), ((25, 30), (27, 30))], [((0, 18), (0, 17)), ((18, 25), (17, 22)), ((25, 30), (22, 30))], [((0, 10), (0, 8)), ((10, 19), (8, 24)), ((19, 30), (24, 30))], [((0, 6), (0, 3)), ((6, 19), (3, 19)), ((19, 30), (19, 30))], [((0, 5), (0, 8)), ((5, 14), (8, 13)), ((14, 30), (13, 30))], [((0, 12), (0, 12)), ((12, 17), (12, 19)), ((17, 30), (19, 30))], [((0, 8), (0, 6)), ((8, 24), (6, 22)), ((24, 30), (22, 30))], [((0, 11), (0, 10)), ((11, 17), (10, 16)), ((17, 30), (16, 30))], [((0, 5), (0, 3)), ((5, 11), (3, 6)), ((11, 30), (6, 30))], [((0, 18), (0, 17)), ((18, 24), (17, 20)), ((24, 30), (20, 30))], [((0, 9), (0, 10)), ((9, 25), (10, 21)), ((25, 30), (21, 30))], [((0, 5), (0, 7)), ((5, 21), (7, 19)), ((21, 30), (19, 30))], [((0, 9), (0, 10)), ((9, 25), (10, 21)), ((25, 30), (21, 30))], [((0, 11), (0, 7)), ((11, 19), (7, 21)), ((19, 30), (21, 30))]]\n",
      "[[((0, 6), (0, 12)), ((6, 22), (12, 26)), ((22, 30), (26, 30))], [((0, 6), (0, 12)), ((6, 25), (12, 26)), ((25, 30), (26, 30))], [((0, 5), (0, 10)), ((5, 23), (10, 26)), ((23, 30), (26, 30))], [((0, 5), (0, 10)), ((5, 23), (10, 26)), ((23, 30), (26, 30))], [((0, 5), (0, 10)), ((5, 24), (10, 24)), ((24, 30), (24, 30))], [((0, 6), (0, 11)), ((6, 25), (11, 26)), ((25, 30), (26, 30))], [((0, 11), (0, 13)), ((11, 16), (13, 23)), ((16, 30), (23, 30))], [((0, 7), (0, 10)), ((7, 12), (10, 18)), ((12, 30), (18, 30))], [((0, 10), (0, 10)), ((10, 19), (10, 23)), ((19, 30), (23, 30))], [((0, 10), (0, 15)), ((10, 22), (15, 26)), ((22, 30), (26, 30))], [((0, 19), (0, 24)), ((19, 25), (24, 27)), ((25, 30), (27, 30))], [((0, 11), (0, 17)), ((11, 24), (17, 27)), ((24, 30), (27, 30))], [((0, 11), (0, 20)), ((11, 16), (20, 23)), ((16, 30), (23, 30))], [((0, 12), (0, 18)), ((12, 25), (18, 27)), ((25, 30), (27, 30))], [((0, 6), (0, 12)), ((6, 25), (12, 27)), ((25, 30), (27, 30))], [((0, 10), (0, 17)), ((10, 25), (17, 27)), ((25, 30), (27, 30))], [((0, 5), (0, 10)), ((5, 20), (10, 24)), ((20, 30), (24, 30))], [((0, 9), (0, 17)), ((9, 25), (17, 25)), ((25, 30), (25, 30))], [((0, 11), (0, 17)), ((11, 24), (17, 27)), ((24, 30), (27, 30))], [((0, 10), (0, 10)), ((10, 19), (10, 24)), ((19, 30), (24, 30))], [((0, 6), (0, 12)), ((6, 22), (12, 26)), ((22, 30), (26, 30))], [((0, 10), (0, 15)), ((10, 22), (15, 26)), ((22, 30), (26, 30))], [((0, 9), (0, 14)), ((9, 16), (14, 21)), ((16, 30), (21, 30))], [((0, 8), (0, 12)), ((8, 14), (12, 22)), ((14, 30), (22, 30))], [((0, 5), (0, 10)), ((5, 23), (10, 24)), ((23, 30), (24, 30))], [((0, 11), (0, 10)), ((11, 16), (10, 18)), ((16, 30), (18, 30))], [((0, 12), (0, 18)), ((12, 25), (18, 27)), ((25, 30), (27, 30))], [((0, 11), (0, 17)), ((11, 24), (17, 27)), ((24, 30), (27, 30))], [((0, 17), (0, 21)), ((17, 25), (21, 27)), ((25, 30), (27, 30))], [((0, 9), (0, 16)), ((9, 14), (16, 22)), ((14, 30), (22, 30))], [((0, 20), (0, 24)), ((20, 25), (24, 27)), ((25, 30), (27, 30))], [((0, 11), (0, 13)), ((11, 16), (13, 23)), ((16, 30), (23, 30))], [((0, 7), (0, 7)), ((7, 13), (7, 17)), ((13, 30), (17, 30))], [((0, 5), (0, 9)), ((5, 23), (9, 26)), ((23, 30), (26, 30))], [((0, 5), (0, 10)), ((5, 24), (10, 26)), ((24, 30), (26, 30))], [((0, 5), (0, 10)), ((5, 23), (10, 24)), ((23, 30), (24, 30))], [((0, 18), (0, 24)), ((18, 24), (24, 27)), ((24, 30), (27, 30))], [((0, 6), (0, 12)), ((6, 25), (12, 27)), ((25, 30), (27, 30))], [((0, 11), (0, 13)), ((11, 16), (13, 23)), ((16, 30), (23, 30))], [((0, 18), (0, 24)), ((18, 24), (24, 27)), ((24, 30), (27, 30))], [((0, 6), (0, 11)), ((6, 24), (11, 27)), ((24, 30), (27, 30))], [((0, 10), (0, 19)), ((10, 24), (19, 27)), ((24, 30), (27, 30))], [((0, 19), (0, 24)), ((19, 25), (24, 27)), ((25, 30), (27, 30))], [((0, 8), (0, 13)), ((8, 24), (13, 27)), ((24, 30), (27, 30))], [((0, 7), (0, 7)), ((7, 20), (7, 25)), ((20, 30), (25, 30))], [((0, 6), (0, 11)), ((6, 25), (11, 26)), ((25, 30), (26, 30))], [((0, 5), (0, 10)), ((5, 25), (10, 27)), ((25, 30), (27, 30))], [((0, 5), (0, 9)), ((5, 23), (9, 26)), ((23, 30), (26, 30))], [((0, 5), (0, 10)), ((5, 25), (10, 27)), ((25, 30), (27, 30))], [((0, 10), (0, 11)), ((10, 16), (11, 23)), ((16, 30), (23, 30))]]\n",
      "[[((0, 10), (0, 11)), ((10, 24), (11, 18)), ((24, 30), (18, 30))], [((0, 9), (0, 10)), ((9, 15), (10, 13)), ((15, 30), (13, 30))], [((0, 5), (0, 3)), ((5, 10), (3, 6)), ((10, 30), (6, 30))], [((0, 6), (0, 3)), ((6, 11), (3, 10)), ((11, 30), (10, 30))], [((0, 8), (0, 8)), ((8, 14), (8, 11)), ((14, 30), (11, 30))], [((0, 8), (0, 8)), ((8, 14), (8, 11)), ((14, 30), (11, 30))], [((0, 17), (0, 10)), ((17, 22), (10, 14)), ((22, 30), (14, 30))], [((0, 12), (0, 9)), ((12, 21), (9, 25)), ((21, 30), (25, 30))], [((0, 14), (0, 7)), ((14, 20), (7, 10)), ((20, 30), (10, 30))], [((0, 11), (0, 8)), ((11, 22), (8, 14)), ((22, 30), (14, 30))], [((0, 11), (0, 8)), ((11, 22), (8, 14)), ((22, 30), (14, 30))], [((0, 15), (0, 11)), ((15, 22), (11, 15)), ((22, 30), (15, 30))], [((0, 13), (0, 11)), ((13, 22), (11, 16)), ((22, 30), (16, 30))], [((0, 10), (0, 7)), ((10, 22), (7, 14)), ((22, 30), (14, 30))], [((0, 9), (0, 10)), ((9, 14), (10, 13)), ((14, 30), (13, 30))], [((0, 10), (0, 8)), ((10, 22), (8, 14)), ((22, 30), (14, 30))], [((0, 10), (0, 9)), ((10, 24), (9, 18)), ((24, 30), (18, 30))], [((0, 9), (0, 10)), ((9, 15), (10, 13)), ((15, 30), (13, 30))], [((0, 15), (0, 11)), ((15, 24), (11, 18)), ((24, 30), (18, 30))], [((0, 17), (0, 9)), ((17, 22), (9, 14)), ((22, 30), (14, 30))], [((0, 10), (0, 10)), ((10, 24), (10, 18)), ((24, 30), (18, 30))], [((0, 18), (0, 13)), ((18, 24), (13, 18)), ((24, 30), (18, 30))], [((0, 15), (0, 11)), ((15, 22), (11, 15)), ((22, 30), (15, 30))], [((0, 17), (0, 12)), ((17, 22), (12, 22)), ((22, 30), (22, 30))], [((0, 6), (0, 3)), ((6, 11), (3, 10)), ((11, 30), (10, 30))], [((0, 12), (0, 6)), ((12, 20), (6, 10)), ((20, 30), (10, 30))], [((0, 11), (0, 8)), ((11, 22), (8, 14)), ((22, 30), (14, 30))], [((0, 15), (0, 11)), ((15, 22), (11, 15)), ((22, 30), (15, 30))], [((0, 12), (0, 6)), ((12, 18), (6, 9)), ((18, 30), (9, 30))], [((0, 13), (0, 11)), ((13, 18), (11, 15)), ((18, 30), (15, 30))], [((0, 9), (0, 6)), ((9, 22), (6, 14)), ((22, 30), (14, 30))], [((0, 5), (0, 3)), ((5, 21), (3, 12)), ((21, 30), (12, 30))], [((0, 14), (0, 7)), ((14, 20), (7, 10)), ((20, 30), (10, 30))], [((0, 10), (0, 9)), ((10, 24), (9, 18)), ((24, 30), (18, 30))], [((0, 8), (0, 9)), ((8, 14), (9, 12)), ((14, 30), (12, 30))], [((0, 6), (0, 5)), ((6, 11), (5, 8)), ((11, 30), (8, 30))], [((0, 17), (0, 10)), ((17, 22), (10, 14)), ((22, 30), (14, 30))], [((0, 8), (0, 9)), ((8, 14), (9, 12)), ((14, 30), (12, 30))], [((0, 5), (0, 4)), ((5, 17), (4, 10)), ((17, 30), (10, 30))], [((0, 17), (0, 10)), ((17, 22), (10, 14)), ((22, 30), (14, 30))], [((0, 8), (0, 9)), ((8, 14), (9, 12)), ((14, 30), (12, 30))], [((0, 18), (0, 16)), ((18, 25), (16, 20)), ((25, 30), (20, 30))], [((0, 10), (0, 7)), ((10, 22), (7, 14)), ((22, 30), (14, 30))], [((0, 15), (0, 11)), ((15, 24), (11, 18)), ((24, 30), (18, 30))], [((0, 18), (0, 9)), ((18, 23), (9, 16)), ((23, 30), (16, 30))], [((0, 6), (0, 6)), ((6, 11), (6, 10)), ((11, 30), (10, 30))], [((0, 6), (0, 3)), ((6, 11), (3, 8)), ((11, 30), (8, 30))], [((0, 5), (0, 3)), ((5, 10), (3, 9)), ((10, 30), (9, 30))], [((0, 6), (0, 3)), ((6, 11), (3, 10)), ((11, 30), (10, 30))], [((0, 16), (0, 9)), ((16, 21), (9, 12)), ((21, 30), (12, 30))]]\n",
      "[[((0, 6), (0, 11)), ((6, 19), (11, 22)), ((19, 30), (22, 30))], [((0, 7), (0, 11)), ((7, 25), (11, 25)), ((25, 30), (25, 30))], [((0, 5), (0, 9)), ((5, 19), (9, 21)), ((19, 30), (21, 30))], [((0, 6), (0, 9)), ((6, 25), (9, 27)), ((25, 30), (27, 30))], [((0, 7), (0, 10)), ((7, 25), (10, 24)), ((25, 30), (24, 30))], [((0, 7), (0, 10)), ((7, 25), (10, 24)), ((25, 30), (24, 30))], [((0, 5), (0, 5)), ((5, 22), (5, 26)), ((22, 30), (26, 30))], [((0, 12), (0, 15)), ((12, 17), (15, 23)), ((17, 30), (23, 30))], [((0, 5), (0, 4)), ((5, 23), (4, 25)), ((23, 30), (25, 30))], [((0, 5), (0, 7)), ((5, 20), (7, 24)), ((20, 30), (24, 30))], [((0, 10), (0, 12)), ((10, 16), (12, 18)), ((16, 30), (18, 30))], [((0, 5), (0, 7)), ((5, 20), (7, 24)), ((20, 30), (24, 30))], [((0, 18), (0, 24)), ((18, 24), (24, 27)), ((24, 30), (27, 30))], [((0, 19), (0, 22)), ((19, 25), (22, 25)), ((25, 30), (25, 30))], [((0, 6), (0, 10)), ((6, 25), (10, 26)), ((25, 30), (26, 30))], [((0, 11), (0, 15)), ((11, 23), (15, 26)), ((23, 30), (26, 30))], [((0, 5), (0, 9)), ((5, 21), (9, 24)), ((21, 30), (24, 30))], [((0, 6), (0, 10)), ((6, 25), (10, 26)), ((25, 30), (26, 30))], [((0, 5), (0, 7)), ((5, 23), (7, 26)), ((23, 30), (26, 30))], [((0, 5), (0, 5)), ((5, 23), (5, 26)), ((23, 30), (26, 30))], [((0, 6), (0, 10)), ((6, 24), (10, 27)), ((24, 30), (27, 30))], [((0, 11), (0, 14)), ((11, 23), (14, 25)), ((23, 30), (25, 30))], [((0, 5), (0, 7)), ((5, 20), (7, 24)), ((20, 30), (24, 30))], [((0, 13), (0, 15)), ((13, 18), (15, 24)), ((18, 30), (24, 30))], [((0, 6), (0, 9)), ((6, 25), (9, 25)), ((25, 30), (25, 30))], [((0, 11), (0, 9)), ((11, 24), (9, 26)), ((24, 30), (26, 30))], [((0, 5), (0, 7)), ((5, 20), (7, 23)), ((20, 30), (23, 30))], [((0, 5), (0, 7)), ((5, 20), (7, 23)), ((20, 30), (23, 30))], [((0, 5), (0, 4)), ((5, 23), (4, 26)), ((23, 30), (26, 30))], [((0, 5), (0, 9)), ((5, 22), (9, 26)), ((22, 30), (26, 30))], [((0, 20), (0, 21)), ((20, 25), (21, 26)), ((25, 30), (26, 30))], [((0, 18), (0, 24)), ((18, 24), (24, 27)), ((24, 30), (27, 30))], [((0, 5), (0, 4)), ((5, 25), (4, 27)), ((25, 30), (27, 30))], [((0, 5), (0, 9)), ((5, 19), (9, 21)), ((19, 30), (21, 30))], [((0, 7), (0, 11)), ((7, 25), (11, 25)), ((25, 30), (25, 30))], [((0, 6), (0, 9)), ((6, 25), (9, 25)), ((25, 30), (25, 30))], [((0, 19), (0, 23)), ((19, 25), (23, 26)), ((25, 30), (26, 30))], [((0, 7), (0, 11)), ((7, 25), (11, 25)), ((25, 30), (25, 30))], [((0, 13), (0, 15)), ((13, 18), (15, 24)), ((18, 30), (24, 30))], [((0, 5), (0, 5)), ((5, 22), (5, 26)), ((22, 30), (26, 30))], [((0, 5), (0, 9)), ((5, 25), (9, 27)), ((25, 30), (27, 30))], [((0, 6), (0, 9)), ((6, 17), (9, 22)), ((17, 30), (22, 30))], [((0, 5), (0, 6)), ((5, 24), (6, 26)), ((24, 30), (26, 30))], [((0, 5), (0, 7)), ((5, 20), (7, 23)), ((20, 30), (23, 30))], [((0, 5), (0, 4)), ((5, 24), (4, 27)), ((24, 30), (27, 30))], [((0, 6), (0, 9)), ((6, 25), (9, 25)), ((25, 30), (25, 30))], [((0, 8), (0, 11)), ((8, 25), (11, 25)), ((25, 30), (25, 30))], [((0, 5), (0, 8)), ((5, 19), (8, 21)), ((19, 30), (21, 30))], [((0, 6), (0, 9)), ((6, 25), (9, 25)), ((25, 30), (25, 30))], [((0, 6), (0, 5)), ((6, 16), (5, 22)), ((16, 30), (22, 30))]]\n",
      "[[((0, 7), (0, 12)), ((7, 25), (12, 21)), ((25, 30), (21, 30))], [((0, 20), (0, 17)), ((20, 25), (17, 20)), ((25, 30), (20, 30))], [((0, 8), (0, 12)), ((8, 25), (12, 21)), ((25, 30), (21, 30))], [((0, 20), (0, 17)), ((20, 25), (17, 20)), ((25, 30), (20, 30))], [((0, 7), (0, 9)), ((7, 25), (9, 20)), ((25, 30), (20, 30))], [((0, 20), (0, 17)), ((20, 25), (17, 20)), ((25, 30), (20, 30))], [((0, 13), (0, 11)), ((13, 19), (11, 15)), ((19, 30), (15, 30))], [((0, 14), (0, 15)), ((14, 20), (15, 25)), ((20, 30), (25, 30))], [((0, 18), (0, 13)), ((18, 24), (13, 18)), ((24, 30), (18, 30))], [((0, 15), (0, 16)), ((15, 25), (16, 22)), ((25, 30), (22, 30))], [((0, 12), (0, 13)), ((12, 25), (13, 20)), ((25, 30), (20, 30))], [((0, 20), (0, 18)), ((20, 25), (18, 22)), ((25, 30), (22, 30))], [((0, 10), (0, 14)), ((10, 24), (14, 23)), ((24, 30), (23, 30))], [((0, 19), (0, 18)), ((19, 25), (18, 21)), ((25, 30), (21, 30))], [((0, 20), (0, 17)), ((20, 25), (17, 20)), ((25, 30), (20, 30))], [((0, 12), (0, 15)), ((12, 25), (15, 22)), ((25, 30), (22, 30))], [((0, 7), (0, 10)), ((7, 25), (10, 21)), ((25, 30), (21, 30))], [((0, 7), (0, 11)), ((7, 25), (11, 20)), ((25, 30), (20, 30))], [((0, 19), (0, 18)), ((19, 25), (18, 21)), ((25, 30), (21, 30))], [((0, 19), (0, 15)), ((19, 25), (15, 20)), ((25, 30), (20, 30))], [((0, 8), (0, 12)), ((8, 25), (12, 22)), ((25, 30), (22, 30))], [((0, 20), (0, 18)), ((20, 25), (18, 21)), ((25, 30), (21, 30))], [((0, 19), (0, 18)), ((19, 24), (18, 21)), ((24, 30), (21, 30))], [((0, 8), (0, 8)), ((8, 13), (8, 18)), ((13, 30), (18, 30))], [((0, 7), (0, 9)), ((7, 25), (9, 20)), ((25, 30), (20, 30))], [((0, 19), (0, 14)), ((19, 24), (14, 18)), ((24, 30), (18, 30))], [((0, 19), (0, 18)), ((19, 25), (18, 21)), ((25, 30), (21, 30))], [((0, 19), (0, 18)), ((19, 25), (18, 21)), ((25, 30), (21, 30))], [((0, 18), (0, 13)), ((18, 23), (13, 16)), ((23, 30), (16, 30))], [((0, 10), (0, 14)), ((10, 16), (14, 18)), ((16, 30), (18, 30))], [((0, 12), (0, 13)), ((12, 25), (13, 20)), ((25, 30), (20, 30))], [((0, 13), (0, 13)), ((13, 18), (13, 16)), ((18, 30), (16, 30))], [((0, 18), (0, 13)), ((18, 24), (13, 18)), ((24, 30), (18, 30))], [((0, 7), (0, 10)), ((7, 25), (10, 21)), ((25, 30), (21, 30))], [((0, 20), (0, 17)), ((20, 25), (17, 20)), ((25, 30), (20, 30))], [((0, 19), (0, 16)), ((19, 24), (16, 19)), ((24, 30), (19, 30))], [((0, 13), (0, 11)), ((13, 19), (11, 15)), ((19, 30), (15, 30))], [((0, 20), (0, 17)), ((20, 25), (17, 20)), ((25, 30), (20, 30))], [((0, 12), (0, 12)), ((12, 17), (12, 19)), ((17, 30), (19, 30))], [((0, 16), (0, 14)), ((16, 23), (14, 19)), ((23, 30), (19, 30))], [((0, 7), (0, 10)), ((7, 25), (10, 20)), ((25, 30), (20, 30))], [((0, 8), (0, 11)), ((8, 25), (11, 23)), ((25, 30), (23, 30))], [((0, 15), (0, 15)), ((15, 25), (15, 20)), ((25, 30), (20, 30))], [((0, 20), (0, 18)), ((20, 25), (18, 21)), ((25, 30), (21, 30))], [((0, 18), (0, 14)), ((18, 24), (14, 19)), ((24, 30), (19, 30))], [((0, 20), (0, 17)), ((20, 25), (17, 20)), ((25, 30), (20, 30))], [((0, 20), (0, 17)), ((20, 25), (17, 20)), ((25, 30), (20, 30))], [((0, 20), (0, 17)), ((20, 25), (17, 20)), ((25, 30), (20, 30))], [((0, 7), (0, 10)), ((7, 25), (10, 20)), ((25, 30), (20, 30))], [((0, 15), (0, 13)), ((15, 20), (13, 18)), ((20, 30), (18, 30))]]\n",
      "[[((0, 9), (0, 17)), ((9, 25), (17, 25)), ((25, 30), (25, 30))], [((0, 6), (0, 12)), ((6, 25), (12, 26)), ((25, 30), (26, 30))], [((0, 6), (0, 12)), ((6, 25), (12, 26)), ((25, 30), (26, 30))], [((0, 6), (0, 12)), ((6, 23), (12, 24)), ((23, 30), (24, 30))], [((0, 6), (0, 12)), ((6, 23), (12, 22)), ((23, 30), (22, 30))], [((0, 6), (0, 12)), ((6, 24), (12, 24)), ((24, 30), (24, 30))], [((0, 11), (0, 16)), ((11, 16), (16, 22)), ((16, 30), (22, 30))], [((0, 9), (0, 18)), ((9, 14), (18, 22)), ((14, 30), (22, 30))], [((0, 20), (0, 23)), ((20, 25), (23, 27)), ((25, 30), (27, 30))], [((0, 7), (0, 14)), ((7, 12), (14, 18)), ((12, 30), (18, 30))], [((0, 5), (0, 10)), ((5, 24), (10, 26)), ((24, 30), (26, 30))], [((0, 7), (0, 14)), ((7, 14), (14, 20)), ((14, 30), (20, 30))], [((0, 6), (0, 12)), ((6, 12), (12, 21)), ((12, 30), (21, 30))], [((0, 7), (0, 14)), ((7, 12), (14, 18)), ((12, 30), (18, 30))], [((0, 11), (0, 17)), ((11, 23), (17, 23)), ((23, 30), (23, 30))], [((0, 6), (0, 12)), ((6, 11), (12, 18)), ((11, 30), (18, 30))], [((0, 6), (0, 12)), ((6, 25), (12, 26)), ((25, 30), (26, 30))], [((0, 6), (0, 12)), ((6, 25), (12, 26)), ((25, 30), (26, 30))], [((0, 7), (0, 14)), ((7, 12), (14, 18)), ((12, 30), (18, 30))], [((0, 8), (0, 11)), ((8, 14), (11, 18)), ((14, 30), (18, 30))], [((0, 6), (0, 12)), ((6, 24), (12, 27)), ((24, 30), (27, 30))], [((0, 6), (0, 12)), ((6, 23), (12, 26)), ((23, 30), (26, 30))], [((0, 7), (0, 14)), ((7, 12), (14, 18)), ((12, 30), (18, 30))], [((0, 9), (0, 18)), ((9, 14), (18, 22)), ((14, 30), (22, 30))], [((0, 6), (0, 12)), ((6, 25), (12, 24)), ((25, 30), (24, 30))], [((0, 8), (0, 10)), ((8, 24), (10, 24)), ((24, 30), (24, 30))], [((0, 7), (0, 14)), ((7, 12), (14, 18)), ((12, 30), (18, 30))], [((0, 7), (0, 14)), ((7, 12), (14, 18)), ((12, 30), (18, 30))], [((0, 12), (0, 15)), ((12, 19), (15, 22)), ((19, 30), (22, 30))], [((0, 6), (0, 12)), ((6, 12), (12, 21)), ((12, 30), (21, 30))], [((0, 6), (0, 11)), ((6, 25), (11, 25)), ((25, 30), (25, 30))], [((0, 11), (0, 16)), ((11, 16), (16, 23)), ((16, 30), (23, 30))], [((0, 16), (0, 18)), ((16, 23), (18, 24)), ((23, 30), (24, 30))], [((0, 6), (0, 12)), ((6, 25), (12, 26)), ((25, 30), (26, 30))], [((0, 6), (0, 12)), ((6, 23), (12, 24)), ((23, 30), (24, 30))], [((0, 6), (0, 12)), ((6, 25), (12, 24)), ((25, 30), (24, 30))], [((0, 11), (0, 16)), ((11, 18), (16, 24)), ((18, 30), (24, 30))], [((0, 6), (0, 12)), ((6, 23), (12, 24)), ((23, 30), (24, 30))], [((0, 9), (0, 17)), ((9, 14), (17, 22)), ((14, 30), (22, 30))], [((0, 8), (0, 13)), ((8, 20), (13, 25)), ((20, 30), (25, 30))], [((0, 6), (0, 12)), ((6, 25), (12, 26)), ((25, 30), (26, 30))], [((0, 6), (0, 12)), ((6, 14), (12, 21)), ((14, 30), (21, 30))], [((0, 5), (0, 10)), ((5, 24), (10, 26)), ((24, 30), (26, 30))], [((0, 7), (0, 14)), ((7, 17), (14, 21)), ((17, 30), (21, 30))], [((0, 7), (0, 9)), ((7, 20), (9, 23)), ((20, 30), (23, 30))], [((0, 6), (0, 12)), ((6, 23), (12, 24)), ((23, 30), (24, 30))], [((0, 20), (0, 24)), ((20, 25), (24, 27)), ((25, 30), (27, 30))], [((0, 11), (0, 17)), ((11, 23), (17, 23)), ((23, 30), (23, 30))], [((0, 6), (0, 12)), ((6, 25), (12, 24)), ((25, 30), (24, 30))], [((0, 9), (0, 17)), ((9, 14), (17, 22)), ((14, 30), (22, 30))]]\n",
      "[[((0, 5), (0, 9)), ((5, 18), (9, 23)), ((18, 30), (23, 30))], [((0, 5), (0, 7)), ((5, 20), (7, 25)), ((20, 30), (25, 30))], [((0, 5), (0, 7)), ((5, 17), (7, 23)), ((17, 30), (23, 30))], [((0, 17), (0, 21)), ((17, 24), (21, 26)), ((24, 30), (26, 30))], [((0, 16), (0, 19)), ((16, 21), (19, 25)), ((21, 30), (25, 30))], [((0, 19), (0, 23)), ((19, 25), (23, 27)), ((25, 30), (27, 30))], [((0, 6), (0, 3)), ((6, 16), (3, 23)), ((16, 30), (23, 30))], [((0, 11), (0, 12)), ((11, 24), (12, 27)), ((24, 30), (27, 30))], [((0, 9), (0, 6)), ((9, 17), (6, 22)), ((17, 30), (22, 30))], [((0, 9), (0, 9)), ((9, 17), (9, 23)), ((17, 30), (23, 30))], [((0, 5), (0, 3)), ((5, 15), (3, 19)), ((15, 30), (19, 30))], [((0, 8), (0, 9)), ((8, 17), (9, 23)), ((17, 30), (23, 30))], [((0, 18), (0, 24)), ((18, 24), (24, 27)), ((24, 30), (27, 30))], [((0, 9), (0, 9)), ((9, 17), (9, 23)), ((17, 30), (23, 30))], [((0, 5), (0, 7)), ((5, 20), (7, 25)), ((20, 30), (25, 30))], [((0, 8), (0, 9)), ((8, 17), (9, 23)), ((17, 30), (23, 30))], [((0, 5), (0, 6)), ((5, 18), (6, 24)), ((18, 30), (24, 30))], [((0, 6), (0, 8)), ((6, 18), (8, 24)), ((18, 30), (24, 30))], [((0, 7), (0, 7)), ((7, 16), (7, 22)), ((16, 30), (22, 30))], [((0, 8), (0, 5)), ((8, 16), (5, 21)), ((16, 30), (21, 30))], [((0, 17), (0, 23)), ((17, 22), (23, 26)), ((22, 30), (26, 30))], [((0, 5), (0, 3)), ((5, 15), (3, 20)), ((15, 30), (20, 30))], [((0, 7), (0, 7)), ((7, 16), (7, 22)), ((16, 30), (22, 30))], [((0, 8), (0, 7)), ((8, 22), (7, 26)), ((22, 30), (26, 30))], [((0, 17), (0, 20)), ((17, 22), (20, 25)), ((22, 30), (25, 30))], [((0, 6), (0, 3)), ((6, 22), (3, 26)), ((22, 30), (26, 30))], [((0, 9), (0, 9)), ((9, 17), (9, 23)), ((17, 30), (23, 30))], [((0, 7), (0, 7)), ((7, 16), (7, 22)), ((16, 30), (22, 30))], [((0, 6), (0, 3)), ((6, 22), (3, 26)), ((22, 30), (26, 30))], [((0, 6), (0, 8)), ((6, 22), (8, 26)), ((22, 30), (26, 30))], [((0, 6), (0, 6)), ((6, 22), (6, 26)), ((22, 30), (26, 30))], [((0, 18), (0, 24)), ((18, 24), (24, 27)), ((24, 30), (27, 30))], [((0, 8), (0, 5)), ((8, 18), (5, 24)), ((18, 30), (24, 30))], [((0, 5), (0, 5)), ((5, 17), (5, 23)), ((17, 30), (23, 30))], [((0, 5), (0, 7)), ((5, 19), (7, 24)), ((19, 30), (24, 30))], [((0, 19), (0, 23)), ((19, 25), (23, 26)), ((25, 30), (26, 30))], [((0, 19), (0, 23)), ((19, 25), (23, 26)), ((25, 30), (26, 30))], [((0, 16), (0, 20)), ((16, 25), (20, 25)), ((25, 30), (25, 30))], [((0, 8), (0, 7)), ((8, 22), (7, 26)), ((22, 30), (26, 30))], [((0, 6), (0, 3)), ((6, 16), (3, 22)), ((16, 30), (22, 30))], [((0, 18), (0, 23)), ((18, 25), (23, 27)), ((25, 30), (27, 30))], [((0, 7), (0, 9)), ((7, 15), (9, 22)), ((15, 30), (22, 30))], [((0, 7), (0, 6)), ((7, 17), (6, 23)), ((17, 30), (23, 30))], [((0, 7), (0, 7)), ((7, 17), (7, 23)), ((17, 30), (23, 30))], [((0, 8), (0, 5)), ((8, 17), (5, 23)), ((17, 30), (23, 30))], [((0, 19), (0, 23)), ((19, 25), (23, 27)), ((25, 30), (27, 30))], [((0, 19), (0, 23)), ((19, 25), (23, 27)), ((25, 30), (27, 30))], [((0, 5), (0, 8)), ((5, 18), (8, 22)), ((18, 30), (22, 30))], [((0, 7), (0, 8)), ((7, 19), (8, 23)), ((19, 30), (23, 30))], [((0, 7), (0, 5)), ((7, 16), (5, 23)), ((16, 30), (23, 30))]]\n",
      "[[((0, 6), (0, 7)), ((6, 19), (7, 24)), ((19, 30), (24, 30))], [((0, 6), (0, 7)), ((6, 24), (7, 27)), ((24, 30), (27, 30))], [((0, 20), (0, 24)), ((20, 25), (24, 27)), ((25, 30), (27, 30))], [((0, 5), (0, 3)), ((5, 19), (3, 23)), ((19, 30), (23, 30))], [((0, 5), (0, 3)), ((5, 21), (3, 25)), ((21, 30), (25, 30))], [((0, 7), (0, 6)), ((7, 20), (6, 24)), ((20, 30), (24, 30))], [((0, 8), (0, 4)), ((8, 18), (4, 24)), ((18, 30), (24, 30))], [((0, 11), (0, 15)), ((11, 24), (15, 27)), ((24, 30), (27, 30))], [((0, 10), (0, 5)), ((10, 20), (5, 25)), ((20, 30), (25, 30))], [((0, 10), (0, 9)), ((10, 18), (9, 23)), ((18, 30), (23, 30))], [((0, 9), (0, 7)), ((9, 17), (7, 20)), ((17, 30), (20, 30))], [((0, 10), (0, 9)), ((10, 18), (9, 23)), ((18, 30), (23, 30))], [((0, 19), (0, 24)), ((19, 24), (24, 27)), ((24, 30), (27, 30))], [((0, 9), (0, 7)), ((9, 17), (7, 22)), ((17, 30), (22, 30))], [((0, 20), (0, 24)), ((20, 25), (24, 27)), ((25, 30), (27, 30))], [((0, 10), (0, 9)), ((10, 18), (9, 23)), ((18, 30), (23, 30))], [((0, 5), (0, 4)), ((5, 20), (4, 25)), ((20, 30), (25, 30))], [((0, 5), (0, 4)), ((5, 20), (4, 25)), ((20, 30), (25, 30))], [((0, 10), (0, 9)), ((10, 18), (9, 23)), ((18, 30), (23, 30))], [((0, 9), (0, 5)), ((9, 19), (5, 24)), ((19, 30), (24, 30))], [((0, 19), (0, 23)), ((19, 25), (23, 26)), ((25, 30), (26, 30))], [((0, 6), (0, 3)), ((6, 18), (3, 23)), ((18, 30), (23, 30))], [((0, 9), (0, 8)), ((9, 17), (8, 22)), ((17, 30), (22, 30))], [((0, 6), (0, 5)), ((6, 11), (5, 8)), ((11, 30), (8, 30))], [((0, 7), (0, 7)), ((7, 24), (7, 27)), ((24, 30), (27, 30))], [((0, 10), (0, 5)), ((10, 20), (5, 25)), ((20, 30), (25, 30))], [((0, 10), (0, 9)), ((10, 18), (9, 23)), ((18, 30), (23, 30))], [((0, 10), (0, 9)), ((10, 18), (9, 23)), ((18, 30), (23, 30))], [((0, 10), (0, 5)), ((10, 20), (5, 25)), ((20, 30), (25, 30))], [((0, 5), (0, 6)), ((5, 10), (6, 10)), ((10, 30), (10, 30))], [((0, 10), (0, 8)), ((10, 20), (8, 25)), ((20, 30), (25, 30))], [((0, 19), (0, 24)), ((19, 24), (24, 27)), ((24, 30), (27, 30))], [((0, 9), (0, 5)), ((9, 21), (5, 25)), ((21, 30), (25, 30))], [((0, 5), (0, 6)), ((5, 23), (6, 26)), ((23, 30), (26, 30))], [((0, 6), (0, 6)), ((6, 21), (6, 25)), ((21, 30), (25, 30))], [((0, 6), (0, 4)), ((6, 22), (4, 26)), ((22, 30), (26, 30))], [((0, 10), (0, 7)), ((10, 18), (7, 23)), ((18, 30), (23, 30))], [((0, 8), (0, 8)), ((8, 20), (8, 24)), ((20, 30), (24, 30))], [((0, 6), (0, 5)), ((6, 11), (5, 8)), ((11, 30), (8, 30))], [((0, 8), (0, 4)), ((8, 18), (4, 24)), ((18, 30), (24, 30))], [((0, 5), (0, 4)), ((5, 20), (4, 25)), ((20, 30), (25, 30))], [((0, 9), (0, 9)), ((9, 17), (9, 23)), ((17, 30), (23, 30))], [((0, 9), (0, 7)), ((9, 17), (7, 20)), ((17, 30), (20, 30))], [((0, 9), (0, 8)), ((9, 17), (8, 21)), ((17, 30), (21, 30))], [((0, 9), (0, 5)), ((9, 19), (5, 24)), ((19, 30), (24, 30))], [((0, 8), (0, 7)), ((8, 20), (7, 23)), ((20, 30), (23, 30))], [((0, 5), (0, 4)), ((5, 20), (4, 23)), ((20, 30), (23, 30))], [((0, 6), (0, 7)), ((6, 24), (7, 27)), ((24, 30), (27, 30))], [((0, 7), (0, 7)), ((7, 24), (7, 27)), ((24, 30), (27, 30))], [((0, 6), (0, 3)), ((6, 11), (3, 7)), ((11, 30), (7, 30))]]\n",
      "[[((0, 6), (0, 3)), ((6, 24), (3, 27)), ((24, 30), (27, 30))], [((0, 7), (0, 4)), ((7, 25), (4, 27)), ((25, 30), (27, 30))], [((0, 9), (0, 6)), ((9, 24), (6, 27)), ((24, 30), (27, 30))], [((0, 9), (0, 6)), ((9, 24), (6, 26)), ((24, 30), (26, 30))], [((0, 9), (0, 5)), ((9, 25), (5, 25)), ((25, 30), (25, 30))], [((0, 10), (0, 6)), ((10, 23), (6, 25)), ((23, 30), (25, 30))], [((0, 9), (0, 5)), ((9, 22), (5, 26)), ((22, 30), (26, 30))], [((0, 16), (0, 15)), ((16, 24), (15, 27)), ((24, 30), (27, 30))], [((0, 10), (0, 5)), ((10, 23), (5, 25)), ((23, 30), (25, 30))], [((0, 12), (0, 8)), ((12, 20), (8, 22)), ((20, 30), (22, 30))], [((0, 12), (0, 8)), ((12, 20), (8, 21)), ((20, 30), (21, 30))], [((0, 12), (0, 8)), ((12, 20), (8, 23)), ((20, 30), (23, 30))], [((0, 12), (0, 9)), ((12, 20), (9, 25)), ((20, 30), (25, 30))], [((0, 12), (0, 8)), ((12, 20), (8, 22)), ((20, 30), (22, 30))], [((0, 7), (0, 5)), ((7, 25), (5, 27)), ((25, 30), (27, 30))], [((0, 12), (0, 8)), ((12, 20), (8, 23)), ((20, 30), (23, 30))], [((0, 7), (0, 4)), ((7, 25), (4, 27)), ((25, 30), (27, 30))], [((0, 6), (0, 3)), ((6, 24), (3, 26)), ((24, 30), (26, 30))], [((0, 12), (0, 8)), ((12, 20), (8, 22)), ((20, 30), (22, 30))], [((0, 12), (0, 6)), ((12, 22), (6, 26)), ((22, 30), (26, 30))], [((0, 12), (0, 10)), ((12, 20), (10, 23)), ((20, 30), (23, 30))], [((0, 12), (0, 8)), ((12, 20), (8, 22)), ((20, 30), (22, 30))], [((0, 12), (0, 8)), ((12, 20), (8, 22)), ((20, 30), (22, 30))], [((0, 9), (0, 5)), ((9, 14), (5, 8)), ((14, 30), (8, 30))], [((0, 9), (0, 5)), ((9, 24), (5, 25)), ((24, 30), (25, 30))], [((0, 10), (0, 5)), ((10, 25), (5, 27)), ((25, 30), (27, 30))], [((0, 12), (0, 8)), ((12, 20), (8, 22)), ((20, 30), (22, 30))], [((0, 12), (0, 8)), ((12, 20), (8, 22)), ((20, 30), (22, 30))], [((0, 8), (0, 4)), ((8, 25), (4, 27)), ((25, 30), (27, 30))], [((0, 12), (0, 9)), ((12, 20), (9, 25)), ((20, 30), (25, 30))], [((0, 12), (0, 7)), ((12, 20), (7, 20)), ((20, 30), (20, 30))], [((0, 20), (0, 24)), ((20, 25), (24, 27)), ((25, 30), (27, 30))], [((0, 10), (0, 5)), ((10, 25), (5, 27)), ((25, 30), (27, 30))], [((0, 8), (0, 4)), ((8, 22), (4, 24)), ((22, 30), (24, 30))], [((0, 6), (0, 3)), ((6, 24), (3, 25)), ((24, 30), (25, 30))], [((0, 9), (0, 5)), ((9, 24), (5, 25)), ((24, 30), (25, 30))], [((0, 12), (0, 6)), ((12, 24), (6, 27)), ((24, 30), (27, 30))], [((0, 7), (0, 4)), ((7, 25), (4, 27)), ((25, 30), (27, 30))], [((0, 9), (0, 5)), ((9, 14), (5, 8)), ((14, 30), (8, 30))], [((0, 12), (0, 6)), ((12, 22), (6, 26)), ((22, 30), (26, 30))], [((0, 9), (0, 6)), ((9, 24), (6, 27)), ((24, 30), (27, 30))], [((0, 12), (0, 9)), ((12, 20), (9, 24)), ((20, 30), (24, 30))], [((0, 12), (0, 7)), ((12, 20), (7, 21)), ((20, 30), (21, 30))], [((0, 12), (0, 8)), ((12, 20), (8, 22)), ((20, 30), (22, 30))], [((0, 10), (0, 5)), ((10, 23), (5, 26)), ((23, 30), (26, 30))], [((0, 9), (0, 5)), ((9, 24), (5, 26)), ((24, 30), (26, 30))], [((0, 6), (0, 3)), ((6, 25), (3, 26)), ((25, 30), (26, 30))], [((0, 8), (0, 4)), ((8, 23), (4, 25)), ((23, 30), (25, 30))], [((0, 6), (0, 3)), ((6, 25), (3, 26)), ((25, 30), (26, 30))], [((0, 9), (0, 5)), ((9, 18), (5, 23)), ((18, 30), (23, 30))]]\n",
      "[[((0, 6), (0, 12)), ((6, 25), (12, 23)), ((25, 30), (23, 30))], [((0, 18), (0, 18)), ((18, 24), (18, 21)), ((24, 30), (21, 30))], [((0, 7), (0, 12)), ((7, 22), (12, 21)), ((22, 30), (21, 30))], [((0, 6), (0, 10)), ((6, 25), (10, 23)), ((25, 30), (23, 30))], [((0, 20), (0, 17)), ((20, 25), (17, 20)), ((25, 30), (20, 30))], [((0, 17), (0, 17)), ((17, 23), (17, 20)), ((23, 30), (20, 30))], [((0, 11), (0, 11)), ((11, 25), (11, 27)), ((25, 30), (27, 30))], [((0, 7), (0, 9)), ((7, 12), (9, 18)), ((12, 30), (18, 30))], [((0, 18), (0, 16)), ((18, 24), (16, 22)), ((24, 30), (22, 30))], [((0, 12), (0, 16)), ((12, 22), (16, 22)), ((22, 30), (22, 30))], [((0, 20), (0, 18)), ((20, 25), (18, 23)), ((25, 30), (23, 30))], [((0, 10), (0, 15)), ((10, 23), (15, 23)), ((23, 30), (23, 30))], [((0, 9), (0, 14)), ((9, 15), (14, 19)), ((15, 30), (19, 30))], [((0, 12), (0, 16)), ((12, 20), (16, 20)), ((20, 30), (20, 30))], [((0, 18), (0, 18)), ((18, 24), (18, 21)), ((24, 30), (21, 30))], [((0, 10), (0, 15)), ((10, 23), (15, 23)), ((23, 30), (23, 30))], [((0, 6), (0, 10)), ((6, 22), (10, 21)), ((22, 30), (21, 30))], [((0, 6), (0, 11)), ((6, 25), (11, 22)), ((25, 30), (22, 30))], [((0, 8), (0, 11)), ((8, 25), (11, 24)), ((25, 30), (24, 30))], [((0, 18), (0, 16)), ((18, 25), (16, 25)), ((25, 30), (25, 30))], [((0, 5), (0, 9)), ((5, 25), (9, 26)), ((25, 30), (26, 30))], [((0, 10), (0, 13)), ((10, 23), (13, 22)), ((23, 30), (22, 30))], [((0, 10), (0, 14)), ((10, 19), (14, 19)), ((19, 30), (19, 30))], [((0, 6), (0, 7)), ((6, 14), (7, 22)), ((14, 30), (22, 30))], [((0, 8), (0, 12)), ((8, 25), (12, 21)), ((25, 30), (21, 30))], [((0, 16), (0, 14)), ((16, 22), (14, 18)), ((22, 30), (18, 30))], [((0, 12), (0, 16)), ((12, 22), (16, 22)), ((22, 30), (22, 30))], [((0, 10), (0, 15)), ((10, 25), (15, 24)), ((25, 30), (24, 30))], [((0, 13), (0, 11)), ((13, 25), (11, 23)), ((25, 30), (23, 30))], [((0, 10), (0, 17)), ((10, 15), (17, 22)), ((15, 30), (22, 30))], [((0, 5), (0, 6)), ((5, 25), (6, 23)), ((25, 30), (23, 30))], [((0, 14), (0, 16)), ((14, 21), (16, 24)), ((21, 30), (24, 30))], [((0, 13), (0, 11)), ((13, 25), (11, 22)), ((25, 30), (22, 30))], [((0, 5), (0, 10)), ((5, 25), (10, 23)), ((25, 30), (23, 30))], [((0, 17), (0, 17)), ((17, 25), (17, 21)), ((25, 30), (21, 30))], [((0, 8), (0, 12)), ((8, 25), (12, 21)), ((25, 30), (21, 30))], [((0, 18), (0, 19)), ((18, 24), (19, 25)), ((24, 30), (25, 30))], [((0, 17), (0, 17)), ((17, 23), (17, 20)), ((23, 30), (20, 30))], [((0, 6), (0, 7)), ((6, 14), (7, 22)), ((14, 30), (22, 30))], [((0, 18), (0, 18)), ((18, 25), (18, 25)), ((25, 30), (25, 30))], [((0, 6), (0, 10)), ((6, 25), (10, 23)), ((25, 30), (23, 30))], [((0, 9), (0, 14)), ((9, 23), (14, 24)), ((23, 30), (24, 30))], [((0, 12), (0, 15)), ((12, 23), (15, 21)), ((23, 30), (21, 30))], [((0, 10), (0, 14)), ((10, 23), (14, 22)), ((23, 30), (22, 30))], [((0, 18), (0, 16)), ((18, 25), (16, 25)), ((25, 30), (25, 30))], [((0, 17), (0, 17)), ((17, 25), (17, 21)), ((25, 30), (21, 30))], [((0, 8), (0, 12)), ((8, 22), (12, 20)), ((22, 30), (20, 30))], [((0, 8), (0, 13)), ((8, 23), (13, 21)), ((23, 30), (21, 30))], [((0, 6), (0, 10)), ((6, 25), (10, 21)), ((25, 30), (21, 30))], [((0, 5), (0, 5)), ((5, 14), (5, 18)), ((14, 30), (18, 30))]]\n",
      "[[((0, 6), (0, 11)), ((6, 18), (11, 23)), ((18, 30), (23, 30))], [((0, 5), (0, 9)), ((5, 22), (9, 26)), ((22, 30), (26, 30))], [((0, 10), (0, 15)), ((10, 25), (15, 27)), ((25, 30), (27, 30))], [((0, 6), (0, 9)), ((6, 22), (9, 26)), ((22, 30), (26, 30))], [((0, 5), (0, 8)), ((5, 25), (8, 27)), ((25, 30), (27, 30))], [((0, 7), (0, 10)), ((7, 23), (10, 26)), ((23, 30), (26, 30))], [((0, 16), (0, 23)), ((16, 22), (23, 26)), ((22, 30), (26, 30))], [((0, 8), (0, 15)), ((8, 24), (15, 27)), ((24, 30), (27, 30))], [((0, 8), (0, 6)), ((8, 20), (6, 25)), ((20, 30), (25, 30))], [((0, 16), (0, 22)), ((16, 21), (22, 25)), ((21, 30), (25, 30))], [((0, 18), (0, 21)), ((18, 23), (21, 24)), ((23, 30), (24, 30))], [((0, 16), (0, 22)), ((16, 21), (22, 25)), ((21, 30), (25, 30))], [((0, 18), (0, 24)), ((18, 24), (24, 27)), ((24, 30), (27, 30))], [((0, 17), (0, 22)), ((17, 23), (22, 25)), ((23, 30), (25, 30))], [((0, 5), (0, 10)), ((5, 24), (10, 27)), ((24, 30), (27, 30))], [((0, 16), (0, 22)), ((16, 21), (22, 25)), ((21, 30), (25, 30))], [((0, 17), (0, 23)), ((17, 24), (23, 27)), ((24, 30), (27, 30))], [((0, 7), (0, 11)), ((7, 22), (11, 26)), ((22, 30), (26, 30))], [((0, 16), (0, 21)), ((16, 21), (21, 25)), ((21, 30), (25, 30))], [((0, 5), (0, 4)), ((5, 20), (4, 25)), ((20, 30), (25, 30))], [((0, 6), (0, 10)), ((6, 18), (10, 24)), ((18, 30), (24, 30))], [((0, 17), (0, 22)), ((17, 22), (22, 25)), ((22, 30), (25, 30))], [((0, 16), (0, 22)), ((16, 21), (22, 25)), ((21, 30), (25, 30))], [((0, 13), (0, 15)), ((13, 18), (15, 24)), ((18, 30), (24, 30))], [((0, 6), (0, 9)), ((6, 22), (9, 25)), ((22, 30), (25, 30))], [((0, 7), (0, 5)), ((7, 21), (5, 25)), ((21, 30), (25, 30))], [((0, 17), (0, 22)), ((17, 22), (22, 25)), ((22, 30), (25, 30))], [((0, 17), (0, 22)), ((17, 22), (22, 25)), ((22, 30), (25, 30))], [((0, 5), (0, 4)), ((5, 20), (4, 25)), ((20, 30), (25, 30))], [((0, 5), (0, 9)), ((5, 23), (9, 26)), ((23, 30), (26, 30))], [((0, 16), (0, 19)), ((16, 21), (19, 24)), ((21, 30), (24, 30))], [((0, 18), (0, 24)), ((18, 24), (24, 27)), ((24, 30), (27, 30))], [((0, 5), (0, 3)), ((5, 20), (3, 25)), ((20, 30), (25, 30))], [((0, 6), (0, 10)), ((6, 22), (10, 26)), ((22, 30), (26, 30))], [((0, 5), (0, 9)), ((5, 24), (9, 27)), ((24, 30), (27, 30))], [((0, 6), (0, 9)), ((6, 22), (9, 25)), ((22, 30), (25, 30))], [((0, 16), (0, 23)), ((16, 22), (23, 26)), ((22, 30), (26, 30))], [((0, 5), (0, 9)), ((5, 22), (9, 26)), ((22, 30), (26, 30))], [((0, 12), (0, 12)), ((12, 18), (12, 24)), ((18, 30), (24, 30))], [((0, 16), (0, 22)), ((16, 21), (22, 25)), ((21, 30), (25, 30))], [((0, 5), (0, 9)), ((5, 21), (9, 25)), ((21, 30), (25, 30))], [((0, 16), (0, 23)), ((16, 22), (23, 26)), ((22, 30), (26, 30))], [((0, 16), (0, 20)), ((16, 21), (20, 24)), ((21, 30), (24, 30))], [((0, 16), (0, 21)), ((16, 21), (21, 25)), ((21, 30), (25, 30))], [((0, 5), (0, 4)), ((5, 20), (4, 25)), ((20, 30), (25, 30))], [((0, 6), (0, 9)), ((6, 20), (9, 23)), ((20, 30), (23, 30))], [((0, 6), (0, 9)), ((6, 23), (9, 26)), ((23, 30), (26, 30))], [((0, 5), (0, 9)), ((5, 21), (9, 25)), ((21, 30), (25, 30))], [((0, 6), (0, 9)), ((6, 23), (9, 26)), ((23, 30), (26, 30))], [((0, 18), (0, 24)), ((18, 24), (24, 27)), ((24, 30), (27, 30))]]\n",
      "[[((0, 6), (0, 11)), ((6, 11), (11, 14)), ((11, 30), (14, 30))], [((0, 6), (0, 10)), ((6, 11), (10, 13)), ((11, 30), (13, 30))], [((0, 20), (0, 18)), ((20, 25), (18, 21)), ((25, 30), (21, 30))], [((0, 20), (0, 17)), ((20, 25), (17, 20)), ((25, 30), (20, 30))], [((0, 6), (0, 9)), ((6, 11), (9, 12)), ((11, 30), (12, 30))], [((0, 19), (0, 16)), ((19, 24), (16, 19)), ((24, 30), (19, 30))], [((0, 13), (0, 11)), ((13, 22), (11, 16)), ((22, 30), (16, 30))], [((0, 14), (0, 15)), ((14, 21), (15, 25)), ((21, 30), (25, 30))], [((0, 15), (0, 10)), ((15, 22), (10, 14)), ((22, 30), (14, 30))], [((0, 12), (0, 13)), ((12, 24), (13, 19)), ((24, 30), (19, 30))], [((0, 20), (0, 17)), ((20, 25), (17, 20)), ((25, 30), (20, 30))], [((0, 15), (0, 15)), ((15, 25), (15, 20)), ((25, 30), (20, 30))], [((0, 9), (0, 11)), ((9, 22), (11, 18)), ((22, 30), (18, 30))], [((0, 12), (0, 13)), ((12, 24), (13, 19)), ((24, 30), (19, 30))], [((0, 5), (0, 10)), ((5, 11), (10, 13)), ((11, 30), (13, 30))], [((0, 10), (0, 11)), ((10, 24), (11, 19)), ((24, 30), (19, 30))], [((0, 5), (0, 9)), ((5, 11), (9, 12)), ((11, 30), (12, 30))], [((0, 6), (0, 10)), ((6, 11), (10, 13)), ((11, 30), (13, 30))], [((0, 6), (0, 7)), ((6, 22), (7, 15)), ((22, 30), (15, 30))], [((0, 15), (0, 10)), ((15, 22), (10, 14)), ((22, 30), (14, 30))], [((0, 7), (0, 10)), ((7, 24), (10, 19)), ((24, 30), (19, 30))], [((0, 20), (0, 18)), ((20, 25), (18, 21)), ((25, 30), (21, 30))], [((0, 12), (0, 13)), ((12, 24), (13, 19)), ((24, 30), (19, 30))], [((0, 13), (0, 13)), ((13, 18), (13, 18)), ((18, 30), (18, 30))], [((0, 19), (0, 16)), ((19, 24), (16, 19)), ((24, 30), (19, 30))], [((0, 19), (0, 14)), ((19, 24), (14, 18)), ((24, 30), (18, 30))], [((0, 12), (0, 13)), ((12, 24), (13, 19)), ((24, 30), (19, 30))], [((0, 12), (0, 13)), ((12, 24), (13, 19)), ((24, 30), (19, 30))], [((0, 19), (0, 13)), ((19, 24), (13, 18)), ((24, 30), (18, 30))], [((0, 8), (0, 10)), ((8, 14), (10, 13)), ((14, 30), (13, 30))], [((0, 19), (0, 16)), ((19, 24), (16, 19)), ((24, 30), (19, 30))], [((0, 13), (0, 11)), ((13, 19), (11, 15)), ((19, 30), (15, 30))], [((0, 15), (0, 10)), ((15, 22), (10, 14)), ((22, 30), (14, 30))], [((0, 20), (0, 17)), ((20, 25), (17, 20)), ((25, 30), (20, 30))], [((0, 5), (0, 9)), ((5, 11), (9, 12)), ((11, 30), (12, 30))], [((0, 19), (0, 16)), ((19, 24), (16, 19)), ((24, 30), (19, 30))], [((0, 7), (0, 6)), ((7, 22), (6, 14)), ((22, 30), (14, 30))], [((0, 20), (0, 17)), ((20, 25), (17, 20)), ((25, 30), (20, 30))], [((0, 5), (0, 5)), ((5, 20), (5, 20)), ((20, 30), (20, 30))], [((0, 7), (0, 6)), ((7, 22), (6, 14)), ((22, 30), (14, 30))], [((0, 5), (0, 9)), ((5, 11), (9, 12)), ((11, 30), (12, 30))], [((0, 8), (0, 11)), ((8, 24), (11, 19)), ((24, 30), (19, 30))], [((0, 12), (0, 11)), ((12, 24), (11, 18)), ((24, 30), (18, 30))], [((0, 10), (0, 11)), ((10, 24), (11, 18)), ((24, 30), (18, 30))], [((0, 19), (0, 13)), ((19, 24), (13, 18)), ((24, 30), (18, 30))], [((0, 6), (0, 9)), ((6, 11), (9, 12)), ((11, 30), (12, 30))], [((0, 20), (0, 17)), ((20, 25), (17, 20)), ((25, 30), (20, 30))], [((0, 19), (0, 17)), ((19, 24), (17, 20)), ((24, 30), (20, 30))], [((0, 19), (0, 16)), ((19, 24), (16, 19)), ((24, 30), (19, 30))], [((0, 17), (0, 14)), ((17, 23), (14, 18)), ((23, 30), (18, 30))]]\n",
      "[[((0, 5), (0, 10)), ((5, 21), (10, 21)), ((21, 30), (21, 30))], [((0, 5), (0, 7)), ((5, 25), (7, 24)), ((25, 30), (24, 30))], [((0, 5), (0, 7)), ((5, 25), (7, 24)), ((25, 30), (24, 30))], [((0, 5), (0, 7)), ((5, 25), (7, 24)), ((25, 30), (24, 30))], [((0, 5), (0, 7)), ((5, 25), (7, 21)), ((25, 30), (21, 30))], [((0, 17), (0, 17)), ((17, 23), (17, 20)), ((23, 30), (20, 30))], [((0, 15), (0, 13)), ((15, 20), (13, 22)), ((20, 30), (22, 30))], [((0, 8), (0, 8)), ((8, 13), (8, 18)), ((13, 30), (18, 30))], [((0, 6), (0, 3)), ((6, 23), (3, 21)), ((23, 30), (21, 30))], [((0, 5), (0, 4)), ((5, 25), (4, 27)), ((25, 30), (27, 30))], [((0, 20), (0, 18)), ((20, 25), (18, 27)), ((25, 30), (27, 30))], [((0, 5), (0, 4)), ((5, 25), (4, 27)), ((25, 30), (27, 30))], [((0, 14), (0, 17)), ((14, 23), (17, 26)), ((23, 30), (26, 30))], [((0, 5), (0, 4)), ((5, 25), (4, 27)), ((25, 30), (27, 30))], [((0, 17), (0, 18)), ((17, 23), (18, 21)), ((23, 30), (21, 30))], [((0, 5), (0, 4)), ((5, 25), (4, 27)), ((25, 30), (27, 30))], [((0, 5), (0, 9)), ((5, 11), (9, 12)), ((11, 30), (12, 30))], [((0, 5), (0, 9)), ((5, 21), (9, 20)), ((21, 30), (20, 30))], [((0, 5), (0, 4)), ((5, 25), (4, 26)), ((25, 30), (26, 30))], [((0, 6), (0, 3)), ((6, 25), (3, 25)), ((25, 30), (25, 30))], [((0, 6), (0, 9)), ((6, 25), (9, 26)), ((25, 30), (26, 30))], [((0, 20), (0, 19)), ((20, 25), (19, 27)), ((25, 30), (27, 30))], [((0, 5), (0, 4)), ((5, 25), (4, 27)), ((25, 30), (27, 30))], [((0, 11), (0, 10)), ((11, 18), (10, 24)), ((18, 30), (24, 30))], [((0, 5), (0, 6)), ((5, 25), (6, 23)), ((25, 30), (23, 30))], [((0, 6), (0, 3)), ((6, 22), (3, 19)), ((22, 30), (19, 30))], [((0, 5), (0, 4)), ((5, 25), (4, 27)), ((25, 30), (27, 30))], [((0, 5), (0, 4)), ((5, 25), (4, 27)), ((25, 30), (27, 30))], [((0, 7), (0, 4)), ((7, 24), (4, 23)), ((24, 30), (23, 30))], [((0, 14), (0, 17)), ((14, 19), (17, 24)), ((19, 30), (24, 30))], [((0, 5), (0, 4)), ((5, 25), (4, 23)), ((25, 30), (23, 30))], [((0, 15), (0, 13)), ((15, 21), (13, 24)), ((21, 30), (24, 30))], [((0, 6), (0, 3)), ((6, 22), (3, 20)), ((22, 30), (20, 30))], [((0, 5), (0, 7)), ((5, 25), (7, 24)), ((25, 30), (24, 30))], [((0, 17), (0, 17)), ((17, 23), (17, 20)), ((23, 30), (20, 30))], [((0, 5), (0, 6)), ((5, 25), (6, 23)), ((25, 30), (23, 30))], [((0, 15), (0, 11)), ((15, 24), (11, 27)), ((24, 30), (27, 30))], [((0, 16), (0, 17)), ((16, 24), (17, 21)), ((24, 30), (21, 30))], [((0, 11), (0, 10)), ((11, 18), (10, 24)), ((18, 30), (24, 30))], [((0, 6), (0, 4)), ((6, 24), (4, 25)), ((24, 30), (25, 30))], [((0, 7), (0, 10)), ((7, 25), (10, 23)), ((25, 30), (23, 30))], [((0, 9), (0, 11)), ((9, 25), (11, 27)), ((25, 30), (27, 30))], [((0, 5), (0, 3)), ((5, 25), (3, 25)), ((25, 30), (25, 30))], [((0, 5), (0, 4)), ((5, 25), (4, 26)), ((25, 30), (26, 30))], [((0, 6), (0, 3)), ((6, 25), (3, 24)), ((25, 30), (24, 30))], [((0, 17), (0, 17)), ((17, 23), (17, 20)), ((23, 30), (20, 30))], [((0, 5), (0, 6)), ((5, 25), (6, 23)), ((25, 30), (23, 30))], [((0, 5), (0, 7)), ((5, 25), (7, 24)), ((25, 30), (24, 30))], [((0, 5), (0, 6)), ((5, 25), (6, 23)), ((25, 30), (23, 30))], [((0, 16), (0, 13)), ((16, 22), (13, 25)), ((22, 30), (25, 30))]]\n",
      "[[((0, 8), (0, 4)), ((8, 25), (4, 23)), ((25, 30), (23, 30))], [((0, 12), (0, 8)), ((12, 25), (8, 22)), ((25, 30), (22, 30))], [((0, 12), (0, 6)), ((12, 24), (6, 22)), ((24, 30), (22, 30))], [((0, 5), (0, 3)), ((5, 19), (3, 13)), ((19, 30), (13, 30))], [((0, 10), (0, 5)), ((10, 25), (5, 20)), ((25, 30), (20, 30))], [((0, 13), (0, 7)), ((13, 25), (7, 22)), ((25, 30), (22, 30))], [((0, 16), (0, 8)), ((16, 25), (8, 26)), ((25, 30), (26, 30))], [((0, 18), (0, 15)), ((18, 24), (15, 27)), ((24, 30), (27, 30))], [((0, 18), (0, 9)), ((18, 24), (9, 21)), ((24, 30), (21, 30))], [((0, 8), (0, 4)), ((8, 14), (4, 7)), ((14, 30), (7, 30))], [((0, 7), (0, 4)), ((7, 15), (4, 8)), ((15, 30), (8, 30))], [((0, 9), (0, 5)), ((9, 14), (5, 8)), ((14, 30), (8, 30))], [((0, 14), (0, 8)), ((14, 25), (8, 27)), ((25, 30), (27, 30))], [((0, 8), (0, 4)), ((8, 14), (4, 7)), ((14, 30), (7, 30))], [((0, 12), (0, 8)), ((12, 25), (8, 22)), ((25, 30), (22, 30))], [((0, 8), (0, 5)), ((8, 14), (5, 8)), ((14, 30), (8, 30))], [((0, 15), (0, 10)), ((15, 25), (10, 23)), ((25, 30), (23, 30))], [((0, 12), (0, 7)), ((12, 22), (7, 19)), ((22, 30), (19, 30))], [((0, 8), (0, 5)), ((8, 14), (5, 8)), ((14, 30), (8, 30))], [((0, 10), (0, 5)), ((10, 25), (5, 22)), ((25, 30), (22, 30))], [((0, 7), (0, 6)), ((7, 13), (6, 9)), ((13, 30), (9, 30))], [((0, 6), (0, 3)), ((6, 14), (3, 7)), ((14, 30), (7, 30))], [((0, 9), (0, 5)), ((9, 14), (5, 8)), ((14, 30), (8, 30))], [((0, 14), (0, 7)), ((14, 24), (7, 27)), ((24, 30), (27, 30))], [((0, 13), (0, 7)), ((13, 25), (7, 21)), ((25, 30), (21, 30))], [((0, 18), (0, 9)), ((18, 24), (9, 19)), ((24, 30), (19, 30))], [((0, 8), (0, 4)), ((8, 14), (4, 7)), ((14, 30), (7, 30))], [((0, 8), (0, 4)), ((8, 14), (4, 7)), ((14, 30), (7, 30))], [((0, 8), (0, 4)), ((8, 24), (4, 21)), ((24, 30), (21, 30))], [((0, 14), (0, 8)), ((14, 24), (8, 26)), ((24, 30), (26, 30))], [((0, 16), (0, 9)), ((16, 23), (9, 19)), ((23, 30), (19, 30))], [((0, 16), (0, 8)), ((16, 24), (8, 24)), ((24, 30), (24, 30))], [((0, 18), (0, 9)), ((18, 25), (9, 23)), ((25, 30), (23, 30))], [((0, 5), (0, 3)), ((5, 15), (3, 10)), ((15, 30), (10, 30))], [((0, 13), (0, 7)), ((13, 25), (7, 22)), ((25, 30), (22, 30))], [((0, 13), (0, 7)), ((13, 25), (7, 21)), ((25, 30), (21, 30))], [((0, 16), (0, 8)), ((16, 25), (8, 26)), ((25, 30), (26, 30))], [((0, 13), (0, 8)), ((13, 25), (8, 22)), ((25, 30), (22, 30))], [((0, 14), (0, 7)), ((14, 24), (7, 26)), ((24, 30), (26, 30))], [((0, 16), (0, 8)), ((16, 25), (8, 25)), ((25, 30), (25, 30))], [((0, 13), (0, 7)), ((13, 25), (7, 23)), ((25, 30), (23, 30))], [((0, 8), (0, 6)), ((8, 14), (6, 9)), ((14, 30), (9, 30))], [((0, 8), (0, 4)), ((8, 14), (4, 7)), ((14, 30), (7, 30))], [((0, 8), (0, 4)), ((8, 14), (4, 7)), ((14, 30), (7, 30))], [((0, 10), (0, 5)), ((10, 25), (5, 22)), ((25, 30), (22, 30))], [((0, 12), (0, 7)), ((12, 25), (7, 21)), ((25, 30), (21, 30))], [((0, 6), (0, 3)), ((6, 19), (3, 13)), ((19, 30), (13, 30))], [((0, 7), (0, 4)), ((7, 13), (4, 7)), ((13, 30), (7, 30))], [((0, 6), (0, 3)), ((6, 19), (3, 13)), ((19, 30), (13, 30))], [((0, 16), (0, 8)), ((16, 24), (8, 24)), ((24, 30), (24, 30))]]\n",
      "[[((0, 6), (0, 12)), ((6, 21), (12, 22)), ((21, 30), (22, 30))], [((0, 5), (0, 10)), ((5, 21), (10, 21)), ((21, 30), (21, 30))], [((0, 6), (0, 11)), ((6, 20), (11, 21)), ((20, 30), (21, 30))], [((0, 5), (0, 10)), ((5, 24), (10, 23)), ((24, 30), (23, 30))], [((0, 5), (0, 9)), ((5, 23), (9, 20)), ((23, 30), (20, 30))], [((0, 5), (0, 9)), ((5, 21), (9, 20)), ((21, 30), (20, 30))], [((0, 19), (0, 23)), ((19, 25), (23, 26)), ((25, 30), (26, 30))], [((0, 8), (0, 12)), ((8, 13), (12, 18)), ((13, 30), (18, 30))], [((0, 18), (0, 18)), ((18, 25), (18, 24)), ((25, 30), (24, 30))], [((0, 10), (0, 15)), ((10, 19), (15, 21)), ((19, 30), (21, 30))], [((0, 9), (0, 12)), ((9, 25), (12, 23)), ((25, 30), (23, 30))], [((0, 10), (0, 16)), ((10, 18), (16, 20)), ((18, 30), (20, 30))], [((0, 9), (0, 15)), ((9, 24), (15, 27)), ((24, 30), (27, 30))], [((0, 6), (0, 9)), ((6, 11), (9, 14)), ((11, 30), (14, 30))], [((0, 6), (0, 12)), ((6, 23), (12, 22)), ((23, 30), (22, 30))], [((0, 10), (0, 16)), ((10, 18), (16, 20)), ((18, 30), (20, 30))], [((0, 6), (0, 11)), ((6, 22), (11, 22)), ((22, 30), (22, 30))], [((0, 6), (0, 12)), ((6, 22), (12, 22)), ((22, 30), (22, 30))], [((0, 9), (0, 13)), ((9, 15), (13, 17)), ((15, 30), (17, 30))], [((0, 5), (0, 5)), ((5, 11), (5, 12)), ((11, 30), (12, 30))], [((0, 6), (0, 12)), ((6, 20), (12, 22)), ((20, 30), (22, 30))], [((0, 10), (0, 15)), ((10, 18), (15, 19)), ((18, 30), (19, 30))], [((0, 10), (0, 16)), ((10, 18), (16, 20)), ((18, 30), (20, 30))], [((0, 12), (0, 15)), ((12, 18), (15, 24)), ((18, 30), (24, 30))], [((0, 5), (0, 10)), ((5, 24), (10, 21)), ((24, 30), (21, 30))], [((0, 11), (0, 10)), ((11, 17), (10, 15)), ((17, 30), (15, 30))], [((0, 6), (0, 9)), ((6, 11), (9, 14)), ((11, 30), (14, 30))], [((0, 10), (0, 15)), ((10, 25), (15, 25)), ((25, 30), (25, 30))], [((0, 5), (0, 4)), ((5, 25), (4, 26)), ((25, 30), (26, 30))], [((0, 10), (0, 18)), ((10, 18), (18, 24)), ((18, 30), (24, 30))], [((0, 9), (0, 12)), ((9, 15), (12, 15)), ((15, 30), (15, 30))], [((0, 19), (0, 24)), ((19, 25), (24, 27)), ((25, 30), (27, 30))], [((0, 11), (0, 11)), ((11, 25), (11, 24)), ((25, 30), (24, 30))], [((0, 5), (0, 10)), ((5, 21), (10, 21)), ((21, 30), (21, 30))], [((0, 6), (0, 11)), ((6, 22), (11, 21)), ((22, 30), (21, 30))], [((0, 5), (0, 10)), ((5, 24), (10, 21)), ((24, 30), (21, 30))], [((0, 20), (0, 23)), ((20, 25), (23, 26)), ((25, 30), (26, 30))], [((0, 5), (0, 10)), ((5, 22), (10, 21)), ((22, 30), (21, 30))], [((0, 12), (0, 15)), ((12, 18), (15, 24)), ((18, 30), (24, 30))], [((0, 11), (0, 13)), ((11, 25), (13, 27)), ((25, 30), (27, 30))], [((0, 6), (0, 11)), ((6, 22), (11, 22)), ((22, 30), (22, 30))], [((0, 9), (0, 15)), ((9, 16), (15, 20)), ((16, 30), (20, 30))], [((0, 9), (0, 12)), ((9, 14), (12, 15)), ((14, 30), (15, 30))], [((0, 9), (0, 13)), ((9, 14), (13, 16)), ((14, 30), (16, 30))], [((0, 11), (0, 11)), ((11, 25), (11, 25)), ((25, 30), (25, 30))], [((0, 6), (0, 10)), ((6, 22), (10, 21)), ((22, 30), (21, 30))], [((0, 5), (0, 10)), ((5, 25), (10, 23)), ((25, 30), (23, 30))], [((0, 9), (0, 15)), ((9, 21), (15, 21)), ((21, 30), (21, 30))], [((0, 5), (0, 10)), ((5, 21), (10, 20)), ((21, 30), (20, 30))], [((0, 12), (0, 13)), ((12, 18), (13, 22)), ((18, 30), (22, 30))]]\n",
      "[[((0, 13), (0, 19)), ((13, 21), (19, 24)), ((21, 30), (24, 30))], [((0, 16), (0, 20)), ((16, 22), (20, 23)), ((22, 30), (23, 30))], [((0, 5), (0, 6)), ((5, 17), (6, 22)), ((17, 30), (22, 30))], [((0, 5), (0, 6)), ((5, 17), (6, 21)), ((17, 30), (21, 30))], [((0, 5), (0, 7)), ((5, 10), (7, 12)), ((10, 30), (12, 30))], [((0, 16), (0, 19)), ((16, 21), (19, 23)), ((21, 30), (23, 30))], [((0, 8), (0, 7)), ((8, 16), (7, 23)), ((16, 30), (23, 30))], [((0, 11), (0, 15)), ((11, 16), (15, 23)), ((16, 30), (23, 30))], [((0, 8), (0, 5)), ((8, 20), (5, 25)), ((20, 30), (25, 30))], [((0, 8), (0, 8)), ((8, 17), (8, 23)), ((17, 30), (23, 30))], [((0, 18), (0, 21)), ((18, 25), (21, 27)), ((25, 30), (27, 30))], [((0, 7), (0, 7)), ((7, 17), (7, 23)), ((17, 30), (23, 30))], [((0, 18), (0, 24)), ((18, 24), (24, 27)), ((24, 30), (27, 30))], [((0, 8), (0, 8)), ((8, 17), (8, 23)), ((17, 30), (23, 30))], [((0, 16), (0, 20)), ((16, 22), (20, 23)), ((22, 30), (23, 30))], [((0, 18), (0, 23)), ((18, 24), (23, 27)), ((24, 30), (27, 30))], [((0, 6), (0, 7)), ((6, 17), (7, 22)), ((17, 30), (22, 30))], [((0, 13), (0, 18)), ((13, 21), (18, 23)), ((21, 30), (23, 30))], [((0, 5), (0, 5)), ((5, 18), (5, 24)), ((18, 30), (24, 30))], [((0, 6), (0, 4)), ((6, 21), (4, 25)), ((21, 30), (25, 30))], [((0, 7), (0, 10)), ((7, 17), (10, 23)), ((17, 30), (23, 30))], [((0, 18), (0, 22)), ((18, 24), (22, 27)), ((24, 30), (27, 30))], [((0, 11), (0, 12)), ((11, 16), (12, 22)), ((16, 30), (22, 30))], [((0, 11), (0, 12)), ((11, 16), (12, 22)), ((16, 30), (22, 30))], [((0, 5), (0, 7)), ((5, 10), (7, 12)), ((10, 30), (12, 30))], [((0, 8), (0, 5)), ((8, 20), (5, 24)), ((20, 30), (24, 30))], [((0, 8), (0, 8)), ((8, 17), (8, 23)), ((17, 30), (23, 30))], [((0, 7), (0, 7)), ((7, 17), (7, 23)), ((17, 30), (23, 30))], [((0, 6), (0, 4)), ((6, 21), (4, 25)), ((21, 30), (25, 30))], [((0, 6), (0, 9)), ((6, 24), (9, 27)), ((24, 30), (27, 30))], [((0, 8), (0, 8)), ((8, 17), (8, 20)), ((17, 30), (20, 30))], [((0, 18), (0, 24)), ((18, 24), (24, 27)), ((24, 30), (27, 30))], [((0, 8), (0, 5)), ((8, 20), (5, 25)), ((20, 30), (25, 30))], [((0, 14), (0, 18)), ((14, 19), (18, 23)), ((19, 30), (23, 30))], [((0, 17), (0, 20)), ((17, 22), (20, 23)), ((22, 30), (23, 30))], [((0, 16), (0, 19)), ((16, 21), (19, 22)), ((21, 30), (22, 30))], [((0, 18), (0, 23)), ((18, 24), (23, 26)), ((24, 30), (26, 30))], [((0, 17), (0, 20)), ((17, 22), (20, 23)), ((22, 30), (23, 30))], [((0, 6), (0, 7)), ((6, 24), (7, 27)), ((24, 30), (27, 30))], [((0, 6), (0, 3)), ((6, 15), (3, 21)), ((15, 30), (21, 30))], [((0, 17), (0, 21)), ((17, 22), (21, 24)), ((22, 30), (24, 30))], [((0, 6), (0, 7)), ((6, 16), (7, 23)), ((16, 30), (23, 30))], [((0, 7), (0, 7)), ((7, 17), (7, 21)), ((17, 30), (21, 30))], [((0, 8), (0, 8)), ((8, 18), (8, 24)), ((18, 30), (24, 30))], [((0, 6), (0, 4)), ((6, 21), (4, 25)), ((21, 30), (25, 30))], [((0, 14), (0, 17)), ((14, 19), (17, 22)), ((19, 30), (22, 30))], [((0, 14), (0, 17)), ((14, 20), (17, 24)), ((20, 30), (24, 30))], [((0, 14), (0, 18)), ((14, 19), (18, 23)), ((19, 30), (23, 30))], [((0, 14), (0, 17)), ((14, 19), (17, 22)), ((19, 30), (22, 30))], [((0, 7), (0, 5)), ((7, 16), (5, 23)), ((16, 30), (23, 30))]]\n",
      "[[((0, 7), (0, 11)), ((7, 20), (11, 22)), ((20, 30), (22, 30))], [((0, 14), (0, 17)), ((14, 23), (17, 22)), ((23, 30), (22, 30))], [((0, 6), (0, 9)), ((6, 20), (9, 21)), ((20, 30), (21, 30))], [((0, 7), (0, 9)), ((7, 23), (9, 24)), ((23, 30), (24, 30))], [((0, 7), (0, 9)), ((7, 21), (9, 20)), ((21, 30), (20, 30))], [((0, 20), (0, 21)), ((20, 25), (21, 27)), ((25, 30), (27, 30))], [((0, 5), (0, 3)), ((5, 19), (3, 23)), ((19, 30), (23, 30))], [((0, 5), (0, 6)), ((5, 11), (6, 9)), ((11, 30), (9, 30))], [((0, 6), (0, 4)), ((6, 25), (4, 26)), ((25, 30), (26, 30))], [((0, 5), (0, 5)), ((5, 19), (5, 22)), ((19, 30), (22, 30))], [((0, 20), (0, 20)), ((20, 25), (20, 23)), ((25, 30), (23, 30))], [((0, 19), (0, 22)), ((19, 25), (22, 25)), ((25, 30), (25, 30))], [((0, 14), (0, 18)), ((14, 20), (18, 25)), ((20, 30), (25, 30))], [((0, 6), (0, 6)), ((6, 15), (6, 18)), ((15, 30), (18, 30))], [((0, 13), (0, 17)), ((13, 21), (17, 21)), ((21, 30), (21, 30))], [((0, 9), (0, 10)), ((9, 14), (10, 18)), ((14, 30), (18, 30))], [((0, 6), (0, 8)), ((6, 21), (8, 23)), ((21, 30), (23, 30))], [((0, 13), (0, 17)), ((13, 21), (17, 21)), ((21, 30), (21, 30))], [((0, 20), (0, 22)), ((20, 25), (22, 25)), ((25, 30), (25, 30))], [((0, 6), (0, 4)), ((6, 25), (4, 27)), ((25, 30), (27, 30))], [((0, 7), (0, 10)), ((7, 21), (10, 24)), ((21, 30), (24, 30))], [((0, 20), (0, 22)), ((20, 25), (22, 25)), ((25, 30), (25, 30))], [((0, 6), (0, 7)), ((6, 21), (7, 24)), ((21, 30), (24, 30))], [((0, 13), (0, 15)), ((13, 18), (15, 24)), ((18, 30), (24, 30))], [((0, 7), (0, 9)), ((7, 21), (9, 20)), ((21, 30), (20, 30))], [((0, 9), (0, 6)), ((9, 14), (6, 12)), ((14, 30), (12, 30))], [((0, 20), (0, 22)), ((20, 25), (22, 25)), ((25, 30), (25, 30))], [((0, 20), (0, 22)), ((20, 25), (22, 25)), ((25, 30), (25, 30))], [((0, 6), (0, 4)), ((6, 25), (4, 27)), ((25, 30), (27, 30))], [((0, 11), (0, 15)), ((11, 18), (15, 24)), ((18, 30), (24, 30))], [((0, 7), (0, 7)), ((7, 16), (7, 16)), ((16, 30), (16, 30))], [((0, 13), (0, 12)), ((13, 19), (12, 24)), ((19, 30), (24, 30))], [((0, 6), (0, 3)), ((6, 24), (3, 25)), ((24, 30), (25, 30))], [((0, 6), (0, 9)), ((6, 20), (9, 21)), ((20, 30), (21, 30))], [((0, 7), (0, 10)), ((7, 21), (10, 21)), ((21, 30), (21, 30))], [((0, 8), (0, 10)), ((8, 23), (10, 22)), ((23, 30), (22, 30))], [((0, 5), (0, 3)), ((5, 19), (3, 23)), ((19, 30), (23, 30))], [((0, 20), (0, 20)), ((20, 25), (20, 23)), ((25, 30), (23, 30))], [((0, 13), (0, 15)), ((13, 18), (15, 24)), ((18, 30), (24, 30))], [((0, 5), (0, 3)), ((5, 19), (3, 22)), ((19, 30), (22, 30))], [((0, 7), (0, 10)), ((7, 20), (10, 21)), ((20, 30), (21, 30))], [((0, 12), (0, 15)), ((12, 17), (15, 21)), ((17, 30), (21, 30))], [((0, 8), (0, 8)), ((8, 14), (8, 15)), ((14, 30), (15, 30))], [((0, 20), (0, 22)), ((20, 25), (22, 25)), ((25, 30), (25, 30))], [((0, 6), (0, 4)), ((6, 25), (4, 27)), ((25, 30), (27, 30))], [((0, 20), (0, 21)), ((20, 25), (21, 27)), ((25, 30), (27, 30))], [((0, 20), (0, 20)), ((20, 25), (20, 27)), ((25, 30), (27, 30))], [((0, 14), (0, 17)), ((14, 23), (17, 22)), ((23, 30), (22, 30))], [((0, 7), (0, 9)), ((7, 20), (9, 20)), ((20, 30), (20, 30))], [((0, 11), (0, 9)), ((11, 18), (9, 23)), ((18, 30), (23, 30))]]\n",
      "[[((0, 6), (0, 12)), ((6, 25), (12, 23)), ((25, 30), (23, 30))], [((0, 5), (0, 10)), ((5, 24), (10, 21)), ((24, 30), (21, 30))], [((0, 5), (0, 10)), ((5, 25), (10, 23)), ((25, 30), (23, 30))], [((0, 5), (0, 10)), ((5, 25), (10, 23)), ((25, 30), (23, 30))], [((0, 5), (0, 9)), ((5, 25), (9, 20)), ((25, 30), (20, 30))], [((0, 5), (0, 9)), ((5, 23), (9, 20)), ((23, 30), (20, 30))], [((0, 11), (0, 13)), ((11, 25), (13, 26)), ((25, 30), (26, 30))], [((0, 8), (0, 12)), ((8, 14), (12, 22)), ((14, 30), (22, 30))], [((0, 11), (0, 11)), ((11, 18), (11, 15)), ((18, 30), (15, 30))], [((0, 6), (0, 9)), ((6, 14), (9, 13)), ((14, 30), (13, 30))], [((0, 5), (0, 7)), ((5, 25), (7, 24)), ((25, 30), (24, 30))], [((0, 5), (0, 8)), ((5, 25), (8, 25)), ((25, 30), (25, 30))], [((0, 9), (0, 15)), ((9, 17), (15, 20)), ((17, 30), (20, 30))], [((0, 9), (0, 13)), ((9, 19), (13, 18)), ((19, 30), (18, 30))], [((0, 5), (0, 10)), ((5, 24), (10, 21)), ((24, 30), (21, 30))], [((0, 5), (0, 8)), ((5, 25), (8, 25)), ((25, 30), (25, 30))], [((0, 5), (0, 10)), ((5, 25), (10, 23)), ((25, 30), (23, 30))], [((0, 5), (0, 10)), ((5, 23), (10, 21)), ((23, 30), (21, 30))], [((0, 5), (0, 8)), ((5, 25), (8, 25)), ((25, 30), (25, 30))], [((0, 11), (0, 11)), ((11, 17), (11, 14)), ((17, 30), (14, 30))], [((0, 5), (0, 9)), ((5, 25), (9, 26)), ((25, 30), (26, 30))], [((0, 6), (0, 9)), ((6, 25), (9, 23)), ((25, 30), (23, 30))], [((0, 6), (0, 9)), ((6, 13), (9, 13)), ((13, 30), (13, 30))], [((0, 8), (0, 10)), ((8, 14), (10, 22)), ((14, 30), (22, 30))], [((0, 5), (0, 9)), ((5, 25), (9, 20)), ((25, 30), (20, 30))], [((0, 19), (0, 15)), ((19, 24), (15, 20)), ((24, 30), (20, 30))], [((0, 10), (0, 15)), ((10, 22), (15, 21)), ((22, 30), (21, 30))], [((0, 5), (0, 8)), ((5, 25), (8, 25)), ((25, 30), (25, 30))], [((0, 18), (0, 16)), ((18, 25), (16, 23)), ((25, 30), (23, 30))], [((0, 10), (0, 17)), ((10, 25), (17, 27)), ((25, 30), (27, 30))], [((0, 5), (0, 6)), ((5, 25), (6, 23)), ((25, 30), (23, 30))], [((0, 16), (0, 18)), ((16, 24), (18, 26)), ((24, 30), (26, 30))], [((0, 11), (0, 11)), ((11, 24), (11, 21)), ((24, 30), (21, 30))], [((0, 5), (0, 10)), ((5, 25), (10, 23)), ((25, 30), (23, 30))], [((0, 5), (0, 10)), ((5, 25), (10, 21)), ((25, 30), (21, 30))], [((0, 5), (0, 10)), ((5, 25), (10, 21)), ((25, 30), (21, 30))], [((0, 10), (0, 12)), ((10, 24), (12, 25)), ((24, 30), (25, 30))], [((0, 5), (0, 10)), ((5, 25), (10, 21)), ((25, 30), (21, 30))], [((0, 8), (0, 10)), ((8, 14), (10, 22)), ((14, 30), (22, 30))], [((0, 11), (0, 13)), ((11, 18), (13, 18)), ((18, 30), (18, 30))], [((0, 5), (0, 10)), ((5, 25), (10, 23)), ((25, 30), (23, 30))], [((0, 5), (0, 9)), ((5, 25), (9, 26)), ((25, 30), (26, 30))], [((0, 5), (0, 7)), ((5, 25), (7, 24)), ((25, 30), (24, 30))], [((0, 6), (0, 9)), ((6, 16), (9, 14)), ((16, 30), (14, 30))], [((0, 11), (0, 11)), ((11, 20), (11, 18)), ((20, 30), (18, 30))], [((0, 5), (0, 10)), ((5, 25), (10, 21)), ((25, 30), (21, 30))], [((0, 5), (0, 10)), ((5, 25), (10, 21)), ((25, 30), (21, 30))], [((0, 5), (0, 9)), ((5, 25), (9, 24)), ((25, 30), (24, 30))], [((0, 5), (0, 10)), ((5, 25), (10, 21)), ((25, 30), (21, 30))], [((0, 18), (0, 20)), ((18, 23), (20, 25)), ((23, 30), (25, 30))]]\n",
      "[[((0, 14), (0, 22)), ((14, 20), (22, 25)), ((20, 30), (25, 30))], [((0, 14), (0, 21)), ((14, 24), (21, 27)), ((24, 30), (27, 30))], [((0, 15), (0, 22)), ((15, 24), (22, 27)), ((24, 30), (27, 30))], [((0, 15), (0, 21)), ((15, 25), (21, 27)), ((25, 30), (27, 30))], [((0, 5), (0, 7)), ((5, 17), (7, 23)), ((17, 30), (23, 30))], [((0, 17), (0, 23)), ((17, 22), (23, 26)), ((22, 30), (26, 30))], [((0, 16), (0, 23)), ((16, 22), (23, 26)), ((22, 30), (26, 30))], [((0, 8), (0, 15)), ((8, 25), (15, 27)), ((25, 30), (27, 30))], [((0, 6), (0, 4)), ((6, 14), (4, 20)), ((14, 30), (20, 30))], [((0, 16), (0, 23)), ((16, 22), (23, 26)), ((22, 30), (26, 30))], [((0, 6), (0, 7)), ((6, 14), (7, 20)), ((14, 30), (20, 30))], [((0, 16), (0, 23)), ((16, 22), (23, 26)), ((22, 30), (26, 30))], [((0, 18), (0, 24)), ((18, 24), (24, 27)), ((24, 30), (27, 30))], [((0, 16), (0, 23)), ((16, 22), (23, 26)), ((22, 30), (26, 30))], [((0, 5), (0, 9)), ((5, 15), (9, 22)), ((15, 30), (22, 30))], [((0, 15), (0, 22)), ((15, 21), (22, 25)), ((21, 30), (25, 30))], [((0, 15), (0, 22)), ((15, 22), (22, 26)), ((22, 30), (26, 30))], [((0, 6), (0, 10)), ((6, 15), (10, 22)), ((15, 30), (22, 30))], [((0, 16), (0, 23)), ((16, 22), (23, 26)), ((22, 30), (26, 30))], [((0, 6), (0, 5)), ((6, 14), (5, 21)), ((14, 30), (21, 30))], [((0, 13), (0, 21)), ((13, 24), (21, 27)), ((24, 30), (27, 30))], [((0, 16), (0, 23)), ((16, 22), (23, 26)), ((22, 30), (26, 30))], [((0, 16), (0, 23)), ((16, 22), (23, 26)), ((22, 30), (26, 30))], [((0, 8), (0, 8)), ((8, 25), (8, 27)), ((25, 30), (27, 30))], [((0, 6), (0, 8)), ((6, 16), (8, 23)), ((16, 30), (23, 30))], [((0, 7), (0, 5)), ((7, 16), (5, 23)), ((16, 30), (23, 30))], [((0, 16), (0, 23)), ((16, 22), (23, 26)), ((22, 30), (26, 30))], [((0, 16), (0, 23)), ((16, 22), (23, 26)), ((22, 30), (26, 30))], [((0, 6), (0, 4)), ((6, 14), (4, 20)), ((14, 30), (20, 30))], [((0, 5), (0, 8)), ((5, 22), (8, 26)), ((22, 30), (26, 30))], [((0, 15), (0, 20)), ((15, 23), (20, 24)), ((23, 30), (24, 30))], [((0, 18), (0, 24)), ((18, 24), (24, 27)), ((24, 30), (27, 30))], [((0, 6), (0, 4)), ((6, 15), (4, 22)), ((15, 30), (22, 30))], [((0, 15), (0, 22)), ((15, 25), (22, 27)), ((25, 30), (27, 30))], [((0, 12), (0, 18)), ((12, 18), (18, 24)), ((18, 30), (24, 30))], [((0, 6), (0, 8)), ((6, 16), (8, 23)), ((16, 30), (23, 30))], [((0, 16), (0, 23)), ((16, 22), (23, 26)), ((22, 30), (26, 30))], [((0, 14), (0, 21)), ((14, 20), (21, 24)), ((20, 30), (24, 30))], [((0, 7), (0, 7)), ((7, 22), (7, 26)), ((22, 30), (26, 30))], [((0, 6), (0, 6)), ((6, 14), (6, 22)), ((14, 30), (22, 30))], [((0, 15), (0, 22)), ((15, 25), (22, 27)), ((25, 30), (27, 30))], [((0, 16), (0, 23)), ((16, 22), (23, 26)), ((22, 30), (26, 30))], [((0, 16), (0, 22)), ((16, 22), (22, 25)), ((22, 30), (25, 30))], [((0, 16), (0, 23)), ((16, 22), (23, 26)), ((22, 30), (26, 30))], [((0, 6), (0, 5)), ((6, 14), (5, 21)), ((14, 30), (21, 30))], [((0, 6), (0, 9)), ((6, 16), (9, 23)), ((16, 30), (23, 30))], [((0, 15), (0, 21)), ((15, 21), (21, 25)), ((21, 30), (25, 30))], [((0, 13), (0, 20)), ((13, 18), (20, 24)), ((18, 30), (24, 30))], [((0, 15), (0, 21)), ((15, 22), (21, 26)), ((22, 30), (26, 30))], [((0, 18), (0, 24)), ((18, 24), (24, 27)), ((24, 30), (27, 30))]]\n",
      "[[((0, 5), (0, 8)), ((5, 22), (8, 22)), ((22, 30), (22, 30))], [((0, 5), (0, 7)), ((5, 24), (7, 23)), ((24, 30), (23, 30))], [((0, 18), (0, 18)), ((18, 25), (18, 25)), ((25, 30), (25, 30))], [((0, 12), (0, 12)), ((12, 17), (12, 16)), ((17, 30), (16, 30))], [((0, 6), (0, 7)), ((6, 22), (7, 19)), ((22, 30), (19, 30))], [((0, 5), (0, 5)), ((5, 24), (5, 23)), ((24, 30), (23, 30))], [((0, 11), (0, 7)), ((11, 24), (7, 27)), ((24, 30), (27, 30))], [((0, 18), (0, 15)), ((18, 24), (15, 27)), ((24, 30), (27, 30))], [((0, 10), (0, 5)), ((10, 25), (5, 25)), ((25, 30), (25, 30))], [((0, 20), (0, 22)), ((20, 25), (22, 25)), ((25, 30), (25, 30))], [((0, 5), (0, 5)), ((5, 10), (5, 8)), ((10, 30), (8, 30))], [((0, 20), (0, 22)), ((20, 25), (22, 25)), ((25, 30), (25, 30))], [((0, 20), (0, 24)), ((20, 25), (24, 27)), ((25, 30), (27, 30))], [((0, 10), (0, 8)), ((10, 21), (8, 22)), ((21, 30), (22, 30))], [((0, 6), (0, 7)), ((6, 12), (7, 13)), ((12, 30), (13, 30))], [((0, 20), (0, 22)), ((20, 25), (22, 25)), ((25, 30), (25, 30))], [((0, 6), (0, 6)), ((6, 22), (6, 22)), ((22, 30), (22, 30))], [((0, 13), (0, 14)), ((13, 18), (14, 18)), ((18, 30), (18, 30))], [((0, 20), (0, 21)), ((20, 25), (21, 24)), ((25, 30), (24, 30))], [((0, 10), (0, 5)), ((10, 25), (5, 27)), ((25, 30), (27, 30))], [((0, 20), (0, 22)), ((20, 25), (22, 26)), ((25, 30), (26, 30))], [((0, 5), (0, 3)), ((5, 24), (3, 24)), ((24, 30), (24, 30))], [((0, 20), (0, 22)), ((20, 25), (22, 25)), ((25, 30), (25, 30))], [((0, 16), (0, 15)), ((16, 22), (15, 26)), ((22, 30), (26, 30))], [((0, 5), (0, 6)), ((5, 18), (6, 16)), ((18, 30), (16, 30))], [((0, 10), (0, 5)), ((10, 25), (5, 24)), ((25, 30), (24, 30))], [((0, 10), (0, 8)), ((10, 23), (8, 24)), ((23, 30), (24, 30))], [((0, 10), (0, 8)), ((10, 23), (8, 24)), ((23, 30), (24, 30))], [((0, 10), (0, 5)), ((10, 25), (5, 25)), ((25, 30), (25, 30))], [((0, 18), (0, 24)), ((18, 24), (24, 27)), ((24, 30), (27, 30))], [((0, 20), (0, 19)), ((20, 25), (19, 23)), ((25, 30), (23, 30))], [((0, 19), (0, 23)), ((19, 24), (23, 27)), ((24, 30), (27, 30))], [((0, 11), (0, 6)), ((11, 25), (6, 27)), ((25, 30), (27, 30))], [((0, 20), (0, 20)), ((20, 25), (20, 25)), ((25, 30), (25, 30))], [((0, 6), (0, 6)), ((6, 25), (6, 24)), ((25, 30), (24, 30))], [((0, 7), (0, 7)), ((7, 22), (7, 20)), ((22, 30), (20, 30))], [((0, 19), (0, 22)), ((19, 24), (22, 25)), ((24, 30), (25, 30))], [((0, 6), (0, 7)), ((6, 25), (7, 23)), ((25, 30), (23, 30))], [((0, 18), (0, 24)), ((18, 24), (24, 27)), ((24, 30), (27, 30))], [((0, 11), (0, 7)), ((11, 24), (7, 27)), ((24, 30), (27, 30))], [((0, 6), (0, 6)), ((6, 24), (6, 24)), ((24, 30), (24, 30))], [((0, 20), (0, 22)), ((20, 25), (22, 26)), ((25, 30), (26, 30))], [((0, 5), (0, 5)), ((5, 10), (5, 8)), ((10, 30), (8, 30))], [((0, 20), (0, 21)), ((20, 25), (21, 24)), ((25, 30), (24, 30))], [((0, 10), (0, 5)), ((10, 25), (5, 27)), ((25, 30), (27, 30))], [((0, 5), (0, 6)), ((5, 24), (6, 22)), ((24, 30), (22, 30))], [((0, 7), (0, 7)), ((7, 23), (7, 22)), ((23, 30), (22, 30))], [((0, 13), (0, 13)), ((13, 18), (13, 18)), ((18, 30), (18, 30))], [((0, 5), (0, 6)), ((5, 18), (6, 17)), ((18, 30), (17, 30))], [((0, 19), (0, 23)), ((19, 24), (23, 26)), ((24, 30), (26, 30))]]\n",
      "[[((0, 8), (0, 9)), ((8, 23), (9, 20)), ((23, 30), (20, 30))], [((0, 6), (0, 6)), ((6, 23), (6, 19)), ((23, 30), (19, 30))], [((0, 5), (0, 3)), ((5, 24), (3, 21)), ((24, 30), (21, 30))], [((0, 5), (0, 3)), ((5, 22), (3, 18)), ((22, 30), (18, 30))], [((0, 5), (0, 3)), ((5, 25), (3, 20)), ((25, 30), (20, 30))], [((0, 6), (0, 5)), ((6, 22), (5, 17)), ((22, 30), (17, 30))], [((0, 5), (0, 3)), ((5, 11), (3, 6)), ((11, 30), (6, 30))], [((0, 20), (0, 18)), ((20, 25), (18, 27)), ((25, 30), (27, 30))], [((0, 18), (0, 9)), ((18, 24), (9, 20)), ((24, 30), (20, 30))], [((0, 5), (0, 4)), ((5, 11), (4, 7)), ((11, 30), (7, 30))], [((0, 5), (0, 3)), ((5, 20), (3, 14)), ((20, 30), (14, 30))], [((0, 5), (0, 4)), ((5, 11), (4, 7)), ((11, 30), (7, 30))], [((0, 5), (0, 6)), ((5, 11), (6, 9)), ((11, 30), (9, 30))], [((0, 7), (0, 5)), ((7, 13), (5, 8)), ((13, 30), (8, 30))], [((0, 5), (0, 5)), ((5, 25), (5, 21)), ((25, 30), (21, 30))], [((0, 5), (0, 5)), ((5, 11), (5, 8)), ((11, 30), (8, 30))], [((0, 5), (0, 4)), ((5, 24), (4, 21)), ((24, 30), (21, 30))], [((0, 9), (0, 7)), ((9, 25), (7, 22)), ((25, 30), (22, 30))], [((0, 5), (0, 4)), ((5, 11), (4, 7)), ((11, 30), (7, 30))], [((0, 10), (0, 5)), ((10, 23), (5, 20)), ((23, 30), (20, 30))], [((0, 5), (0, 5)), ((5, 20), (5, 17)), ((20, 30), (17, 30))], [((0, 5), (0, 3)), ((5, 20), (3, 14)), ((20, 30), (14, 30))], [((0, 7), (0, 5)), ((7, 13), (5, 8)), ((13, 30), (8, 30))], [((0, 9), (0, 5)), ((9, 15), (5, 8)), ((15, 30), (8, 30))], [((0, 6), (0, 4)), ((6, 25), (4, 20)), ((25, 30), (20, 30))], [((0, 20), (0, 10)), ((20, 25), (10, 20)), ((25, 30), (20, 30))], [((0, 5), (0, 4)), ((5, 11), (4, 7)), ((11, 30), (7, 30))], [((0, 5), (0, 4)), ((5, 11), (4, 7)), ((11, 30), (7, 30))], [((0, 6), (0, 3)), ((6, 22), (3, 17)), ((22, 30), (17, 30))], [((0, 5), (0, 6)), ((5, 11), (6, 9)), ((11, 30), (9, 30))], [((0, 7), (0, 4)), ((7, 21), (4, 15)), ((21, 30), (15, 30))], [((0, 5), (0, 3)), ((5, 11), (3, 6)), ((11, 30), (6, 30))], [((0, 10), (0, 5)), ((10, 23), (5, 18)), ((23, 30), (18, 30))], [((0, 5), (0, 4)), ((5, 24), (4, 20)), ((24, 30), (20, 30))], [((0, 8), (0, 6)), ((8, 25), (6, 21)), ((25, 30), (21, 30))], [((0, 6), (0, 4)), ((6, 25), (4, 20)), ((25, 30), (20, 30))], [((0, 5), (0, 3)), ((5, 11), (3, 6)), ((11, 30), (6, 30))], [((0, 7), (0, 6)), ((7, 25), (6, 21)), ((25, 30), (21, 30))], [((0, 5), (0, 4)), ((5, 11), (4, 7)), ((11, 30), (7, 30))], [((0, 5), (0, 3)), ((5, 11), (3, 6)), ((11, 30), (6, 30))], [((0, 16), (0, 13)), ((16, 21), (13, 17)), ((21, 30), (17, 30))], [((0, 5), (0, 6)), ((5, 11), (6, 9)), ((11, 30), (9, 30))], [((0, 5), (0, 3)), ((5, 20), (3, 14)), ((20, 30), (14, 30))], [((0, 9), (0, 5)), ((9, 21), (5, 17)), ((21, 30), (17, 30))], [((0, 6), (0, 3)), ((6, 19), (3, 10)), ((19, 30), (10, 30))], [((0, 8), (0, 7)), ((8, 23), (7, 18)), ((23, 30), (18, 30))], [((0, 16), (0, 12)), ((16, 21), (12, 15)), ((21, 30), (15, 30))], [((0, 8), (0, 6)), ((8, 25), (6, 21)), ((25, 30), (21, 30))], [((0, 6), (0, 4)), ((6, 25), (4, 20)), ((25, 30), (20, 30))], [((0, 5), (0, 3)), ((5, 11), (3, 6)), ((11, 30), (6, 30))]]\n",
      "[[((0, 7), (0, 9)), ((7, 25), (9, 26)), ((25, 30), (26, 30))], [((0, 6), (0, 7)), ((6, 25), (7, 26)), ((25, 30), (26, 30))], [((0, 6), (0, 7)), ((6, 25), (7, 26)), ((25, 30), (26, 30))], [((0, 9), (0, 10)), ((9, 25), (10, 26)), ((25, 30), (26, 30))], [((0, 20), (0, 20)), ((20, 25), (20, 24)), ((25, 30), (24, 30))], [((0, 8), (0, 8)), ((8, 25), (8, 25)), ((25, 30), (25, 30))], [((0, 5), (0, 3)), ((5, 22), (3, 26)), ((22, 30), (26, 30))], [((0, 17), (0, 15)), ((17, 24), (15, 27)), ((24, 30), (27, 30))], [((0, 8), (0, 4)), ((8, 25), (4, 27)), ((25, 30), (27, 30))], [((0, 5), (0, 5)), ((5, 10), (5, 9)), ((10, 30), (9, 30))], [((0, 5), (0, 4)), ((5, 10), (4, 9)), ((10, 30), (9, 30))], [((0, 5), (0, 5)), ((5, 10), (5, 9)), ((10, 30), (9, 30))], [((0, 19), (0, 24)), ((19, 24), (24, 27)), ((24, 30), (27, 30))], [((0, 9), (0, 8)), ((9, 20), (8, 22)), ((20, 30), (22, 30))], [((0, 8), (0, 10)), ((8, 25), (10, 26)), ((25, 30), (26, 30))], [((0, 10), (0, 9)), ((10, 21), (9, 25)), ((21, 30), (25, 30))], [((0, 6), (0, 7)), ((6, 25), (7, 27)), ((25, 30), (27, 30))], [((0, 6), (0, 8)), ((6, 24), (8, 25)), ((24, 30), (25, 30))], [((0, 8), (0, 7)), ((8, 19), (7, 21)), ((19, 30), (21, 30))], [((0, 9), (0, 5)), ((9, 22), (5, 24)), ((22, 30), (24, 30))], [((0, 19), (0, 22)), ((19, 24), (22, 25)), ((24, 30), (25, 30))], [((0, 5), (0, 3)), ((5, 18), (3, 20)), ((18, 30), (20, 30))], [((0, 5), (0, 5)), ((5, 10), (5, 9)), ((10, 30), (9, 30))], [((0, 6), (0, 5)), ((6, 11), (5, 8)), ((11, 30), (8, 30))], [((0, 5), (0, 6)), ((5, 25), (6, 25)), ((25, 30), (25, 30))], [((0, 8), (0, 4)), ((8, 25), (4, 26)), ((25, 30), (26, 30))], [((0, 8), (0, 7)), ((8, 19), (7, 21)), ((19, 30), (21, 30))], [((0, 5), (0, 5)), ((5, 10), (5, 9)), ((10, 30), (9, 30))], [((0, 8), (0, 4)), ((8, 23), (4, 26)), ((23, 30), (26, 30))], [((0, 8), (0, 8)), ((8, 18), (8, 24)), ((18, 30), (24, 30))], [((0, 8), (0, 7)), ((8, 25), (7, 26)), ((25, 30), (26, 30))], [((0, 17), (0, 23)), ((17, 22), (23, 26)), ((22, 30), (26, 30))], [((0, 8), (0, 4)), ((8, 25), (4, 27)), ((25, 30), (27, 30))], [((0, 5), (0, 5)), ((5, 25), (5, 27)), ((25, 30), (27, 30))], [((0, 9), (0, 10)), ((9, 25), (10, 25)), ((25, 30), (25, 30))], [((0, 20), (0, 20)), ((20, 25), (20, 24)), ((25, 30), (24, 30))], [((0, 6), (0, 3)), ((6, 23), (3, 26)), ((23, 30), (26, 30))], [((0, 8), (0, 9)), ((8, 25), (9, 26)), ((25, 30), (26, 30))], [((0, 6), (0, 5)), ((6, 11), (5, 8)), ((11, 30), (8, 30))], [((0, 6), (0, 3)), ((6, 23), (3, 25)), ((23, 30), (25, 30))], [((0, 5), (0, 6)), ((5, 25), (6, 27)), ((25, 30), (27, 30))], [((0, 8), (0, 8)), ((8, 18), (8, 22)), ((18, 30), (22, 30))], [((0, 8), (0, 7)), ((8, 25), (7, 27)), ((25, 30), (27, 30))], [((0, 8), (0, 7)), ((8, 19), (7, 21)), ((19, 30), (21, 30))], [((0, 9), (0, 5)), ((9, 22), (5, 24)), ((22, 30), (24, 30))], [((0, 8), (0, 9)), ((8, 25), (9, 25)), ((25, 30), (25, 30))], [((0, 6), (0, 7)), ((6, 22), (7, 22)), ((22, 30), (22, 30))], [((0, 7), (0, 8)), ((7, 20), (8, 21)), ((20, 30), (21, 30))], [((0, 5), (0, 6)), ((5, 25), (6, 25)), ((25, 30), (25, 30))], [((0, 6), (0, 4)), ((6, 11), (4, 7)), ((11, 30), (7, 30))]]\n",
      "[[((0, 7), (0, 12)), ((7, 25), (12, 21)), ((25, 30), (21, 30))], [((0, 20), (0, 17)), ((20, 25), (17, 20)), ((25, 30), (20, 30))], [((0, 7), (0, 11)), ((7, 25), (11, 21)), ((25, 30), (21, 30))], [((0, 7), (0, 10)), ((7, 25), (10, 20)), ((25, 30), (20, 30))], [((0, 5), (0, 9)), ((5, 11), (9, 12)), ((11, 30), (12, 30))], [((0, 18), (0, 16)), ((18, 24), (16, 19)), ((24, 30), (19, 30))], [((0, 17), (0, 17)), ((17, 23), (17, 20)), ((23, 30), (20, 30))], [((0, 14), (0, 15)), ((14, 20), (15, 25)), ((20, 30), (25, 30))], [((0, 12), (0, 8)), ((12, 24), (8, 18)), ((24, 30), (18, 30))], [((0, 15), (0, 16)), ((15, 25), (16, 21)), ((25, 30), (21, 30))], [((0, 12), (0, 13)), ((12, 25), (13, 20)), ((25, 30), (20, 30))], [((0, 8), (0, 10)), ((8, 23), (10, 19)), ((23, 30), (19, 30))], [((0, 8), (0, 11)), ((8, 16), (11, 15)), ((16, 30), (15, 30))], [((0, 20), (0, 18)), ((20, 25), (18, 21)), ((25, 30), (21, 30))], [((0, 20), (0, 17)), ((20, 25), (17, 20)), ((25, 30), (20, 30))], [((0, 8), (0, 10)), ((8, 23), (10, 19)), ((23, 30), (19, 30))], [((0, 7), (0, 10)), ((7, 25), (10, 21)), ((25, 30), (21, 30))], [((0, 7), (0, 11)), ((7, 25), (11, 20)), ((25, 30), (20, 30))], [((0, 7), (0, 8)), ((7, 21), (8, 15)), ((21, 30), (15, 30))], [((0, 17), (0, 12)), ((17, 23), (12, 16)), ((23, 30), (16, 30))], [((0, 8), (0, 12)), ((8, 25), (12, 22)), ((25, 30), (22, 30))], [((0, 20), (0, 18)), ((20, 25), (18, 21)), ((25, 30), (21, 30))], [((0, 8), (0, 9)), ((8, 21), (9, 16)), ((21, 30), (16, 30))], [((0, 8), (0, 8)), ((8, 13), (8, 16)), ((13, 30), (16, 30))], [((0, 7), (0, 9)), ((7, 25), (9, 20)), ((25, 30), (20, 30))], [((0, 19), (0, 14)), ((19, 24), (14, 18)), ((24, 30), (18, 30))], [((0, 15), (0, 16)), ((15, 25), (16, 21)), ((25, 30), (21, 30))], [((0, 20), (0, 18)), ((20, 25), (18, 21)), ((25, 30), (21, 30))], [((0, 18), (0, 13)), ((18, 23), (13, 16)), ((23, 30), (16, 30))], [((0, 10), (0, 14)), ((10, 16), (14, 18)), ((16, 30), (18, 30))], [((0, 7), (0, 7)), ((7, 24), (7, 18)), ((24, 30), (18, 30))], [((0, 13), (0, 12)), ((13, 18), (12, 15)), ((18, 30), (15, 30))], [((0, 17), (0, 13)), ((17, 24), (13, 18)), ((24, 30), (18, 30))], [((0, 7), (0, 10)), ((7, 24), (10, 19)), ((24, 30), (19, 30))], [((0, 20), (0, 17)), ((20, 25), (17, 20)), ((25, 30), (20, 30))], [((0, 7), (0, 10)), ((7, 25), (10, 21)), ((25, 30), (21, 30))], [((0, 5), (0, 5)), ((5, 20), (5, 14)), ((20, 30), (14, 30))], [((0, 20), (0, 17)), ((20, 25), (17, 20)), ((25, 30), (20, 30))], [((0, 10), (0, 10)), ((10, 15), (10, 18)), ((15, 30), (18, 30))], [((0, 17), (0, 14)), ((17, 23), (14, 19)), ((23, 30), (19, 30))], [((0, 7), (0, 10)), ((7, 25), (10, 20)), ((25, 30), (20, 30))], [((0, 8), (0, 11)), ((8, 23), (11, 20)), ((23, 30), (20, 30))], [((0, 15), (0, 15)), ((15, 25), (15, 20)), ((25, 30), (20, 30))], [((0, 8), (0, 9)), ((8, 23), (9, 18)), ((23, 30), (18, 30))], [((0, 17), (0, 13)), ((17, 23), (13, 16)), ((23, 30), (16, 30))], [((0, 7), (0, 10)), ((7, 25), (10, 20)), ((25, 30), (20, 30))], [((0, 7), (0, 10)), ((7, 25), (10, 20)), ((25, 30), (20, 30))], [((0, 20), (0, 17)), ((20, 25), (17, 20)), ((25, 30), (20, 30))], [((0, 7), (0, 10)), ((7, 25), (10, 20)), ((25, 30), (20, 30))], [((0, 18), (0, 16)), ((18, 23), (16, 21)), ((23, 30), (21, 30))]]\n"
     ]
    }
   ],
   "source": [
    "# PSDTW\n",
    "\n",
    "for i in range(0,50):\n",
    "     cuts = [r[1] for r in results[i]]\n",
    "     print(cuts)\n",
    "\n"
   ]
  },
  {
   "cell_type": "code",
   "execution_count": null,
   "id": "53b2b204",
   "metadata": {},
   "outputs": [],
   "source": []
  }
 ],
 "metadata": {
  "kernelspec": {
   "display_name": "ksfdtw",
   "language": "python",
   "name": "python3"
  },
  "language_info": {
   "codemirror_mode": {
    "name": "ipython",
    "version": 3
   },
   "file_extension": ".py",
   "mimetype": "text/x-python",
   "name": "python",
   "nbconvert_exporter": "python",
   "pygments_lexer": "ipython3",
   "version": "3.12.10"
  }
 },
 "nbformat": 4,
 "nbformat_minor": 5
}
