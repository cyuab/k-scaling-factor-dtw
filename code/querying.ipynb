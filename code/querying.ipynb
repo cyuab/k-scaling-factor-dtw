{
 "cells": [
  {
   "cell_type": "code",
   "execution_count": 120,
   "id": "fd05e1d3",
   "metadata": {},
   "outputs": [],
   "source": [
    "import numpy as np\n",
    "import pandas as pd\n",
    "from tslearn.metrics import dtw, lb_keogh\n",
    "from sklearn.metrics import accuracy_score\n",
    "\n",
    "# from tslearn.neighbors import KNeighborsTimeSeriesClassifier\n",
    "from tslearn.metrics import dtw as tsln_dtw\n",
    "\n",
    "# from tqdm import tqdm\n",
    "from aeon.utils.numba.general import z_normalise_series\n",
    "from aeon.distances import get_distance_function"
   ]
  },
  {
   "cell_type": "code",
   "execution_count": 121,
   "id": "62dc9466",
   "metadata": {},
   "outputs": [
    {
     "name": "stdout",
     "output_type": "stream",
     "text": [
      "The autoreload extension is already loaded. To reload it, use:\n",
      "  %reload_ext autoreload\n"
     ]
    }
   ],
   "source": [
    "%load_ext autoreload\n",
    "%autoreload 2\n",
    "\n",
    "from ksfdtw.utils import precision_at_k"
   ]
  },
  {
   "cell_type": "code",
   "execution_count": 122,
   "id": "89c16b7f",
   "metadata": {},
   "outputs": [
    {
     "name": "stdout",
     "output_type": "stream",
     "text": [
      "Hello, world! 2\n"
     ]
    }
   ],
   "source": [
    "hello_world()"
   ]
  },
  {
   "cell_type": "code",
   "execution_count": 123,
   "id": "570ecc81",
   "metadata": {},
   "outputs": [],
   "source": [
    "# # A neat way to load the dataset\n",
    "# data = np.load(\"../data/gunpoint_preprocessed.npz\")\n",
    "# data_dict = {key: data[key] for key in data.files}"
   ]
  },
  {
   "cell_type": "code",
   "execution_count": 130,
   "id": "fb74f5d0",
   "metadata": {},
   "outputs": [],
   "source": [
    "# A old way to load the dataset\n",
    "data = np.load(\n",
    "    \"../data_intermediate/GunPoint_preprocessed_P_3_l_2.0_len_150.npz\",\n",
    "    allow_pickle=True,\n",
    ")\n",
    "X_train_scaled = data[\"X_train_scaled\"]\n",
    "X_train_proc = data[\"X_train_proc\"]\n",
    "X_train_proc_noise = data[\"X_train_proc_noise\"]\n",
    "y_train = data[\"y_train\"]\n",
    "X_test_scaled = data[\"X_test_scaled\"]\n",
    "X_test_proc = data[\"X_test_proc\"]\n",
    "X_test_proc_noisy = data[\"X_test_proc_noise\"]\n",
    "y_test = data[\"y_test\"]\n",
    "train_cutting_orig = data[\"train_cutting_orig\"].tolist()\n",
    "train_cutting_final = data[\"train_cutting_final\"].tolist()\n",
    "test_cutting_orig = data[\"test_cutting_orig\"].tolist()\n",
    "test_cutting_final = data[\"test_cutting_final\"].tolist()"
   ]
  },
  {
   "cell_type": "markdown",
   "id": "cf5f675e",
   "metadata": {},
   "source": [
    "# Precision@k"
   ]
  },
  {
   "cell_type": "markdown",
   "id": "0dec4bc7",
   "metadata": {},
   "source": [
    "Compute $P@k$ for querying $Q \\in \\mathcal{D}_{\\text{train, ps}}$ using DTW"
   ]
  },
  {
   "cell_type": "code",
   "execution_count": 134,
   "id": "b4443b1b",
   "metadata": {},
   "outputs": [
    {
     "name": "stdout",
     "output_type": "stream",
     "text": [
      "18 22 31 35\n",
      "0.36 0.44 0.62 0.7\n"
     ]
    }
   ],
   "source": [
    "# DTW\n",
    "precision_at_1, precision_at_3, precision_at_5, precision_at_7 = 0, 0, 0, 0\n",
    "for i in range(0, 50):\n",
    "    distances = np.array(\n",
    "        [\n",
    "            tsln_dtw(\n",
    "                z_normalise_series(X_train_proc[i]), z_normalise_series(x.squeeze())\n",
    "            )\n",
    "            for x in X_train_scaled\n",
    "        ]\n",
    "    )\n",
    "    precision_at_1 += precision_at_k(distances, i, 1)\n",
    "    precision_at_3 += precision_at_k(distances, i, 3)\n",
    "    precision_at_5 += precision_at_k(distances, i, 5)\n",
    "    precision_at_7 += precision_at_k(distances, i, 7)\n",
    "print(precision_at_1, precision_at_3, precision_at_5, precision_at_7)\n",
    "print(\n",
    "    precision_at_1 / 50, precision_at_3 / 50, precision_at_5 / 50, precision_at_7 / 50\n",
    ")\n",
    "# 0.48 0.74 0.86 0.9"
   ]
  },
  {
   "cell_type": "markdown",
   "id": "e797c08f",
   "metadata": {},
   "source": [
    "Compute $P@k$ for querying $Q \\in \\mathcal{D}_{\\text{train, ps, noise}}$ using DTW"
   ]
  },
  {
   "cell_type": "code",
   "execution_count": 20,
   "id": "c3cd30bd",
   "metadata": {},
   "outputs": [
    {
     "name": "stdout",
     "output_type": "stream",
     "text": [
      "30 38 46 49\n",
      "0.6 0.76 0.92 0.98\n"
     ]
    }
   ],
   "source": [
    "# DTW Noise\n",
    "precision_at_1, precision_at_3, precision_at_5, precision_at_7 = 0, 0, 0, 0\n",
    "for i in range(0, 50):\n",
    "    distances = np.array([tsln_dtw(X_train_proc_noise[i], x) for x in X_train_scaled])\n",
    "    precision_at_1 += precision_at_k(distances, i, 1)\n",
    "    precision_at_3 += precision_at_k(distances, i, 3)\n",
    "    precision_at_5 += precision_at_k(distances, i, 5)\n",
    "    precision_at_7 += precision_at_k(distances, i, 7)\n",
    "print(precision_at_1, precision_at_3, precision_at_5, precision_at_7)\n",
    "print(\n",
    "    precision_at_1 / 50, precision_at_3 / 50, precision_at_5 / 50, precision_at_7 / 50\n",
    ")\n",
    "# 0.44 0.74 0.8 0.88"
   ]
  },
  {
   "cell_type": "markdown",
   "id": "cfc69d50",
   "metadata": {},
   "source": [
    "Compute $P@k$ for querying $Q \\in \\mathcal{D}_{\\text{train, ps}}$ using ED"
   ]
  },
  {
   "cell_type": "code",
   "execution_count": 21,
   "id": "413e5ec8",
   "metadata": {},
   "outputs": [
    {
     "ename": "NameError",
     "evalue": "name 'euclidean_distance' is not defined",
     "output_type": "error",
     "traceback": [
      "\u001b[31m---------------------------------------------------------------------------\u001b[39m",
      "\u001b[31mNameError\u001b[39m                                 Traceback (most recent call last)",
      "\u001b[36mCell\u001b[39m\u001b[36m \u001b[39m\u001b[32mIn[21]\u001b[39m\u001b[32m, line 5\u001b[39m\n\u001b[32m      2\u001b[39m precision_at_1, precision_at_3, precision_at_5, precision_at_7 = \u001b[32m0\u001b[39m, \u001b[32m0\u001b[39m, \u001b[32m0\u001b[39m, \u001b[32m0\u001b[39m\n\u001b[32m      3\u001b[39m \u001b[38;5;28;01mfor\u001b[39;00m i \u001b[38;5;129;01min\u001b[39;00m \u001b[38;5;28mrange\u001b[39m(\u001b[32m0\u001b[39m, \u001b[32m50\u001b[39m):\n\u001b[32m      4\u001b[39m     distances = np.array(\n\u001b[32m----> \u001b[39m\u001b[32m5\u001b[39m         [\u001b[43meuclidean_distance\u001b[49m(X_train_proc[i], x) \u001b[38;5;28;01mfor\u001b[39;00m x \u001b[38;5;129;01min\u001b[39;00m X_train_scaled]\n\u001b[32m      6\u001b[39m     )\n\u001b[32m      7\u001b[39m     precision_at_1 += precision_at_k(distances, i, \u001b[32m1\u001b[39m)\n\u001b[32m      8\u001b[39m     precision_at_3 += precision_at_k(distances, i, \u001b[32m3\u001b[39m)\n",
      "\u001b[31mNameError\u001b[39m: name 'euclidean_distance' is not defined"
     ]
    }
   ],
   "source": [
    "# ED\n",
    "precision_at_1, precision_at_3, precision_at_5, precision_at_7 = 0, 0, 0, 0\n",
    "for i in range(0, 50):\n",
    "    distances = np.array(\n",
    "        [euclidean_distance(X_train_proc[i], x) for x in X_train_scaled]\n",
    "    )\n",
    "    precision_at_1 += precision_at_k(distances, i, 1)\n",
    "    precision_at_3 += precision_at_k(distances, i, 3)\n",
    "    precision_at_5 += precision_at_k(distances, i, 5)\n",
    "    precision_at_7 += precision_at_k(distances, i, 7)\n",
    "print(precision_at_1, precision_at_3, precision_at_5, precision_at_7)\n",
    "print(\n",
    "    precision_at_1 / 50, precision_at_3 / 50, precision_at_5 / 50, precision_at_7 / 50\n",
    ")\n",
    "# 0.02 0.06 0.1 0.18"
   ]
  },
  {
   "cell_type": "markdown",
   "id": "6b7161d5",
   "metadata": {},
   "source": [
    "Compute $P@k$ for querying $Q \\in \\mathcal{D}_{\\text{train, ps, noise}}$ using ED"
   ]
  },
  {
   "cell_type": "code",
   "execution_count": 188,
   "id": "5970107d",
   "metadata": {},
   "outputs": [
    {
     "name": "stdout",
     "output_type": "stream",
     "text": [
      "2 4 6 7\n",
      "0.04 0.08 0.12 0.14\n"
     ]
    }
   ],
   "source": [
    "# ED\n",
    "precision_at_1, precision_at_3, precision_at_5, precision_at_7 = 0, 0, 0, 0\n",
    "for i in range(0, 50):\n",
    "    distances = np.array(\n",
    "        [euclidean_distance(X_train_proc_noise[i], x) for x in X_train_scaled]\n",
    "    )\n",
    "    precision_at_1 += precision_at_k(distances, i, 1)\n",
    "    precision_at_3 += precision_at_k(distances, i, 3)\n",
    "    precision_at_5 += precision_at_k(distances, i, 5)\n",
    "    precision_at_7 += precision_at_k(distances, i, 7)\n",
    "print(precision_at_1, precision_at_3, precision_at_5, precision_at_7)\n",
    "print(\n",
    "    precision_at_1 / 50, precision_at_3 / 50, precision_at_5 / 50, precision_at_7 / 50\n",
    ")\n",
    "# 0.02 0.06 0.08 0.18"
   ]
  },
  {
   "cell_type": "code",
   "execution_count": null,
   "id": "9bb7c5bf",
   "metadata": {},
   "outputs": [],
   "source": []
  },
  {
   "cell_type": "code",
   "execution_count": null,
   "id": "a2a3b46b",
   "metadata": {},
   "outputs": [],
   "source": []
  },
  {
   "cell_type": "code",
   "execution_count": null,
   "id": "9b13a7cf",
   "metadata": {},
   "outputs": [],
   "source": []
  },
  {
   "cell_type": "code",
   "execution_count": 101,
   "id": "8e22f19d",
   "metadata": {},
   "outputs": [],
   "source": [
    "from aeon.distances import euclidean_distance\n",
    "from aeon.distances import dtw_distance"
   ]
  },
  {
   "cell_type": "code",
   "execution_count": 111,
   "id": "7c8c9899",
   "metadata": {},
   "outputs": [],
   "source": [
    "target_set = X_train_proc_noise"
   ]
  },
  {
   "cell_type": "code",
   "execution_count": 129,
   "id": "c29034b6",
   "metadata": {},
   "outputs": [
    {
     "name": "stdout",
     "output_type": "stream",
     "text": [
      "1 3 5 7\n",
      "0.02 0.06 0.1 0.14\n"
     ]
    }
   ],
   "source": [
    "dist_func = get_distance_function(\"euclidean\")\n",
    "precision_at_1, precision_at_3, precision_at_5, precision_at_7 = 0, 0, 0, 0\n",
    "for i in range(0, 50):\n",
    "    distances = np.array(\n",
    "        [\n",
    "            dist_func(\n",
    "                z_normalise_series(target_set[i]),\n",
    "                z_normalise_series(np.squeeze(x)),\n",
    "                # z_normalise_series(target_set[i]),\n",
    "                # z_normalise_series(np.squeeze(x)),\n",
    "            )\n",
    "            for x in X_train_scaled\n",
    "        ]\n",
    "    )\n",
    "    precision_at_1 += precision_at_k(distances, i, 1)\n",
    "    precision_at_3 += precision_at_k(distances, i, 3)\n",
    "    precision_at_5 += precision_at_k(distances, i, 5)\n",
    "    precision_at_7 += precision_at_k(distances, i, 7)\n",
    "print(precision_at_1, precision_at_3, precision_at_5, precision_at_7)\n",
    "print(\n",
    "    precision_at_1 / 50, precision_at_3 / 50, precision_at_5 / 50, precision_at_7 / 50\n",
    ")\n",
    "# 0.02 0.06 0.08 0.18"
   ]
  },
  {
   "cell_type": "markdown",
   "id": "152879a3",
   "metadata": {},
   "source": [
    "# Results\n",
    "target_set = X_train_proc\n",
    "```\n",
    "euclidean 0.18 0.38 0.52 0.6\n",
    "dtw 0.24 0.4 0.56 0.64\n",
    "adtw 0.2 0.34 0.48 0.64\n",
    "ddtw 0.2 0.42 0.52 0.58\n",
    "shape_dtw 0.22 0.26 0.38 0.56\n",
    "wddtw 0.2 0.42 0.54 0.62\n",
    "wdtw 0.24 0.4 0.58 0.64\n",
    "```\n",
    "target_set = X_train_proc_noise\n",
    "```\n",
    "euclidean 0.16 0.34 0.54 0.56\n",
    "dtw 0.24 0.44 0.5 0.6\n",
    "adtw 0.18 0.34 0.52 0.66\n",
    "ddtw 0.24 0.38 0.46 0.5\n",
    "shape_dtw 0.22 0.32 0.44 0.58\n",
    "wddtw 0.26 0.42 0.48 0.56\n",
    "wdtw 0.22 0.44 0.5 0.64\n",
    "```"
   ]
  },
  {
   "cell_type": "code",
   "execution_count": null,
   "id": "e61eb702",
   "metadata": {},
   "outputs": [],
   "source": []
  },
  {
   "cell_type": "code",
   "execution_count": null,
   "id": "d1df7421",
   "metadata": {},
   "outputs": [],
   "source": []
  },
  {
   "cell_type": "code",
   "execution_count": 88,
   "id": "633861a1",
   "metadata": {},
   "outputs": [
    {
     "data": {
      "text/plain": [
       "768.0"
      ]
     },
     "execution_count": 88,
     "metadata": {},
     "output_type": "execute_result"
    }
   ],
   "source": [
    "from aeon.distances import get_distance_function\n",
    "import numpy as np\n",
    "\n",
    "x = np.array([[1, 2, 3, 4, 5, 6, 7, 8, 9, 10]])\n",
    "y = np.array([[11, 12, 13, 14, 15, 16, 17, 18, 19, 20]])\n",
    "dtw_dist_func = get_distance_function(\"dtw\")\n",
    "dtw_dist_func(x, y)"
   ]
  },
  {
   "cell_type": "code",
   "execution_count": 85,
   "id": "3ed9f0d3",
   "metadata": {},
   "outputs": [
    {
     "data": {
      "text/plain": [
       "768.0"
      ]
     },
     "execution_count": 85,
     "metadata": {},
     "output_type": "execute_result"
    }
   ],
   "source": [
    "import numpy as np\n",
    "from aeon.distances import dtw_distance\n",
    "\n",
    "x = np.array([1, 2, 3, 4, 5, 6, 7, 8, 9, 10])\n",
    "y = np.array([11, 12, 13, 14, 15, 16, 17, 18, 19, 20])\n",
    "dtw_distance(x, y)  # 1D series"
   ]
  }
 ],
 "metadata": {
  "kernelspec": {
   "display_name": "ksfdtw",
   "language": "python",
   "name": "python3"
  },
  "language_info": {
   "codemirror_mode": {
    "name": "ipython",
    "version": 3
   },
   "file_extension": ".py",
   "mimetype": "text/x-python",
   "name": "python",
   "nbconvert_exporter": "python",
   "pygments_lexer": "ipython3",
   "version": "3.12.10"
  }
 },
 "nbformat": 4,
 "nbformat_minor": 5
}
