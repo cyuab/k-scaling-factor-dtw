{
 "cells": [
  {
   "cell_type": "code",
   "execution_count": 1,
   "id": "ebf37ed6",
   "metadata": {},
   "outputs": [],
   "source": [
    "# Clears all user-defined variables, functions, and imports without asking for confirmation.\n",
    "%reset -f"
   ]
  },
  {
   "cell_type": "code",
   "execution_count": 2,
   "id": "9086f9d1",
   "metadata": {},
   "outputs": [],
   "source": [
    "import numpy as np\n",
    "import math\n",
    "from numba import njit\n",
    "\n",
    "import matplotlib.pyplot as plt\n",
    "\n",
    "from dtaidistance import (\n",
    "    ed as dtai_ed,\n",
    "    dtw as dtai_dtw,\n",
    "    dtw_visualisation as dtai_dtw_visualisation,\n",
    ")\n",
    "from aeon.distances import (\n",
    "    euclidean_distance as aeon_euclidean_distance,\n",
    "    dtw_distance as aeon_dtw_distance,\n",
    "    dtw_cost_matrix as aeon_dtw_cost_matrix,\n",
    ")\n",
    "from aeon.utils.numba.general import z_normalise_series\n",
    "from aeon.transformations.collection import Normalizer\n",
    "\n",
    "from sktime.distances import dtw_distance as sktime_dtw_distance\n",
    "from pyts.metrics import dtw as pyts_dtw\n",
    "from tslearn.metrics import dtw as tslearn_dtw, dtw_path as tslearn_dtw_path\n",
    "\n",
    "import timeit\n",
    "import time"
   ]
  },
  {
   "cell_type": "code",
   "execution_count": 3,
   "id": "67d244fd",
   "metadata": {},
   "outputs": [],
   "source": [
    "import warnings\n",
    "\n",
    "warnings.filterwarnings(\"ignore\")"
   ]
  },
  {
   "cell_type": "code",
   "execution_count": 4,
   "id": "b34e749a",
   "metadata": {},
   "outputs": [],
   "source": [
    "from ksfdtw.distance_measures import (\n",
    "    dtw,\n",
    "    ed,\n",
    "    nearest_neighbor_interpolation,\n",
    "    nearest_neighbor_interpolation_legacy_2,\n",
    "    usdtw,\n",
    "    psdtw_prime,\n",
    ")"
   ]
  },
  {
   "cell_type": "code",
   "execution_count": 5,
   "id": "e5c9b3e9",
   "metadata": {},
   "outputs": [
    {
     "name": "stdout",
     "output_type": "stream",
     "text": [
      "(150,) (150,)\n"
     ]
    }
   ],
   "source": [
    "np.random.seed(42)  # For reproducibility\n",
    "Q = np.random.random(150)\n",
    "C = np.random.random(150)\n",
    "\n",
    "print(Q.shape, C.shape)"
   ]
  },
  {
   "cell_type": "markdown",
   "id": "63f49d14",
   "metadata": {},
   "source": [
    "# Normalization"
   ]
  },
  {
   "cell_type": "code",
   "execution_count": 6,
   "id": "59388e86",
   "metadata": {},
   "outputs": [],
   "source": [
    "np.random.seed(42)\n",
    "Q_3 = np.random.random(20)\n",
    "C_3 = np.random.random(20)"
   ]
  },
  {
   "cell_type": "code",
   "execution_count": 7,
   "id": "cc66920e",
   "metadata": {},
   "outputs": [
    {
     "name": "stdout",
     "output_type": "stream",
     "text": [
      "-1.9984014443252818e-16 1.0\n"
     ]
    }
   ],
   "source": [
    "Q_3_norm = z_normalise_series(Q_3)\n",
    "C_3_norm = z_normalise_series(C_3)\n",
    "print(Q_3_norm.mean(), Q_3_norm.std())  # ~0, ~1"
   ]
  },
  {
   "cell_type": "code",
   "execution_count": 8,
   "id": "b5c9c6cc",
   "metadata": {},
   "outputs": [],
   "source": [
    "# https://www.aeon-toolkit.org/en/v1.1.0/api_reference/auto_generated/aeon.transformations.collection.Normalizer.html\n",
    "normaliser = Normalizer()"
   ]
  },
  {
   "cell_type": "code",
   "execution_count": 9,
   "id": "bd1eb699",
   "metadata": {},
   "outputs": [
    {
     "data": {
      "text/plain": [
       "array([0.37454012, 0.95071431, 0.73199394, 0.59865848, 0.15601864,\n",
       "       0.15599452, 0.05808361, 0.86617615, 0.60111501, 0.70807258,\n",
       "       0.02058449, 0.96990985, 0.83244264, 0.21233911, 0.18182497,\n",
       "       0.18340451, 0.30424224, 0.52475643, 0.43194502, 0.29122914])"
      ]
     },
     "execution_count": 9,
     "metadata": {},
     "output_type": "execute_result"
    }
   ],
   "source": [
    "Q_3"
   ]
  },
  {
   "cell_type": "code",
   "execution_count": 10,
   "id": "f6e92ecb",
   "metadata": {},
   "outputs": [
    {
     "data": {
      "text/plain": [
       "array([[0.37454012, 0.95071431, 0.73199394, 0.59865848, 0.15601864,\n",
       "        0.15599452, 0.05808361, 0.86617615, 0.60111501, 0.70807258,\n",
       "        0.02058449, 0.96990985, 0.83244264, 0.21233911, 0.18182497,\n",
       "        0.18340451, 0.30424224, 0.52475643, 0.43194502, 0.29122914]])"
      ]
     },
     "execution_count": 10,
     "metadata": {},
     "output_type": "execute_result"
    }
   ],
   "source": [
    "temp = np.array(Q_3.reshape(1, -1))\n",
    "temp"
   ]
  },
  {
   "cell_type": "code",
   "execution_count": null,
   "id": "fc019156",
   "metadata": {},
   "outputs": [
    {
     "data": {
      "text/plain": [
       "array([[0.37454012, 0.95071431, 0.73199394, 0.59865848, 0.15601864,\n",
       "        0.15599452, 0.05808361, 0.86617615, 0.60111501, 0.70807258,\n",
       "        0.02058449, 0.96990985, 0.83244264, 0.21233911, 0.18182497,\n",
       "        0.18340451, 0.30424224, 0.52475643, 0.43194502, 0.29122914]])"
      ]
     },
     "execution_count": 11,
     "metadata": {},
     "output_type": "execute_result"
    }
   ],
   "source": [
    "temp = np.array([Q_3])\n",
    "temp"
   ]
  },
  {
   "cell_type": "code",
   "execution_count": 12,
   "id": "a6e9eec2",
   "metadata": {},
   "outputs": [
    {
     "data": {
      "text/plain": [
       "array([[[-0.27730331,  1.64394295,  0.91462239,  0.47001683,\n",
       "         -1.00596069, -1.00604111, -1.33252392,  1.36205142,\n",
       "          0.47820809,  0.83485688, -1.4575643 ,  1.70795028,\n",
       "          1.24956743, -0.81816072, -0.91990978, -0.91464282,\n",
       "         -0.51171077,  0.22359128, -0.08588732, -0.55510282]]])"
      ]
     },
     "execution_count": 12,
     "metadata": {},
     "output_type": "execute_result"
    }
   ],
   "source": [
    "temp_norm = normaliser.fit_transform(temp)\n",
    "temp_norm"
   ]
  },
  {
   "cell_type": "code",
   "execution_count": 13,
   "id": "1dea261a",
   "metadata": {},
   "outputs": [
    {
     "name": "stdout",
     "output_type": "stream",
     "text": [
      "Mean: [[1.60982339e-16]]\n",
      "Std: [[1.]]\n"
     ]
    }
   ],
   "source": [
    "mean = np.mean(temp_norm, axis=-1)\n",
    "std = np.std(temp_norm, axis=-1)\n",
    "print(\"Mean:\", mean)\n",
    "print(\"Std:\", std)\n",
    "assert np.allclose(mean, 0)\n",
    "assert np.allclose(std, 1)"
   ]
  },
  {
   "cell_type": "markdown",
   "id": "828dfdae",
   "metadata": {},
   "source": [
    "# Distance Measures"
   ]
  },
  {
   "cell_type": "markdown",
   "id": "534caeb5",
   "metadata": {},
   "source": [
    "## ED"
   ]
  },
  {
   "cell_type": "code",
   "execution_count": 14,
   "id": "f0a5945a",
   "metadata": {},
   "outputs": [
    {
     "name": "stdout",
     "output_type": "stream",
     "text": [
      "5.013442513802633\n",
      "5.013442513802632\n",
      "25.134605839203658 5.013442513802633\n"
     ]
    },
    {
     "data": {
      "text/plain": [
       "(3.0411827499920037, 11.615675624998403, 0.03346487499948125)"
      ]
     },
     "execution_count": 14,
     "metadata": {},
     "output_type": "execute_result"
    }
   ],
   "source": [
    "dist = dtai_ed.distance(Q, C)\n",
    "print(dist)\n",
    "dist = aeon_euclidean_distance(Q, C)\n",
    "print(dist)\n",
    "dist = ed(Q, C)\n",
    "print(dist, math.sqrt(dist))\n",
    "t_dtai_ed_distance = timeit.timeit(\n",
    "    lambda: dtai_ed.distance(Q, C),\n",
    "    number=100000,\n",
    ")\n",
    "t_aeon_dtw_distance = timeit.timeit(\n",
    "    lambda: aeon_dtw_distance(Q, C),\n",
    "    number=100000,\n",
    ")\n",
    "t_ksfdtw_ed_distance = timeit.timeit(\n",
    "    lambda: ed(Q, C),\n",
    "    number=100000,\n",
    ")\n",
    "t_dtai_ed_distance, t_aeon_dtw_distance, t_ksfdtw_ed_distance"
   ]
  },
  {
   "cell_type": "markdown",
   "id": "1c25429f",
   "metadata": {},
   "source": [
    "(Slow) aeon, dtai, ksfdtw (Fast)"
   ]
  },
  {
   "cell_type": "code",
   "execution_count": 15,
   "id": "53f2bc1d",
   "metadata": {},
   "outputs": [
    {
     "data": {
      "text/plain": [
       "(5.013442513802632, 5.013442513802633)"
      ]
     },
     "execution_count": 15,
     "metadata": {},
     "output_type": "execute_result"
    }
   ],
   "source": [
    "aeon_euclidean_distance(Q, C), math.sqrt(ed(Q, C))"
   ]
  },
  {
   "cell_type": "code",
   "execution_count": 16,
   "id": "9b90bae1",
   "metadata": {},
   "outputs": [
    {
     "data": {
      "text/plain": [
       "(0.0027690830029314384, 0.0037348750047385693)"
      ]
     },
     "execution_count": 16,
     "metadata": {},
     "output_type": "execute_result"
    }
   ],
   "source": [
    "t_aeon_euclidean_distance = timeit.timeit(\n",
    "    lambda: aeon_euclidean_distance(Q, C),\n",
    "    number=10000,\n",
    ")\n",
    "t_ed = timeit.timeit(\n",
    "    lambda: ed(Q, C),\n",
    "    number=10000,\n",
    ")\n",
    "t_aeon_euclidean_distance, t_ed"
   ]
  },
  {
   "cell_type": "markdown",
   "id": "0d322b45",
   "metadata": {},
   "source": [
    "## DTW"
   ]
  },
  {
   "cell_type": "code",
   "execution_count": 17,
   "id": "127db277",
   "metadata": {},
   "outputs": [
    {
     "data": {
      "text/plain": [
       "(2.2092542447515657, 2.2092542447515657)"
      ]
     },
     "execution_count": 17,
     "metadata": {},
     "output_type": "execute_result"
    }
   ],
   "source": [
    "dtai_dtw.distance_fast(Q, C, use_pruning=True), dtai_dtw.distance(Q, C)"
   ]
  },
  {
   "cell_type": "code",
   "execution_count": 18,
   "id": "475ec3c8",
   "metadata": {},
   "outputs": [
    {
     "data": {
      "text/plain": [
       "(4.880804317952812, 2.2092542447515657)"
      ]
     },
     "execution_count": 18,
     "metadata": {},
     "output_type": "execute_result"
    }
   ],
   "source": [
    "(dist := aeon_dtw_distance(Q, C), math.sqrt(dist))"
   ]
  },
  {
   "cell_type": "code",
   "execution_count": 19,
   "id": "998ad102",
   "metadata": {},
   "outputs": [
    {
     "data": {
      "text/plain": [
       "(4.880804317952812, 2.2092542447515657)"
      ]
     },
     "execution_count": 19,
     "metadata": {},
     "output_type": "execute_result"
    }
   ],
   "source": [
    "(dist := sktime_dtw_distance(Q, C), math.sqrt(dist))"
   ]
  },
  {
   "cell_type": "code",
   "execution_count": 20,
   "id": "b3c79457",
   "metadata": {},
   "outputs": [
    {
     "data": {
      "text/plain": [
       "2.2092542447515657"
      ]
     },
     "execution_count": 20,
     "metadata": {},
     "output_type": "execute_result"
    }
   ],
   "source": [
    "pyts_dtw(Q, C)"
   ]
  },
  {
   "cell_type": "code",
   "execution_count": 21,
   "id": "3696d86d",
   "metadata": {},
   "outputs": [
    {
     "data": {
      "text/plain": [
       "(2.2092542447515657, 3.1303137560231056)"
      ]
     },
     "execution_count": 21,
     "metadata": {},
     "output_type": "execute_result"
    }
   ],
   "source": [
    "tslearn_dtw(Q, C), tslearn_dtw(\n",
    "    Q, C, global_constraint=\"sakoe_chiba\", sakoe_chiba_radius=2\n",
    ")"
   ]
  },
  {
   "cell_type": "code",
   "execution_count": 22,
   "id": "1f50bfe0",
   "metadata": {},
   "outputs": [
    {
     "data": {
      "text/plain": [
       "4.880804317952812"
      ]
     },
     "execution_count": 22,
     "metadata": {},
     "output_type": "execute_result"
    }
   ],
   "source": [
    "aeon_dtw_distance(Q, C, window=0.2)"
   ]
  },
  {
   "cell_type": "code",
   "execution_count": 23,
   "id": "d371d39a",
   "metadata": {},
   "outputs": [
    {
     "data": {
      "text/plain": [
       "(4.954591073485385, 4.954591073485385)"
      ]
     },
     "execution_count": 23,
     "metadata": {},
     "output_type": "execute_result"
    }
   ],
   "source": [
    "aeon_dtw_distance(Q, C, window=0.1), dtw(Q, C, 15)"
   ]
  },
  {
   "cell_type": "code",
   "execution_count": 24,
   "id": "15b210ea",
   "metadata": {},
   "outputs": [
    {
     "name": "stdout",
     "output_type": "stream",
     "text": [
      "0.11384225000801962 3.3387959160027094 16.51573162501154 0.13117049999709707 0.19868516699352767 0.16953270899830386\n"
     ]
    }
   ],
   "source": [
    "t_aeon_dtw_distance = timeit.timeit(\n",
    "    lambda: aeon_dtw_distance(Q, C),\n",
    "    number=1000,\n",
    ")\n",
    "t_sktime_dtw_distance = timeit.timeit(\n",
    "    lambda: sktime_dtw_distance(Q, C),\n",
    "    number=1000,\n",
    ")\n",
    "t_dtai_dtw_distance = timeit.timeit(\n",
    "    lambda: dtai_dtw.distance(Q, C),\n",
    "    number=1000,\n",
    ")\n",
    "t_dtai_dtw_distance_fast = timeit.timeit(\n",
    "    lambda: dtai_dtw.distance_fast(Q, C, use_pruning=True),\n",
    "    number=1000,\n",
    ")\n",
    "t_pyts_dtw_distance = timeit.timeit(\n",
    "    lambda: pyts_dtw(Q, C),\n",
    "    number=1000,\n",
    ")\n",
    "t_tslearn_dtw_distance = timeit.timeit(\n",
    "    lambda: tslearn_dtw(Q, C),\n",
    "    number=1000,\n",
    ")\n",
    "print(\n",
    "    t_aeon_dtw_distance,\n",
    "    t_sktime_dtw_distance,\n",
    "    t_dtai_dtw_distance,\n",
    "    t_dtai_dtw_distance_fast,\n",
    "    t_pyts_dtw_distance,\n",
    "    t_tslearn_dtw_distance,\n",
    ")"
   ]
  },
  {
   "cell_type": "markdown",
   "id": "4c5dde6b",
   "metadata": {},
   "source": [
    "(Slow) sktime, dtai (normal), pyts, tslearn, dtai (C), aeon (Fast)"
   ]
  },
  {
   "cell_type": "code",
   "execution_count": 25,
   "id": "73a2650a",
   "metadata": {},
   "outputs": [
    {
     "data": {
      "text/plain": [
       "(0.42243658400548156, 0.2880362080031773)"
      ]
     },
     "execution_count": 25,
     "metadata": {},
     "output_type": "execute_result"
    }
   ],
   "source": [
    "t_aeon_dtw_distance = timeit.timeit(\n",
    "    lambda: aeon_dtw_distance(Q, C, window=0.1),\n",
    "    number=10000,\n",
    ")\n",
    "t_dtw = timeit.timeit(\n",
    "    lambda: dtw(Q, C, r=15),\n",
    "    number=10000,\n",
    ")\n",
    "t_aeon_dtw_distance, t_dtw"
   ]
  },
  {
   "cell_type": "markdown",
   "id": "b34db0e0",
   "metadata": {},
   "source": [
    "### Cost Matrix"
   ]
  },
  {
   "cell_type": "code",
   "execution_count": 26,
   "id": "39b8d160",
   "metadata": {},
   "outputs": [
    {
     "name": "stdout",
     "output_type": "stream",
     "text": [
      "1.0296815023560584\n",
      "15 15\n",
      "[[0.                inf        inf        inf        inf        inf\n",
      "         inf        inf        inf        inf        inf        inf\n",
      "         inf        inf        inf        inf]\n",
      " [       inf 0.53372577 0.55052912 0.59650587 0.6074736  0.8616728\n",
      "  0.87179828 0.92119232 0.9992126  1.00854754 1.06876331 1.06878467\n",
      "  1.09942887 1.12952178 1.14097153 1.1758462 ]\n",
      " [       inf 0.53541112 0.88915744 0.97592381 0.75404341 0.60847737\n",
      "  0.93404622 0.91522586 0.93455614 1.17553122 1.03279886 1.18595204\n",
      "  1.11520609 1.14426828 1.20332636 1.42903688]\n",
      " [       inf 0.56368152 0.72742999 0.93479394 0.79209071 0.65923162\n",
      "  0.78120715 0.78349705 0.78405696 0.92689458 0.92690228 0.99589023\n",
      "  1.00086716 1.0056989  1.02466203 1.20901469]\n",
      " [       inf 0.64311244 0.66834664 0.80782959 0.79958338 0.76442731\n",
      "  0.74950129 0.75309432 0.7705241  0.85090746 0.86071409 0.89114094\n",
      "  0.89177594 0.89245746 0.89467016 1.02901577]\n",
      " [       inf 0.98968153 0.64851606 0.64861145 0.7292977  1.10461037\n",
      "  0.75442328 0.91001585 0.96638688 0.77483485 0.96321299 0.88638194\n",
      "  1.00624174 1.0115736  0.96989431 0.89708137]\n",
      " [       inf 1.24313383 0.65387811 0.64861104 0.72930836 1.10462849\n",
      "  0.7593161  0.91408755 1.09311966 0.77912427 0.96322731 0.91133274\n",
      "  1.00625316 1.11380532 1.04159875 0.89948435]\n",
      " [       inf 1.50605167 0.67859483 0.65439474 0.77895804 1.17994531\n",
      "  0.78128517 0.97653506 1.15348123 0.79954627 1.02767335 0.96251814\n",
      "  1.07715297 1.15917368 1.14591305 0.90006074]\n",
      " [       inf 1.5066397  0.92365382 0.97389894 0.75508475 0.76447832\n",
      "  0.98689106 0.80502066 0.81178219 1.01702262 0.81136129 0.9522094\n",
      "  0.98050908 1.00773133 1.06051287 1.18832193]\n",
      " [       inf 1.53762962 0.99189568 1.03018114 0.76329643 0.8473609\n",
      "  0.84460108 0.80814737 0.82086539 0.88944151 0.82125629 0.84424576\n",
      "  0.84482174 0.84544337 0.84796453 0.98994256]\n",
      " [       inf 1.55060704 1.09697735 1.14062534 0.79398745 0.81220128\n",
      "  0.93639898 0.80894601 0.80991942 0.93663151 0.82150329 0.88896501\n",
      "  0.84763878 0.84810401 0.86282156 1.04914224]\n",
      " [       inf 1.78671779 1.11861986 1.10399836 0.92209193 1.24970732\n",
      "  0.84185523 1.03870709 1.09705365 0.83849955 1.08425574 0.89186017\n",
      "  1.04532029 1.04603697 0.99232119 0.86563265]\n",
      " [       inf 1.78778087 1.33593358 1.37820974 1.039756   0.92222627\n",
      "  1.11287579 0.89296683 0.91693761 1.11324042 0.87263809 1.06021405\n",
      "  0.95361996 1.0112085  1.08313189 1.23411967]\n",
      " [       inf 1.78938805 1.46158343 1.50247811 1.09486739 0.93486572\n",
      "  1.09501531 0.90724204 0.89577099 1.07526684 0.87884035 0.98863831\n",
      "  0.97439508 0.97414444 1.01831688 1.26006355]\n",
      " [       inf 1.91995408 1.46183693 1.4631387  1.12939212 1.21325362\n",
      "  0.93533789 1.01710417 1.05076864 0.89612816 1.01906314 0.89248149\n",
      "  0.98635453 1.06130057 1.02643458 1.02560485]\n",
      " [       inf 2.05278837 1.46297668 1.46230333 1.17053895 1.38624023\n",
      "  0.93727512 1.05605939 1.17075306 0.89786453 1.0495662  0.91164886\n",
      "  0.99972807 1.08486516 1.08574783 1.0296815 ]]\n",
      "[(0, 0), (0, 1), (0, 2), (0, 3), (1, 4), (2, 4), (3, 5), (3, 6), (3, 7), (4, 8), (5, 8), (6, 8), (7, 9), (8, 9), (9, 9), (10, 10), (11, 11), (12, 12), (12, 13), (13, 14), (14, 14)]\n"
     ]
    }
   ],
   "source": [
    "distance, paths = dtai_dtw.warping_paths_fast(\n",
    "    Q[:15],\n",
    "    C[:15],\n",
    "    # window=3+1\n",
    ")\n",
    "best_path = dtai_dtw.best_path(paths)\n",
    "print(distance)\n",
    "print(len(Q[:15]), len(C[:15]))\n",
    "print(paths)\n",
    "print(best_path)"
   ]
  },
  {
   "cell_type": "code",
   "execution_count": 27,
   "id": "e8229a34",
   "metadata": {},
   "outputs": [
    {
     "data": {
      "text/plain": [
       "(1.2295855406096552,\n",
       " array([[0.28486319, 0.30308232,        inf,        inf,        inf,\n",
       "                inf,        inf,        inf,        inf,        inf,\n",
       "                inf,        inf,        inf,        inf,        inf],\n",
       "        [0.28666506, 0.79060095, 0.95242728,        inf,        inf,\n",
       "                inf,        inf,        inf,        inf,        inf,\n",
       "                inf,        inf,        inf,        inf,        inf],\n",
       "        [       inf, 0.52915439, 0.87383971, 0.93266593,        inf,\n",
       "                inf,        inf,        inf,        inf,        inf,\n",
       "                inf,        inf,        inf,        inf,        inf],\n",
       "        [       inf,        inf, 0.7350558 , 0.74698169, 0.89674448,\n",
       "                inf,        inf,        inf,        inf,        inf,\n",
       "                inf,        inf,        inf,        inf,        inf],\n",
       "        [       inf,        inf,        inf, 0.84623412, 1.43527064,\n",
       "         0.90414678,        inf,        inf,        inf,        inf,\n",
       "                inf,        inf,        inf,        inf,        inf],\n",
       "        [       inf,        inf,        inf,        inf, 1.53456308,\n",
       "         0.91155323, 1.17054834,        inf,        inf,        inf,\n",
       "                inf,        inf,        inf,        inf,        inf],\n",
       "        [       inf,        inf,        inf,        inf,        inf,\n",
       "         0.9453988 , 1.28861301, 1.66551125,        inf,        inf,\n",
       "                inf,        inf,        inf,        inf,        inf],\n",
       "        [       inf,        inf,        inf,        inf,        inf,\n",
       "                inf, 0.98305056, 0.99398263, 1.3890434 ,        inf,\n",
       "                inf,        inf,        inf,        inf,        inf],\n",
       "        [       inf,        inf,        inf,        inf,        inf,\n",
       "                inf,        inf, 1.00881229, 1.1260985 , 1.14225325,\n",
       "                inf,        inf,        inf,        inf,        inf],\n",
       "        [       inf,        inf,        inf,        inf,        inf,\n",
       "                inf,        inf,        inf, 1.23012141, 1.12650427,\n",
       "         1.24230117,        inf,        inf,        inf,        inf],\n",
       "        [       inf,        inf,        inf,        inf,        inf,\n",
       "                inf,        inf,        inf,        inf, 1.62724711,\n",
       "         1.24705116, 1.61650417,        inf,        inf,        inf],\n",
       "        [       inf,        inf,        inf,        inf,        inf,\n",
       "                inf,        inf,        inf,        inf,        inf,\n",
       "         1.60960775, 1.36102764, 1.47417924,        inf,        inf],\n",
       "        [       inf,        inf,        inf,        inf,        inf,\n",
       "                inf,        inf,        inf,        inf,        inf,\n",
       "                inf, 1.40108238, 1.40059399, 1.48860587,        inf],\n",
       "        [       inf,        inf,        inf,        inf,        inf,\n",
       "                inf,        inf,        inf,        inf,        inf,\n",
       "                inf,        inf, 1.57799551, 1.50520456, 1.50350191],\n",
       "        [       inf,        inf,        inf,        inf,        inf,\n",
       "                inf,        inf,        inf,        inf,        inf,\n",
       "                inf,        inf,        inf, 1.63048496, 1.5118806 ]]))"
      ]
     },
     "execution_count": 27,
     "metadata": {},
     "output_type": "execute_result"
    }
   ],
   "source": [
    "dist, mat = pyts_dtw(\n",
    "    Q[:15],\n",
    "    C[:15],\n",
    "    method=\"sakoechiba\",\n",
    "    options={\"window_size\": 1},\n",
    "    return_accumulated=True,\n",
    ")\n",
    "dist, mat"
   ]
  },
  {
   "cell_type": "code",
   "execution_count": 28,
   "id": "4317b751",
   "metadata": {},
   "outputs": [
    {
     "data": {
      "text/plain": [
       "array([[0.28486319, 0.30308232,        inf,        inf,        inf,\n",
       "               inf,        inf,        inf,        inf,        inf,\n",
       "               inf,        inf,        inf,        inf,        inf],\n",
       "       [0.28666506, 0.79060095, 0.95242728,        inf,        inf,\n",
       "               inf,        inf,        inf,        inf,        inf,\n",
       "               inf,        inf,        inf,        inf,        inf],\n",
       "       [       inf, 0.52915439, 0.87383971, 0.93266593,        inf,\n",
       "               inf,        inf,        inf,        inf,        inf,\n",
       "               inf,        inf,        inf,        inf,        inf],\n",
       "       [       inf,        inf, 0.7350558 , 0.74698169, 0.89674448,\n",
       "               inf,        inf,        inf,        inf,        inf,\n",
       "               inf,        inf,        inf,        inf,        inf],\n",
       "       [       inf,        inf,        inf, 0.84623412, 1.43527064,\n",
       "        0.90414678,        inf,        inf,        inf,        inf,\n",
       "               inf,        inf,        inf,        inf,        inf],\n",
       "       [       inf,        inf,        inf,        inf, 1.53456308,\n",
       "        0.91155323, 1.17054834,        inf,        inf,        inf,\n",
       "               inf,        inf,        inf,        inf,        inf],\n",
       "       [       inf,        inf,        inf,        inf,        inf,\n",
       "        0.9453988 , 1.28861301, 1.66551125,        inf,        inf,\n",
       "               inf,        inf,        inf,        inf,        inf],\n",
       "       [       inf,        inf,        inf,        inf,        inf,\n",
       "               inf, 0.98305056, 0.99398263, 1.3890434 ,        inf,\n",
       "               inf,        inf,        inf,        inf,        inf],\n",
       "       [       inf,        inf,        inf,        inf,        inf,\n",
       "               inf,        inf, 1.00881229, 1.1260985 , 1.14225325,\n",
       "               inf,        inf,        inf,        inf,        inf],\n",
       "       [       inf,        inf,        inf,        inf,        inf,\n",
       "               inf,        inf,        inf, 1.23012141, 1.12650427,\n",
       "        1.24230117,        inf,        inf,        inf,        inf],\n",
       "       [       inf,        inf,        inf,        inf,        inf,\n",
       "               inf,        inf,        inf,        inf, 1.62724711,\n",
       "        1.24705116, 1.61650417,        inf,        inf,        inf],\n",
       "       [       inf,        inf,        inf,        inf,        inf,\n",
       "               inf,        inf,        inf,        inf,        inf,\n",
       "        1.60960775, 1.36102764, 1.47417924,        inf,        inf],\n",
       "       [       inf,        inf,        inf,        inf,        inf,\n",
       "               inf,        inf,        inf,        inf,        inf,\n",
       "               inf, 1.40108238, 1.40059399, 1.48860587,        inf],\n",
       "       [       inf,        inf,        inf,        inf,        inf,\n",
       "               inf,        inf,        inf,        inf,        inf,\n",
       "               inf,        inf, 1.57799551, 1.50520456, 1.50350191],\n",
       "       [       inf,        inf,        inf,        inf,        inf,\n",
       "               inf,        inf,        inf,        inf,        inf,\n",
       "               inf,        inf,        inf, 1.63048496, 1.5118806 ]])"
      ]
     },
     "execution_count": 28,
     "metadata": {},
     "output_type": "execute_result"
    }
   ],
   "source": [
    "aeon_dtw_cost_matrix(Q[:15], C[:15], window=0.1)"
   ]
  },
  {
   "cell_type": "markdown",
   "id": "5c0c8b92",
   "metadata": {},
   "source": [
    "## Interpolation"
   ]
  },
  {
   "cell_type": "code",
   "execution_count": 29,
   "id": "675c5520",
   "metadata": {},
   "outputs": [
    {
     "data": {
      "text/plain": [
       "(array([0.37454012, 0.37454012, 0.95071431, 0.95071431, 0.73199394,\n",
       "        0.73199394, 0.59865848, 0.59865848, 0.15601864, 0.15601864]),\n",
       " 300)"
      ]
     },
     "execution_count": 29,
     "metadata": {},
     "output_type": "execute_result"
    }
   ],
   "source": [
    "Q_300 = nearest_neighbor_interpolation(Q, 300)\n",
    "Q_300[:10], len(Q_300)"
   ]
  },
  {
   "cell_type": "code",
   "execution_count": 30,
   "id": "f6244da9",
   "metadata": {},
   "outputs": [
    {
     "data": {
      "text/plain": [
       "array([1, 2, 2, 3, 4, 5, 5, 6])"
      ]
     },
     "execution_count": 30,
     "metadata": {},
     "output_type": "execute_result"
    }
   ],
   "source": [
    "T_temp = np.array([1, 2, 3, 4, 5, 6])\n",
    "nearest_neighbor_interpolation(T_temp, 8)"
   ]
  },
  {
   "cell_type": "code",
   "execution_count": null,
   "id": "1c1c9037",
   "metadata": {},
   "outputs": [
    {
     "data": {
      "text/plain": [
       "(0.2710818330087932, 0.0014671660028398037, 184.7656178538046)"
      ]
     },
     "execution_count": 31,
     "metadata": {},
     "output_type": "execute_result"
    }
   ],
   "source": [
    "# Create test data\n",
    "T_temp = np.random.rand(1_000_000)  # 1 million points\n",
    "new_len = 200_000\n",
    "\n",
    "# Benchmark\n",
    "t_nearest_neighbor_interpolation_legacy_2 = timeit.timeit(\n",
    "    lambda: nearest_neighbor_interpolation_legacy_2(T_temp, new_len), number=5\n",
    ")\n",
    "t_nearest_neighbor_interpolation = timeit.timeit(\n",
    "    lambda: nearest_neighbor_interpolation(T_temp, new_len), number=5\n",
    ")\n",
    "\n",
    "t_nearest_neighbor_interpolation_legacy_2, t_nearest_neighbor_interpolation, t_nearest_neighbor_interpolation_legacy_2 / t_nearest_neighbor_interpolation"
   ]
  },
  {
   "cell_type": "code",
   "execution_count": 32,
   "id": "356db567",
   "metadata": {},
   "outputs": [
    {
     "data": {
      "image/png": "[encoded data removed]",
      "text/plain": [
       "<Figure size 600x200 with 1 Axes>"
      ]
     },
     "metadata": {},
     "output_type": "display_data"
    }
   ],
   "source": [
    "np.random.seed(0)\n",
    "Q2 = np.cumsum(np.random.rand(20) * 2 - 1 + np.sin(np.linspace(0, 2 * np.pi, 20)))\n",
    "C2 = np.cumsum(np.random.rand(40) * 2 - 1 + np.sin(np.linspace(0, 2 * np.pi, 40)))\n",
    "# c_x2 = np.linspace(0, 1, 10)\n",
    "# c_y2 = np.piecewise(c_x2, [c_x2 < 0.5, c_x2 >= 0.5], [lambda x: 2*x, lambda x: 2*(1-x)])\n",
    "# c_y2 = c_y2 *5\n",
    "# offset = c[-1] - c_y2[0]\n",
    "# c_y2 = c_y2 + offset\n",
    "# c = np.concatenate([c, c_y2])\n",
    "Q2_scaled = nearest_neighbor_interpolation(Q2, len(C2))\n",
    "\n",
    "# q = normalize(q)\n",
    "# c = normalize(c)\n",
    "# q_scaled = normalize(q_scaled)\n",
    "Q2 = z_normalise_series(Q2)\n",
    "C2 = z_normalise_series(C2)\n",
    "Q2_scaled = z_normalise_series(Q2_scaled)\n",
    "\n",
    "# Create a figure and a single subplot\n",
    "fig, ax1 = plt.subplots(figsize=(6, 2))\n",
    "\n",
    "ax1.plot(Q2, label=\"Q\", color=\"red\")\n",
    "ax1.plot(C2, label=\"C\", color=\"blue\")\n",
    "ax1.plot(Q2_scaled, label=\"Scaled Q\", linestyle=\"--\", color=\"red\")\n",
    "\n",
    "# ax1.set_title('Example of US')\n",
    "ax1.legend()\n",
    "\n",
    "# https://stackoverflow.com/questions/9295026/how-to-remove-axis-legends-and-white-padding\n",
    "plt.axis(\"off\")\n",
    "# https://www.tutorialspoint.com/save-the-plots-into-a-pdf-in-matplotlib\n",
    "# plt.savefig(\"../figures/us.pdf\", format=\"pdf\", bbox_inches=\"tight\")\n",
    "plt.show()"
   ]
  },
  {
   "cell_type": "markdown",
   "id": "b138b79f",
   "metadata": {},
   "source": [
    "## US, USDTW"
   ]
  },
  {
   "cell_type": "code",
   "execution_count": 33,
   "id": "2a4562df",
   "metadata": {},
   "outputs": [],
   "source": [
    "# Data"
   ]
  },
  {
   "cell_type": "code",
   "execution_count": 34,
   "id": "2b0f12e4",
   "metadata": {},
   "outputs": [],
   "source": [
    "C_x1 = np.linspace(0, 4 * np.pi, 100)\n",
    "C_y1 = np.sin(C_x1) * 50 + 50  # Scale to range around 0~100\n",
    "C_x2 = np.linspace(0, 1, 20)\n",
    "C_y2 = np.piecewise(\n",
    "    C_x2, [C_x2 < 0.5, C_x2 >= 0.5], [lambda x: 2 * x, lambda x: 2 * (1 - x)]\n",
    ")\n",
    "C_y2 = C_y2 * 50  # Scale it similarly\n",
    "offset = C_y1[-1] - C_y2[0]\n",
    "C_y2 = C_y2 + offset\n",
    "C_US = np.concatenate([C_y1, C_y2])"
   ]
  },
  {
   "cell_type": "code",
   "execution_count": 35,
   "id": "61a3b6ce",
   "metadata": {},
   "outputs": [],
   "source": [
    "Q_x = np.linspace(0, 4 * np.pi, 70)\n",
    "Q_US = np.sin(Q_x) * 50 + 50  # Scale to range around 0~100"
   ]
  },
  {
   "cell_type": "code",
   "execution_count": 36,
   "id": "dbd969a6",
   "metadata": {},
   "outputs": [
    {
     "data": {
      "text/plain": [
       "(70, 120)"
      ]
     },
     "execution_count": 36,
     "metadata": {},
     "output_type": "execute_result"
    }
   ],
   "source": [
    "m = len(Q_US)\n",
    "n = len(C_US)\n",
    "m, n"
   ]
  },
  {
   "cell_type": "code",
   "execution_count": 37,
   "id": "334f7b6b",
   "metadata": {},
   "outputs": [],
   "source": [
    "# Plot"
   ]
  },
  {
   "cell_type": "code",
   "execution_count": 38,
   "id": "1dcf080f",
   "metadata": {},
   "outputs": [
    {
     "data": {
      "image/png": "[encoded data removed]",
      "text/plain": [
       "<Figure size 600x200 with 1 Axes>"
      ]
     },
     "metadata": {},
     "output_type": "display_data"
    }
   ],
   "source": [
    "fig, ax1 = plt.subplots(figsize=(6, 2))\n",
    "plt.plot(Q_US, color=\"red\", label=\"Q\")\n",
    "plt.plot(C_US, color=\"blue\", label=\"C\")\n",
    "# plt.title('C vs. Q')\n",
    "plt.xlabel(\"Time steps\")\n",
    "plt.ylabel(\"Value\")\n",
    "plt.legend()\n",
    "plt.tight_layout()\n",
    "plt.axis(\"off\")\n",
    "plt.savefig(\"../figures/us-prefix.pdf\", format=\"pdf\", bbox_inches=\"tight\")\n",
    "plt.show()"
   ]
  },
  {
   "cell_type": "markdown",
   "id": "deaf6ecc",
   "metadata": {},
   "source": [
    "Simply performing dtw on Q and C returns a bad result."
   ]
  },
  {
   "cell_type": "code",
   "execution_count": 39,
   "id": "06a84a52",
   "metadata": {},
   "outputs": [],
   "source": [
    "C_US_prefix = C_US[:100]\n",
    "C_US_prefix_scaled = nearest_neighbor_interpolation(C_US_prefix, len(Q_US))"
   ]
  },
  {
   "cell_type": "code",
   "execution_count": 40,
   "id": "58656445",
   "metadata": {},
   "outputs": [
    {
     "data": {
      "text/plain": [
       "70"
      ]
     },
     "execution_count": 40,
     "metadata": {},
     "output_type": "execute_result"
    }
   ],
   "source": [
    "len(C_US_prefix_scaled)"
   ]
  },
  {
   "cell_type": "markdown",
   "id": "05d40361",
   "metadata": {},
   "source": []
  },
  {
   "cell_type": "code",
   "execution_count": 41,
   "id": "48250674",
   "metadata": {},
   "outputs": [
    {
     "data": {
      "image/png": "[encoded data removed]",
      "text/plain": [
       "<Figure size 640x480 with 1 Axes>"
      ]
     },
     "metadata": {},
     "output_type": "display_data"
    }
   ],
   "source": [
    "plt.plot(Q_US, color=\"red\", label=\"$Q$\")\n",
    "plt.plot(C_US, color=\"blue\", label=\"$C$\")\n",
    "plt.plot(C_US_prefix, color=\"green\", label=\"$C(1:100)$\")\n",
    "plt.plot(C_US_prefix_scaled, linestyle=\"--\", color=\"green\", label=\"$C^{|Q|}(1:100)$\")\n",
    "plt.legend()\n",
    "plt.tight_layout()\n",
    "plt.axis(\"off\")\n",
    "plt.show()"
   ]
  },
  {
   "cell_type": "markdown",
   "id": "7282aba3",
   "metadata": {},
   "source": [
    "As shown in the above graph, Q and scaled C(1:100) have a good match."
   ]
  },
  {
   "cell_type": "markdown",
   "id": "9ac8d522",
   "metadata": {},
   "source": [
    "Test for USDTW. It select the most similar prefix $C(0:k)$ and compare it with $Q$."
   ]
  },
  {
   "cell_type": "code",
   "execution_count": 42,
   "id": "531a19e6",
   "metadata": {},
   "outputs": [
    {
     "data": {
      "text/plain": [
       "(26.180324399082302, 100, 1.4285714285714286)"
      ]
     },
     "execution_count": 42,
     "metadata": {},
     "output_type": "execute_result"
    }
   ],
   "source": [
    "l = 2  # scaling_factor\n",
    "L = min(np.ceil(l * len(Q_US)), len(C_US))\n",
    "\n",
    "best_so_far, best_k = usdtw(Q_US, C_US, l, L, 0.1, 0)\n",
    "best_so_far, best_k, best_k / m  # best_k/m: best scaling factor\n",
    "# k is the length of the prefix of C\n",
    "# In this case, The prefix of C is longer than Q, about 1.42 times of the length of Q."
   ]
  },
  {
   "cell_type": "markdown",
   "id": "618ad64d",
   "metadata": {},
   "source": [
    "## PSDTW"
   ]
  },
  {
   "cell_type": "code",
   "execution_count": 43,
   "id": "5d73501b",
   "metadata": {},
   "outputs": [
    {
     "name": "stdout",
     "output_type": "stream",
     "text": [
      "Time used: 5.992284059524536 sec\n"
     ]
    }
   ],
   "source": [
    "start_time = time.time()\n",
    "psdtw_prime(Q, C, l=2, P=3, r=0.1)\n",
    "print(\"Time used: {} sec\".format(time.time() - start_time))"
   ]
  },
  {
   "cell_type": "code",
   "execution_count": 44,
   "id": "82c4341e",
   "metadata": {},
   "outputs": [
    {
     "name": "stdout",
     "output_type": "stream",
     "text": [
      "CPU times: user 5.74 s, sys: 30 ms, total: 5.77 s\n",
      "Wall time: 5.79 s\n"
     ]
    },
    {
     "data": {
      "text/plain": [
       "8.733158526176478"
      ]
     },
     "execution_count": 44,
     "metadata": {},
     "output_type": "execute_result"
    }
   ],
   "source": [
    "%%time\n",
    "# Another way to time it\n",
    "psdtw_prime(Q, C, l=2, P=3, r=0.1)"
   ]
  },
  {
   "cell_type": "code",
   "execution_count": 45,
   "id": "450629ee",
   "metadata": {},
   "outputs": [
    {
     "name": "stdout",
     "output_type": "stream",
     "text": [
      "This notebook was last run end-to-end on: 2025-09-02 01:33:20.892487\n",
      "\n"
     ]
    }
   ],
   "source": [
    "import datetime\n",
    "\n",
    "print(f\"This notebook was last run end-to-end on: {datetime.datetime.now()}\\n\")\n",
    "###\n",
    "###\n",
    "###"
   ]
  }
 ],
 "metadata": {
  "kernelspec": {
   "display_name": "ksfdtw",
   "language": "python",
   "name": "python3"
  },
  "language_info": {
   "codemirror_mode": {
    "name": "ipython",
    "version": 3
   },
   "file_extension": ".py",
   "mimetype": "text/x-python",
   "name": "python",
   "nbconvert_exporter": "python",
   "pygments_lexer": "ipython3",
   "version": "3.12.10"
  }
 },
 "nbformat": 4,
 "nbformat_minor": 5
}
