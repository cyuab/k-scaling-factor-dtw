{
 "cells": [
  {
   "cell_type": "code",
   "execution_count": 13,
   "id": "a099fe0f",
   "metadata": {},
   "outputs": [],
   "source": [
    "import numpy as np\n",
    "\n",
    "import matplotlib.pyplot as plt\n",
    "\n",
    "from aeon.utils.numba.general import z_normalise_series\n",
    "from aeon.transformations.collection import Normalizer"
   ]
  },
  {
   "cell_type": "code",
   "execution_count": 9,
   "id": "8deca04a",
   "metadata": {},
   "outputs": [
    {
     "name": "stdout",
     "output_type": "stream",
     "text": [
      "The autoreload extension is already loaded. To reload it, use:\n",
      "  %reload_ext autoreload\n"
     ]
    }
   ],
   "source": [
    "%load_ext autoreload\n",
    "%autoreload 2\n",
    "\n",
    "from ksfdtw.utils import nearest_neighbor_interpolation"
   ]
  },
  {
   "cell_type": "markdown",
   "id": "b516dcb4",
   "metadata": {},
   "source": [
    "# Example Data"
   ]
  },
  {
   "cell_type": "code",
   "execution_count": null,
   "id": "1a327453",
   "metadata": {},
   "outputs": [],
   "source": [
    "# a = [0, 0, 1, 2, 1, 0, 1, 0, 0]\n",
    "# b = [0, 1, 2, 0, 0, 0, 0, 0, 1]"
   ]
  },
  {
   "cell_type": "code",
   "execution_count": 20,
   "id": "ec27da3f",
   "metadata": {},
   "outputs": [],
   "source": [
    "np.random.seed(42)\n",
    "a = np.random.random(20)\n",
    "b = np.random.random(20)"
   ]
  },
  {
   "cell_type": "markdown",
   "id": "af04b3d8",
   "metadata": {},
   "source": [
    "# Normalization"
   ]
  },
  {
   "cell_type": "code",
   "execution_count": 25,
   "id": "44e02a8d",
   "metadata": {},
   "outputs": [
    {
     "name": "stdout",
     "output_type": "stream",
     "text": [
      "-1.9984014443252818e-16 1.0\n"
     ]
    }
   ],
   "source": [
    "a_norm = z_normalise_series(a)\n",
    "b_norm = z_normalise_series(b)\n",
    "print(a_norm.mean(), a_norm.std())  # ~0, ~1"
   ]
  },
  {
   "cell_type": "code",
   "execution_count": 26,
   "id": "7c8f3355",
   "metadata": {},
   "outputs": [],
   "source": [
    "# https://www.aeon-toolkit.org/en/v1.1.0/api_reference/auto_generated/aeon.transformations.collection.Normalizer.html\n",
    "normaliser = Normalizer()"
   ]
  },
  {
   "cell_type": "code",
   "execution_count": 33,
   "id": "d66f1860",
   "metadata": {},
   "outputs": [
    {
     "data": {
      "text/plain": [
       "array([[0.37454012, 0.95071431, 0.73199394, 0.59865848, 0.15601864,\n",
       "        0.15599452, 0.05808361, 0.86617615, 0.60111501, 0.70807258,\n",
       "        0.02058449, 0.96990985, 0.83244264, 0.21233911, 0.18182497,\n",
       "        0.18340451, 0.30424224, 0.52475643, 0.43194502, 0.29122914]])"
      ]
     },
     "execution_count": 33,
     "metadata": {},
     "output_type": "execute_result"
    }
   ],
   "source": [
    "X = np.array(a.reshape(1, -1))\n",
    "X"
   ]
  },
  {
   "cell_type": "code",
   "execution_count": 34,
   "id": "562634c3",
   "metadata": {},
   "outputs": [
    {
     "data": {
      "text/plain": [
       "array([[0.37454012, 0.95071431, 0.73199394, 0.59865848, 0.15601864,\n",
       "        0.15599452, 0.05808361, 0.86617615, 0.60111501, 0.70807258,\n",
       "        0.02058449, 0.96990985, 0.83244264, 0.21233911, 0.18182497,\n",
       "        0.18340451, 0.30424224, 0.52475643, 0.43194502, 0.29122914]])"
      ]
     },
     "execution_count": 34,
     "metadata": {},
     "output_type": "execute_result"
    }
   ],
   "source": [
    "X = np.array([a])\n",
    "X"
   ]
  },
  {
   "cell_type": "code",
   "execution_count": 35,
   "id": "fd8e7ef9",
   "metadata": {},
   "outputs": [
    {
     "data": {
      "text/plain": [
       "array([[[-0.27730331,  1.64394295,  0.91462239,  0.47001683,\n",
       "         -1.00596069, -1.00604111, -1.33252392,  1.36205142,\n",
       "          0.47820809,  0.83485688, -1.4575643 ,  1.70795028,\n",
       "          1.24956743, -0.81816072, -0.91990978, -0.91464282,\n",
       "         -0.51171077,  0.22359128, -0.08588732, -0.55510282]]])"
      ]
     },
     "execution_count": 35,
     "metadata": {},
     "output_type": "execute_result"
    }
   ],
   "source": [
    "X_norm = normaliser.fit_transform(X)\n",
    "X_norm"
   ]
  },
  {
   "cell_type": "code",
   "execution_count": 37,
   "id": "894130cc",
   "metadata": {},
   "outputs": [
    {
     "name": "stdout",
     "output_type": "stream",
     "text": [
      "Mean: [[1.60982339e-16]]\n",
      "Std: [[1.]]\n"
     ]
    }
   ],
   "source": [
    "mean = np.mean(X_norm, axis=-1)\n",
    "std = np.std(X_norm, axis=-1)\n",
    "print(\"Mean:\", mean)\n",
    "print(\"Std:\", std)\n",
    "assert np.allclose(mean, 0)\n",
    "assert np.allclose(std, 1)"
   ]
  },
  {
   "cell_type": "markdown",
   "id": "56c5572b",
   "metadata": {},
   "source": [
    "# Plot Example"
   ]
  },
  {
   "cell_type": "code",
   "execution_count": 14,
   "id": "712a38cb",
   "metadata": {},
   "outputs": [
    {
     "data": {
      "image/png": "[encoded data removed]",
      "text/plain": [
       "<Figure size 600x200 with 1 Axes>"
      ]
     },
     "metadata": {},
     "output_type": "display_data"
    }
   ],
   "source": [
    "np.random.seed(0)\n",
    "q = np.cumsum(np.random.rand(20) * 2 - 1 + np.sin(np.linspace(0, 2 * np.pi, 20)))\n",
    "c = np.cumsum(np.random.rand(40) * 2 - 1 + np.sin(np.linspace(0, 2 * np.pi, 40)))\n",
    "# c_x2 = np.linspace(0, 1, 10)\n",
    "# c_y2 = np.piecewise(c_x2, [c_x2 < 0.5, c_x2 >= 0.5], [lambda x: 2*x, lambda x: 2*(1-x)])\n",
    "# c_y2 = c_y2 *5\n",
    "# offset = c[-1] - c_y2[0]\n",
    "# c_y2 = c_y2 + offset\n",
    "# c = np.concatenate([c, c_y2])\n",
    "q_scaled = nearest_neighbor_interpolation(q, len(c))\n",
    "\n",
    "# q = normalize(q)\n",
    "# c = normalize(c)\n",
    "# q_scaled = normalize(q_scaled)\n",
    "q = z_normalise_series(q)\n",
    "c = z_normalise_series(c)\n",
    "q_scaled = z_normalise_series(q_scaled)\n",
    "\n",
    "# Create a figure and a single subplot\n",
    "fig, ax1 = plt.subplots(figsize=(6, 2))\n",
    "\n",
    "ax1.plot(q, label=\"Q\", color=\"red\")\n",
    "ax1.plot(c, label=\"C\", color=\"blue\")\n",
    "ax1.plot(q_scaled, label=\"Scaled Q\", linestyle=\"--\", color=\"red\")\n",
    "\n",
    "# ax1.set_title('Example of US')\n",
    "ax1.legend()\n",
    "\n",
    "# https://stackoverflow.com/questions/9295026/how-to-remove-axis-legends-and-white-padding\n",
    "plt.axis(\"off\")\n",
    "# https://www.tutorialspoint.com/save-the-plots-into-a-pdf-in-matplotlib\n",
    "# plt.savefig(\"../figures/us.pdf\", format=\"pdf\", bbox_inches=\"tight\")\n",
    "plt.show()"
   ]
  }
 ],
 "metadata": {
  "kernelspec": {
   "display_name": "ksfdtw",
   "language": "python",
   "name": "python3"
  },
  "language_info": {
   "codemirror_mode": {
    "name": "ipython",
    "version": 3
   },
   "file_extension": ".py",
   "mimetype": "text/x-python",
   "name": "python",
   "nbconvert_exporter": "python",
   "pygments_lexer": "ipython3",
   "version": "3.12.10"
  }
 },
 "nbformat": 4,
 "nbformat_minor": 5
}
