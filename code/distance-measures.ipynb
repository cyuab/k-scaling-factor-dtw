{
 "cells": [
  {
   "cell_type": "code",
   "execution_count": 26,
   "id": "99c111e3",
   "metadata": {},
   "outputs": [],
   "source": [
    "import math\n",
    "import numpy as np\n",
    "import pandas as pd"
   ]
  },
  {
   "cell_type": "markdown",
   "id": "5f536f1f",
   "metadata": {},
   "source": [
    "# aeon"
   ]
  },
  {
   "cell_type": "code",
   "execution_count": 6,
   "id": "331873d2",
   "metadata": {},
   "outputs": [
    {
     "name": "stdout",
     "output_type": "stream",
     "text": [
      " ED 1 = 2.449489742783178 DTW 1 = 2.0\n"
     ]
    }
   ],
   "source": [
    "# https://www.aeon-toolkit.org/en/stable/examples/distances/distances.html\n",
    "import warnings\n",
    "\n",
    "\n",
    "\n",
    "from aeon.distances import dtw_distance as aeon_dtw, euclidean_distance as aeon_ed\n",
    "\n",
    "warnings.filterwarnings(\"ignore\")\n",
    "a = np.array([1, 2, 3, 4, 5, 6])  # Univariate as 1D\n",
    "b = np.array([2, 3, 4, 5, 6, 7])\n",
    "d1 = aeon_ed(a, b)\n",
    "d2 = aeon_dtw(a, b)\n",
    "print(f\" ED 1 = {d1} DTW 1 = {d2}\")"
   ]
  },
  {
   "cell_type": "code",
   "execution_count": 7,
   "id": "dea24195",
   "metadata": {},
   "outputs": [
    {
     "data": {
      "text/plain": [
       "array([[ 1.,  5., 14., 30., 55., 91.],\n",
       "       [ 1.,  2.,  6., 15., 31., 56.],\n",
       "       [ 2.,  1.,  2.,  6., 15., 31.],\n",
       "       [ 6.,  2.,  1.,  2.,  6., 15.],\n",
       "       [15.,  6.,  2.,  1.,  2.,  6.],\n",
       "       [31., 15.,  6.,  2.,  1.,  2.]])"
      ]
     },
     "execution_count": 7,
     "metadata": {},
     "output_type": "execute_result"
    }
   ],
   "source": [
    "# https://www.aeon-toolkit.org/en/stable/api_reference/auto_generated/aeon.distances.dtw_cost_matrix.html\n",
    "from aeon.distances import dtw_cost_matrix\n",
    "m = dtw_cost_matrix(a, b)\n",
    "m"
   ]
  },
  {
   "cell_type": "code",
   "execution_count": 8,
   "id": "75eb05ee",
   "metadata": {},
   "outputs": [
    {
     "data": {
      "text/plain": [
       "array([[31., 15.,  6.,  2.,  1.,  2.],\n",
       "       [15.,  6.,  2.,  1.,  2.,  6.],\n",
       "       [ 6.,  2.,  1.,  2.,  6., 15.],\n",
       "       [ 2.,  1.,  2.,  6., 15., 31.],\n",
       "       [ 1.,  2.,  6., 15., 31., 56.],\n",
       "       [ 1.,  5., 14., 30., 55., 91.]])"
      ]
     },
     "execution_count": 8,
     "metadata": {},
     "output_type": "execute_result"
    }
   ],
   "source": [
    "# https://www.askpython.com/python/array/reverse-an-array-in-python\n",
    "np.flipud(m)\n"
   ]
  },
  {
   "cell_type": "markdown",
   "id": "fbfde338",
   "metadata": {},
   "source": [
    "# dtaidistance"
   ]
  },
  {
   "cell_type": "code",
   "execution_count": 16,
   "id": "5649bac3",
   "metadata": {},
   "outputs": [
    {
     "name": "stdout",
     "output_type": "stream",
     "text": [
      "1.4142135623730951\n"
     ]
    }
   ],
   "source": [
    "from dtaidistance.dtw import distance as dtaidistance_dtw\n",
    "s1 = [0, 0, 1, 2, 1, 0, 1, 0, 0]\n",
    "s2 = [0, 1, 2, 0, 0, 0, 0, 0, 0]\n",
    "distance = dtaidistance_dtw(s1, s2)\n",
    "print(distance)"
   ]
  },
  {
   "cell_type": "code",
   "execution_count": 36,
   "id": "a283e65c",
   "metadata": {},
   "outputs": [
    {
     "data": {
      "text/plain": [
       "1.4142135623730951"
      ]
     },
     "execution_count": 36,
     "metadata": {},
     "output_type": "execute_result"
    }
   ],
   "source": [
    "from dtaidistance.dtw import distance_fast as dtaidistance_dtw_fast\n",
    "import numpy as np\n",
    "s1 = np.array([0.0, 0, 1, 2, 1, 0, 1, 0, 0])\n",
    "s2 = np.array([0.0, 1, 2, 0, 0, 0, 0, 0, 0])\n",
    "dist = dtaidistance_dtw_fast(s1, s2)\n",
    "dist\n",
    "\n"
   ]
  },
  {
   "cell_type": "code",
   "execution_count": 38,
   "id": "3539a9aa",
   "metadata": {},
   "outputs": [
    {
     "data": {
      "text/plain": [
       "127.00618219754601"
      ]
     },
     "execution_count": 38,
     "metadata": {},
     "output_type": "execute_result"
    }
   ],
   "source": [
    "dtaidistance_dtw_fast(q, c)"
   ]
  },
  {
   "cell_type": "code",
   "execution_count": 53,
   "id": "aff4ef77",
   "metadata": {},
   "outputs": [
    {
     "name": "stdout",
     "output_type": "stream",
     "text": [
      "1.4142135623730951\n",
      "2.0\n"
     ]
    }
   ],
   "source": [
    "from dtaidistance import dtw\n",
    "s1 = [0, 0, 1, 2, 1, 0, 1, 0, 0]\n",
    "s2 = [0, 1, 2, 0, 0, 0, 0, 0, 0]\n",
    "distance = dtw.distance(s1, s2)\n",
    "print(distance)\n",
    "s1 = np.array([0, 0, 1, 2, 1, 0, 1, 0, 0]) \n",
    "s2 = np.array([0, 1, 2, 0, 0, 0, 0, 0, 0]) \n",
    "print(dtw_distance(s1, s2))"
   ]
  },
  {
   "cell_type": "markdown",
   "id": "511dff63",
   "metadata": {},
   "source": [
    "# sktime"
   ]
  },
  {
   "cell_type": "code",
   "execution_count": 42,
   "id": "5e145051",
   "metadata": {},
   "outputs": [],
   "source": [
    "from sktime.distances import dtw_distance as sktime_dtw"
   ]
  },
  {
   "cell_type": "code",
   "execution_count": 43,
   "id": "2f82f7e0",
   "metadata": {},
   "outputs": [
    {
     "data": {
      "text/plain": [
       "16130.570316396252"
      ]
     },
     "execution_count": 43,
     "metadata": {},
     "output_type": "execute_result"
    }
   ],
   "source": [
    "sktime_dtw(q, c)"
   ]
  },
  {
   "cell_type": "code",
   "execution_count": 44,
   "id": "96045d0d",
   "metadata": {},
   "outputs": [
    {
     "data": {
      "text/plain": [
       "72896.27205022328"
      ]
     },
     "execution_count": 44,
     "metadata": {},
     "output_type": "execute_result"
    }
   ],
   "source": [
    "sktime_dtw(q, c[:len(q)])"
   ]
  },
  {
   "cell_type": "code",
   "execution_count": 22,
   "id": "6025102c",
   "metadata": {},
   "outputs": [
    {
     "data": {
      "text/plain": [
       "(58, 7.615773105863909)"
      ]
     },
     "execution_count": 22,
     "metadata": {},
     "output_type": "execute_result"
    }
   ],
   "source": [
    "manual_calculation = (1-5)**2 + (2-5)**2 + (3-5)**2 + (4-6)**2 + (4-7)**2 + (4-8)**2 \n",
    "manual_calculation, math.sqrt(manual_calculation)"
   ]
  },
  {
   "cell_type": "code",
   "execution_count": 30,
   "id": "dae103ee",
   "metadata": {},
   "outputs": [],
   "source": [
    "c_x1 = np.linspace(0, 4 * np.pi, 100)\n",
    "c_y1 = np.sin(c_x1) * 50 + 50  # Scale to range around 0~100\n",
    "c_x2 = np.linspace(0, 1, 20)\n",
    "c_y2 = np.piecewise(c_x2, [c_x2 < 0.5, c_x2 >= 0.5], [lambda x: 2*x, lambda x: 2*(1-x)])\n",
    "c_y2 = c_y2 * 50  # Scale it similarly\n",
    "offset = c_y1[-1] - c_y2[0]\n",
    "c_y2 = c_y2 + offset\n",
    "c = np.concatenate([c_y1, c_y2])\n",
    "q_x = np.linspace(0, 4 * np.pi, 70)\n",
    "q = np.sin(q_x) * 50 + 50  # Scale to range around 0~100\n"
   ]
  },
  {
   "cell_type": "markdown",
   "id": "793e9d6d",
   "metadata": {},
   "source": [
    "# pyts"
   ]
  },
  {
   "cell_type": "code",
   "execution_count": 48,
   "id": "91b1450e",
   "metadata": {},
   "outputs": [
    {
     "data": {
      "text/plain": [
       "2.0"
      ]
     },
     "execution_count": 48,
     "metadata": {},
     "output_type": "execute_result"
    }
   ],
   "source": [
    "from pyts.metrics import dtw as pyts_dtw\n",
    "import warnings\n",
    "warnings.simplefilter(\"ignore\", FutureWarning) # pyts.metrics.dtw returns a FutureWarning\n",
    "x = [0, 1, 1]\n",
    "y = [2, 0, 1]\n",
    "pyts_dtw(x, y, method='sakoechiba', options={'window_size': 0.5})"
   ]
  },
  {
   "cell_type": "code",
   "execution_count": null,
   "id": "c10f2907",
   "metadata": {},
   "outputs": [],
   "source": []
  },
  {
   "cell_type": "code",
   "execution_count": null,
   "id": "093febfd",
   "metadata": {},
   "outputs": [
    {
     "data": {
      "text/plain": [
       "8.12403840463596"
      ]
     },
     "metadata": {},
     "output_type": "display_data"
    }
   ],
   "source": [
    "ts1 = np.array([1, 2, 3, 4])\n",
    "ts2 = np.array([5, 6, 6, 7, 8])\n",
    "x = [0, 1, 1]\n",
    "y = [2, 0, 1]\n",
    "pyts_dtw(ts1, ts2, method='sakoechiba', options={'window_size': 0.1})\n"
   ]
  },
  {
   "cell_type": "code",
   "execution_count": null,
   "id": "c14dfdad",
   "metadata": {},
   "outputs": [
    {
     "data": {
      "text/plain": [
       "7.874007874011811"
      ]
     },
     "metadata": {},
     "output_type": "display_data"
    }
   ],
   "source": [
    "pyts_dtw(ts1, ts2)"
   ]
  },
  {
   "cell_type": "markdown",
   "id": "a0703bc0",
   "metadata": {},
   "source": [
    "# tslearn"
   ]
  },
  {
   "cell_type": "markdown",
   "id": "7c417b13",
   "metadata": {},
   "source": []
  },
  {
   "cell_type": "code",
   "execution_count": 54,
   "id": "37896339",
   "metadata": {},
   "outputs": [
    {
     "name": "stdout",
     "output_type": "stream",
     "text": [
      "DTW distance: 8.12403840463596 [(0, 0), (1, 1), (2, 2), (3, 3), (3, 4)]\n",
      "Warping path: 7.874007874011811 [(0, 0), (1, 0), (2, 0), (3, 1), (3, 2), (3, 3), (3, 4)]\n"
     ]
    }
   ],
   "source": [
    "from tslearn.metrics import dtw, dtw_path\n",
    "import numpy as np\n",
    "\n",
    "# Sample time series\n",
    "ts1 = np.array([1, 2, 3, 4])\n",
    "ts2 = np.array([5, 6, 6, 7, 8])\n",
    "# ts1 = np.array([1, 1, 1, 1, 2, 2, 2, 3, 3])\n",
    "# ts2 = np.array([1, 1, 1, 1, 1, 1, 1, 1, 1, 1, 1, 1, 2, 2, 2, 4, 4, 4])\n",
    "\n",
    "# Define Sakoe-Chiba radius (r)\n",
    "r = 0\n",
    "\n",
    "# Compute DTW path and distance with Sakoe-Chiba constraint\n",
    "path, dist = dtw_path(ts1, ts2, global_constraint=\"sakoe_chiba\", sakoe_chiba_radius=r)\n",
    "path2, dist2 = dtw_path(ts1, ts2)\n",
    "\n",
    "# Print results\n",
    "print(\"DTW distance:\", dist, path)\n",
    "print(\"Warping path:\", dist2, path2)\n"
   ]
  }
 ],
 "metadata": {
  "kernelspec": {
   "display_name": "ksfdtw",
   "language": "python",
   "name": "python3"
  },
  "language_info": {
   "codemirror_mode": {
    "name": "ipython",
    "version": 3
   },
   "file_extension": ".py",
   "mimetype": "text/x-python",
   "name": "python",
   "nbconvert_exporter": "python",
   "pygments_lexer": "ipython3",
   "version": "3.12.10"
  }
 },
 "nbformat": 4,
 "nbformat_minor": 5
}
